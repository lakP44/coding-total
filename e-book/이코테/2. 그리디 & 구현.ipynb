{
 "cells": [
  {
   "attachments": {},
   "cell_type": "markdown",
   "metadata": {},
   "source": [
    "<img src = 'img\\\\3.png'>"
   ]
  },
  {
   "cell_type": "code",
   "execution_count": 7,
   "metadata": {},
   "outputs": [
    {
     "name": "stdout",
     "output_type": "stream",
     "text": [
      "16\n"
     ]
    }
   ],
   "source": [
    "# 최적의 해를 빠르게 구하기 위해서는 가장 큰 화폐 단위부터 돈을 거슬러 주면 됨\n",
    "# N원을 거슬러 줘야 할 때, 가장 먼저 500원으로 거슬러 줄 수 있을 만큼 거슬러 줌\n",
    "# ㄴ 이후에 100원, 50원, 10원짜리 동전을 차례대로 거슬러 줄 수 있을 만큼 거슬러 줌\n",
    "\n",
    "# ↓ 내가 짠 코드\n",
    "\n",
    "N = 5680\n",
    "\n",
    "a = N // 500\n",
    "N = N - 500 * a\n",
    "b = N // 100\n",
    "N = N - 100 * b\n",
    "c = N // 50\n",
    "N = N - 50 * c\n",
    "d = N // 10\n",
    "\n",
    "print(a + b + c + d)"
   ]
  },
  {
   "cell_type": "code",
   "execution_count": 8,
   "metadata": {},
   "outputs": [
    {
     "name": "stdout",
     "output_type": "stream",
     "text": [
      "16\n"
     ]
    }
   ],
   "source": [
    "# 정답 코드\n",
    "\n",
    "n = 5680\n",
    "count = 0\n",
    "\n",
    "# 큰 단위의 화폐부터 차례대로 확인하기\n",
    "array = [500, 100, 50, 10]\n",
    "\n",
    "for coin in array:\n",
    "    count += n // coin # 해당 화폐로 거슬러 줄 수 있는 동전의 개수 세기\n",
    "    n %= coin # coin으로 나눠준 나머지가 n에 저장됨\n",
    "    \n",
    "print(count)"
   ]
  },
  {
   "cell_type": "markdown",
   "metadata": {},
   "source": [
    "<img src = 'img\\\\4.png'>"
   ]
  },
  {
   "cell_type": "code",
   "execution_count": 12,
   "metadata": {},
   "outputs": [
    {
     "name": "stdout",
     "output_type": "stream",
     "text": [
      "6\n"
     ]
    }
   ],
   "source": [
    "# ↓ 내가 짠 코드\n",
    "# 정당성 분석 : K가 2이상이기만 하면, K로 나누는 것이 1을 빼는 것보다 무조건 빠르게 N을 줄일 수 있음\n",
    "\n",
    "N, K = map(int, input().split())\n",
    "count = 0\n",
    "\n",
    "while True:\n",
    "    if N % K == 0:\n",
    "        N //= K\n",
    "        count += 1\n",
    "    else:\n",
    "        N -= 1\n",
    "        count += 1\n",
    "    if N == 1:\n",
    "        break\n",
    "print(count)"
   ]
  },
  {
   "cell_type": "code",
   "execution_count": 13,
   "metadata": {},
   "outputs": [
    {
     "name": "stdout",
     "output_type": "stream",
     "text": [
      "6\n"
     ]
    }
   ],
   "source": [
    "# 정답 코드\n",
    "\n",
    "n, k = map(int, input().split())\n",
    "\n",
    "result = 0\n",
    "\n",
    "while True:\n",
    "    # N이 K로 나누어 떨어지는 수가 될 때까지 빼기\n",
    "    target = (n // k) * k # 이 줄은 만약 n이 k로 나누어지지 않을 때\n",
    "    # k로 나누어 떨어지면서 n에 가장 가까운 수를 찾을 때 사용됨\n",
    "    # ex) 38, 6이면 target은 36\n",
    "    result += (n - target) # 여기서 1을 빼는 연산을 몇 번 수행할지 한번에 구해서 알려주는 것\n",
    "    n = target\n",
    "    # 이렇게 하면 시간복잡도가 훠어어어어얼씬 줄어듬, 놀랍다\n",
    "    # N이 K보다 작을 때 (더 이상 나눌 수 없을 때) 반복문 탈출\n",
    "    if n < k:\n",
    "        break\n",
    "    # K로 나누기\n",
    "    result += 1\n",
    "    n //= k\n",
    "    \n",
    "# 마지막으로 남은 수에 대하여 1씩 빼기\n",
    "result += (n - 1)\n",
    "print(result)"
   ]
  },
  {
   "cell_type": "markdown",
   "metadata": {},
   "source": [
    "<img src = 'img\\\\5.png'>"
   ]
  },
  {
   "cell_type": "code",
   "execution_count": 35,
   "metadata": {},
   "outputs": [
    {
     "name": "stdout",
     "output_type": "stream",
     "text": [
      "180\n"
     ]
    }
   ],
   "source": [
    "# ↓ 내가 짠 코드\n",
    "\n",
    "a = list(input(str()))\n",
    "\n",
    "count = int(a[0])\n",
    "del a[0]\n",
    "\n",
    "for i in a:\n",
    "    if (int(i) <= 1) or (count <= 1):\n",
    "        count += int(i)\n",
    "    else:\n",
    "        count *= int(i)\n",
    "print(count)"
   ]
  },
  {
   "cell_type": "code",
   "execution_count": 36,
   "metadata": {},
   "outputs": [
    {
     "name": "stdout",
     "output_type": "stream",
     "text": [
      "180\n"
     ]
    }
   ],
   "source": [
    "# 정답 코드\n",
    "\n",
    "data = input()\n",
    "\n",
    "# 첫 번째 문자를 숫자로 변경하여 대입\n",
    "result = int(data[0])\n",
    "\n",
    "for i in range (1, len(data)):\n",
    "    # 두 수 중에서 하나라도 '0' 혹은 '1'인 경우, 곱하기보다는 더하기 수행\n",
    "    num = int(data[i])\n",
    "    if (num <= 1) or (result <= 1):\n",
    "        result += num\n",
    "    else:\n",
    "        result *= num\n",
    "print(result)"
   ]
  },
  {
   "cell_type": "markdown",
   "metadata": {},
   "source": [
    "<img src = 'img\\\\6.png'>"
   ]
  },
  {
   "cell_type": "code",
   "execution_count": null,
   "metadata": {},
   "outputs": [],
   "source": [
    "# HINT : 오름차순 정렬 이후에 공포도가 가장 낮은 모험가부터 하나씩 확인합니다.\n",
    "# 왼쪽부터 공포도를 확인하며 '현재 그룹에 포함된 모험가의 수'가 '현재 확인하고 있는 공포도'보다 크거나 같다면 이를 그룹으로 설정하면 됩니다.\n",
    "# ex) 왼쪽부터 1 2 2 2 3 정렬됐으면\n",
    "# 1 그냥 보내고, 그 다음 2 두명 묶어서 보내고 이렇게 쭉쭉 가면 됨"
   ]
  },
  {
   "cell_type": "code",
   "execution_count": 42,
   "metadata": {},
   "outputs": [
    {
     "data": {
      "text/plain": [
       "5"
      ]
     },
     "execution_count": 42,
     "metadata": {},
     "output_type": "execute_result"
    }
   ],
   "source": [
    "# ↓ 내가 짠 코드\n",
    "\n",
    "N = int(input()) # 총 모험가의 수\n",
    "a = list(map(int, input().split())) # 각 모험가의 공포도\n",
    "\n",
    "max(a)\n",
    "\n",
    "for i in range (len(a)):\n",
    "# gg쳤음"
   ]
  },
  {
   "cell_type": "code",
   "execution_count": 43,
   "metadata": {},
   "outputs": [
    {
     "name": "stdout",
     "output_type": "stream",
     "text": [
      "1\n"
     ]
    }
   ],
   "source": [
    "# 정답 코드\n",
    "\n",
    "N = int(input()) # 총 모험가의 수\n",
    "data = list(map(int, input().split())) # 각 모험가의 공포도\n",
    "data.sort()\n",
    "\n",
    "result = 0 # 총 그룹의 수\n",
    "count = 0 # 현재 그룹에 포함된 모험가의 수\n",
    "\n",
    "for i in data: # 공포도를 낮은 것부터 하나씩 확인하며\n",
    "    count += 1 # 현재 그룹에 해당 모험가를 포함시키기\n",
    "    if count >= i: # 현재 그룹에 포함된 모험가의 수가 현재의 공포도 이상이라면, 그룹 결성\n",
    "        result += 1 # 총 그룹의 수 증가시키기\n",
    "        count = 0 # 현재 그룹에 포함된 모험가의 수 초기화\n",
    "        \n",
    "print(result)\n"
   ]
  },
  {
   "cell_type": "markdown",
   "metadata": {},
   "source": [
    "### 2차원"
   ]
  },
  {
   "cell_type": "code",
   "execution_count": 45,
   "metadata": {},
   "outputs": [
    {
     "name": "stdout",
     "output_type": "stream",
     "text": [
      "( 0 , 0 ) ( 0 , 1 ) ( 0 , 2 ) ( 0 , 3 ) ( 0 , 4 ) \n",
      "( 1 , 0 ) ( 1 , 1 ) ( 1 , 2 ) ( 1 , 3 ) ( 1 , 4 ) \n",
      "( 2 , 0 ) ( 2 , 1 ) ( 2 , 2 ) ( 2 , 3 ) ( 2 , 4 ) \n",
      "( 3 , 0 ) ( 3 , 1 ) ( 3 , 2 ) ( 3 , 3 ) ( 3 , 4 ) \n",
      "( 4 , 0 ) ( 4 , 1 ) ( 4 , 2 ) ( 4 , 3 ) ( 4 , 4 ) \n"
     ]
    }
   ],
   "source": [
    "for i in range (5):\n",
    "    for j in range (5):\n",
    "        print('(', i, ',', j, ')', end = ' ')\n",
    "    print()"
   ]
  },
  {
   "cell_type": "code",
   "execution_count": 47,
   "metadata": {},
   "outputs": [
    {
     "name": "stdout",
     "output_type": "stream",
     "text": [
      "( 2 , 3 )\n",
      "( 1 , 2 )\n",
      "( 2 , 1 )\n",
      "( 3 , 2 )\n"
     ]
    }
   ],
   "source": [
    "# 동, 북, 서, 남\n",
    "dx = [0, -1, 0, 1]\n",
    "dy = [1, 0, -1, 0]\n",
    "\n",
    "# 현재 위치\n",
    "x, y = 2, 2\n",
    "\n",
    "for i in range (4):\n",
    "    # 다음 위치\n",
    "    nx = x + dx[i]\n",
    "    ny = y + dy[i]\n",
    "    print('(', nx, ',', ny, ')')\n",
    "    \n",
    "# 결과값의 의미는 바로 위 셀의 위치를 참고, 초기 위치가 (2,2)임"
   ]
  },
  {
   "attachments": {},
   "cell_type": "markdown",
   "metadata": {},
   "source": [
    "<img src='img\\\\7.png'>\n",
    "<img src='img\\\\7-1.png'>"
   ]
  },
  {
   "cell_type": "code",
   "execution_count": 53,
   "metadata": {},
   "outputs": [
    {
     "ename": "TypeError",
     "evalue": "object of type 'NoneType' has no len()",
     "output_type": "error",
     "traceback": [
      "\u001b[1;31m---------------------------------------------------------------------------\u001b[0m",
      "\u001b[1;31mTypeError\u001b[0m                                 Traceback (most recent call last)",
      "\u001b[1;32m~\\AppData\\Local\\Temp\\ipykernel_6380\\3115088331.py\u001b[0m in \u001b[0;36m<module>\u001b[1;34m\u001b[0m\n\u001b[0;32m     10\u001b[0m \u001b[1;33m\u001b[0m\u001b[0m\n\u001b[0;32m     11\u001b[0m \u001b[1;32mfor\u001b[0m \u001b[0mi\u001b[0m \u001b[1;32min\u001b[0m \u001b[0mdirection\u001b[0m\u001b[1;33m:\u001b[0m\u001b[1;33m\u001b[0m\u001b[1;33m\u001b[0m\u001b[0m\n\u001b[1;32m---> 12\u001b[1;33m     \u001b[1;32mif\u001b[0m \u001b[1;33m(\u001b[0m\u001b[0meval\u001b[0m\u001b[1;33m(\u001b[0m\u001b[1;34m'[start[a] +'\u001b[0m \u001b[1;33m+\u001b[0m \u001b[0mi\u001b[0m \u001b[1;33m+\u001b[0m \u001b[1;34m'[a] for a in range (len(start))]'\u001b[0m\u001b[1;33m)\u001b[0m\u001b[1;33m[\u001b[0m\u001b[1;36m0\u001b[0m\u001b[1;33m]\u001b[0m \u001b[1;33m>=\u001b[0m \u001b[1;36m0\u001b[0m\u001b[1;33m)\u001b[0m \u001b[1;32mand\u001b[0m \u001b[1;33m(\u001b[0m\u001b[0meval\u001b[0m\u001b[1;33m(\u001b[0m\u001b[1;34m'[start[a] +'\u001b[0m \u001b[1;33m+\u001b[0m \u001b[0mi\u001b[0m \u001b[1;33m+\u001b[0m \u001b[1;34m'[a] for a in range (len(start))]'\u001b[0m\u001b[1;33m)\u001b[0m\u001b[1;33m[\u001b[0m\u001b[1;36m1\u001b[0m\u001b[1;33m]\u001b[0m \u001b[1;33m>=\u001b[0m \u001b[1;36m0\u001b[0m\u001b[1;33m)\u001b[0m\u001b[1;33m:\u001b[0m\u001b[1;33m\u001b[0m\u001b[1;33m\u001b[0m\u001b[0m\n\u001b[0m\u001b[0;32m     13\u001b[0m         \u001b[0mstart\u001b[0m \u001b[1;33m=\u001b[0m \u001b[0mexec\u001b[0m\u001b[1;33m(\u001b[0m\u001b[1;34m'[start[a] +'\u001b[0m \u001b[1;33m+\u001b[0m \u001b[0mi\u001b[0m \u001b[1;33m+\u001b[0m \u001b[1;34m'[a] for a in range (len(start))]'\u001b[0m\u001b[1;33m)\u001b[0m\u001b[1;33m\u001b[0m\u001b[1;33m\u001b[0m\u001b[0m\n\u001b[0;32m     14\u001b[0m \u001b[1;33m\u001b[0m\u001b[0m\n",
      "\u001b[1;32m<string>\u001b[0m in \u001b[0;36m<module>\u001b[1;34m\u001b[0m\n",
      "\u001b[1;31mTypeError\u001b[0m: object of type 'NoneType' has no len()"
     ]
    }
   ],
   "source": [
    "# ↓ 내가 짠 코드\n",
    "\n",
    "N = int(input())\n",
    "direction = list(map(str, input().split()))\n",
    "\n",
    "start = [0, 0]\n",
    "\n",
    "R = [0, 1]\n",
    "L = [0, -1]\n",
    "U = [-1, 0]\n",
    "D = [1, 0]\n",
    "\n",
    "for i in direction:\n",
    "    if (0 <= eval('[start[a] +' + i + '[a] for a in range (len(start))]')[0] <= N) and (0 <= eval('[start[a] +' + i + '[a] for a in range (len(start))]')[1] <= N):\n",
    "        start = exec('[start[a] +' + i + '[a] for a in range (len(start))]')\n",
    "        \n",
    "for j in start:\n",
    "    print(j, end = ' ')\n",
    "\n",
    "# gg 쳤음"
   ]
  },
  {
   "cell_type": "code",
   "execution_count": 62,
   "metadata": {},
   "outputs": [
    {
     "name": "stdout",
     "output_type": "stream",
     "text": [
      "['R', 'R', 'R', 'U', 'D', 'D']\n",
      "3 4\n"
     ]
    }
   ],
   "source": [
    "# 정답 코드\n",
    "\n",
    "# N 입력 받기\n",
    "n =int(input())\n",
    "x, y = 1, 1\n",
    "plans = input().split()\n",
    "print(plans)\n",
    "\n",
    "# L, R, U, D에 따른 이동 방향\n",
    "dx = [0, 0, -1, 1]\n",
    "dy = [-1, 1, 0, 0]\n",
    "move_types = ['L', 'R', 'U', 'D']\n",
    "\n",
    "# 이동 계획을 하나씩 확인하기\n",
    "for plan in plans:\n",
    "    # 이동 후 좌표 구하기\n",
    "    for i in range(len(move_types)):\n",
    "        if plan == move_types[i]:\n",
    "            nx = x + dx[i]\n",
    "            ny = y + dy[i]\n",
    "            \n",
    "    # 공간을 벗어나는 경우 무시\n",
    "    if (nx < 1) or (ny < 1) or (nx > n) or (ny > n):\n",
    "        continue\n",
    "    # 이동 수행\n",
    "    x, y = nx, ny\n",
    "\n",
    "print(x, y)"
   ]
  },
  {
   "cell_type": "markdown",
   "metadata": {},
   "source": [
    "<img src='img\\\\8.png'>"
   ]
  },
  {
   "cell_type": "markdown",
   "metadata": {},
   "source": [
    "### 완전 탐색 문제 유형임"
   ]
  },
  {
   "cell_type": "code",
   "execution_count": 69,
   "metadata": {},
   "outputs": [
    {
     "name": "stdout",
     "output_type": "stream",
     "text": [
      "11475\n"
     ]
    }
   ],
   "source": [
    "# ↓ 내가 짠 코드\n",
    "\n",
    "N = int(input()) # 정수 N을 입력받고 00:00:00 부터 N:59:59까지의\n",
    "# 모든 시각 중에서 3이 하나라도 포함되는 모든 경우의 수를 출력합니다.\n",
    "\n",
    "H, M, S = 0, 0, 0\n",
    "count = 0\n",
    "while True:\n",
    "    S += 1\n",
    "    if S >= 60:\n",
    "        S = 0\n",
    "        M += 1\n",
    "    if M >= 60:\n",
    "        M = 0\n",
    "        H += 1\n",
    "    if H == N and M == 59 and S == 59:\n",
    "        break\n",
    "    test = list(str(H)) + list(str(M)) + list(str(S))\n",
    "    if '3' in test:\n",
    "        count += 1\n",
    "print(count)\n"
   ]
  },
  {
   "cell_type": "code",
   "execution_count": 68,
   "metadata": {},
   "outputs": [
    {
     "name": "stdout",
     "output_type": "stream",
     "text": [
      "11475\n"
     ]
    }
   ],
   "source": [
    "# 정답 코드\n",
    "# H 입력 받기\n",
    "h = int(input())\n",
    "\n",
    "count = 0\n",
    "for i in range (h + 1):\n",
    "    for j in range (60):\n",
    "        for k in range (60):\n",
    "            # 매 시각 안에 '3'이 포함되어 있다면 카운트 증가\n",
    "            if '3' in str(i) + str(j) + str(k):\n",
    "                count += 1\n",
    "                \n",
    "print(count)"
   ]
  },
  {
   "attachments": {},
   "cell_type": "markdown",
   "metadata": {},
   "source": [
    "<img src = 'img\\\\9.png'>\n",
    "<img src = 'img\\\\9-1.png'>"
   ]
  },
  {
   "cell_type": "code",
   "execution_count": 93,
   "metadata": {},
   "outputs": [
    {
     "name": "stdout",
     "output_type": "stream",
     "text": [
      "4\n"
     ]
    }
   ],
   "source": [
    "# ↓ 내가 짠 코드\n",
    "\n",
    "start = str(input())\n",
    "column = ['a', 'b', 'c', 'd', 'e', 'f', 'g', 'h']\n",
    "\n",
    "for i in range(len(column)):\n",
    "    if start[0] == column[i]:\n",
    "        start1 = [i + 1, int(start[1])]\n",
    "\n",
    "# print(start1)\n",
    "\n",
    "dx = [-2, 2, -1, 1]\n",
    "dy = [[-1, 1], [-1, 1], [-2, 2], [-2, 2]]\n",
    "\n",
    "count = 0\n",
    "\n",
    "for j in range (4):\n",
    "    a = start1[0] + dx[j]\n",
    "    b1 = start1[1] + dy[j][0]\n",
    "    b2 = start1[1] + dy[j][1]\n",
    "    \n",
    "    if 1 <= a <= 8 and 1 <= b1 <= 8:\n",
    "        count += 1\n",
    "    if 1 <= a <= 8 and 1 <= b2 <= 8:\n",
    "        count += 1\n",
    "        \n",
    "        \n",
    "print(count)"
   ]
  },
  {
   "cell_type": "code",
   "execution_count": 92,
   "metadata": {},
   "outputs": [
    {
     "name": "stdout",
     "output_type": "stream",
     "text": [
      "4\n"
     ]
    }
   ],
   "source": [
    "# 정답 코드\n",
    "\n",
    "# 현재 나이트의 위치 입력받기\n",
    "input_data = input()\n",
    "row = int(input_data[1])\n",
    "column = int(ord(input_data[0])) - int(ord('a')) + 1\n",
    "# ord는 문자의 아스키 코드값을 구해줌\n",
    "# a는 97 b는 98이라 치면 b - a는 1 --> 여기에 1을 더해서 위치는 2\n",
    "\n",
    "# 나이트가 이동할 수 있는 8가지 방향 정의\n",
    "steps = [(-2, -1), (-1, -2), (1, -2), (2, -1), (2, 1), (1, 2), (-1, 2), (-2, 1)]\n",
    "\n",
    "# 8가지 방향에 대하여 각 위치로 이동이 가능한지 확인\n",
    "result = 0\n",
    "for step in steps:\n",
    "    # 이동하고자 하는 위치 확인\n",
    "    next_row = row + step[0]\n",
    "    next_column = column + step[1]\n",
    "    # 해당 위치로 이동이 가능하다면 카운트 증가\n",
    "    if next_row >= 1 and next_row <= 8 and next_column >= 1 and next_column <= 8:\n",
    "        result += 1\n",
    "\n",
    "print(result)"
   ]
  },
  {
   "cell_type": "markdown",
   "metadata": {},
   "source": [
    "<img src = 'img\\\\10.png'>"
   ]
  },
  {
   "cell_type": "code",
   "execution_count": 116,
   "metadata": {},
   "outputs": [
    {
     "name": "stdout",
     "output_type": "stream",
     "text": [
      "AAADDSSS15\n"
     ]
    }
   ],
   "source": [
    "# ↓ 내가 짠 코드\n",
    "\n",
    "text = str(input())\n",
    "\n",
    "num = ['0', '1', '2', '3', '4', '5', '6', '7', '8', '9']\n",
    "count = 0\n",
    "text1 = ''\n",
    "\n",
    "for i in text:\n",
    "    if i in num:\n",
    "        count += int(i)\n",
    "\n",
    "for j in num:\n",
    "    text = text.replace(j, '')\n",
    "\n",
    "for a in sorted(text):\n",
    "    text1 += a\n",
    "\n",
    "print(text1 + str(count))"
   ]
  },
  {
   "cell_type": "code",
   "execution_count": 112,
   "metadata": {},
   "outputs": [
    {
     "name": "stdout",
     "output_type": "stream",
     "text": [
      "aaddfs14\n"
     ]
    }
   ],
   "source": [
    "data = input()\n",
    "result = []\n",
    "value = 0\n",
    "\n",
    "# 문자를 하나씩 확인하여\n",
    "for x in data:\n",
    "    # 알파벳인 경우 결과 리스트에 삽입\n",
    "    if x.isalpha():\n",
    "        result.append(x)\n",
    "    # 숫자는 따로 더하기\n",
    "    else:\n",
    "        value += int(x)\n",
    "        \n",
    "# 알파벳을 오름차순으로 정렬\n",
    "result.sort()\n",
    "\n",
    "# 숫자가 하나라도 존재하는 경우 가장 뒤에 삽입\n",
    "if value != 0:\n",
    "    result.append(str(value))\n",
    "    \n",
    "# 최종 결과 출력 (리스트를 문자열로 변환하여 출력)\n",
    "print(''.join(result))"
   ]
  }
 ],
 "metadata": {
  "kernelspec": {
   "display_name": "base",
   "language": "python",
   "name": "python3"
  },
  "language_info": {
   "codemirror_mode": {
    "name": "ipython",
    "version": 3
   },
   "file_extension": ".py",
   "mimetype": "text/x-python",
   "name": "python",
   "nbconvert_exporter": "python",
   "pygments_lexer": "ipython3",
   "version": "3.9.13"
  },
  "orig_nbformat": 4,
  "vscode": {
   "interpreter": {
    "hash": "16f5b46f222e2a3e8d4adbf7141cae37b71ed37616e60735fa5d1164a1bc3ada"
   }
  }
 },
 "nbformat": 4,
 "nbformat_minor": 2
}
