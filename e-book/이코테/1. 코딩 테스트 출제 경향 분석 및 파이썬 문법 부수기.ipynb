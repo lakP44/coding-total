{
 "cells": [
  {
   "cell_type": "markdown",
   "metadata": {},
   "source": [
    "### 코드 시간 측정"
   ]
  },
  {
   "cell_type": "code",
   "execution_count": 1,
   "metadata": {},
   "outputs": [
    {
     "name": "stdout",
     "output_type": "stream",
     "text": [
      "time: 0.0\n"
     ]
    }
   ],
   "source": [
    "import time\n",
    "start_time = time.time() # 측정 시작\n",
    "\n",
    "a, b = 1, 1\n",
    "\n",
    "# 프로그램 소스코드\n",
    "# for _ in range(20):\n",
    "#     for _ in range (20):\n",
    "#         for _ in range (20):\n",
    "#             for _ in range (20):\n",
    "#                 for _ in range (20):\n",
    "#                     for _ in range (20):\n",
    "#                         a = a + b\n",
    "# print(a)\n",
    "\n",
    "end_time = time.time() # 측정 종료\n",
    "print(\"time:\", end_time - start_time) # 수행 시간 출력"
   ]
  },
  {
   "cell_type": "code",
   "execution_count": 2,
   "metadata": {},
   "outputs": [
    {
     "name": "stdout",
     "output_type": "stream",
     "text": [
      "1000000000\n"
     ]
    }
   ],
   "source": [
    "# 지수 표현 방식\n",
    "\n",
    "a = 1e9\n",
    "print(int(a))"
   ]
  },
  {
   "cell_type": "code",
   "execution_count": 3,
   "metadata": {},
   "outputs": [
    {
     "name": "stdout",
     "output_type": "stream",
     "text": [
      "False 0.8999999999999999\n"
     ]
    }
   ],
   "source": [
    "# 실수형 더 알아보기\n",
    "a = 0.3 + 0.6\n",
    "\n",
    "if a == 0.9:\n",
    "    print(True)\n",
    "else:\n",
    "    print(False, a)"
   ]
  },
  {
   "cell_type": "markdown",
   "metadata": {},
   "source": [
    "### List Comprehension"
   ]
  },
  {
   "cell_type": "code",
   "execution_count": 4,
   "metadata": {},
   "outputs": [
    {
     "name": "stdout",
     "output_type": "stream",
     "text": [
      "[[0, 0, 0], [0, 0, 0], [0, 0, 0], [0, 0, 0]]\n",
      "[[0, 0, 0], [0, 5, 0], [0, 0, 0], [0, 0, 0]]\n"
     ]
    }
   ],
   "source": [
    "# 좋은 예시, N X M 크기의 2차원 리스트 초기화\n",
    "\n",
    "n = 4\n",
    "m = 3\n",
    "array = [[0] * m for _ in range (n)]\n",
    "print(array)\n",
    "array[1][1] = 5\n",
    "print(array)"
   ]
  },
  {
   "cell_type": "code",
   "execution_count": 5,
   "metadata": {},
   "outputs": [
    {
     "name": "stdout",
     "output_type": "stream",
     "text": [
      "[[0, 0, 0], [0, 0, 0], [0, 0, 0], [0, 0, 0]]\n",
      "[[0, 5, 0], [0, 5, 0], [0, 5, 0], [0, 5, 0]]\n"
     ]
    }
   ],
   "source": [
    "# 나쁜 예시, N X M 크기의 2차원 리스트 초기화\n",
    "\n",
    "n = 4\n",
    "m = 3\n",
    "array = [[0] * m ] * n\n",
    "print(array)\n",
    "array[1][1] = 5\n",
    "print(array) # 하나만 바뀌는게 아니라 전부 다 바껴버림!"
   ]
  },
  {
   "attachments": {},
   "cell_type": "markdown",
   "metadata": {},
   "source": [
    "<img src = 'img\\\\1.png'>"
   ]
  },
  {
   "cell_type": "markdown",
   "metadata": {},
   "source": [
    "### 리스트에서 특정 값을 가지는 원소를 모두 제거하기"
   ]
  },
  {
   "cell_type": "code",
   "execution_count": 6,
   "metadata": {},
   "outputs": [
    {
     "name": "stdout",
     "output_type": "stream",
     "text": [
      "[1, 2, 4]\n"
     ]
    }
   ],
   "source": [
    "a = [1, 2, 3, 4, 5, 5, 5]\n",
    "remove_set = {3, 5}\n",
    "\n",
    "# remove_list에 포함되지 않은 값만을 저장\n",
    "result = [i for i in a if i not in remove_set]\n",
    "print(result)"
   ]
  },
  {
   "attachments": {},
   "cell_type": "markdown",
   "metadata": {},
   "source": [
    "### Dictionary"
   ]
  },
  {
   "cell_type": "code",
   "execution_count": 7,
   "metadata": {},
   "outputs": [
    {
     "name": "stdout",
     "output_type": "stream",
     "text": [
      "{'사과': 'Apple', '바나나': 'Banana', '코코넛': 'Coconut'}\n",
      "'사과'를 키로 가지는 데이터가 존재합니다.\n"
     ]
    }
   ],
   "source": [
    "data = dict()\n",
    "data['사과'] = \"Apple\"\n",
    "data['바나나'] = 'Banana'\n",
    "data['코코넛'] = 'Coconut'\n",
    "print(data)\n",
    "\n",
    "if '사과' in data:\n",
    "    print(\"'사과'를 키로 가지는 데이터가 존재합니다.\")"
   ]
  },
  {
   "cell_type": "markdown",
   "metadata": {},
   "source": [
    "### 집합 자료형"
   ]
  },
  {
   "cell_type": "code",
   "execution_count": 8,
   "metadata": {},
   "outputs": [
    {
     "name": "stdout",
     "output_type": "stream",
     "text": [
      "{1, 2, 3, 4, 5}\n",
      "{3, 4, 5, 6, 7}\n",
      "{1, 2}\n",
      "{1, 2, 3, 4, 5, 6}\n",
      "{1, 2, 3, 4, 5, 6, 7, 8}\n",
      "{1, 2, 4, 5}\n"
     ]
    }
   ],
   "source": [
    "a = set([1, 2, 3, 4, 5])\n",
    "b = set([3, 4, 5, 6, 7])\n",
    "print(a or b) # 합집합\n",
    "print(a and b) # 교집합\n",
    "print(a - b) # 차집합\n",
    "\n",
    "a.add(6) # 새로운 원소 추가\n",
    "print(a)\n",
    "\n",
    "a = set([1, 2, 3, 4, 5])\n",
    "a.update([6, 7, 8]) # 새로운 원소 여러 개 추가\n",
    "print(a)\n",
    "\n",
    "a = set([1, 2, 3, 4, 5])\n",
    "a.remove(3)\n",
    "print(a)"
   ]
  },
  {
   "cell_type": "markdown",
   "metadata": {},
   "source": [
    "### 기본 입출력"
   ]
  },
  {
   "cell_type": "code",
   "execution_count": 9,
   "metadata": {},
   "outputs": [
    {
     "data": {
      "text/plain": [
       "[1, 5, 2, 1, 5]"
      ]
     },
     "execution_count": 9,
     "metadata": {},
     "output_type": "execute_result"
    }
   ],
   "source": [
    "list(map(int, input().split()))"
   ]
  },
  {
   "cell_type": "code",
   "execution_count": 10,
   "metadata": {},
   "outputs": [],
   "source": [
    "# 빠르게 입력받기\n",
    "\n",
    "import sys\n",
    "\n",
    "# data = sys.stdin.readline().rstrip() <-- 자꾸 오류떠서 주석처리 해둠\n",
    "# print(data)"
   ]
  },
  {
   "cell_type": "markdown",
   "metadata": {},
   "source": [
    "### 조건문"
   ]
  },
  {
   "cell_type": "code",
   "execution_count": 12,
   "metadata": {},
   "outputs": [
    {
     "name": "stdout",
     "output_type": "stream",
     "text": [
      "우수한 성적입니다.\n",
      "우수한 성적입니다.\n"
     ]
    }
   ],
   "source": [
    "# pass 키워드\n",
    "\n",
    "score = [30, 50, 90, 100]\n",
    "\n",
    "for score in score:\n",
    "    if score >= 90:\n",
    "        print(\"우수한 성적입니다.\")\n",
    "    else:\n",
    "        pass"
   ]
  },
  {
   "cell_type": "code",
   "execution_count": 14,
   "metadata": {},
   "outputs": [
    {
     "name": "stdout",
     "output_type": "stream",
     "text": [
      "Success\n"
     ]
    }
   ],
   "source": [
    "# 조건문의 간소화\n",
    "\n",
    "score = 85\n",
    "\n",
    "if score >= 80: result = 'Success'\n",
    "else: result = \"Fail\"\n",
    "print(result)"
   ]
  },
  {
   "cell_type": "code",
   "execution_count": 15,
   "metadata": {},
   "outputs": [
    {
     "name": "stdout",
     "output_type": "stream",
     "text": [
      "Success\n"
     ]
    }
   ],
   "source": [
    "# Conditional Expression\n",
    "\n",
    "score = 85\n",
    "\n",
    "result = \"Success\" if score >= 80 else \"Fail\"\n",
    "\n",
    "print(result)"
   ]
  },
  {
   "cell_type": "markdown",
   "metadata": {},
   "source": [
    "### 반복문"
   ]
  },
  {
   "cell_type": "code",
   "execution_count": 16,
   "metadata": {},
   "outputs": [
    {
     "name": "stdout",
     "output_type": "stream",
     "text": [
      "25\n"
     ]
    }
   ],
   "source": [
    "# 1부터 9까지의 홀수의 합 구하기, while문\n",
    "\n",
    "i = 1\n",
    "result = 0\n",
    "\n",
    "while i <= 9:\n",
    "    if i % 2 == 1:\n",
    "        result += i\n",
    "    i += 1\n",
    "    \n",
    "print(result)"
   ]
  },
  {
   "cell_type": "code",
   "execution_count": 17,
   "metadata": {},
   "outputs": [
    {
     "name": "stdout",
     "output_type": "stream",
     "text": [
      "25\n"
     ]
    }
   ],
   "source": [
    "# 1부터 9까지의 홀수의 합 구하기, for문\n",
    "\n",
    "result = 0\n",
    "\n",
    "for i in range (1, 10):\n",
    "    if i % 2 == 0:\n",
    "        continue # 이걸 만나면 바로 반복문이 다시 시작됨, 이 아래 코드가 실행 안됨\n",
    "    result += i\n",
    "    \n",
    "print(result) # break는 아예 반복문 자체를 바로 탈출"
   ]
  },
  {
   "cell_type": "markdown",
   "metadata": {},
   "source": [
    "### 함수, def"
   ]
  },
  {
   "cell_type": "code",
   "execution_count": 18,
   "metadata": {},
   "outputs": [
    {
     "name": "stdout",
     "output_type": "stream",
     "text": [
      "[('이순신', 35), ('홍길동', 60), ('아무개', 70)]\n",
      "[('이순신', 35), ('홍길동', 60), ('아무개', 70)]\n"
     ]
    }
   ],
   "source": [
    "# 람다 함수\n",
    "\n",
    "array = [('홍길동', 60), ('이순신', 35), ('아무개', 70)]\n",
    "\n",
    "def my_key(x):\n",
    "    return x[1]\n",
    "print(sorted(array, key = my_key)) # 정렬함수, 여기까지 3줄이지만\n",
    "\n",
    "print(sorted(array, key = lambda x: x[1])) # 람다를 사용하면 1줄로 표현 가능"
   ]
  },
  {
   "cell_type": "code",
   "execution_count": 19,
   "metadata": {},
   "outputs": [
    {
     "name": "stdout",
     "output_type": "stream",
     "text": [
      "[7, 9, 11, 13, 15]\n"
     ]
    }
   ],
   "source": [
    "# 람다 함수 2\n",
    "\n",
    "list1 = [1, 2, 3, 4, 5]\n",
    "list2 = [6, 7, 8, 9, 10]\n",
    "\n",
    "result = map(lambda a, b: a + b, list1, list2)\n",
    "\n",
    "print(list(result))"
   ]
  },
  {
   "cell_type": "markdown",
   "metadata": {},
   "source": [
    "<img src = 'img\\\\2.png'>"
   ]
  },
  {
   "cell_type": "code",
   "execution_count": 20,
   "metadata": {},
   "outputs": [
    {
     "name": "stdout",
     "output_type": "stream",
     "text": [
      "[('아무개', 70), ('홍길동', 60), ('이순신', 35)]\n"
     ]
    }
   ],
   "source": [
    "# 자주 사용되는 내장 함수\n",
    "\n",
    "array = [('홍길동', 60), ('이순신', 35), ('아무개', 70)]\n",
    "result = sorted(array, key = lambda x: x[1], reverse = True)\n",
    "print(result) # 오름차순으로 정렬됨"
   ]
  },
  {
   "cell_type": "code",
   "execution_count": null,
   "metadata": {},
   "outputs": [],
   "source": [
    "# 순열과 조합\n",
    "# 순열 P --> 순서를 고려해서 n개를 뽑는 것 ex) 'ABC', 'BAC', 'BCA'는 전부 다른 것\n",
    "# 조합 C --> 순서를 고려하지 않고 n개를 뽑는 것 ex) 'ABC' 하나 뽑았으면 끝"
   ]
  },
  {
   "cell_type": "code",
   "execution_count": 24,
   "metadata": {},
   "outputs": [
    {
     "name": "stdout",
     "output_type": "stream",
     "text": [
      "[(1, 2, 3), (1, 3, 2), (2, 1, 3), (2, 3, 1), (3, 1, 2), (3, 2, 1)]\n",
      "[(1, 2, 3)]\n"
     ]
    }
   ],
   "source": [
    "from itertools import permutations\n",
    "from itertools import combinations\n",
    "\n",
    "data = [1, 2, 3]\n",
    "\n",
    "result_P = list(permutations(data, 3))\n",
    "print(result_P)\n",
    "\n",
    "result_C = list(combinations(data, 3))\n",
    "print(result_C)"
   ]
  },
  {
   "cell_type": "code",
   "execution_count": 25,
   "metadata": {},
   "outputs": [
    {
     "name": "stdout",
     "output_type": "stream",
     "text": [
      "{1: 4, 2: 3, 3: 2, 5: 3}\n"
     ]
    }
   ],
   "source": [
    "# counter, 리스트 요소 개수 세기\n",
    "from collections import Counter\n",
    "\n",
    "counter = Counter([1, 2, 3, 5, 1, 2, 2, 1, 5, 3, 1 ,5])\n",
    "\n",
    "print(dict(counter))"
   ]
  },
  {
   "cell_type": "code",
   "execution_count": 26,
   "metadata": {},
   "outputs": [
    {
     "name": "stdout",
     "output_type": "stream",
     "text": [
      "7\n",
      "42\n"
     ]
    }
   ],
   "source": [
    "# math, 최대공약수 구하기\n",
    "\n",
    "import math\n",
    "\n",
    "def lcm(a, b):\n",
    "    return a * b // math.gcd(a, b)\n",
    "\n",
    "a, b = 21, 14\n",
    "\n",
    "print(math.gcd(a, b)) # 최대 공약수\n",
    "print(lcm(a, b)) # 최소 공배수\n"
   ]
  }
 ],
 "metadata": {
  "kernelspec": {
   "display_name": "base",
   "language": "python",
   "name": "python3"
  },
  "language_info": {
   "codemirror_mode": {
    "name": "ipython",
    "version": 3
   },
   "file_extension": ".py",
   "mimetype": "text/x-python",
   "name": "python",
   "nbconvert_exporter": "python",
   "pygments_lexer": "ipython3",
   "version": "3.9.13"
  },
  "orig_nbformat": 4,
  "vscode": {
   "interpreter": {
    "hash": "16f5b46f222e2a3e8d4adbf7141cae37b71ed37616e60735fa5d1164a1bc3ada"
   }
  }
 },
 "nbformat": 4,
 "nbformat_minor": 2
}
