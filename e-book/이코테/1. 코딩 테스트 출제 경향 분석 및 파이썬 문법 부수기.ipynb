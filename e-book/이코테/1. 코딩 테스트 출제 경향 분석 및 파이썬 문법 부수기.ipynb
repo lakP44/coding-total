{
 "cells": [
  {
   "cell_type": "code",
   "execution_count": 13,
   "metadata": {},
   "outputs": [
    {
     "name": "stdout",
     "output_type": "stream",
     "text": [
      "64000001\n",
      "time: 6.774736404418945\n"
     ]
    }
   ],
   "source": [
    "import time\n",
    "start_time = time.time() # 측정 시작\n",
    "\n",
    "a, b = 1, 1\n",
    "\n",
    "# 프로그램 소스코드\n",
    "# for _ in range(20):\n",
    "#     for _ in range (20):\n",
    "#         for _ in range (20):\n",
    "#             for _ in range (20):\n",
    "#                 for _ in range (20):\n",
    "#                     for _ in range (20):\n",
    "#                         a = a + b\n",
    "# print(a)\n",
    "\n",
    "end_time = time.time() # 측정 종료\n",
    "print(\"time:\", end_time - start_time) # 수행 시간 출력"
   ]
  }
 ],
 "metadata": {
  "kernelspec": {
   "display_name": "base",
   "language": "python",
   "name": "python3"
  },
  "language_info": {
   "codemirror_mode": {
    "name": "ipython",
    "version": 3
   },
   "file_extension": ".py",
   "mimetype": "text/x-python",
   "name": "python",
   "nbconvert_exporter": "python",
   "pygments_lexer": "ipython3",
   "version": "3.9.13"
  },
  "orig_nbformat": 4,
  "vscode": {
   "interpreter": {
    "hash": "16f5b46f222e2a3e8d4adbf7141cae37b71ed37616e60735fa5d1164a1bc3ada"
   }
  }
 },
 "nbformat": 4,
 "nbformat_minor": 2
}
