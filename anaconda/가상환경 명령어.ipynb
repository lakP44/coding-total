{
 "cells": [
  {
   "cell_type": "code",
   "execution_count": null,
   "metadata": {},
   "outputs": [],
   "source": [
    "입력은 cmd 터미널에서 하면 됨"
   ]
  },
  {
   "cell_type": "code",
   "execution_count": null,
   "metadata": {},
   "outputs": [],
   "source": [
    "conda create -n <환경명> python=<버전(ex:3.5이나 3.7 등)>\n",
    "\n",
    "# ex) conda create -n test1 python=3.7"
   ]
  },
  {
   "cell_type": "code",
   "execution_count": null,
   "metadata": {},
   "outputs": [],
   "source": [
    "conda env list\n",
    "\n",
    "# 현재 가상환경 전체 상태 확인"
   ]
  },
  {
   "cell_type": "code",
   "execution_count": null,
   "metadata": {},
   "outputs": [],
   "source": [
    "CALL conda.bat activate <환경명>\n",
    "\n",
    "# ex) CALL conda.bat activate test1"
   ]
  },
  {
   "cell_type": "code",
   "execution_count": null,
   "metadata": {},
   "outputs": [],
   "source": [
    "conda.bat deactivate\n",
    "\n",
    "# 가상환경 종료"
   ]
  },
  {
   "cell_type": "code",
   "execution_count": null,
   "metadata": {},
   "outputs": [],
   "source": [
    "conda remove -n <환경명> --all\n",
    "\n",
    "# ex) conda remove -n test1 --all"
   ]
  },
  {
   "cell_type": "code",
   "execution_count": null,
   "metadata": {},
   "outputs": [],
   "source": [
    "conda env export > <환경명>.yaml\n",
    "\n",
    "# 가상환경을 파일로 내보냄"
   ]
  },
  {
   "cell_type": "code",
   "execution_count": null,
   "metadata": {},
   "outputs": [],
   "source": [
    "conda env create -f <환경명>.yaml\n",
    "\n",
    "# 파일로 된 가상환경을 가져옴"
   ]
  },
  {
   "cell_type": "code",
   "execution_count": null,
   "metadata": {},
   "outputs": [],
   "source": [
    "conda install -c conda-forge 패키지명\n",
    "\n",
    "# -c 채널 옵션에 conda-forge를 주어서 패키지를 다운로드한다.\n",
    "# Conda-forge 는 anaconda에서 쉽게 설치할 수 있도록 검증된 파이썬 패키지들을 \n",
    "모아 놓은 하나의 채널 이다."
   ]
  },
  {
   "cell_type": "code",
   "execution_count": null,
   "metadata": {},
   "outputs": [],
   "source": [
    "conda install python='원하는버전'\n",
    "\n",
    "conda create -n <환경명> python=3.10 anaconda  # set custom env name <-- 가상환경 다운그레이드는 이게 답인거같음\n",
    "# 만약 파이썬 버전과 호환안되는 라이브러리가 있다면.... 이걸 써서 내려야지\n",
    "\n",
    "# 파이썬 다운그레이드 방법"
   ]
  },
  {
   "cell_type": "code",
   "execution_count": null,
   "metadata": {},
   "outputs": [],
   "source": [
    "pip freeze > requirements.txt # requrements.txt 생성\n",
    "\n",
    "pip install -r requirements.txt # 전부다 설치하는 명령어"
   ]
  }
 ],
 "metadata": {
  "kernelspec": {
   "display_name": "base",
   "language": "python",
   "name": "python3"
  },
  "language_info": {
   "name": "python",
   "version": "3.9.13"
  },
  "orig_nbformat": 4,
  "vscode": {
   "interpreter": {
    "hash": "964f46f3973c3d99dc6929d5bd1748275317def86f082ea2874e0d5a9cf6d261"
   }
  }
 },
 "nbformat": 4,
 "nbformat_minor": 2
}
