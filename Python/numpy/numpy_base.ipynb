{
 "cells": [
  {
   "cell_type": "code",
   "execution_count": 9,
   "metadata": {},
   "outputs": [
    {
     "name": "stdout",
     "output_type": "stream",
     "text": [
      "1\n",
      "(6,)\n",
      "int32\n"
     ]
    },
    {
     "data": {
      "text/plain": [
       "array([ 1.,  2.,  3.,  4.,  5.,  6.,  7.,  8.,  9., 10.])"
      ]
     },
     "execution_count": 9,
     "metadata": {},
     "output_type": "execute_result"
    }
   ],
   "source": [
    "import numpy as np # (as = alias)\n",
    "\n",
    "# ex)\n",
    "a = [1, 2, 3, 4, 5, 6]\n",
    "\n",
    "a = np.array(a) \n",
    "# array로 변환\n",
    "\n",
    "print(a.ndim) \n",
    "# 차원 확인\n",
    "print(a.shape) \n",
    "# 행, 열 확인\n",
    "print(a.dtype) \n",
    "# 타입 확인 (int, float...)\n",
    "\n",
    "b = a.reshape(3, 2) \n",
    "# a를 3행 2열로 변환, -1 넣으면 넣은곳은 알아서 변환해줌\n",
    "\n",
    "b[0, 1] \n",
    "# 첫번째 행, 두번째 열 요소 조회 (파이썬은 인덱스가 0부터 시작)\n",
    "\n",
    "# 요소 접근법\n",
    "# 중요\n",
    "\n",
    "b[[0, 1]] \n",
    "# 1, 2행 조회 (2차원이기 때문에 앞의 2수가 행으로 들어감)\n",
    "\n",
    "b[:, [0, 1]] \n",
    "# 1, 2열 (:는 모든 행을 의미함)\n",
    "\n",
    "b[[0, 1], [0, 1]] \n",
    "# 1행 1열, 2행 2열\n",
    "\n",
    "b[0 : 3, 1 : 3] \n",
    "# 1~3행, 2~3열\n",
    "\n",
    "b[1 :, 1 : 3] \n",
    "# 2~행, 2~3열\n",
    "\n",
    "# 조건 검색\n",
    "\n",
    "a[a >= 5] \n",
    "# a의 요소중 5 이상을 조회\n",
    "\n",
    "a[(a >= 5) & (a < 6)] \n",
    "# 5이상 6미만 조회 (조건이 여러개면 소괄호로 묶어줌, pandas도 동일함)\n",
    "\n",
    "np.sum(b, axis = 0) \n",
    "# [9, 12]가 나옴, 이 부분은 numpy의 차원 개념을 이해해야 함\n",
    "# max, min, mean, std 전부 사용가능\n",
    "\n",
    "np.argmax(a) \n",
    "# 최댓값의 인덱스를 알려줌, axis 삽입 가능\n",
    "\n",
    "np.where(a > 3, 1, 0) \n",
    "# 조건, 참값, 거짓값 // 3초과는 1로, 그 이하는 0으로 바꿔줌\n",
    "\n",
    "np.where(a > 3, 1, a) \n",
    "# 이건 3보다 크면 1로, 그 이하이면 값을 그대로 놔둠\n",
    "\n",
    "list(range(1, 10, 2)) \n",
    "# 1~10 사이에서 2씩 증가하는 리스트를 만듬 --> [1, 3, 5, 7, 9]\n",
    "\n",
    "np.linspace(1, 10, 10) \n",
    "# 1~10 사이에서 요소를 10개로 나눠 자동계산 --> 리스트 생성"
   ]
  },
  {
   "attachments": {},
   "cell_type": "markdown",
   "metadata": {},
   "source": [
    "## numpy 차원개념\n",
    "\n",
    "Numpy의 차원개념은 단순히 행열 X\n",
    "\n",
    "axis가 증가할 수록 하위 차원으로 엮이는 개념임\n",
    "\n",
    " \n",
    "\n",
    "ex)\n",
    "\n",
    "[ [ [1, 2], [3, 4] ], [ [5, 6], [7, 8] ] ] 이런 3차원 array가 있을때\n",
    "\n",
    "axis = 0은 [ [1, 2], [3, 4] ] --> [ [5, 6], [7, 8] ] 방향\n",
    "\n",
    "axis = 1은 [1, 2] --> [3, 4] // [5, 6] --> [7, 8] 방향\n",
    "\n",
    "axis = 2는 1 --> 2 // 3 --> 4... 방향"
   ]
  },
  {
   "cell_type": "code",
   "execution_count": 10,
   "metadata": {},
   "outputs": [
    {
     "name": "stdout",
     "output_type": "stream",
     "text": [
      "[[ 6  8]\n",
      " [10 12]]\n",
      "----------------------------------------\n",
      "[[ 4  6]\n",
      " [12 14]]\n",
      "----------------------------------------\n",
      "[[ 3  7]\n",
      " [11 15]]\n"
     ]
    }
   ],
   "source": [
    "c = [ [[1,2],[3,4]] , [[5,6],[7,8]] ]\n",
    "\n",
    "print(np.sum(c, axis = 0))\n",
    "print('--'*20)\n",
    "print(np.sum(c, axis = 1))\n",
    "print('--'*20)\n",
    "print(np.sum(c, axis = 2))\n",
    "\n",
    "# axis 0 = [[ 6 8] [10 12]]    (1과 5, 2와 6.... 이렇게 상위 차원끼리 엮였음)\n",
    "\n",
    "# axis 1 = [[ 4 6] [12 14]]    (1과 3, 2와 4... 이렇게 바로 아래 차원끼리 엮임)\n",
    "\n",
    "# axis 2 = [[ 3 7] [11 15]]    (1과 2, 3과 4.... 가장 낮은 차원끼리 엮임)"
   ]
  }
 ],
 "metadata": {
  "kernelspec": {
   "display_name": "base",
   "language": "python",
   "name": "python3"
  },
  "language_info": {
   "codemirror_mode": {
    "name": "ipython",
    "version": 3
   },
   "file_extension": ".py",
   "mimetype": "text/x-python",
   "name": "python",
   "nbconvert_exporter": "python",
   "pygments_lexer": "ipython3",
   "version": "3.9.12 (main, Apr  4 2022, 05:22:27) [MSC v.1916 64 bit (AMD64)]"
  },
  "orig_nbformat": 4,
  "vscode": {
   "interpreter": {
    "hash": "964f46f3973c3d99dc6929d5bd1748275317def86f082ea2874e0d5a9cf6d261"
   }
  }
 },
 "nbformat": 4,
 "nbformat_minor": 2
}
