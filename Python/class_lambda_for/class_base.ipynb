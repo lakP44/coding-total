{
 "cells": [
  {
   "cell_type": "code",
   "execution_count": 3,
   "metadata": {},
   "outputs": [],
   "source": [
    "class Member: \n",
    "    name = \"\" \n",
    "\n",
    "    def showMsg(self): \n",
    "        print(\"Hello, \" + self.name + \". How are you?\")"
   ]
  },
  {
   "cell_type": "code",
   "execution_count": 5,
   "metadata": {},
   "outputs": [
    {
     "name": "stdout",
     "output_type": "stream",
     "text": [
      "Hello, Taro. How are you?\n",
      "Hello, Hanako. How are you?\n"
     ]
    }
   ],
   "source": [
    "taro = Member() \n",
    "taro.name = \"Taro\" # 클래스 내의 변수 값 지정?\n",
    "taro.showMsg() # 클래스 내의 함수 호출\n",
    "\n",
    "hanako = Member() \n",
    "hanako.name = \"Hanako\"\n",
    "hanako.showMsg()"
   ]
  },
  {
   "cell_type": "markdown",
   "metadata": {},
   "source": [
    "# 여기서부터가 진짜"
   ]
  },
  {
   "cell_type": "code",
   "execution_count": 4,
   "metadata": {},
   "outputs": [
    {
     "name": "stdout",
     "output_type": "stream",
     "text": [
      "Hello,rak.How are you? 3\n"
     ]
    }
   ],
   "source": [
    "class Member: \n",
    "    # name = \"\" \n",
    "    \n",
    "    def __init__(self, str, int): # <-- 생성자, 어떤 값을 인수로 전달받고 싶다면 2번째 인수 이후에 지정함\n",
    "        self.name = str # 첫번째 인수는 무조건 self, str라는 인수를 제공하고 있는 것\n",
    "        self.age = int\n",
    "        \n",
    "    def showMsg(self): \n",
    "        print(\"Hello,\" + self.name + \".How are you?\", str(self.age)) \n",
    "\n",
    "# taro = Member(\"Taro\") \n",
    "taro = Member('rak', 3) \n",
    "taro.showMsg() \n",
    "\n",
    "# hanako = Member(\"Hanako\") \n",
    "# hanako.showMsg()"
   ]
  },
  {
   "cell_type": "code",
   "execution_count": 5,
   "metadata": {},
   "outputs": [
    {
     "name": "stdout",
     "output_type": "stream",
     "text": [
      "Hello,rak.How are you?\n",
      "Hello,you.\n",
      "Your mail address is 'you@asd.com'.\n"
     ]
    }
   ],
   "source": [
    "class Member: \n",
    "    name = \"\" \n",
    "\n",
    "    def __init__(self,str): \n",
    "        self.name = str\n",
    "\n",
    "    def showMsg(self): \n",
    "        print(\"Hello,\" + self.name + \".How are you?\") \n",
    "\n",
    "class PowerMember (Member): # 여기에 name이 없어도 잘 작동하는 이유는 Member class에서 상속받았기 때문\n",
    "    mail = \"\" # 근데 얘가 없어도 작동하는거 같은데....\n",
    "\n",
    "    def __init__(self,str1,str2): \n",
    "        self.name = str1 \n",
    "        self.mail = str2 \n",
    "\n",
    "    def showMsg(self): \n",
    "        print(\"Hello,\" + self.name + \".\") \n",
    "        print(\"Your mail address is '\" + self.mail + \"'.\") \n",
    "\n",
    "\n",
    "taro = Member(\"rak\") \n",
    "taro.showMsg() \n",
    "\n",
    "hanako = PowerMember(\"you\",\"you@asd.com\") \n",
    "hanako.showMsg() "
   ]
  }
 ],
 "metadata": {
  "kernelspec": {
   "display_name": "base",
   "language": "python",
   "name": "python3"
  },
  "language_info": {
   "codemirror_mode": {
    "name": "ipython",
    "version": 3
   },
   "file_extension": ".py",
   "mimetype": "text/x-python",
   "name": "python",
   "nbconvert_exporter": "python",
   "pygments_lexer": "ipython3",
   "version": "3.9.12 (main, Apr  4 2022, 05:22:27) [MSC v.1916 64 bit (AMD64)]"
  },
  "orig_nbformat": 4,
  "vscode": {
   "interpreter": {
    "hash": "964f46f3973c3d99dc6929d5bd1748275317def86f082ea2874e0d5a9cf6d261"
   }
  }
 },
 "nbformat": 4,
 "nbformat_minor": 2
}
