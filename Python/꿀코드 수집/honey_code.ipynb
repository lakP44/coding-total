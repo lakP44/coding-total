{
 "cells": [
  {
   "attachments": {},
   "cell_type": "markdown",
   "metadata": {},
   "source": [
    "# 목차\n",
    "\n",
    "- 1. 변수명 자동화, 변수는 string이 아니기 때문에 global함수를 이용해서 자동으로 만들게 해야한다\n",
    "- 2. 결측치 확인 데이터프레임\n",
    "- 3. 쉼표로 나누고, 공백 제거하고, 중복요소 제거\n",
    "- 4. 폴더 생성 함수\n",
    "- 5. csv파일 저장\n",
    "- 6. txt 파일 읽어오기\n",
    "- 7. 리스트 빈 문자열 제거2\n",
    "- 8. 계단형 상관계수 히트맵 그리기\n",
    "- 9. 시계열 데이터 컬럼 만들어주기\n",
    "- 10. 판다스에서 열, 행 이름 안 잘리고 전부 보이게 하기\n",
    "- 11. glob 사용법\n",
    "- 12. 리스트 요소별 개수 파악"
   ]
  },
  {
   "cell_type": "markdown",
   "metadata": {},
   "source": [
    "# 데이터 불러오기"
   ]
  },
  {
   "cell_type": "code",
   "execution_count": 9,
   "metadata": {},
   "outputs": [],
   "source": [
    "import pandas as pd\n",
    "titanic = pd.read_csv('titanic.csv')"
   ]
  },
  {
   "attachments": {},
   "cell_type": "markdown",
   "metadata": {},
   "source": [
    "### 1. 변수명 자동화, 변수는 string이 아니기 때문에 global함수를 이용해서 자동으로 만들게 해야한다"
   ]
  },
  {
   "cell_type": "code",
   "execution_count": 10,
   "metadata": {},
   "outputs": [
    {
     "name": "stdout",
     "output_type": "stream",
     "text": [
      "0 1 2 3 4\n"
     ]
    }
   ],
   "source": [
    "for i in range(5):\n",
    "    globals()[\"test{}\".format(i)] = i\n",
    "print(test0, test1, test2, test3, test4)"
   ]
  },
  {
   "attachments": {},
   "cell_type": "markdown",
   "metadata": {},
   "source": [
    "### 2. 결측치 확인 데이터프레임"
   ]
  },
  {
   "cell_type": "code",
   "execution_count": 11,
   "metadata": {},
   "outputs": [
    {
     "data": {
      "text/html": [
       "<div>\n",
       "<style scoped>\n",
       "    .dataframe tbody tr th:only-of-type {\n",
       "        vertical-align: middle;\n",
       "    }\n",
       "\n",
       "    .dataframe tbody tr th {\n",
       "        vertical-align: top;\n",
       "    }\n",
       "\n",
       "    .dataframe thead th {\n",
       "        text-align: right;\n",
       "    }\n",
       "</style>\n",
       "<table border=\"1\" class=\"dataframe\">\n",
       "  <thead>\n",
       "    <tr style=\"text-align: right;\">\n",
       "      <th></th>\n",
       "      <th>index_in_train</th>\n",
       "      <th>column_name</th>\n",
       "      <th>NAN_number</th>\n",
       "    </tr>\n",
       "  </thead>\n",
       "  <tbody>\n",
       "    <tr>\n",
       "      <th>0</th>\n",
       "      <td>5</td>\n",
       "      <td>Age</td>\n",
       "      <td>177</td>\n",
       "    </tr>\n",
       "    <tr>\n",
       "      <th>1</th>\n",
       "      <td>10</td>\n",
       "      <td>Cabin</td>\n",
       "      <td>687</td>\n",
       "    </tr>\n",
       "    <tr>\n",
       "      <th>2</th>\n",
       "      <td>11</td>\n",
       "      <td>Embarked</td>\n",
       "      <td>2</td>\n",
       "    </tr>\n",
       "  </tbody>\n",
       "</table>\n",
       "</div>"
      ],
      "text/plain": [
       "   index_in_train column_name  NAN_number\n",
       "0               5         Age         177\n",
       "1              10       Cabin         687\n",
       "2              11    Embarked           2"
      ]
     },
     "metadata": {},
     "output_type": "display_data"
    }
   ],
   "source": [
    "data = titanic\n",
    "\n",
    "train_nan = list(data.isna().sum())\n",
    "num_nan = list(filter(lambda x:x >= 1, train_nan)) # nan값이 1개 이상인 친구만 보여줌\n",
    "\n",
    "index_nan = list(filter(lambda e:train_nan[e] >= 1, range(len(train_nan)))) # 이건 인덱스\n",
    "\n",
    "nan_df = pd.DataFrame({'index_in_train' : index_nan, 'column_name' : data.iloc[:, index_nan].columns, 'NAN_number' : num_nan})\n",
    "display(nan_df)"
   ]
  },
  {
   "attachments": {},
   "cell_type": "markdown",
   "metadata": {},
   "source": [
    "### 3. 쉼표로 나누고, 공백 제거하고, 중복요소 제거"
   ]
  },
  {
   "cell_type": "code",
   "execution_count": 12,
   "metadata": {},
   "outputs": [
    {
     "name": "stdout",
     "output_type": "stream",
     "text": [
      "['테스트1', '테스트2', '테스트3', '테스트4', '테스트5']\n"
     ]
    }
   ],
   "source": [
    "tmp = ['테스트1, 테스  트2', '   테스트2, 테스트3', '테스트3 , 테스트4, 테스트5  ']\n",
    "result = []\n",
    "\n",
    "for i in tmp:\n",
    "    result += (i.split(\",\"))\n",
    "    \n",
    "result2 = []\n",
    "for i in result:\n",
    "    result2.append(i.replace(\" \", \"\"))\n",
    "    \n",
    "result2 = set(result2)\n",
    "result2 = list(result2)\n",
    "len(result2)\n",
    "\n",
    "result2.sort()\n",
    "print(result2)"
   ]
  },
  {
   "attachments": {},
   "cell_type": "markdown",
   "metadata": {},
   "source": [
    "### 4. 폴더 생성 함수"
   ]
  },
  {
   "cell_type": "code",
   "execution_count": 13,
   "metadata": {},
   "outputs": [],
   "source": [
    "def createFolder(directory):\n",
    "    try:\n",
    "        if not os.path.exists(directory):\n",
    "            os.makedirs(directory)\n",
    "    except OSError:\n",
    "        print ('Error: Creating directory. ' +  directory)"
   ]
  },
  {
   "attachments": {},
   "cell_type": "markdown",
   "metadata": {},
   "source": [
    "### 5. csv파일 저장"
   ]
  },
  {
   "cell_type": "code",
   "execution_count": 14,
   "metadata": {},
   "outputs": [],
   "source": [
    "import csv\n",
    "\n",
    "ROOT_PATH = \"folder_for_test//5_csv_test\"\n",
    "\n",
    "createFolder(ROOT_PATH)\n",
    "\n",
    "with open(ROOT_PATH + '//csv_test.csv','w',newline='') as f: # w = 내용을 덮어 씀, r = 파일을 읽기만 함, a = 파일의 마지막에 새로운 내용을 추가함 (기존내용 삭제 X)\n",
    "    writer = csv.writer(f)\n",
    "    writer.writerow(data)"
   ]
  },
  {
   "attachments": {},
   "cell_type": "markdown",
   "metadata": {},
   "source": [
    "### 6. txt 파일 읽어오기"
   ]
  },
  {
   "cell_type": "code",
   "execution_count": 17,
   "metadata": {},
   "outputs": [
    {
     "name": "stdout",
     "output_type": "stream",
     "text": [
      "['우1', '현2', '히3', '히4', '히5', '히6', '히7', '히8']\n"
     ]
    }
   ],
   "source": [
    "txt_test_list = []\n",
    "txt_test_list2 = []\n",
    "\n",
    "ROOT_PATH = \"folder_for_test//6_txt_test\"\n",
    "\n",
    "f = open(ROOT_PATH + '//test.txt', 'r', encoding='UTF8')\n",
    "while True:\n",
    "    line = f.readline() # readline = 한 줄씩 읽어옴, readlines = 모든 각각의 줄을 읽어서 리스트에 넣음, read  = 파일 내용 전체를 문자열로 리턴\n",
    "    txt_test_list.append(line)\n",
    "    if not line: break;\n",
    "f.close()\n",
    "\n",
    "for i in txt_test_list:\n",
    "    txt_test_list2.append(i.strip()) # strip이란 함수가 있음 신기방기\n",
    "    # txt_test_list2.append(i.replace('\\n', '')) # 리스트에서 같이 나온 \\n을 제거\n",
    "    \n",
    "txt_test_list3 = [v for v in txt_test_list2 if v] # 리스트 빈 문자열 제거 ex) ['', '', ''] 이런거\n",
    "print(txt_test_list3)"
   ]
  },
  {
   "attachments": {},
   "cell_type": "markdown",
   "metadata": {},
   "source": [
    "### 7. 리스트 빈 문자열 제거2"
   ]
  },
  {
   "cell_type": "code",
   "execution_count": null,
   "metadata": {},
   "outputs": [
    {
     "data": {
      "text/plain": [
       "['우1', '히2', '히3', '히4', '히5', '히6', '히7', '히8']"
      ]
     },
     "execution_count": 38,
     "metadata": {},
     "output_type": "execute_result"
    }
   ],
   "source": [
    "txt_test_list3_1 = ' '.join(txt_test_list2).split()\n",
    "txt_test_list3_1"
   ]
  },
  {
   "attachments": {},
   "cell_type": "markdown",
   "metadata": {},
   "source": [
    "### 8. 계단형 상관계수 히트맵 그리기"
   ]
  },
  {
   "cell_type": "code",
   "execution_count": null,
   "metadata": {},
   "outputs": [
    {
     "data": {
      "image/png": "[encoded data removed]",
      "text/plain": [
       "<Figure size 1152x1152 with 2 Axes>"
      ]
     },
     "metadata": {
      "needs_background": "light"
     },
     "output_type": "display_data"
    }
   ],
   "source": [
    "# df.drop('date', axis = 1) # 드랍할 컬럼\n",
    "import matplotlib.pyplot as plt\n",
    "import numpy as np\n",
    "import seaborn as sns\n",
    "\n",
    "import warnings\n",
    "warnings.filterwarnings(action='ignore')\n",
    "\n",
    "df = titanic\n",
    "\n",
    "plt.figure(figsize = (16, 16))\n",
    "mask = np.zeros_like(df.corr(), dtype=np.bool) # corr을 다른 것으로 바꾸면 다른 상관계수 그래프를 그릴 수도 있음\n",
    "mask[np.triu_indices_from(mask)] = True\n",
    "sns.heatmap(df.corr(), annot = True, fmt = '.3f', mask = mask, cmap = 'RdYlBu_r',  vmin = -1, vmax = 1)\n",
    "plt.show()"
   ]
  },
  {
   "attachments": {},
   "cell_type": "markdown",
   "metadata": {},
   "source": [
    "### 9. 시계열 데이터 컬럼 만들어주기"
   ]
  },
  {
   "cell_type": "code",
   "execution_count": null,
   "metadata": {},
   "outputs": [
    {
     "data": {
      "text/html": [
       "<div>\n",
       "<style scoped>\n",
       "    .dataframe tbody tr th:only-of-type {\n",
       "        vertical-align: middle;\n",
       "    }\n",
       "\n",
       "    .dataframe tbody tr th {\n",
       "        vertical-align: top;\n",
       "    }\n",
       "\n",
       "    .dataframe thead th {\n",
       "        text-align: right;\n",
       "    }\n",
       "</style>\n",
       "<table border=\"1\" class=\"dataframe\">\n",
       "  <thead>\n",
       "    <tr style=\"text-align: right;\">\n",
       "      <th></th>\n",
       "      <th>집계일자</th>\n",
       "      <th>집계시</th>\n",
       "    </tr>\n",
       "  </thead>\n",
       "  <tbody>\n",
       "    <tr>\n",
       "      <th>0</th>\n",
       "      <td>20210919</td>\n",
       "      <td>8</td>\n",
       "    </tr>\n",
       "    <tr>\n",
       "      <th>1</th>\n",
       "      <td>20210919</td>\n",
       "      <td>9</td>\n",
       "    </tr>\n",
       "    <tr>\n",
       "      <th>2</th>\n",
       "      <td>20210919</td>\n",
       "      <td>10</td>\n",
       "    </tr>\n",
       "    <tr>\n",
       "      <th>3</th>\n",
       "      <td>20210919</td>\n",
       "      <td>11</td>\n",
       "    </tr>\n",
       "    <tr>\n",
       "      <th>4</th>\n",
       "      <td>20210919</td>\n",
       "      <td>12</td>\n",
       "    </tr>\n",
       "    <tr>\n",
       "      <th>5</th>\n",
       "      <td>20210919</td>\n",
       "      <td>13</td>\n",
       "    </tr>\n",
       "  </tbody>\n",
       "</table>\n",
       "</div>"
      ],
      "text/plain": [
       "       집계일자 집계시\n",
       "0  20210919   8\n",
       "1  20210919   9\n",
       "2  20210919  10\n",
       "3  20210919  11\n",
       "4  20210919  12\n",
       "5  20210919  13"
      ]
     },
     "metadata": {},
     "output_type": "display_data"
    },
    {
     "data": {
      "text/plain": [
       "'위의 df가 아래처럼 변함'"
      ]
     },
     "metadata": {},
     "output_type": "display_data"
    },
    {
     "data": {
      "text/html": [
       "<div>\n",
       "<style scoped>\n",
       "    .dataframe tbody tr th:only-of-type {\n",
       "        vertical-align: middle;\n",
       "    }\n",
       "\n",
       "    .dataframe tbody tr th {\n",
       "        vertical-align: top;\n",
       "    }\n",
       "\n",
       "    .dataframe thead th {\n",
       "        text-align: right;\n",
       "    }\n",
       "</style>\n",
       "<table border=\"1\" class=\"dataframe\">\n",
       "  <thead>\n",
       "    <tr style=\"text-align: right;\">\n",
       "      <th></th>\n",
       "      <th>집계일자</th>\n",
       "      <th>집계시</th>\n",
       "    </tr>\n",
       "  </thead>\n",
       "  <tbody>\n",
       "    <tr>\n",
       "      <th>0</th>\n",
       "      <td>2021-09-19 08:00:00</td>\n",
       "      <td>8</td>\n",
       "    </tr>\n",
       "    <tr>\n",
       "      <th>1</th>\n",
       "      <td>2021-09-19 09:00:00</td>\n",
       "      <td>9</td>\n",
       "    </tr>\n",
       "    <tr>\n",
       "      <th>2</th>\n",
       "      <td>2021-09-19 10:00:00</td>\n",
       "      <td>10</td>\n",
       "    </tr>\n",
       "    <tr>\n",
       "      <th>3</th>\n",
       "      <td>2021-09-19 11:00:00</td>\n",
       "      <td>11</td>\n",
       "    </tr>\n",
       "    <tr>\n",
       "      <th>4</th>\n",
       "      <td>2021-09-19 12:00:00</td>\n",
       "      <td>12</td>\n",
       "    </tr>\n",
       "    <tr>\n",
       "      <th>5</th>\n",
       "      <td>2021-09-19 13:00:00</td>\n",
       "      <td>13</td>\n",
       "    </tr>\n",
       "  </tbody>\n",
       "</table>\n",
       "</div>"
      ],
      "text/plain": [
       "                 집계일자 집계시\n",
       "0 2021-09-19 08:00:00   8\n",
       "1 2021-09-19 09:00:00   9\n",
       "2 2021-09-19 10:00:00  10\n",
       "3 2021-09-19 11:00:00  11\n",
       "4 2021-09-19 12:00:00  12\n",
       "5 2021-09-19 13:00:00  13"
      ]
     },
     "metadata": {},
     "output_type": "display_data"
    }
   ],
   "source": [
    "test_data_1 = pd.DataFrame({'집계일자' : ['20210919', '20210919','20210919','20210919','20210919','20210919'], \\\n",
    "                            '집계시' : ['8', '9', '10', '11', '12', '13']})\n",
    "\n",
    "display(test_data_1, \"위의 df가 아래처럼 변함\")\n",
    "\n",
    "all_2017_copy1 = test_data_1.copy()\n",
    "\n",
    "for i in range(all_2017_copy1['집계일자'].shape[0]):\n",
    "    result1 = str(all_2017_copy1['집계일자'][i])[:4]\n",
    "    result2 = result1 + '-'\n",
    "    result3 = result2 + str(all_2017_copy1['집계일자'][i])[4:6]\n",
    "    result4 = result3 + '-'\n",
    "    result5 = result4 + str(all_2017_copy1['집계일자'][i])[-2:]\n",
    "    all_2017_copy1.loc[i, '집계일자'] = result5\n",
    "a = []\n",
    "for n in range(all_2017_copy1['집계시'].shape[0]):\n",
    "    \n",
    "    result1 = int(all_2017_copy1['집계시'][n])\n",
    "    if result1 < 10:\n",
    "        result2 = ' 0' + str(result1) + ':00:00'\n",
    "    else:\n",
    "        result2 = ' ' + str(result1) + ':00:00'\n",
    "    alll = all_2017_copy1.loc[n, '집계일자'] + result2\n",
    "    all_2017_copy1.iloc[n, 0] = alll\n",
    "\n",
    "all_2017_copy1['집계일자'] = pd.to_datetime(all_2017_copy1['집계일자'])\n",
    "\n",
    "test_data_finish = all_2017_copy1.copy()\n",
    "\n",
    "display(test_data_finish) #  all_2017_copy1.info())\n",
    "# all_2017_copy1.to_csv('all_2021_date.csv')"
   ]
  },
  {
   "attachments": {},
   "cell_type": "markdown",
   "metadata": {},
   "source": [
    "### 10. 판다스에서 열, 행 이름 안 잘리고 전부 보이게 하기"
   ]
  },
  {
   "cell_type": "code",
   "execution_count": null,
   "metadata": {},
   "outputs": [],
   "source": [
    "pd.set_option('display.max_columns', 10)\n",
    "pd.set_option('display.max_rows', 10)"
   ]
  },
  {
   "cell_type": "markdown",
   "metadata": {},
   "source": [
    "### 11. glob 사용법"
   ]
  },
  {
   "cell_type": "code",
   "execution_count": null,
   "metadata": {},
   "outputs": [
    {
     "data": {
      "text/plain": [
       "['folder_for_test\\\\6_txt_test\\\\test.txt',\n",
       " 'folder_for_test\\\\6_txt_test\\\\test2.txt']"
      ]
     },
     "execution_count": 58,
     "metadata": {},
     "output_type": "execute_result"
    }
   ],
   "source": [
    "import glob\n",
    "\n",
    "output = glob.glob('folder_for_test\\\\6_txt_test\\\\*.txt')\n",
    "output"
   ]
  },
  {
   "cell_type": "markdown",
   "metadata": {},
   "source": [
    "### 12. 리스트 요소별 개수 파악"
   ]
  },
  {
   "cell_type": "code",
   "execution_count": null,
   "metadata": {},
   "outputs": [
    {
     "name": "stdout",
     "output_type": "stream",
     "text": [
      "{1: 1, 2: 1, 3: 2} {'t': 2, 'e': 1, 's': 1, '1': 1}\n"
     ]
    }
   ],
   "source": [
    "def countelem(word): # from collections import Counter -->  Counter([1, 2, 3, 3])을 사용해도 됨\n",
    "    counter = {}\n",
    "    for letter in word:\n",
    "        if letter not in counter:\n",
    "            counter[letter] = 0\n",
    "        counter[letter] += 1\n",
    "    return counter\n",
    "\n",
    "print(countelem([1, 2, 3, 3]), countelem('test1'))"
   ]
  },
  {
   "cell_type": "code",
   "execution_count": null,
   "metadata": {},
   "outputs": [
    {
     "name": "stdout",
     "output_type": "stream",
     "text": [
      "('l', 3) (3, 2)\n"
     ]
    }
   ],
   "source": [
    "def find_max(word):\n",
    "    counter = countelem(word) # 여기서 위의 함수가 들어감\n",
    "    max_count = -1\n",
    "    for letter in counter:\n",
    "        if counter[letter] > max_count:\n",
    "            max_count = counter[letter]\n",
    "            max_letter = letter\n",
    "    return max_letter, max_count\n",
    "\n",
    "print(find_max('hello world'), find_max([1, 2, 3, 3]))"
   ]
  },
  {
   "cell_type": "code",
   "execution_count": null,
   "metadata": {},
   "outputs": [],
   "source": []
  },
  {
   "cell_type": "code",
   "execution_count": null,
   "metadata": {},
   "outputs": [],
   "source": []
  },
  {
   "cell_type": "code",
   "execution_count": null,
   "metadata": {},
   "outputs": [],
   "source": []
  }
 ],
 "metadata": {
  "kernelspec": {
   "display_name": "Python 3",
   "language": "python",
   "name": "python3"
  },
  "language_info": {
   "codemirror_mode": {
    "name": "ipython",
    "version": 3
   },
   "file_extension": ".py",
   "mimetype": "text/x-python",
   "name": "python",
   "nbconvert_exporter": "python",
   "pygments_lexer": "ipython3",
   "version": "3.9.13"
  },
  "orig_nbformat": 4,
  "vscode": {
   "interpreter": {
    "hash": "cf92aa13fedf815d5c8dd192b8d835913fde3e8bc926b2a0ad6cc74ef2ba3ca2"
   }
  }
 },
 "nbformat": 4,
 "nbformat_minor": 2
}
