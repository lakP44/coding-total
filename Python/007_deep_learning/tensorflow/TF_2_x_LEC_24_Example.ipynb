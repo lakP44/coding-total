{
  "nbformat": 4,
  "nbformat_minor": 0,
  "metadata": {
    "colab": {
      "name": "TF_2.x_LEC_FunctionalAPI_Example_1.ipynb",
      "provenance": [],
      "collapsed_sections": []
    },
    "kernelspec": {
      "name": "python3",
      "display_name": "Python 3"
    },
    "language_info": {
      "name": "python"
    },
    "accelerator": "GPU"
  },
  "cells": [
    {
      "cell_type": "markdown",
      "metadata": {
        "id": "qqJzgApFW7qg"
      },
      "source": [
        "Sequential API 모델 예시"
      ]
    },
    {
      "cell_type": "code",
      "metadata": {
        "colab": {
          "base_uri": "https://localhost:8080/"
        },
        "id": "UEjkv_eg_5SG",
        "outputId": "e9fc6d9b-740d-453e-d82c-7f66585a2cb2"
      },
      "source": [
        "import tensorflow as tf\n",
        "\n",
        "from tensorflow.keras.models import Sequential\n",
        "from tensorflow.keras.layers import Dense\n",
        "\n",
        "model = Sequential()\n",
        "\n",
        "model.add(Dense(8, activation='relu', input_shape=(4,)))\n",
        "model.add(Dense(16, activation='relu'))\n",
        "model.add(Dense(32, activation='relu'))\n",
        "\n",
        "model.add(Dense(10, activation='softmax'))\n",
        "\n",
        "model.summary()"
      ],
      "execution_count": 1,
      "outputs": [
        {
          "output_type": "stream",
          "text": [
            "Model: \"sequential\"\n",
            "_________________________________________________________________\n",
            "Layer (type)                 Output Shape              Param #   \n",
            "=================================================================\n",
            "dense (Dense)                (None, 8)                 40        \n",
            "_________________________________________________________________\n",
            "dense_1 (Dense)              (None, 16)                144       \n",
            "_________________________________________________________________\n",
            "dense_2 (Dense)              (None, 32)                544       \n",
            "_________________________________________________________________\n",
            "dense_3 (Dense)              (None, 10)                330       \n",
            "=================================================================\n",
            "Total params: 1,058\n",
            "Trainable params: 1,058\n",
            "Non-trainable params: 0\n",
            "_________________________________________________________________\n"
          ],
          "name": "stdout"
        }
      ]
    },
    {
      "cell_type": "markdown",
      "metadata": {
        "id": "N54FnfN_XAf7"
      },
      "source": [
        "Functional API 모델 예시"
      ]
    },
    {
      "cell_type": "code",
      "metadata": {
        "colab": {
          "base_uri": "https://localhost:8080/"
        },
        "id": "QhlB8hNnAJX0",
        "outputId": "63d36549-54e1-4551-9753-c3ddc05ee141"
      },
      "source": [
        "import tensorflow as tf\n",
        "\n",
        "from tensorflow.keras.layers import Input, Dense\n",
        "from tensorflow.keras.models import Model\n",
        "\n",
        "input_ = Input(shape=(4,))\n",
        "\n",
        "x = Dense(8, activation='relu')(input_)\n",
        "x = Dense(16, activation='relu')(x)\n",
        "x = Dense(32, activation='relu')(x)\n",
        "\n",
        "output_ = Dense(10, activation='softmax')(x)\n",
        "\n",
        "model = Model(inputs=input_,  outputs=output_)\n",
        "\n",
        "model.summary()"
      ],
      "execution_count": 2,
      "outputs": [
        {
          "output_type": "stream",
          "text": [
            "Model: \"model\"\n",
            "_________________________________________________________________\n",
            "Layer (type)                 Output Shape              Param #   \n",
            "=================================================================\n",
            "input_1 (InputLayer)         [(None, 4)]               0         \n",
            "_________________________________________________________________\n",
            "dense_4 (Dense)              (None, 8)                 40        \n",
            "_________________________________________________________________\n",
            "dense_5 (Dense)              (None, 16)                144       \n",
            "_________________________________________________________________\n",
            "dense_6 (Dense)              (None, 32)                544       \n",
            "_________________________________________________________________\n",
            "dense_7 (Dense)              (None, 10)                330       \n",
            "=================================================================\n",
            "Total params: 1,058\n",
            "Trainable params: 1,058\n",
            "Non-trainable params: 0\n",
            "_________________________________________________________________\n"
          ],
          "name": "stdout"
        }
      ]
    },
    {
      "cell_type": "markdown",
      "metadata": {
        "id": "ZCUqA4nhXDVV"
      },
      "source": [
        "다중입력에 대한 Functional API 예시"
      ]
    },
    {
      "cell_type": "code",
      "metadata": {
        "colab": {
          "base_uri": "https://localhost:8080/"
        },
        "id": "i6xg55f6C9Lb",
        "outputId": "d72f251a-0105-4ee1-d051-8c37cd47d8ce"
      },
      "source": [
        "from tensorflow.keras.layers import Input, Dense, concatenate\n",
        "from tensorflow.keras.models import Model\n",
        "\n",
        "# 입력층 1 에 대한 신경망\n",
        "input_1 = Input(shape=(4,))    \n",
        "\n",
        "hidden_1 = Dense(8, activation='relu')(input_1)\n",
        "hidden_2 = Dense(16, activation='relu')(hidden_1)\n",
        "\n",
        "output_1 = Model(inputs=input_1,  outputs=hidden_2)\n",
        "\n",
        "# 입력층 2 에 대한 신경망\n",
        "input_2 = Input(shape=(8,))    \n",
        "\n",
        "hidden_3 = Dense(8, activation='relu')(input_2)\n",
        "\n",
        "output_2 = Model(inputs=input_2,  outputs=hidden_3)\n",
        "\n",
        "# 층 연결\n",
        "result = concatenate([output_1.output, output_2.output])\n",
        "\n",
        "# 출력층 정의\n",
        "output_ = Dense(10, activation='softmax')(result)\n",
        "\n",
        "# 최종 모델 구축\n",
        "model = Model(inputs=[output_1.input, output_2.input],  outputs=output_)\n",
        "\n",
        "model.summary()"
      ],
      "execution_count": 3,
      "outputs": [
        {
          "output_type": "stream",
          "text": [
            "Model: \"model_3\"\n",
            "__________________________________________________________________________________________________\n",
            "Layer (type)                    Output Shape         Param #     Connected to                     \n",
            "==================================================================================================\n",
            "input_2 (InputLayer)            [(None, 4)]          0                                            \n",
            "__________________________________________________________________________________________________\n",
            "dense_8 (Dense)                 (None, 8)            40          input_2[0][0]                    \n",
            "__________________________________________________________________________________________________\n",
            "input_3 (InputLayer)            [(None, 8)]          0                                            \n",
            "__________________________________________________________________________________________________\n",
            "dense_9 (Dense)                 (None, 16)           144         dense_8[0][0]                    \n",
            "__________________________________________________________________________________________________\n",
            "dense_10 (Dense)                (None, 8)            72          input_3[0][0]                    \n",
            "__________________________________________________________________________________________________\n",
            "concatenate (Concatenate)       (None, 24)           0           dense_9[0][0]                    \n",
            "                                                                 dense_10[0][0]                   \n",
            "__________________________________________________________________________________________________\n",
            "dense_11 (Dense)                (None, 10)           250         concatenate[0][0]                \n",
            "==================================================================================================\n",
            "Total params: 506\n",
            "Trainable params: 506\n",
            "Non-trainable params: 0\n",
            "__________________________________________________________________________________________________\n"
          ],
          "name": "stdout"
        }
      ]
    },
    {
      "cell_type": "markdown",
      "metadata": {
        "id": "Es0t-9nBXG19"
      },
      "source": [
        "Functional API CNN Example - MNIST datasets"
      ]
    },
    {
      "cell_type": "code",
      "metadata": {
        "colab": {
          "base_uri": "https://localhost:8080/"
        },
        "id": "PAvgeaHJLTmb",
        "outputId": "9e10c2c6-2117-464a-f639-77e67106fdce"
      },
      "source": [
        "import tensorflow as tf\n",
        "from tensorflow.keras.datasets import mnist\n",
        "from tensorflow.keras.layers import Input, Conv2D, MaxPool2D\n",
        "from tensorflow.keras.layers import Flatten, Dense, Dropout\n",
        "from tensorflow.keras.models import Model\n",
        "\n",
        "(x_train, y_train),(x_test, y_test) = mnist.load_data()\n",
        "\n",
        "x_train=x_train.reshape(-1, 28, 28, 1)\n",
        "x_test=x_test.reshape(-1, 28, 28, 1)\n",
        "\n",
        "print(x_train.shape, x_test.shape)\n",
        "print(y_train.shape, y_test.shape)\n",
        "\n",
        "x_train = x_train / 255.0\n",
        "x_test = x_test / 255.0"
      ],
      "execution_count": 4,
      "outputs": [
        {
          "output_type": "stream",
          "text": [
            "Downloading data from https://storage.googleapis.com/tensorflow/tf-keras-datasets/mnist.npz\n",
            "11493376/11490434 [==============================] - 0s 0us/step\n",
            "(60000, 28, 28, 1) (10000, 28, 28, 1)\n",
            "(60000,) (10000,)\n"
          ],
          "name": "stdout"
        }
      ]
    },
    {
      "cell_type": "markdown",
      "metadata": {
        "id": "IBFQVO1RYI9r"
      },
      "source": [
        "Functional API 방식으로 Model 구축"
      ]
    },
    {
      "cell_type": "code",
      "metadata": {
        "id": "4di8yX2HX7tf"
      },
      "source": [
        "input_ = Input(shape=(28,28,1))\n",
        "\n",
        "x = Conv2D(32, 3, activation='relu')(input_)\n",
        "x = Conv2D(64, 3, activation='relu')(x)\n",
        "x = MaxPool2D(pool_size=(2,2))(x)\n",
        "x = Dropout(0.25)(x)\n",
        "\n",
        "x = Flatten()(x)\n",
        "\n",
        "x = Dense(128, activation='relu')(x)\n",
        "x = Dropout(0.5)(x)\n",
        "\n",
        "output_ = Dense(10, activation='softmax')(x)\n",
        "\n",
        "cnn = Model(inputs=input_,  outputs=output_)"
      ],
      "execution_count": 7,
      "outputs": []
    },
    {
      "cell_type": "code",
      "metadata": {
        "colab": {
          "base_uri": "https://localhost:8080/"
        },
        "id": "n3a16gPYX-AM",
        "outputId": "14c3bf0d-0337-48a2-d131-4174b9129159"
      },
      "source": [
        "cnn.compile(loss='sparse_categorical_crossentropy',\n",
        "            optimizer=tf.keras.optimizers.Adam(), metrics=['accuracy'])\n",
        "\n",
        "cnn.summary()"
      ],
      "execution_count": 8,
      "outputs": [
        {
          "output_type": "stream",
          "text": [
            "Model: \"model_5\"\n",
            "_________________________________________________________________\n",
            "Layer (type)                 Output Shape              Param #   \n",
            "=================================================================\n",
            "input_5 (InputLayer)         [(None, 28, 28, 1)]       0         \n",
            "_________________________________________________________________\n",
            "conv2d_2 (Conv2D)            (None, 26, 26, 32)        320       \n",
            "_________________________________________________________________\n",
            "conv2d_3 (Conv2D)            (None, 24, 24, 64)        18496     \n",
            "_________________________________________________________________\n",
            "max_pooling2d_1 (MaxPooling2 (None, 12, 12, 64)        0         \n",
            "_________________________________________________________________\n",
            "dropout_2 (Dropout)          (None, 12, 12, 64)        0         \n",
            "_________________________________________________________________\n",
            "flatten_1 (Flatten)          (None, 9216)              0         \n",
            "_________________________________________________________________\n",
            "dense_14 (Dense)             (None, 128)               1179776   \n",
            "_________________________________________________________________\n",
            "dropout_3 (Dropout)          (None, 128)               0         \n",
            "_________________________________________________________________\n",
            "dense_15 (Dense)             (None, 10)                1290      \n",
            "=================================================================\n",
            "Total params: 1,199,882\n",
            "Trainable params: 1,199,882\n",
            "Non-trainable params: 0\n",
            "_________________________________________________________________\n"
          ],
          "name": "stdout"
        }
      ]
    },
    {
      "cell_type": "code",
      "metadata": {
        "colab": {
          "base_uri": "https://localhost:8080/"
        },
        "id": "q-L3plG0aZ6s",
        "outputId": "97019bb8-39f0-41ea-8623-297f5f50509e"
      },
      "source": [
        "hist = cnn.fit(x_train, y_train, batch_size=128, \n",
        "               epochs=30, validation_data=(x_test, y_test))"
      ],
      "execution_count": 9,
      "outputs": [
        {
          "output_type": "stream",
          "text": [
            "Epoch 1/30\n",
            "469/469 [==============================] - 35s 9ms/step - loss: 0.2463 - accuracy: 0.9254 - val_loss: 0.0567 - val_accuracy: 0.9811\n",
            "Epoch 2/30\n",
            "469/469 [==============================] - 4s 8ms/step - loss: 0.0886 - accuracy: 0.9734 - val_loss: 0.0377 - val_accuracy: 0.9874\n",
            "Epoch 3/30\n",
            "469/469 [==============================] - 4s 8ms/step - loss: 0.0647 - accuracy: 0.9801 - val_loss: 0.0311 - val_accuracy: 0.9881\n",
            "Epoch 4/30\n",
            "469/469 [==============================] - 4s 8ms/step - loss: 0.0556 - accuracy: 0.9830 - val_loss: 0.0329 - val_accuracy: 0.9890\n",
            "Epoch 5/30\n",
            "469/469 [==============================] - 4s 8ms/step - loss: 0.0442 - accuracy: 0.9861 - val_loss: 0.0309 - val_accuracy: 0.9897\n",
            "Epoch 6/30\n",
            "469/469 [==============================] - 4s 8ms/step - loss: 0.0379 - accuracy: 0.9885 - val_loss: 0.0278 - val_accuracy: 0.9911\n",
            "Epoch 7/30\n",
            "469/469 [==============================] - 4s 8ms/step - loss: 0.0372 - accuracy: 0.9888 - val_loss: 0.0275 - val_accuracy: 0.9914\n",
            "Epoch 8/30\n",
            "469/469 [==============================] - 4s 8ms/step - loss: 0.0302 - accuracy: 0.9903 - val_loss: 0.0304 - val_accuracy: 0.9908\n",
            "Epoch 9/30\n",
            "469/469 [==============================] - 4s 8ms/step - loss: 0.0292 - accuracy: 0.9904 - val_loss: 0.0279 - val_accuracy: 0.9917\n",
            "Epoch 10/30\n",
            "469/469 [==============================] - 4s 8ms/step - loss: 0.0269 - accuracy: 0.9911 - val_loss: 0.0259 - val_accuracy: 0.9917\n",
            "Epoch 11/30\n",
            "469/469 [==============================] - 4s 8ms/step - loss: 0.0242 - accuracy: 0.9922 - val_loss: 0.0269 - val_accuracy: 0.9915\n",
            "Epoch 12/30\n",
            "469/469 [==============================] - 4s 8ms/step - loss: 0.0217 - accuracy: 0.9926 - val_loss: 0.0283 - val_accuracy: 0.9922\n",
            "Epoch 13/30\n",
            "469/469 [==============================] - 4s 8ms/step - loss: 0.0208 - accuracy: 0.9930 - val_loss: 0.0262 - val_accuracy: 0.9923\n",
            "Epoch 14/30\n",
            "469/469 [==============================] - 4s 8ms/step - loss: 0.0199 - accuracy: 0.9933 - val_loss: 0.0238 - val_accuracy: 0.9924\n",
            "Epoch 15/30\n",
            "469/469 [==============================] - 4s 8ms/step - loss: 0.0194 - accuracy: 0.9936 - val_loss: 0.0268 - val_accuracy: 0.9927\n",
            "Epoch 16/30\n",
            "469/469 [==============================] - 4s 8ms/step - loss: 0.0198 - accuracy: 0.9933 - val_loss: 0.0213 - val_accuracy: 0.9940\n",
            "Epoch 17/30\n",
            "469/469 [==============================] - 4s 8ms/step - loss: 0.0171 - accuracy: 0.9943 - val_loss: 0.0243 - val_accuracy: 0.9926\n",
            "Epoch 18/30\n",
            "469/469 [==============================] - 4s 8ms/step - loss: 0.0146 - accuracy: 0.9953 - val_loss: 0.0248 - val_accuracy: 0.9930\n",
            "Epoch 19/30\n",
            "469/469 [==============================] - 4s 8ms/step - loss: 0.0148 - accuracy: 0.9947 - val_loss: 0.0254 - val_accuracy: 0.9932\n",
            "Epoch 20/30\n",
            "469/469 [==============================] - 4s 8ms/step - loss: 0.0151 - accuracy: 0.9949 - val_loss: 0.0274 - val_accuracy: 0.9933\n",
            "Epoch 21/30\n",
            "469/469 [==============================] - 4s 8ms/step - loss: 0.0124 - accuracy: 0.9957 - val_loss: 0.0286 - val_accuracy: 0.9932\n",
            "Epoch 22/30\n",
            "469/469 [==============================] - 4s 8ms/step - loss: 0.0142 - accuracy: 0.9953 - val_loss: 0.0250 - val_accuracy: 0.9937\n",
            "Epoch 23/30\n",
            "469/469 [==============================] - 4s 8ms/step - loss: 0.0130 - accuracy: 0.9956 - val_loss: 0.0265 - val_accuracy: 0.9929\n",
            "Epoch 24/30\n",
            "469/469 [==============================] - 4s 8ms/step - loss: 0.0129 - accuracy: 0.9955 - val_loss: 0.0290 - val_accuracy: 0.9931\n",
            "Epoch 25/30\n",
            "469/469 [==============================] - 4s 8ms/step - loss: 0.0111 - accuracy: 0.9963 - val_loss: 0.0284 - val_accuracy: 0.9927\n",
            "Epoch 26/30\n",
            "469/469 [==============================] - 4s 8ms/step - loss: 0.0097 - accuracy: 0.9966 - val_loss: 0.0303 - val_accuracy: 0.9936\n",
            "Epoch 27/30\n",
            "469/469 [==============================] - 4s 8ms/step - loss: 0.0108 - accuracy: 0.9965 - val_loss: 0.0284 - val_accuracy: 0.9928\n",
            "Epoch 28/30\n",
            "469/469 [==============================] - 4s 8ms/step - loss: 0.0118 - accuracy: 0.9959 - val_loss: 0.0288 - val_accuracy: 0.9926\n",
            "Epoch 29/30\n",
            "469/469 [==============================] - 4s 8ms/step - loss: 0.0117 - accuracy: 0.9956 - val_loss: 0.0306 - val_accuracy: 0.9924\n",
            "Epoch 30/30\n",
            "469/469 [==============================] - 4s 8ms/step - loss: 0.0113 - accuracy: 0.9963 - val_loss: 0.0278 - val_accuracy: 0.9932\n"
          ],
          "name": "stdout"
        }
      ]
    },
    {
      "cell_type": "code",
      "metadata": {
        "colab": {
          "base_uri": "https://localhost:8080/"
        },
        "id": "nFdrvigVamLS",
        "outputId": "daa0ab06-3ece-45ce-c51e-f0d888f6406a"
      },
      "source": [
        "cnn.evaluate(x_test, y_test)"
      ],
      "execution_count": 10,
      "outputs": [
        {
          "output_type": "stream",
          "text": [
            "313/313 [==============================] - 1s 2ms/step - loss: 0.0278 - accuracy: 0.9932\n"
          ],
          "name": "stdout"
        },
        {
          "output_type": "execute_result",
          "data": {
            "text/plain": [
              "[0.02779889479279518, 0.9932000041007996]"
            ]
          },
          "metadata": {
            "tags": []
          },
          "execution_count": 10
        }
      ]
    },
    {
      "cell_type": "code",
      "metadata": {
        "colab": {
          "base_uri": "https://localhost:8080/",
          "height": 295
        },
        "id": "ZO9ekRAzbaOk",
        "outputId": "f06c3dde-2bd8-49c7-e90d-9f6d1aeb1c93"
      },
      "source": [
        "import matplotlib.pyplot as plt\n",
        "\n",
        "plt.plot(hist.history['accuracy'])\n",
        "plt.plot(hist.history['val_accuracy'])\n",
        "plt.title('Accuracy Trend')\n",
        "plt.ylabel('accuracy')\n",
        "plt.xlabel('epoch')\n",
        "plt.legend(['train','validation'], loc='best')\n",
        "plt.grid()\n",
        "plt.show()"
      ],
      "execution_count": 12,
      "outputs": [
        {
          "output_type": "display_data",
          "data": {
            "image/png": "[encoded data removed]",
            "text/plain": [
              "<Figure size 432x288 with 1 Axes>"
            ]
          },
          "metadata": {
            "tags": [],
            "needs_background": "light"
          }
        }
      ]
    },
    {
      "cell_type": "code",
      "metadata": {
        "colab": {
          "base_uri": "https://localhost:8080/",
          "height": 295
        },
        "id": "l_y2q938bcj2",
        "outputId": "2d4a867c-310d-4b9b-fdc6-08c183de06f0"
      },
      "source": [
        "plt.plot(hist.history['loss'])\n",
        "plt.plot(hist.history['val_loss'])\n",
        "plt.title('Loss Trend')\n",
        "plt.ylabel('loss')\n",
        "plt.xlabel('epoch')\n",
        "plt.legend(['train','validation'], loc='best')\n",
        "plt.grid()\n",
        "plt.show()"
      ],
      "execution_count": 13,
      "outputs": [
        {
          "output_type": "display_data",
          "data": {
            "image/png": "[encoded data removed]",
            "text/plain": [
              "<Figure size 432x288 with 1 Axes>"
            ]
          },
          "metadata": {
            "tags": [],
            "needs_background": "light"
          }
        }
      ]
    },
    {
      "cell_type": "code",
      "metadata": {
        "id": "qCCu78LFbnbm"
      },
      "source": [
        ""
      ],
      "execution_count": null,
      "outputs": []
    }
  ]
}