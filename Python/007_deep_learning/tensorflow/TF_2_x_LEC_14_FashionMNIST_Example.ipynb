{
  "nbformat": 4,
  "nbformat_minor": 0,
  "metadata": {
    "colab": {
      "name": "TF_2.x_LEC_14_FashionMNIST_Example.ipynb",
      "provenance": [],
      "collapsed_sections": []
    },
    "kernelspec": {
      "name": "python3",
      "display_name": "Python 3"
    },
    "accelerator": "GPU"
  },
  "cells": [
    {
      "cell_type": "code",
      "metadata": {
        "id": "nWhPUUnPveS3"
      },
      "source": [
        "import numpy as np\r\n",
        "import tensorflow as tf\r\n",
        "from tensorflow.keras.datasets import fashion_mnist\r\n",
        "from tensorflow.keras.models import Sequential\r\n",
        "from tensorflow.keras.layers import Conv2D, MaxPool2D, Flatten, Dense, Dropout"
      ],
      "execution_count": 1,
      "outputs": []
    },
    {
      "cell_type": "code",
      "metadata": {
        "colab": {
          "base_uri": "https://localhost:8080/"
        },
        "id": "Q4Xh-9FkvsKE",
        "outputId": "635a50f0-ada3-4ccc-f75a-d78426c28aea"
      },
      "source": [
        "(x_train, y_train),(x_test, y_test) = fashion_mnist.load_data()\r\n",
        "\r\n",
        "x_train=x_train.reshape(-1, 28, 28, 1)\r\n",
        "x_test=x_test.reshape(-1, 28, 28, 1)\r\n",
        "\r\n",
        "print(x_train.shape, x_test.shape)\r\n",
        "print(y_train.shape, y_test.shape)\r\n",
        "\r\n",
        "x_train = x_train.astype(np.float32) / 255.0\r\n",
        "x_test = x_test.astype(np.float32) / 255.0"
      ],
      "execution_count": 2,
      "outputs": [
        {
          "output_type": "stream",
          "text": [
            "Downloading data from https://storage.googleapis.com/tensorflow/tf-keras-datasets/train-labels-idx1-ubyte.gz\n",
            "32768/29515 [=================================] - 0s 0us/step\n",
            "Downloading data from https://storage.googleapis.com/tensorflow/tf-keras-datasets/train-images-idx3-ubyte.gz\n",
            "26427392/26421880 [==============================] - 0s 0us/step\n",
            "Downloading data from https://storage.googleapis.com/tensorflow/tf-keras-datasets/t10k-labels-idx1-ubyte.gz\n",
            "8192/5148 [===============================================] - 0s 0us/step\n",
            "Downloading data from https://storage.googleapis.com/tensorflow/tf-keras-datasets/t10k-images-idx3-ubyte.gz\n",
            "4423680/4422102 [==============================] - 0s 0us/step\n",
            "(60000, 28, 28, 1) (10000, 28, 28, 1)\n",
            "(60000,) (10000,)\n"
          ],
          "name": "stdout"
        }
      ]
    },
    {
      "cell_type": "code",
      "metadata": {
        "id": "ISOTB0okwnAc"
      },
      "source": [
        "cnn = Sequential()\r\n",
        "\r\n",
        "cnn.add(Conv2D(input_shape=(28,28,1), kernel_size=(3,3),\r\n",
        "               filters=32, activation='relu'))\r\n",
        "cnn.add(Conv2D(kernel_size=(3,3), filters=64, activation='relu'))\r\n",
        "cnn.add(MaxPool2D(pool_size=(2,2)))\r\n",
        "cnn.add(Dropout(0.25))\r\n",
        "\r\n",
        "cnn.add(Flatten())\r\n",
        "\r\n",
        "cnn.add(Dense(128, activation='relu'))\r\n",
        "cnn.add(Dropout(0.5))\r\n",
        "cnn.add(Dense(10, activation='softmax'))"
      ],
      "execution_count": 3,
      "outputs": []
    },
    {
      "cell_type": "code",
      "metadata": {
        "colab": {
          "base_uri": "https://localhost:8080/"
        },
        "id": "ndPGvLsXx0XF",
        "outputId": "f1958ab0-a770-42fe-d801-dcaf8b2870dd"
      },
      "source": [
        "cnn.compile(loss='sparse_categorical_crossentropy',\r\n",
        "            optimizer=tf.keras.optimizers.Adam(), metrics=['accuracy'])\r\n",
        "\r\n",
        "cnn.summary()"
      ],
      "execution_count": 4,
      "outputs": [
        {
          "output_type": "stream",
          "text": [
            "Model: \"sequential\"\n",
            "_________________________________________________________________\n",
            "Layer (type)                 Output Shape              Param #   \n",
            "=================================================================\n",
            "conv2d (Conv2D)              (None, 26, 26, 32)        320       \n",
            "_________________________________________________________________\n",
            "conv2d_1 (Conv2D)            (None, 24, 24, 64)        18496     \n",
            "_________________________________________________________________\n",
            "max_pooling2d (MaxPooling2D) (None, 12, 12, 64)        0         \n",
            "_________________________________________________________________\n",
            "dropout (Dropout)            (None, 12, 12, 64)        0         \n",
            "_________________________________________________________________\n",
            "flatten (Flatten)            (None, 9216)              0         \n",
            "_________________________________________________________________\n",
            "dense (Dense)                (None, 128)               1179776   \n",
            "_________________________________________________________________\n",
            "dropout_1 (Dropout)          (None, 128)               0         \n",
            "_________________________________________________________________\n",
            "dense_1 (Dense)              (None, 10)                1290      \n",
            "=================================================================\n",
            "Total params: 1,199,882\n",
            "Trainable params: 1,199,882\n",
            "Non-trainable params: 0\n",
            "_________________________________________________________________\n"
          ],
          "name": "stdout"
        }
      ]
    },
    {
      "cell_type": "code",
      "metadata": {
        "colab": {
          "base_uri": "https://localhost:8080/"
        },
        "id": "Rsq5HiT5yEA_",
        "outputId": "1e542615-cdb6-4867-97f1-7b9e33671efc"
      },
      "source": [
        "hist = cnn.fit(x_train, y_train, batch_size=128, \r\n",
        "               epochs=30, validation_data=(x_test, y_test))"
      ],
      "execution_count": 5,
      "outputs": [
        {
          "output_type": "stream",
          "text": [
            "Epoch 1/30\n",
            "469/469 [==============================] - 37s 9ms/step - loss: 0.7337 - accuracy: 0.7423 - val_loss: 0.3386 - val_accuracy: 0.8776\n",
            "Epoch 2/30\n",
            "469/469 [==============================] - 4s 8ms/step - loss: 0.3590 - accuracy: 0.8736 - val_loss: 0.2859 - val_accuracy: 0.8972\n",
            "Epoch 3/30\n",
            "469/469 [==============================] - 4s 8ms/step - loss: 0.2989 - accuracy: 0.8913 - val_loss: 0.2662 - val_accuracy: 0.9021\n",
            "Epoch 4/30\n",
            "469/469 [==============================] - 4s 8ms/step - loss: 0.2659 - accuracy: 0.9044 - val_loss: 0.2424 - val_accuracy: 0.9110\n",
            "Epoch 5/30\n",
            "469/469 [==============================] - 4s 8ms/step - loss: 0.2369 - accuracy: 0.9112 - val_loss: 0.2347 - val_accuracy: 0.9140\n",
            "Epoch 6/30\n",
            "469/469 [==============================] - 4s 8ms/step - loss: 0.2208 - accuracy: 0.9189 - val_loss: 0.2188 - val_accuracy: 0.9182\n",
            "Epoch 7/30\n",
            "469/469 [==============================] - 4s 8ms/step - loss: 0.2018 - accuracy: 0.9255 - val_loss: 0.2175 - val_accuracy: 0.9211\n",
            "Epoch 8/30\n",
            "469/469 [==============================] - 4s 8ms/step - loss: 0.1869 - accuracy: 0.9291 - val_loss: 0.2102 - val_accuracy: 0.9244\n",
            "Epoch 9/30\n",
            "469/469 [==============================] - 4s 8ms/step - loss: 0.1733 - accuracy: 0.9355 - val_loss: 0.2195 - val_accuracy: 0.9220\n",
            "Epoch 10/30\n",
            "469/469 [==============================] - 4s 8ms/step - loss: 0.1630 - accuracy: 0.9389 - val_loss: 0.2091 - val_accuracy: 0.9292\n",
            "Epoch 11/30\n",
            "469/469 [==============================] - 4s 8ms/step - loss: 0.1532 - accuracy: 0.9428 - val_loss: 0.2129 - val_accuracy: 0.9293\n",
            "Epoch 12/30\n",
            "469/469 [==============================] - 4s 8ms/step - loss: 0.1402 - accuracy: 0.9459 - val_loss: 0.2100 - val_accuracy: 0.9286\n",
            "Epoch 13/30\n",
            "469/469 [==============================] - 4s 8ms/step - loss: 0.1298 - accuracy: 0.9504 - val_loss: 0.2079 - val_accuracy: 0.9290\n",
            "Epoch 14/30\n",
            "469/469 [==============================] - 4s 8ms/step - loss: 0.1232 - accuracy: 0.9522 - val_loss: 0.2129 - val_accuracy: 0.9333\n",
            "Epoch 15/30\n",
            "469/469 [==============================] - 4s 8ms/step - loss: 0.1226 - accuracy: 0.9530 - val_loss: 0.2189 - val_accuracy: 0.9293\n",
            "Epoch 16/30\n",
            "469/469 [==============================] - 4s 8ms/step - loss: 0.1096 - accuracy: 0.9581 - val_loss: 0.2196 - val_accuracy: 0.9313\n",
            "Epoch 17/30\n",
            "469/469 [==============================] - 4s 8ms/step - loss: 0.1058 - accuracy: 0.9593 - val_loss: 0.2148 - val_accuracy: 0.9310\n",
            "Epoch 18/30\n",
            "469/469 [==============================] - 4s 8ms/step - loss: 0.1011 - accuracy: 0.9610 - val_loss: 0.2371 - val_accuracy: 0.9284\n",
            "Epoch 19/30\n",
            "469/469 [==============================] - 4s 8ms/step - loss: 0.0996 - accuracy: 0.9614 - val_loss: 0.2269 - val_accuracy: 0.9332\n",
            "Epoch 20/30\n",
            "469/469 [==============================] - 4s 8ms/step - loss: 0.0928 - accuracy: 0.9638 - val_loss: 0.2347 - val_accuracy: 0.9303\n",
            "Epoch 21/30\n",
            "469/469 [==============================] - 4s 8ms/step - loss: 0.0893 - accuracy: 0.9666 - val_loss: 0.2400 - val_accuracy: 0.9293\n",
            "Epoch 22/30\n",
            "469/469 [==============================] - 4s 8ms/step - loss: 0.0903 - accuracy: 0.9659 - val_loss: 0.2366 - val_accuracy: 0.9326\n",
            "Epoch 23/30\n",
            "469/469 [==============================] - 4s 8ms/step - loss: 0.0859 - accuracy: 0.9679 - val_loss: 0.2410 - val_accuracy: 0.9324\n",
            "Epoch 24/30\n",
            "469/469 [==============================] - 4s 8ms/step - loss: 0.0838 - accuracy: 0.9681 - val_loss: 0.2373 - val_accuracy: 0.9323\n",
            "Epoch 25/30\n",
            "469/469 [==============================] - 4s 8ms/step - loss: 0.0793 - accuracy: 0.9685 - val_loss: 0.2441 - val_accuracy: 0.9331\n",
            "Epoch 26/30\n",
            "469/469 [==============================] - 4s 8ms/step - loss: 0.0755 - accuracy: 0.9713 - val_loss: 0.2384 - val_accuracy: 0.9332\n",
            "Epoch 27/30\n",
            "469/469 [==============================] - 4s 8ms/step - loss: 0.0745 - accuracy: 0.9721 - val_loss: 0.2402 - val_accuracy: 0.9325\n",
            "Epoch 28/30\n",
            "469/469 [==============================] - 4s 8ms/step - loss: 0.0730 - accuracy: 0.9719 - val_loss: 0.2760 - val_accuracy: 0.9253\n",
            "Epoch 29/30\n",
            "469/469 [==============================] - 4s 8ms/step - loss: 0.0701 - accuracy: 0.9724 - val_loss: 0.2754 - val_accuracy: 0.9325\n",
            "Epoch 30/30\n",
            "469/469 [==============================] - 4s 8ms/step - loss: 0.0715 - accuracy: 0.9723 - val_loss: 0.2663 - val_accuracy: 0.9325\n"
          ],
          "name": "stdout"
        }
      ]
    },
    {
      "cell_type": "code",
      "metadata": {
        "colab": {
          "base_uri": "https://localhost:8080/"
        },
        "id": "TNQbhxp_yOU4",
        "outputId": "d548b6a2-04bd-49f5-b14f-54bc7571b829"
      },
      "source": [
        "cnn.evaluate(x_test, y_test)"
      ],
      "execution_count": 6,
      "outputs": [
        {
          "output_type": "stream",
          "text": [
            "313/313 [==============================] - 1s 2ms/step - loss: 0.2663 - accuracy: 0.9325\n"
          ],
          "name": "stdout"
        },
        {
          "output_type": "execute_result",
          "data": {
            "text/plain": [
              "[0.2662705183029175, 0.9325000047683716]"
            ]
          },
          "metadata": {
            "tags": []
          },
          "execution_count": 6
        }
      ]
    },
    {
      "cell_type": "code",
      "metadata": {
        "colab": {
          "base_uri": "https://localhost:8080/",
          "height": 295
        },
        "id": "z7hIF36fyR6O",
        "outputId": "8d6b042a-7bf7-4843-a0aa-7349a1428fff"
      },
      "source": [
        "import matplotlib.pyplot as plt\r\n",
        "\r\n",
        "plt.plot(hist.history['accuracy'])\r\n",
        "plt.plot(hist.history['val_accuracy'])\r\n",
        "plt.title('Accuracy Trend')\r\n",
        "plt.ylabel('accuracy')\r\n",
        "plt.xlabel('epoch')\r\n",
        "plt.legend(['train','validation'], loc='best')\r\n",
        "plt.grid()\r\n",
        "plt.show()"
      ],
      "execution_count": 7,
      "outputs": [
        {
          "output_type": "display_data",
          "data": {
            "image/png": "[encoded data removed]",
            "text/plain": [
              "<Figure size 432x288 with 1 Axes>"
            ]
          },
          "metadata": {
            "tags": [],
            "needs_background": "light"
          }
        }
      ]
    },
    {
      "cell_type": "code",
      "metadata": {
        "colab": {
          "base_uri": "https://localhost:8080/",
          "height": 295
        },
        "id": "ikuZTLbMybAQ",
        "outputId": "25c4871a-edae-4230-b90a-04fe151de4ae"
      },
      "source": [
        "plt.plot(hist.history['loss'])\r\n",
        "plt.plot(hist.history['val_loss'])\r\n",
        "plt.title('Loss Trend')\r\n",
        "plt.ylabel('loss')\r\n",
        "plt.xlabel('epoch')\r\n",
        "plt.legend(['train','validation'], loc='best')\r\n",
        "plt.grid()\r\n",
        "plt.show()"
      ],
      "execution_count": 8,
      "outputs": [
        {
          "output_type": "display_data",
          "data": {
            "image/png": "[encoded data removed]",
            "text/plain": [
              "<Figure size 432x288 with 1 Axes>"
            ]
          },
          "metadata": {
            "tags": [],
            "needs_background": "light"
          }
        }
      ]
    },
    {
      "cell_type": "code",
      "metadata": {
        "id": "PByUMR0n0Z8B"
      },
      "source": [
        ""
      ],
      "execution_count": null,
      "outputs": []
    }
  ]
}