{
  "cells": [
    {
      "cell_type": "code",
      "execution_count": null,
      "metadata": {
        "id": "nWhPUUnPveS3"
      },
      "outputs": [],
      "source": [
        "import numpy as np\n",
        "import tensorflow as tf\n",
        "from tensorflow.keras.datasets import cifar10\n",
        "from tensorflow.keras.models import Sequential\n",
        "from tensorflow.keras.layers import Conv2D, MaxPool2D\n",
        "from tensorflow.keras.layers import Flatten, Dense, Dropout"
      ]
    },
    {
      "cell_type": "code",
      "execution_count": null,
      "metadata": {
        "colab": {
          "base_uri": "https://localhost:8080/"
        },
        "id": "Q4Xh-9FkvsKE",
        "outputId": "8ce1c02d-09ed-481d-8870-a5c5f0cc8ca4"
      },
      "outputs": [
        {
          "name": "stdout",
          "output_type": "stream",
          "text": [
            "(50000, 32, 32, 3) (10000, 32, 32, 3)\n",
            "(50000, 1) (10000, 1)\n"
          ]
        }
      ],
      "source": [
        "(x_train, y_train),(x_test, y_test) = cifar10.load_data()\n",
        "\n",
        "x_train=x_train.reshape(-1, 32, 32, 3)\n",
        "x_test=x_test.reshape(-1, 32, 32, 3)\n",
        "\n",
        "print(x_train.shape, x_test.shape)\n",
        "print(y_train.shape, y_test.shape)\n",
        "\n",
        "x_train = x_train.astype(np.float32) / 255.0\n",
        "x_test = x_test.astype(np.float32) / 255.0"
      ]
    },
    {
      "cell_type": "code",
      "execution_count": null,
      "metadata": {
        "id": "ISOTB0okwnAc"
      },
      "outputs": [],
      "source": [
        "cnn = Sequential()\n",
        "\n",
        "cnn.add(Conv2D(input_shape=(32,32,3), kernel_size=(3,3),\n",
        "               filters=32, activation='relu'))\n",
        "cnn.add(Conv2D(kernel_size=(3,3), filters=64, activation='relu'))\n",
        "cnn.add(MaxPool2D(pool_size=(2,2)))\n",
        "cnn.add(Dropout(0.25))\n",
        "\n",
        "cnn.add(Flatten())\n",
        "\n",
        "cnn.add(Dense(128, activation='relu'))\n",
        "cnn.add(Dropout(0.5))\n",
        "cnn.add(Dense(10, activation='softmax'))"
      ]
    },
    {
      "cell_type": "code",
      "execution_count": null,
      "metadata": {
        "colab": {
          "base_uri": "https://localhost:8080/"
        },
        "id": "ndPGvLsXx0XF",
        "outputId": "36d39724-6e27-4909-88f9-284aa20c6d6c"
      },
      "outputs": [
        {
          "name": "stdout",
          "output_type": "stream",
          "text": [
            "Model: \"sequential\"\n",
            "_________________________________________________________________\n",
            "Layer (type)                 Output Shape              Param #   \n",
            "=================================================================\n",
            "conv2d (Conv2D)              (None, 30, 30, 32)        896       \n",
            "_________________________________________________________________\n",
            "conv2d_1 (Conv2D)            (None, 28, 28, 64)        18496     \n",
            "_________________________________________________________________\n",
            "max_pooling2d (MaxPooling2D) (None, 14, 14, 64)        0         \n",
            "_________________________________________________________________\n",
            "dropout (Dropout)            (None, 14, 14, 64)        0         \n",
            "_________________________________________________________________\n",
            "flatten (Flatten)            (None, 12544)             0         \n",
            "_________________________________________________________________\n",
            "dense (Dense)                (None, 128)               1605760   \n",
            "_________________________________________________________________\n",
            "dropout_1 (Dropout)          (None, 128)               0         \n",
            "_________________________________________________________________\n",
            "dense_1 (Dense)              (None, 10)                1290      \n",
            "=================================================================\n",
            "Total params: 1,626,442\n",
            "Trainable params: 1,626,442\n",
            "Non-trainable params: 0\n",
            "_________________________________________________________________\n"
          ]
        }
      ],
      "source": [
        "cnn.compile(loss='sparse_categorical_crossentropy',\n",
        "            optimizer=tf.keras.optimizers.Adam(), metrics=['accuracy'])\n",
        "\n",
        "cnn.summary()"
      ]
    },
    {
      "cell_type": "code",
      "execution_count": null,
      "metadata": {
        "colab": {
          "base_uri": "https://localhost:8080/"
        },
        "id": "Rsq5HiT5yEA_",
        "outputId": "d4b85781-503f-4df1-ec03-47749aceb2f1"
      },
      "outputs": [
        {
          "name": "stdout",
          "output_type": "stream",
          "text": [
            "Epoch 1/30\n",
            "391/391 [==============================] - 37s 11ms/step - loss: 1.8528 - accuracy: 0.3177 - val_loss: 1.2323 - val_accuracy: 0.5700\n",
            "Epoch 2/30\n",
            "391/391 [==============================] - 4s 10ms/step - loss: 1.3186 - accuracy: 0.5345 - val_loss: 1.0804 - val_accuracy: 0.6294\n",
            "Epoch 3/30\n",
            "391/391 [==============================] - 4s 10ms/step - loss: 1.1841 - accuracy: 0.5822 - val_loss: 1.0330 - val_accuracy: 0.6385\n",
            "Epoch 4/30\n",
            "391/391 [==============================] - 4s 10ms/step - loss: 1.1059 - accuracy: 0.6105 - val_loss: 0.9969 - val_accuracy: 0.6560\n",
            "Epoch 5/30\n",
            "391/391 [==============================] - 4s 10ms/step - loss: 1.0492 - accuracy: 0.6307 - val_loss: 0.9368 - val_accuracy: 0.6764\n",
            "Epoch 6/30\n",
            "391/391 [==============================] - 4s 10ms/step - loss: 0.9983 - accuracy: 0.6470 - val_loss: 0.9079 - val_accuracy: 0.6819\n",
            "Epoch 7/30\n",
            "391/391 [==============================] - 4s 10ms/step - loss: 0.9621 - accuracy: 0.6619 - val_loss: 0.9176 - val_accuracy: 0.6799\n",
            "Epoch 8/30\n",
            "391/391 [==============================] - 4s 10ms/step - loss: 0.9390 - accuracy: 0.6650 - val_loss: 0.8903 - val_accuracy: 0.6930\n",
            "Epoch 9/30\n",
            "391/391 [==============================] - 4s 10ms/step - loss: 0.8864 - accuracy: 0.6833 - val_loss: 0.8813 - val_accuracy: 0.6923\n",
            "Epoch 10/30\n",
            "391/391 [==============================] - 4s 10ms/step - loss: 0.8694 - accuracy: 0.6908 - val_loss: 0.8858 - val_accuracy: 0.6964\n",
            "Epoch 11/30\n",
            "391/391 [==============================] - 4s 10ms/step - loss: 0.8324 - accuracy: 0.7007 - val_loss: 0.8695 - val_accuracy: 0.7017\n",
            "Epoch 12/30\n",
            "391/391 [==============================] - 4s 10ms/step - loss: 0.8026 - accuracy: 0.7143 - val_loss: 0.8705 - val_accuracy: 0.6979\n",
            "Epoch 13/30\n",
            "391/391 [==============================] - 4s 10ms/step - loss: 0.7800 - accuracy: 0.7189 - val_loss: 0.8748 - val_accuracy: 0.7065\n",
            "Epoch 14/30\n",
            "391/391 [==============================] - 4s 10ms/step - loss: 0.7427 - accuracy: 0.7309 - val_loss: 0.8565 - val_accuracy: 0.7071\n",
            "Epoch 15/30\n",
            "391/391 [==============================] - 4s 10ms/step - loss: 0.7247 - accuracy: 0.7360 - val_loss: 0.8787 - val_accuracy: 0.6969\n",
            "Epoch 16/30\n",
            "391/391 [==============================] - 4s 10ms/step - loss: 0.7035 - accuracy: 0.7441 - val_loss: 0.8725 - val_accuracy: 0.7086\n",
            "Epoch 17/30\n",
            "391/391 [==============================] - 4s 10ms/step - loss: 0.6826 - accuracy: 0.7501 - val_loss: 0.9092 - val_accuracy: 0.6947\n",
            "Epoch 18/30\n",
            "391/391 [==============================] - 4s 10ms/step - loss: 0.6618 - accuracy: 0.7562 - val_loss: 0.8734 - val_accuracy: 0.7087\n",
            "Epoch 19/30\n",
            "391/391 [==============================] - 4s 10ms/step - loss: 0.6429 - accuracy: 0.7652 - val_loss: 0.8514 - val_accuracy: 0.7138\n",
            "Epoch 20/30\n",
            "391/391 [==============================] - 4s 10ms/step - loss: 0.6162 - accuracy: 0.7713 - val_loss: 0.8807 - val_accuracy: 0.7118\n",
            "Epoch 21/30\n",
            "391/391 [==============================] - 4s 10ms/step - loss: 0.6209 - accuracy: 0.7724 - val_loss: 0.8819 - val_accuracy: 0.7122\n",
            "Epoch 22/30\n",
            "391/391 [==============================] - 4s 10ms/step - loss: 0.5940 - accuracy: 0.7799 - val_loss: 0.8834 - val_accuracy: 0.7110\n",
            "Epoch 23/30\n",
            "391/391 [==============================] - 4s 10ms/step - loss: 0.5807 - accuracy: 0.7827 - val_loss: 0.8926 - val_accuracy: 0.7104\n",
            "Epoch 24/30\n",
            "391/391 [==============================] - 4s 10ms/step - loss: 0.5540 - accuracy: 0.7941 - val_loss: 0.9102 - val_accuracy: 0.7103\n",
            "Epoch 25/30\n",
            "391/391 [==============================] - 4s 10ms/step - loss: 0.5576 - accuracy: 0.7957 - val_loss: 0.9235 - val_accuracy: 0.7128\n",
            "Epoch 26/30\n",
            "391/391 [==============================] - 4s 10ms/step - loss: 0.5552 - accuracy: 0.7935 - val_loss: 0.9234 - val_accuracy: 0.7129\n",
            "Epoch 27/30\n",
            "391/391 [==============================] - 4s 10ms/step - loss: 0.5371 - accuracy: 0.7984 - val_loss: 0.9250 - val_accuracy: 0.7087\n",
            "Epoch 28/30\n",
            "391/391 [==============================] - 4s 10ms/step - loss: 0.5207 - accuracy: 0.8049 - val_loss: 0.9156 - val_accuracy: 0.7180\n",
            "Epoch 29/30\n",
            "391/391 [==============================] - 4s 10ms/step - loss: 0.5105 - accuracy: 0.8080 - val_loss: 0.9703 - val_accuracy: 0.7146\n",
            "Epoch 30/30\n",
            "391/391 [==============================] - 4s 10ms/step - loss: 0.5013 - accuracy: 0.8116 - val_loss: 0.9591 - val_accuracy: 0.7056\n"
          ]
        }
      ],
      "source": [
        "hist = cnn.fit(x_train, y_train, batch_size=128, \n",
        "               epochs=30, validation_data=(x_test, y_test))"
      ]
    },
    {
      "cell_type": "code",
      "execution_count": null,
      "metadata": {
        "colab": {
          "base_uri": "https://localhost:8080/"
        },
        "id": "TNQbhxp_yOU4",
        "outputId": "c7b9d3cb-f29b-4cb5-f7e4-e54ae9df4dbc"
      },
      "outputs": [
        {
          "name": "stdout",
          "output_type": "stream",
          "text": [
            "313/313 [==============================] - 1s 3ms/step - loss: 0.9591 - accuracy: 0.7056\n"
          ]
        },
        {
          "data": {
            "text/plain": [
              "[0.9591064453125, 0.7056000232696533]"
            ]
          },
          "execution_count": 6,
          "metadata": {
            "tags": []
          },
          "output_type": "execute_result"
        }
      ],
      "source": [
        "cnn.evaluate(x_test, y_test)"
      ]
    },
    {
      "cell_type": "code",
      "execution_count": null,
      "metadata": {
        "colab": {
          "base_uri": "https://localhost:8080/",
          "height": 295
        },
        "id": "z7hIF36fyR6O",
        "outputId": "4a149f70-78f6-4831-a26e-6ed5a2978c04"
      },
      "outputs": [
        {
          "data": {
            "image/png": "[encoded data removed]",
            "text/plain": [
              "<Figure size 432x288 with 1 Axes>"
            ]
          },
          "metadata": {
            "needs_background": "light",
            "tags": []
          },
          "output_type": "display_data"
        }
      ],
      "source": [
        "import matplotlib.pyplot as plt\n",
        "\n",
        "plt.plot(hist.history['accuracy'])\n",
        "plt.plot(hist.history['val_accuracy'])\n",
        "plt.title('Accuracy Trend')\n",
        "plt.ylabel('accuracy')\n",
        "plt.xlabel('epoch')\n",
        "plt.legend(['train','validation'], loc='best')\n",
        "plt.grid()\n",
        "plt.show()"
      ]
    },
    {
      "cell_type": "code",
      "execution_count": null,
      "metadata": {
        "colab": {
          "base_uri": "https://localhost:8080/",
          "height": 295
        },
        "id": "ikuZTLbMybAQ",
        "outputId": "72bf1c3a-9fba-4a39-9375-acf460d1fbd7"
      },
      "outputs": [
        {
          "data": {
            "image/png": "[encoded data removed]",
            "text/plain": [
              "<Figure size 432x288 with 1 Axes>"
            ]
          },
          "metadata": {
            "needs_background": "light",
            "tags": []
          },
          "output_type": "display_data"
        }
      ],
      "source": [
        "plt.plot(hist.history['loss'])\n",
        "plt.plot(hist.history['val_loss'])\n",
        "plt.title('Loss Trend')\n",
        "plt.ylabel('loss')\n",
        "plt.xlabel('epoch')\n",
        "plt.legend(['train','validation'], loc='best')\n",
        "plt.grid()\n",
        "plt.show()"
      ]
    },
    {
      "cell_type": "code",
      "execution_count": null,
      "metadata": {
        "id": "PByUMR0n0Z8B"
      },
      "outputs": [],
      "source": []
    }
  ],
  "metadata": {
    "accelerator": "GPU",
    "colab": {
      "collapsed_sections": [],
      "name": "TF_2.x_LEC_15_CIFAR10_Example.ipynb",
      "provenance": []
    },
    "kernelspec": {
      "display_name": "Python 3.9.12 ('base')",
      "language": "python",
      "name": "python3"
    },
    "language_info": {
      "name": "python",
      "version": "3.9.12"
    },
    "vscode": {
      "interpreter": {
        "hash": "964f46f3973c3d99dc6929d5bd1748275317def86f082ea2874e0d5a9cf6d261"
      }
    }
  },
  "nbformat": 4,
  "nbformat_minor": 0
}
