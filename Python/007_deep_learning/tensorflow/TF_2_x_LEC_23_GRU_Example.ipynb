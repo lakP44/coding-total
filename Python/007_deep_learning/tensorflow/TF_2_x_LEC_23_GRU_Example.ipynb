{
 "cells": [
  {
   "cell_type": "markdown",
   "metadata": {
    "id": "QpJUJia4IbVS"
   },
   "source": [
    "GRU 기반의 삼성전자 주가 예측 예제\n",
    " - yahoo finance 에서 데이터 다운로드 후 3일(3MA), 5일(5MA) 가격이평선 추가"
   ]
  },
  {
   "cell_type": "code",
   "execution_count": 1,
   "metadata": {
    "id": "Ah3M-kc3aZqy"
   },
   "outputs": [],
   "source": [
    "import tensorflow as tf\n",
    "import numpy as np\n",
    "import pandas as pd\n",
    "import matplotlib.pyplot as plt\n",
    "from tensorflow.keras.models import Sequential\n",
    "from tensorflow.keras.layers import GRU, Dense, Dropout"
   ]
  },
  {
   "cell_type": "markdown",
   "metadata": {
    "id": "tU_3ujIh9_N0"
   },
   "source": [
    "데이터 불러오기"
   ]
  },
  {
   "cell_type": "code",
   "execution_count": 2,
   "metadata": {
    "colab": {
     "base_uri": "https://localhost:8080/",
     "height": 203
    },
    "id": "9srMq0M9fXwk",
    "outputId": "9dd506a7-2400-4b1a-930d-c4af4f672df7"
   },
   "outputs": [
    {
     "data": {
      "text/html": [
       "<div>\n",
       "<style scoped>\n",
       "    .dataframe tbody tr th:only-of-type {\n",
       "        vertical-align: middle;\n",
       "    }\n",
       "\n",
       "    .dataframe tbody tr th {\n",
       "        vertical-align: top;\n",
       "    }\n",
       "\n",
       "    .dataframe thead th {\n",
       "        text-align: right;\n",
       "    }\n",
       "</style>\n",
       "<table border=\"1\" class=\"dataframe\">\n",
       "  <thead>\n",
       "    <tr style=\"text-align: right;\">\n",
       "      <th></th>\n",
       "      <th>Date</th>\n",
       "      <th>Open</th>\n",
       "      <th>High</th>\n",
       "      <th>Low</th>\n",
       "      <th>Close</th>\n",
       "      <th>Adj Close</th>\n",
       "      <th>Volume</th>\n",
       "      <th>3MA</th>\n",
       "      <th>5MA</th>\n",
       "    </tr>\n",
       "  </thead>\n",
       "  <tbody>\n",
       "    <tr>\n",
       "      <th>0</th>\n",
       "      <td>2000-01-04</td>\n",
       "      <td>6000.0</td>\n",
       "      <td>6110.0</td>\n",
       "      <td>5660.0</td>\n",
       "      <td>6110.0</td>\n",
       "      <td>4740.119629</td>\n",
       "      <td>74195000.0</td>\n",
       "      <td>NaN</td>\n",
       "      <td>NaN</td>\n",
       "    </tr>\n",
       "    <tr>\n",
       "      <th>1</th>\n",
       "      <td>2000-01-05</td>\n",
       "      <td>5800.0</td>\n",
       "      <td>6060.0</td>\n",
       "      <td>5520.0</td>\n",
       "      <td>5580.0</td>\n",
       "      <td>4328.947754</td>\n",
       "      <td>74680000.0</td>\n",
       "      <td>NaN</td>\n",
       "      <td>NaN</td>\n",
       "    </tr>\n",
       "    <tr>\n",
       "      <th>2</th>\n",
       "      <td>2000-01-06</td>\n",
       "      <td>5750.0</td>\n",
       "      <td>5780.0</td>\n",
       "      <td>5580.0</td>\n",
       "      <td>5620.0</td>\n",
       "      <td>4359.979492</td>\n",
       "      <td>54390000.0</td>\n",
       "      <td>4476.348958</td>\n",
       "      <td>NaN</td>\n",
       "    </tr>\n",
       "    <tr>\n",
       "      <th>3</th>\n",
       "      <td>2000-01-07</td>\n",
       "      <td>5560.0</td>\n",
       "      <td>5670.0</td>\n",
       "      <td>5360.0</td>\n",
       "      <td>5540.0</td>\n",
       "      <td>4297.916992</td>\n",
       "      <td>40305000.0</td>\n",
       "      <td>4328.948079</td>\n",
       "      <td>NaN</td>\n",
       "    </tr>\n",
       "    <tr>\n",
       "      <th>4</th>\n",
       "      <td>2000-01-10</td>\n",
       "      <td>5600.0</td>\n",
       "      <td>5770.0</td>\n",
       "      <td>5580.0</td>\n",
       "      <td>5770.0</td>\n",
       "      <td>4476.349121</td>\n",
       "      <td>46880000.0</td>\n",
       "      <td>4378.081868</td>\n",
       "      <td>4440.662598</td>\n",
       "    </tr>\n",
       "  </tbody>\n",
       "</table>\n",
       "</div>"
      ],
      "text/plain": [
       "         Date    Open    High  ...      Volume          3MA          5MA\n",
       "0  2000-01-04  6000.0  6110.0  ...  74195000.0          NaN          NaN\n",
       "1  2000-01-05  5800.0  6060.0  ...  74680000.0          NaN          NaN\n",
       "2  2000-01-06  5750.0  5780.0  ...  54390000.0  4476.348958          NaN\n",
       "3  2000-01-07  5560.0  5670.0  ...  40305000.0  4328.948079          NaN\n",
       "4  2000-01-10  5600.0  5770.0  ...  46880000.0  4378.081868  4440.662598\n",
       "\n",
       "[5 rows x 9 columns]"
      ]
     },
     "execution_count": 2,
     "metadata": {
      "tags": []
     },
     "output_type": "execute_result"
    }
   ],
   "source": [
    "raw_df = pd.read_csv('./005930.KS_3MA_5MA.csv')  # yahoo finance 로부터 데이터 다운로드\n",
    "\n",
    "raw_df.head()"
   ]
  },
  {
   "cell_type": "code",
   "execution_count": 3,
   "metadata": {
    "colab": {
     "base_uri": "https://localhost:8080/",
     "height": 295
    },
    "id": "d1lsO_jInckj",
    "outputId": "36a2f904-5183-43f0-f2cb-be4ed41696db"
   },
   "outputs": [
    {
     "data": {
      "image/png": "[encoded data removed]",
      "text/plain": [
       "<Figure size 432x288 with 1 Axes>"
      ]
     },
     "metadata": {
      "needs_background": "light",
      "tags": []
     },
     "output_type": "display_data"
    }
   ],
   "source": [
    "plt.title('SAMSUNG ELECTRONIC STCOK PRICE')\n",
    "plt.ylabel('price')\n",
    "plt.xlabel('period')\n",
    "plt.grid()\n",
    "\n",
    "plt.plot(raw_df['Adj Close'], label='Adj Close')\n",
    "\n",
    "plt.show()"
   ]
  },
  {
   "cell_type": "markdown",
   "metadata": {
    "id": "iQtB5ixT-KZt"
   },
   "source": [
    "데이터 전처리 (Missing Data 처리, 정규화 등)"
   ]
  },
  {
   "cell_type": "code",
   "execution_count": 4,
   "metadata": {
    "colab": {
     "base_uri": "https://localhost:8080/",
     "height": 315
    },
    "id": "LtXkxvPchBSW",
    "outputId": "0e327c2a-714d-48e1-f5c9-494e301579c9"
   },
   "outputs": [
    {
     "data": {
      "text/html": [
       "<div>\n",
       "<style scoped>\n",
       "    .dataframe tbody tr th:only-of-type {\n",
       "        vertical-align: middle;\n",
       "    }\n",
       "\n",
       "    .dataframe tbody tr th {\n",
       "        vertical-align: top;\n",
       "    }\n",
       "\n",
       "    .dataframe thead th {\n",
       "        text-align: right;\n",
       "    }\n",
       "</style>\n",
       "<table border=\"1\" class=\"dataframe\">\n",
       "  <thead>\n",
       "    <tr style=\"text-align: right;\">\n",
       "      <th></th>\n",
       "      <th>Open</th>\n",
       "      <th>High</th>\n",
       "      <th>Low</th>\n",
       "      <th>Close</th>\n",
       "      <th>Adj Close</th>\n",
       "      <th>Volume</th>\n",
       "      <th>3MA</th>\n",
       "      <th>5MA</th>\n",
       "    </tr>\n",
       "  </thead>\n",
       "  <tbody>\n",
       "    <tr>\n",
       "      <th>count</th>\n",
       "      <td>5389.000000</td>\n",
       "      <td>5389.000000</td>\n",
       "      <td>5389.000000</td>\n",
       "      <td>5389.000000</td>\n",
       "      <td>5389.000000</td>\n",
       "      <td>5.389000e+03</td>\n",
       "      <td>5393.000000</td>\n",
       "      <td>5391.000000</td>\n",
       "    </tr>\n",
       "    <tr>\n",
       "      <th>mean</th>\n",
       "      <td>22801.887178</td>\n",
       "      <td>23043.991464</td>\n",
       "      <td>22559.285582</td>\n",
       "      <td>22801.909445</td>\n",
       "      <td>19920.044863</td>\n",
       "      <td>2.207838e+07</td>\n",
       "      <td>19934.224878</td>\n",
       "      <td>19925.585966</td>\n",
       "    </tr>\n",
       "    <tr>\n",
       "      <th>std</th>\n",
       "      <td>17736.201238</td>\n",
       "      <td>17906.827402</td>\n",
       "      <td>17572.109940</td>\n",
       "      <td>17733.296811</td>\n",
       "      <td>17322.636387</td>\n",
       "      <td>1.564053e+07</td>\n",
       "      <td>17313.297249</td>\n",
       "      <td>17292.697383</td>\n",
       "    </tr>\n",
       "    <tr>\n",
       "      <th>min</th>\n",
       "      <td>2540.000000</td>\n",
       "      <td>2760.000000</td>\n",
       "      <td>2420.000000</td>\n",
       "      <td>2730.000000</td>\n",
       "      <td>2117.926025</td>\n",
       "      <td>0.000000e+00</td>\n",
       "      <td>2164.473877</td>\n",
       "      <td>2179.989746</td>\n",
       "    </tr>\n",
       "    <tr>\n",
       "      <th>25%</th>\n",
       "      <td>9880.000000</td>\n",
       "      <td>9990.000000</td>\n",
       "      <td>9800.000000</td>\n",
       "      <td>9900.000000</td>\n",
       "      <td>7726.937988</td>\n",
       "      <td>1.185265e+07</td>\n",
       "      <td>7726.939453</td>\n",
       "      <td>7709.871631</td>\n",
       "    </tr>\n",
       "    <tr>\n",
       "      <th>50%</th>\n",
       "      <td>15760.000000</td>\n",
       "      <td>15940.000000</td>\n",
       "      <td>15560.000000</td>\n",
       "      <td>15800.000000</td>\n",
       "      <td>12808.596680</td>\n",
       "      <td>1.803935e+07</td>\n",
       "      <td>12802.806970</td>\n",
       "      <td>12809.314840</td>\n",
       "    </tr>\n",
       "    <tr>\n",
       "      <th>75%</th>\n",
       "      <td>29280.000000</td>\n",
       "      <td>29560.000000</td>\n",
       "      <td>29000.000000</td>\n",
       "      <td>29280.000000</td>\n",
       "      <td>24566.556640</td>\n",
       "      <td>2.771475e+07</td>\n",
       "      <td>24558.166020</td>\n",
       "      <td>24555.269140</td>\n",
       "    </tr>\n",
       "    <tr>\n",
       "      <th>max</th>\n",
       "      <td>90300.000000</td>\n",
       "      <td>96800.000000</td>\n",
       "      <td>89500.000000</td>\n",
       "      <td>91000.000000</td>\n",
       "      <td>90597.414060</td>\n",
       "      <td>1.642150e+08</td>\n",
       "      <td>90033.252600</td>\n",
       "      <td>89562.014060</td>\n",
       "    </tr>\n",
       "  </tbody>\n",
       "</table>\n",
       "</div>"
      ],
      "text/plain": [
       "               Open          High  ...           3MA           5MA\n",
       "count   5389.000000   5389.000000  ...   5393.000000   5391.000000\n",
       "mean   22801.887178  23043.991464  ...  19934.224878  19925.585966\n",
       "std    17736.201238  17906.827402  ...  17313.297249  17292.697383\n",
       "min     2540.000000   2760.000000  ...   2164.473877   2179.989746\n",
       "25%     9880.000000   9990.000000  ...   7726.939453   7709.871631\n",
       "50%    15760.000000  15940.000000  ...  12802.806970  12809.314840\n",
       "75%    29280.000000  29560.000000  ...  24558.166020  24555.269140\n",
       "max    90300.000000  96800.000000  ...  90033.252600  89562.014060\n",
       "\n",
       "[8 rows x 8 columns]"
      ]
     },
     "execution_count": 4,
     "metadata": {
      "tags": []
     },
     "output_type": "execute_result"
    }
   ],
   "source": [
    "# 통계정보 확인\n",
    "\n",
    "raw_df.describe()"
   ]
  },
  {
   "cell_type": "code",
   "execution_count": 5,
   "metadata": {
    "colab": {
     "base_uri": "https://localhost:8080/"
    },
    "id": "ExtqrJEXWjBS",
    "outputId": "21a5c782-4fa6-4518-e7a7-70492d192633"
   },
   "outputs": [
    {
     "data": {
      "text/plain": [
       "Date         0\n",
       "Open         6\n",
       "High         6\n",
       "Low          6\n",
       "Close        6\n",
       "Adj Close    6\n",
       "Volume       6\n",
       "3MA          2\n",
       "5MA          4\n",
       "dtype: int64"
      ]
     },
     "execution_count": 5,
     "metadata": {
      "tags": []
     },
     "output_type": "execute_result"
    }
   ],
   "source": [
    "# Missing Data 확인\n",
    "\n",
    "raw_df.isnull().sum()"
   ]
  },
  {
   "cell_type": "code",
   "execution_count": 6,
   "metadata": {
    "colab": {
     "base_uri": "https://localhost:8080/"
    },
    "id": "eJKlSQjlxvgj",
    "outputId": "04042fab-6f8f-44b2-8fa3-6ef90f158e61"
   },
   "outputs": [
    {
     "name": "stdout",
     "output_type": "stream",
     "text": [
      "Volume <class 'str'>\n"
     ]
    }
   ],
   "source": [
    "# 최소값이 0 인 column 체크\n",
    "\n",
    "for col in raw_df.columns:\n",
    "\n",
    "    if raw_df[col].min() == 0:\n",
    "        col_name = col\n",
    "        print(col_name, type(col_name))"
   ]
  },
  {
   "cell_type": "code",
   "execution_count": 7,
   "metadata": {
    "colab": {
     "base_uri": "https://localhost:8080/",
     "height": 417
    },
    "id": "-sjMP002VR5P",
    "outputId": "cd7d827b-ea5d-450a-b10e-ceea70722f0e"
   },
   "outputs": [
    {
     "data": {
      "text/html": [
       "<div>\n",
       "<style scoped>\n",
       "    .dataframe tbody tr th:only-of-type {\n",
       "        vertical-align: middle;\n",
       "    }\n",
       "\n",
       "    .dataframe tbody tr th {\n",
       "        vertical-align: top;\n",
       "    }\n",
       "\n",
       "    .dataframe thead th {\n",
       "        text-align: right;\n",
       "    }\n",
       "</style>\n",
       "<table border=\"1\" class=\"dataframe\">\n",
       "  <thead>\n",
       "    <tr style=\"text-align: right;\">\n",
       "      <th></th>\n",
       "      <th>Date</th>\n",
       "      <th>Open</th>\n",
       "      <th>High</th>\n",
       "      <th>Low</th>\n",
       "      <th>Close</th>\n",
       "      <th>Adj Close</th>\n",
       "      <th>Volume</th>\n",
       "      <th>3MA</th>\n",
       "      <th>5MA</th>\n",
       "    </tr>\n",
       "  </thead>\n",
       "  <tbody>\n",
       "    <tr>\n",
       "      <th>23</th>\n",
       "      <td>2000-02-04</td>\n",
       "      <td>5130.0</td>\n",
       "      <td>5130.0</td>\n",
       "      <td>5130.0</td>\n",
       "      <td>5130.0</td>\n",
       "      <td>3979.839355</td>\n",
       "      <td>0.0</td>\n",
       "      <td>4010.871419</td>\n",
       "      <td>4097.760644</td>\n",
       "    </tr>\n",
       "    <tr>\n",
       "      <th>41</th>\n",
       "      <td>2000-03-01</td>\n",
       "      <td>5120.0</td>\n",
       "      <td>5120.0</td>\n",
       "      <td>5120.0</td>\n",
       "      <td>5120.0</td>\n",
       "      <td>3972.081543</td>\n",
       "      <td>0.0</td>\n",
       "      <td>3889.329834</td>\n",
       "      <td>3914.672510</td>\n",
       "    </tr>\n",
       "    <tr>\n",
       "      <th>66</th>\n",
       "      <td>2000-04-05</td>\n",
       "      <td>6800.0</td>\n",
       "      <td>6800.0</td>\n",
       "      <td>6800.0</td>\n",
       "      <td>6800.0</td>\n",
       "      <td>5275.420410</td>\n",
       "      <td>0.0</td>\n",
       "      <td>5353.000163</td>\n",
       "      <td>5345.242773</td>\n",
       "    </tr>\n",
       "    <tr>\n",
       "      <th>72</th>\n",
       "      <td>2000-04-13</td>\n",
       "      <td>6910.0</td>\n",
       "      <td>6910.0</td>\n",
       "      <td>6910.0</td>\n",
       "      <td>6910.0</td>\n",
       "      <td>5360.757324</td>\n",
       "      <td>0.0</td>\n",
       "      <td>5409.891439</td>\n",
       "      <td>5495.746680</td>\n",
       "    </tr>\n",
       "    <tr>\n",
       "      <th>84</th>\n",
       "      <td>2000-05-01</td>\n",
       "      <td>6000.0</td>\n",
       "      <td>6000.0</td>\n",
       "      <td>6000.0</td>\n",
       "      <td>6000.0</td>\n",
       "      <td>4654.781250</td>\n",
       "      <td>0.0</td>\n",
       "      <td>4499.622070</td>\n",
       "      <td>4443.765039</td>\n",
       "    </tr>\n",
       "    <tr>\n",
       "      <th>...</th>\n",
       "      <td>...</td>\n",
       "      <td>...</td>\n",
       "      <td>...</td>\n",
       "      <td>...</td>\n",
       "      <td>...</td>\n",
       "      <td>...</td>\n",
       "      <td>...</td>\n",
       "      <td>...</td>\n",
       "      <td>...</td>\n",
       "    </tr>\n",
       "    <tr>\n",
       "      <th>4623</th>\n",
       "      <td>2018-04-30</td>\n",
       "      <td>53000.0</td>\n",
       "      <td>53000.0</td>\n",
       "      <td>53000.0</td>\n",
       "      <td>53000.0</td>\n",
       "      <td>47819.117190</td>\n",
       "      <td>0.0</td>\n",
       "      <td>47560.473960</td>\n",
       "      <td>46736.421880</td>\n",
       "    </tr>\n",
       "    <tr>\n",
       "      <th>4624</th>\n",
       "      <td>2018-05-02</td>\n",
       "      <td>53000.0</td>\n",
       "      <td>53000.0</td>\n",
       "      <td>53000.0</td>\n",
       "      <td>53000.0</td>\n",
       "      <td>47819.117190</td>\n",
       "      <td>0.0</td>\n",
       "      <td>47819.117190</td>\n",
       "      <td>47194.763280</td>\n",
       "    </tr>\n",
       "    <tr>\n",
       "      <th>4625</th>\n",
       "      <td>2018-05-03</td>\n",
       "      <td>53000.0</td>\n",
       "      <td>53000.0</td>\n",
       "      <td>53000.0</td>\n",
       "      <td>53000.0</td>\n",
       "      <td>47819.117190</td>\n",
       "      <td>0.0</td>\n",
       "      <td>47819.117190</td>\n",
       "      <td>47663.931250</td>\n",
       "    </tr>\n",
       "    <tr>\n",
       "      <th>5077</th>\n",
       "      <td>2020-03-09</td>\n",
       "      <td>56500.0</td>\n",
       "      <td>56500.0</td>\n",
       "      <td>56500.0</td>\n",
       "      <td>56500.0</td>\n",
       "      <td>53774.468750</td>\n",
       "      <td>0.0</td>\n",
       "      <td>54186.897140</td>\n",
       "      <td>53983.855470</td>\n",
       "    </tr>\n",
       "    <tr>\n",
       "      <th>5080</th>\n",
       "      <td>2020-03-12</td>\n",
       "      <td>52100.0</td>\n",
       "      <td>52100.0</td>\n",
       "      <td>52100.0</td>\n",
       "      <td>52100.0</td>\n",
       "      <td>49586.722660</td>\n",
       "      <td>0.0</td>\n",
       "      <td>50379.856770</td>\n",
       "      <td>51737.701560</td>\n",
       "    </tr>\n",
       "  </tbody>\n",
       "</table>\n",
       "<p>116 rows × 9 columns</p>\n",
       "</div>"
      ],
      "text/plain": [
       "            Date     Open     High  ...  Volume           3MA           5MA\n",
       "23    2000-02-04   5130.0   5130.0  ...     0.0   4010.871419   4097.760644\n",
       "41    2000-03-01   5120.0   5120.0  ...     0.0   3889.329834   3914.672510\n",
       "66    2000-04-05   6800.0   6800.0  ...     0.0   5353.000163   5345.242773\n",
       "72    2000-04-13   6910.0   6910.0  ...     0.0   5409.891439   5495.746680\n",
       "84    2000-05-01   6000.0   6000.0  ...     0.0   4499.622070   4443.765039\n",
       "...          ...      ...      ...  ...     ...           ...           ...\n",
       "4623  2018-04-30  53000.0  53000.0  ...     0.0  47560.473960  46736.421880\n",
       "4624  2018-05-02  53000.0  53000.0  ...     0.0  47819.117190  47194.763280\n",
       "4625  2018-05-03  53000.0  53000.0  ...     0.0  47819.117190  47663.931250\n",
       "5077  2020-03-09  56500.0  56500.0  ...     0.0  54186.897140  53983.855470\n",
       "5080  2020-03-12  52100.0  52100.0  ...     0.0  50379.856770  51737.701560\n",
       "\n",
       "[116 rows x 9 columns]"
      ]
     },
     "execution_count": 7,
     "metadata": {
      "tags": []
     },
     "output_type": "execute_result"
    }
   ],
   "source": [
    "raw_df.loc[raw_df['Volume']==0]"
   ]
  },
  {
   "cell_type": "code",
   "execution_count": 8,
   "metadata": {
    "colab": {
     "base_uri": "https://localhost:8080/"
    },
    "id": "Ac7ieaSiUkYl",
    "outputId": "fa412ee1-860a-4cc7-cdb5-00f6915de752"
   },
   "outputs": [
    {
     "name": "stdout",
     "output_type": "stream",
     "text": [
      "Date: 0\n",
      "Open: 0\n",
      "High: 0\n",
      "Low: 0\n",
      "Close: 0\n",
      "Adj Close: 0\n",
      "Volume: 116\n",
      "3MA: 0\n",
      "5MA: 0\n"
     ]
    }
   ],
   "source": [
    "# 각 column에 0 몇개인지 확인\n",
    "\n",
    "for col in raw_df.columns:\n",
    "\n",
    "    missing_rows = raw_df.loc[raw_df[col]==0].shape[0]\n",
    "    print(col + ': ' + str(missing_rows))"
   ]
  },
  {
   "cell_type": "code",
   "execution_count": 9,
   "metadata": {
    "colab": {
     "base_uri": "https://localhost:8080/"
    },
    "id": "EqPvPM4UVskp",
    "outputId": "fa177071-c094-4801-d584-9eb63c483878"
   },
   "outputs": [
    {
     "name": "stdout",
     "output_type": "stream",
     "text": [
      "Date: 0\n",
      "Open: 0\n",
      "High: 0\n",
      "Low: 0\n",
      "Close: 0\n",
      "Adj Close: 0\n",
      "Volume: 0\n",
      "3MA: 0\n",
      "5MA: 0\n"
     ]
    }
   ],
   "source": [
    "# 먼저 0 을 NaN 으로 바꾼후, Missing Data 처리\n",
    "\n",
    "raw_df['Volume'] = raw_df['Volume'].replace(0, np.nan)\n",
    "\n",
    "# 각 column에 0 몇개인지 확인\n",
    "\n",
    "for col in raw_df.columns:\n",
    "\n",
    "    missing_rows = raw_df.loc[raw_df[col]==0].shape[0]\n",
    "    print(col + ': ' + str(missing_rows))"
   ]
  },
  {
   "cell_type": "code",
   "execution_count": 10,
   "metadata": {
    "colab": {
     "base_uri": "https://localhost:8080/"
    },
    "id": "BJ2attPDfw3E",
    "outputId": "1f0fc997-cde6-41d4-8209-248cca65f23b"
   },
   "outputs": [
    {
     "data": {
      "text/plain": [
       "Date           0\n",
       "Open           6\n",
       "High           6\n",
       "Low            6\n",
       "Close          6\n",
       "Adj Close      6\n",
       "Volume       122\n",
       "3MA            2\n",
       "5MA            4\n",
       "dtype: int64"
      ]
     },
     "execution_count": 10,
     "metadata": {
      "tags": []
     },
     "output_type": "execute_result"
    }
   ],
   "source": [
    "# missing data 확인\n",
    "\n",
    "raw_df.isnull().sum()"
   ]
  },
  {
   "cell_type": "code",
   "execution_count": 11,
   "metadata": {
    "colab": {
     "base_uri": "https://localhost:8080/"
    },
    "id": "l470iWLyhhzF",
    "outputId": "fe899831-42e0-4122-f862-5aea2980945b"
   },
   "outputs": [
    {
     "data": {
      "text/plain": [
       "Date         False\n",
       "Open          True\n",
       "High          True\n",
       "Low           True\n",
       "Close         True\n",
       "Adj Close     True\n",
       "Volume        True\n",
       "3MA           True\n",
       "5MA           True\n",
       "dtype: bool"
      ]
     },
     "execution_count": 11,
     "metadata": {
      "tags": []
     },
     "output_type": "execute_result"
    }
   ],
   "source": [
    "raw_df.isnull().any()"
   ]
  },
  {
   "cell_type": "code",
   "execution_count": 12,
   "metadata": {
    "colab": {
     "base_uri": "https://localhost:8080/",
     "height": 234
    },
    "id": "Ves_xphWh182",
    "outputId": "04ba339a-46c8-47b7-f89d-9d1521ff7372"
   },
   "outputs": [
    {
     "data": {
      "text/html": [
       "<div>\n",
       "<style scoped>\n",
       "    .dataframe tbody tr th:only-of-type {\n",
       "        vertical-align: middle;\n",
       "    }\n",
       "\n",
       "    .dataframe tbody tr th {\n",
       "        vertical-align: top;\n",
       "    }\n",
       "\n",
       "    .dataframe thead th {\n",
       "        text-align: right;\n",
       "    }\n",
       "</style>\n",
       "<table border=\"1\" class=\"dataframe\">\n",
       "  <thead>\n",
       "    <tr style=\"text-align: right;\">\n",
       "      <th></th>\n",
       "      <th>Date</th>\n",
       "      <th>Open</th>\n",
       "      <th>High</th>\n",
       "      <th>Low</th>\n",
       "      <th>Close</th>\n",
       "      <th>Adj Close</th>\n",
       "      <th>Volume</th>\n",
       "      <th>3MA</th>\n",
       "      <th>5MA</th>\n",
       "    </tr>\n",
       "  </thead>\n",
       "  <tbody>\n",
       "    <tr>\n",
       "      <th>1304</th>\n",
       "      <td>2005-01-03</td>\n",
       "      <td>NaN</td>\n",
       "      <td>NaN</td>\n",
       "      <td>NaN</td>\n",
       "      <td>NaN</td>\n",
       "      <td>NaN</td>\n",
       "      <td>NaN</td>\n",
       "      <td>6989.931152</td>\n",
       "      <td>6910.412353</td>\n",
       "    </tr>\n",
       "    <tr>\n",
       "      <th>4513</th>\n",
       "      <td>2017-11-16</td>\n",
       "      <td>NaN</td>\n",
       "      <td>NaN</td>\n",
       "      <td>NaN</td>\n",
       "      <td>NaN</td>\n",
       "      <td>NaN</td>\n",
       "      <td>NaN</td>\n",
       "      <td>49382.673830</td>\n",
       "      <td>49719.997070</td>\n",
       "    </tr>\n",
       "    <tr>\n",
       "      <th>4518</th>\n",
       "      <td>2017-11-23</td>\n",
       "      <td>NaN</td>\n",
       "      <td>NaN</td>\n",
       "      <td>NaN</td>\n",
       "      <td>NaN</td>\n",
       "      <td>NaN</td>\n",
       "      <td>NaN</td>\n",
       "      <td>49373.792970</td>\n",
       "      <td>49324.969730</td>\n",
       "    </tr>\n",
       "    <tr>\n",
       "      <th>4542</th>\n",
       "      <td>2018-01-02</td>\n",
       "      <td>NaN</td>\n",
       "      <td>NaN</td>\n",
       "      <td>NaN</td>\n",
       "      <td>NaN</td>\n",
       "      <td>NaN</td>\n",
       "      <td>NaN</td>\n",
       "      <td>44927.763670</td>\n",
       "      <td>44190.302730</td>\n",
       "    </tr>\n",
       "    <tr>\n",
       "      <th>4755</th>\n",
       "      <td>2018-11-15</td>\n",
       "      <td>NaN</td>\n",
       "      <td>NaN</td>\n",
       "      <td>NaN</td>\n",
       "      <td>NaN</td>\n",
       "      <td>NaN</td>\n",
       "      <td>NaN</td>\n",
       "      <td>40569.835940</td>\n",
       "      <td>40775.886720</td>\n",
       "    </tr>\n",
       "    <tr>\n",
       "      <th>5000</th>\n",
       "      <td>2019-11-14</td>\n",
       "      <td>NaN</td>\n",
       "      <td>NaN</td>\n",
       "      <td>NaN</td>\n",
       "      <td>NaN</td>\n",
       "      <td>NaN</td>\n",
       "      <td>NaN</td>\n",
       "      <td>49695.419920</td>\n",
       "      <td>49364.432620</td>\n",
       "    </tr>\n",
       "  </tbody>\n",
       "</table>\n",
       "</div>"
      ],
      "text/plain": [
       "            Date  Open  High  ...  Volume           3MA           5MA\n",
       "1304  2005-01-03   NaN   NaN  ...     NaN   6989.931152   6910.412353\n",
       "4513  2017-11-16   NaN   NaN  ...     NaN  49382.673830  49719.997070\n",
       "4518  2017-11-23   NaN   NaN  ...     NaN  49373.792970  49324.969730\n",
       "4542  2018-01-02   NaN   NaN  ...     NaN  44927.763670  44190.302730\n",
       "4755  2018-11-15   NaN   NaN  ...     NaN  40569.835940  40775.886720\n",
       "5000  2019-11-14   NaN   NaN  ...     NaN  49695.419920  49364.432620\n",
       "\n",
       "[6 rows x 9 columns]"
      ]
     },
     "execution_count": 12,
     "metadata": {
      "tags": []
     },
     "output_type": "execute_result"
    }
   ],
   "source": [
    "raw_df.loc[raw_df['Open'].isna()]"
   ]
  },
  {
   "cell_type": "code",
   "execution_count": 13,
   "metadata": {
    "colab": {
     "base_uri": "https://localhost:8080/"
    },
    "id": "eIKrl7HwjxUh",
    "outputId": "10a74695-46a8-47a7-eb17-8fbfbfff8ceb"
   },
   "outputs": [
    {
     "data": {
      "text/plain": [
       "Date         0\n",
       "Open         0\n",
       "High         0\n",
       "Low          0\n",
       "Close        0\n",
       "Adj Close    0\n",
       "Volume       0\n",
       "3MA          0\n",
       "5MA          0\n",
       "dtype: int64"
      ]
     },
     "execution_count": 13,
     "metadata": {
      "tags": []
     },
     "output_type": "execute_result"
    }
   ],
   "source": [
    "# missing data 처리\n",
    "\n",
    "raw_df = raw_df.dropna()\n",
    "\n",
    "raw_df.isnull().sum()"
   ]
  },
  {
   "cell_type": "code",
   "execution_count": 14,
   "metadata": {
    "colab": {
     "base_uri": "https://localhost:8080/"
    },
    "id": "pWjPDWKXz1Ap",
    "outputId": "e7df723b-ea23-4a53-f5a8-550529c6bd05"
   },
   "outputs": [
    {
     "name": "stdout",
     "output_type": "stream",
     "text": [
      "          Open      High       Low  ...       3MA       5MA    Volume\n",
      "0     0.034868  0.032008  0.036288  ...  0.025192  0.025698  0.285359\n",
      "1     0.037375  0.035517  0.038470  ...  0.025634  0.025094  0.363715\n",
      "2     0.034982  0.031689  0.036518  ...  0.026163  0.025343  0.177799\n",
      "3     0.034868  0.031689  0.036059  ...  0.025987  0.025503  0.250704\n",
      "4     0.036235  0.033177  0.037437  ...  0.026163  0.026018  0.300555\n",
      "...        ...       ...       ...  ...       ...       ...       ...\n",
      "5264  0.891750  0.830923  0.896647  ...  0.895299  0.903144  0.064088\n",
      "5265  0.892890  0.834113  0.897795  ...  0.894920  0.900854  0.061199\n",
      "5266  0.899727  0.841557  0.903537  ...  0.897955  0.902457  0.091190\n",
      "5267  0.895169  0.835177  0.898944  ...  0.899472  0.902228  0.085145\n",
      "5268  0.895169  0.833050  0.896647  ...  0.897955  0.901083  0.090683\n",
      "\n",
      "[5269 rows x 8 columns]\n"
     ]
    }
   ],
   "source": [
    "# 정규화 (Date 제외한 모든 수치부분 정규화)\n",
    "\n",
    "from sklearn.preprocessing import MinMaxScaler\n",
    "\n",
    "scaler = MinMaxScaler()\n",
    "\n",
    "scale_cols = ['Open', 'High', 'Low', 'Close', 'Adj Close',\n",
    "              '3MA', '5MA', 'Volume']\n",
    "\n",
    "scaled_df = scaler.fit_transform(raw_df[scale_cols])\n",
    "\n",
    "scaled_df = pd.DataFrame(scaled_df, columns=scale_cols)\n",
    "\n",
    "print(scaled_df)"
   ]
  },
  {
   "cell_type": "markdown",
   "metadata": {
    "id": "XEocuNgdjv9f"
   },
   "source": [
    "주가예측을 위해 3MA, 5MA, Adj Close 항목을 feature 선정\n",
    " - 정답은 Adj Close 선정\n",
    " - 시계열 데이터를 위한 window_size = 40 선정"
   ]
  },
  {
   "cell_type": "code",
   "execution_count": 19,
   "metadata": {
    "id": "_Dekc31jpHlz"
   },
   "outputs": [],
   "source": [
    "# 입력 파라미터 feature, label => numpy type\n",
    "\n",
    "def make_sequene_dataset(feature, label, window_size):\n",
    "\n",
    "    feature_list = []      # 생성될 feature list\n",
    "    label_list = []        # 생성될 label list\n",
    "\n",
    "    for i in range(len(feature)-window_size):\n",
    "\n",
    "        feature_list.append(feature[i:i+window_size])\n",
    "        label_list.append(label[i+window_size])\n",
    "\n",
    "    return np.array(feature_list), np.array(label_list)"
   ]
  },
  {
   "cell_type": "code",
   "execution_count": 20,
   "metadata": {
    "id": "xB3BIwF-nPrw"
   },
   "outputs": [],
   "source": [
    "# feature_df, label_df 생성\n",
    "\n",
    "feature_cols = [ '3MA', '5MA', 'Adj Close' ]\n",
    "label_cols = [ 'Adj Close' ]\n",
    "\n",
    "feature_df = pd.DataFrame(scaled_df, columns=feature_cols)\n",
    "label_df = pd.DataFrame(scaled_df, columns=label_cols)"
   ]
  },
  {
   "cell_type": "code",
   "execution_count": 21,
   "metadata": {
    "colab": {
     "base_uri": "https://localhost:8080/"
    },
    "id": "DWutUAPSn62i",
    "outputId": "7c306118-49f8-48eb-f38b-3e2499fd1ed3"
   },
   "outputs": [
    {
     "name": "stdout",
     "output_type": "stream",
     "text": [
      "(5269, 3) (5269, 1)\n"
     ]
    }
   ],
   "source": [
    "# DataFrame => Numpy 변환\n",
    "\n",
    "feature_np = feature_df.to_numpy()\n",
    "label_np = label_df.to_numpy()\n",
    "\n",
    "print(feature_np.shape, label_np.shape)"
   ]
  },
  {
   "cell_type": "markdown",
   "metadata": {
    "id": "fvHj457p-dzb"
   },
   "source": [
    "시계열 데이터 생성 (make_sequence_dataset)"
   ]
  },
  {
   "cell_type": "code",
   "execution_count": 22,
   "metadata": {
    "colab": {
     "base_uri": "https://localhost:8080/"
    },
    "id": "aCTkuL3bn_8-",
    "outputId": "b86984f9-e31a-4529-bf1f-a2cb83eb69e5"
   },
   "outputs": [
    {
     "name": "stdout",
     "output_type": "stream",
     "text": [
      "(5229, 40, 3) (5229, 1)\n"
     ]
    }
   ],
   "source": [
    "window_size = 40\n",
    "\n",
    "X, Y = make_sequene_dataset(feature_np, label_np, window_size)\n",
    "\n",
    "print(X.shape, Y.shape)"
   ]
  },
  {
   "cell_type": "markdown",
   "metadata": {
    "id": "6wTuyxnw-ZNC"
   },
   "source": [
    "학습데이터, 테스트데이터 생성"
   ]
  },
  {
   "cell_type": "code",
   "execution_count": 24,
   "metadata": {
    "colab": {
     "base_uri": "https://localhost:8080/"
    },
    "id": "pDekSzzpoIiO",
    "outputId": "64b56498-14b6-4e8a-fae4-25ed30aa58e0"
   },
   "outputs": [
    {
     "name": "stdout",
     "output_type": "stream",
     "text": [
      "(5029, 40, 3) (5029, 1)\n",
      "(200, 40, 3) (200, 1)\n"
     ]
    }
   ],
   "source": [
    "# train, test 분리\n",
    "\n",
    "split = -200\n",
    "\n",
    "x_train = X[0:split]\n",
    "y_train = Y[0:split]\n",
    "\n",
    "x_test = X[split:]\n",
    "y_test = Y[split:]\n",
    "\n",
    "print(x_train.shape, y_train.shape)\n",
    "print(x_test.shape, y_test.shape)"
   ]
  },
  {
   "cell_type": "markdown",
   "metadata": {
    "id": "Sc9d9NJB-jV0"
   },
   "source": [
    "모델 구축 및 컴파일"
   ]
  },
  {
   "cell_type": "code",
   "execution_count": 63,
   "metadata": {
    "id": "s66hRSnAoK0D"
   },
   "outputs": [],
   "source": [
    "# model 생성\n",
    "\n",
    "model = Sequential()\n",
    "\n",
    "model.add(GRU(256, activation='tanh', input_shape=x_train[0].shape))\n",
    "\n",
    "model.add(Dense(1, activation='linear'))\n",
    "\n",
    "model.summary()"
   ]
  },
  {
   "cell_type": "code",
   "execution_count": 64,
   "metadata": {
    "colab": {
     "base_uri": "https://localhost:8080/"
    },
    "id": "yBlP2iimoNay",
    "outputId": "72406d27-03a5-4c3e-9da1-1084c832681f"
   },
   "outputs": [
    {
     "name": "stdout",
     "output_type": "stream",
     "text": [
      "Model: \"sequential_10\"\n",
      "_________________________________________________________________\n",
      "Layer (type)                 Output Shape              Param #   \n",
      "=================================================================\n",
      "gru_10 (GRU)                 (None, 256)               200448    \n",
      "_________________________________________________________________\n",
      "dense_10 (Dense)             (None, 1)                 257       \n",
      "=================================================================\n",
      "Total params: 200,705\n",
      "Trainable params: 200,705\n",
      "Non-trainable params: 0\n",
      "_________________________________________________________________\n"
     ]
    }
   ],
   "source": [
    "model.compile(loss='mse', optimizer='adam', metrics=['mae'])\n",
    "\n",
    "model.summary()"
   ]
  },
  {
   "cell_type": "markdown",
   "metadata": {
    "id": "t_9GD7Vg-mHw"
   },
   "source": [
    "모델 학습 (EarlyStopping 적용)"
   ]
  },
  {
   "cell_type": "code",
   "execution_count": 65,
   "metadata": {
    "colab": {
     "base_uri": "https://localhost:8080/"
    },
    "id": "xpAYLcPHoPUd",
    "outputId": "a9319243-8451-4f76-81a5-7a877d306c28"
   },
   "outputs": [
    {
     "name": "stdout",
     "output_type": "stream",
     "text": [
      "Epoch 1/100\n",
      "315/315 [==============================] - 3s 6ms/step - loss: 5.5169e-04 - mae: 0.0088 - val_loss: 4.1658e-04 - val_mae: 0.0142\n",
      "Epoch 2/100\n",
      "315/315 [==============================] - 2s 5ms/step - loss: 5.4852e-05 - mae: 0.0050 - val_loss: 4.4587e-04 - val_mae: 0.0176\n",
      "Epoch 3/100\n",
      "315/315 [==============================] - 2s 5ms/step - loss: 5.2801e-05 - mae: 0.0050 - val_loss: 2.8858e-04 - val_mae: 0.0119\n",
      "Epoch 4/100\n",
      "315/315 [==============================] - 2s 5ms/step - loss: 4.3009e-05 - mae: 0.0044 - val_loss: 4.5710e-04 - val_mae: 0.0166\n",
      "Epoch 5/100\n",
      "315/315 [==============================] - 2s 5ms/step - loss: 3.7159e-05 - mae: 0.0041 - val_loss: 2.7588e-04 - val_mae: 0.0119\n",
      "Epoch 6/100\n",
      "315/315 [==============================] - 2s 5ms/step - loss: 3.9813e-05 - mae: 0.0043 - val_loss: 2.1381e-04 - val_mae: 0.0104\n",
      "Epoch 7/100\n",
      "315/315 [==============================] - 2s 5ms/step - loss: 3.7851e-05 - mae: 0.0042 - val_loss: 2.6818e-04 - val_mae: 0.0133\n",
      "Epoch 8/100\n",
      "315/315 [==============================] - 2s 5ms/step - loss: 3.5127e-05 - mae: 0.0041 - val_loss: 4.4048e-04 - val_mae: 0.0168\n",
      "Epoch 9/100\n",
      "315/315 [==============================] - 2s 5ms/step - loss: 3.1904e-05 - mae: 0.0039 - val_loss: 3.2608e-04 - val_mae: 0.0138\n",
      "Epoch 10/100\n",
      "315/315 [==============================] - 2s 5ms/step - loss: 3.3819e-05 - mae: 0.0040 - val_loss: 3.0948e-04 - val_mae: 0.0134\n",
      "Epoch 11/100\n",
      "315/315 [==============================] - 2s 5ms/step - loss: 3.0161e-05 - mae: 0.0037 - val_loss: 2.3875e-04 - val_mae: 0.0113\n"
     ]
    },
    {
     "data": {
      "text/plain": [
       "<tensorflow.python.keras.callbacks.History at 0x7fe23ca5dc10>"
      ]
     },
     "execution_count": 65,
     "metadata": {
      "tags": []
     },
     "output_type": "execute_result"
    }
   ],
   "source": [
    "from tensorflow.keras.callbacks import EarlyStopping\n",
    "\n",
    "early_stop = EarlyStopping(monitor='val_loss', patience=5)\n",
    "\n",
    "model.fit(x_train, y_train, \n",
    "          validation_data=(x_test, y_test),\n",
    "          epochs=100, batch_size=16,\n",
    "          callbacks=[early_stop])"
   ]
  },
  {
   "cell_type": "markdown",
   "metadata": {
    "id": "CN5J-MPa-q9_"
   },
   "source": [
    "예측을 통한 정답과의 비교 \n",
    "(오차계산 MAPE 사용, 평균절대값백분율오차)"
   ]
  },
  {
   "cell_type": "code",
   "execution_count": 66,
   "metadata": {
    "colab": {
     "base_uri": "https://localhost:8080/",
     "height": 404
    },
    "id": "iUUCbGgQoSQ1",
    "outputId": "8b5a7931-be14-45d9-bc02-48329a3d66d5"
   },
   "outputs": [
    {
     "data": {
      "image/png": "[encoded data removed]",
      "text/plain": [
       "<Figure size 864x432 with 1 Axes>"
      ]
     },
     "metadata": {
      "needs_background": "light",
      "tags": []
     },
     "output_type": "display_data"
    }
   ],
   "source": [
    "pred = model.predict(x_test)\n",
    "\n",
    "plt.figure(figsize=(12, 6))\n",
    "plt.title('3MA + 5MA + Adj Close, window_size=40')\n",
    "plt.ylabel('adj close')\n",
    "plt.xlabel('period')\n",
    "plt.plot(y_test, label='actual')\n",
    "plt.plot(pred, label='prediction')\n",
    "plt.grid()\n",
    "plt.legend(loc='best')\n",
    "\n",
    "plt.show()"
   ]
  },
  {
   "cell_type": "code",
   "execution_count": 67,
   "metadata": {
    "colab": {
     "base_uri": "https://localhost:8080/"
    },
    "id": "3rpiFjKRoZlk",
    "outputId": "106859fb-6f5a-4144-e67b-6f3bedf43ae7"
   },
   "outputs": [
    {
     "name": "stdout",
     "output_type": "stream",
     "text": [
      "0.013983545333023276\n"
     ]
    }
   ],
   "source": [
    "# 평균절대값백분율오차계산 (MAPE)\n",
    "\n",
    "print( np.sum(abs(y_test-pred)/y_test) / len(x_test) )"
   ]
  },
  {
   "cell_type": "code",
   "execution_count": null,
   "metadata": {
    "id": "hBbaMS-VjjL_"
   },
   "outputs": [],
   "source": []
  }
 ],
 "metadata": {
  "accelerator": "GPU",
  "colab": {
   "collapsed_sections": [],
   "name": "TF_2_x_LEC_23_GRU_Example.ipynb",
   "provenance": []
  },
  "kernelspec": {
   "display_name": "Python 3",
   "language": "python",
   "name": "python3"
  },
  "language_info": {
   "codemirror_mode": {
    "name": "ipython",
    "version": 3
   },
   "file_extension": ".py",
   "mimetype": "text/x-python",
   "name": "python",
   "nbconvert_exporter": "python",
   "pygments_lexer": "ipython3",
   "version": "3.7.3"
  }
 },
 "nbformat": 4,
 "nbformat_minor": 1
}
