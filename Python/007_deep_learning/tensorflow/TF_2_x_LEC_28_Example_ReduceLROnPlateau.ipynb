{
  "cells": [
    {
      "cell_type": "code",
      "execution_count": 1,
      "metadata": {
        "id": "cyOmMKaVNLix"
      },
      "outputs": [],
      "source": [
        "import tensorflow as tf\n",
        "import numpy as np\n",
        "\n",
        "from tensorflow.keras.models import Sequential\n",
        "from tensorflow.keras.layers import Flatten, Dense\n",
        "\n",
        "from tensorflow.keras.datasets import mnist"
      ]
    },
    {
      "cell_type": "code",
      "execution_count": 2,
      "metadata": {
        "colab": {
          "base_uri": "https://localhost:8080/"
        },
        "id": "tmt1dca5PD75",
        "outputId": "2d158efe-97f3-4c07-b701-83c5ff656374"
      },
      "outputs": [
        {
          "output_type": "stream",
          "name": "stdout",
          "text": [
            "Downloading data from https://storage.googleapis.com/tensorflow/tf-keras-datasets/mnist.npz\n",
            "11493376/11490434 [==============================] - 0s 0us/step\n",
            "11501568/11490434 [==============================] - 0s 0us/step\n",
            "\n",
            "x_train.shape =  (60000, 28, 28) , t_train.shape =  (60000,)\n",
            "x_test.shape =  (10000, 28, 28) , t_test.shape =  (10000,)\n"
          ]
        }
      ],
      "source": [
        "(x_train, t_train), (x_test, t_test) = mnist.load_data()   \n",
        "\n",
        "print('')\n",
        "print('x_train.shape = ', x_train.shape, ', t_train.shape = ', t_train.shape)\n",
        "print('x_test.shape = ', x_test.shape, ', t_test.shape = ', t_test.shape)"
      ]
    },
    {
      "cell_type": "code",
      "execution_count": 3,
      "metadata": {
        "id": "jy2LJY6mSfd9"
      },
      "outputs": [],
      "source": [
        "# x_train, x_test 값 범위를 0 ~ 1 사이로 정규화\n",
        "\n",
        "x_train = x_train / 255.0\n",
        "x_test = x_test / 255.0"
      ]
    },
    {
      "cell_type": "code",
      "source": [
        "t_train = tf.keras.utils.to_categorical(t_train, num_classes=10)\n",
        "\n",
        "t_test = tf.keras.utils.to_categorical(t_test, num_classes=10)"
      ],
      "metadata": {
        "id": "zlzCy08VTomA"
      },
      "execution_count": 4,
      "outputs": []
    },
    {
      "cell_type": "code",
      "execution_count": 5,
      "metadata": {
        "id": "DnXY9nEDU1MS"
      },
      "outputs": [],
      "source": [
        "model = Sequential()      # model 생성\n",
        "\n",
        "model.add(Flatten(input_shape=(28, 28)))  \n",
        "\n",
        "model.add(Dense(100, activation='relu'))     \n",
        "\n",
        "model.add(Dense(10, activation='softmax'))"
      ]
    },
    {
      "cell_type": "code",
      "execution_count": 6,
      "metadata": {
        "colab": {
          "base_uri": "https://localhost:8080/"
        },
        "id": "-8w6Gk2HW75r",
        "outputId": "8064b4cb-26cd-4209-bded-916e1195b61e"
      },
      "outputs": [
        {
          "output_type": "stream",
          "name": "stdout",
          "text": [
            "Model: \"sequential\"\n",
            "_________________________________________________________________\n",
            " Layer (type)                Output Shape              Param #   \n",
            "=================================================================\n",
            " flatten (Flatten)           (None, 784)               0         \n",
            "                                                                 \n",
            " dense (Dense)               (None, 100)               78500     \n",
            "                                                                 \n",
            " dense_1 (Dense)             (None, 10)                1010      \n",
            "                                                                 \n",
            "=================================================================\n",
            "Total params: 79,510\n",
            "Trainable params: 79,510\n",
            "Non-trainable params: 0\n",
            "_________________________________________________________________\n"
          ]
        }
      ],
      "source": [
        "model.compile(optimizer=tf.keras.optimizers.Adam(learning_rate=1e-3), \n",
        "              loss='categorical_crossentropy', \n",
        "              metrics=['accuracy'])\n",
        "\n",
        "model.summary()"
      ]
    },
    {
      "cell_type": "code",
      "execution_count": 7,
      "metadata": {
        "colab": {
          "base_uri": "https://localhost:8080/"
        },
        "id": "4s4pVgNtbTld",
        "outputId": "daac1c00-c406-4c13-c1b1-5a5673ca7e23"
      },
      "outputs": [
        {
          "output_type": "stream",
          "name": "stdout",
          "text": [
            "Epoch 1/30\n",
            "1500/1500 [==============================] - 6s 3ms/step - loss: 0.3023 - accuracy: 0.9147 - val_loss: 0.1654 - val_accuracy: 0.9513 - lr: 0.0010\n",
            "Epoch 2/30\n",
            "1500/1500 [==============================] - 4s 3ms/step - loss: 0.1399 - accuracy: 0.9591 - val_loss: 0.1164 - val_accuracy: 0.9658 - lr: 0.0010\n",
            "Epoch 3/30\n",
            "1500/1500 [==============================] - 4s 3ms/step - loss: 0.0958 - accuracy: 0.9710 - val_loss: 0.1044 - val_accuracy: 0.9685 - lr: 0.0010\n",
            "Epoch 4/30\n",
            "1500/1500 [==============================] - 4s 3ms/step - loss: 0.0717 - accuracy: 0.9782 - val_loss: 0.1036 - val_accuracy: 0.9698 - lr: 0.0010\n",
            "Epoch 5/30\n",
            "1500/1500 [==============================] - 4s 3ms/step - loss: 0.0557 - accuracy: 0.9827 - val_loss: 0.0970 - val_accuracy: 0.9708 - lr: 0.0010\n",
            "Epoch 6/30\n",
            "1500/1500 [==============================] - 4s 3ms/step - loss: 0.0446 - accuracy: 0.9863 - val_loss: 0.0885 - val_accuracy: 0.9728 - lr: 0.0010\n",
            "Epoch 7/30\n",
            "1500/1500 [==============================] - 4s 3ms/step - loss: 0.0367 - accuracy: 0.9888 - val_loss: 0.0987 - val_accuracy: 0.9709 - lr: 0.0010\n",
            "Epoch 8/30\n",
            "1500/1500 [==============================] - 5s 3ms/step - loss: 0.0288 - accuracy: 0.9915 - val_loss: 0.0973 - val_accuracy: 0.9718 - lr: 0.0010\n",
            "Epoch 9/30\n",
            "1496/1500 [============================>.] - ETA: 0s - loss: 0.0244 - accuracy: 0.9922\n",
            "Epoch 00009: ReduceLROnPlateau reducing learning rate to 0.0005000000237487257.\n",
            "1500/1500 [==============================] - 4s 3ms/step - loss: 0.0245 - accuracy: 0.9922 - val_loss: 0.0968 - val_accuracy: 0.9717 - lr: 0.0010\n",
            "Epoch 10/30\n",
            "1500/1500 [==============================] - 4s 3ms/step - loss: 0.0130 - accuracy: 0.9966 - val_loss: 0.0897 - val_accuracy: 0.9755 - lr: 5.0000e-04\n",
            "Epoch 11/30\n",
            "1500/1500 [==============================] - 5s 3ms/step - loss: 0.0100 - accuracy: 0.9980 - val_loss: 0.0956 - val_accuracy: 0.9757 - lr: 5.0000e-04\n",
            "Epoch 12/30\n",
            "1477/1500 [============================>.] - ETA: 0s - loss: 0.0084 - accuracy: 0.9987\n",
            "Epoch 00012: ReduceLROnPlateau reducing learning rate to 0.0002500000118743628.\n",
            "1500/1500 [==============================] - 4s 3ms/step - loss: 0.0084 - accuracy: 0.9987 - val_loss: 0.0935 - val_accuracy: 0.9753 - lr: 5.0000e-04\n",
            "Epoch 13/30\n",
            "1500/1500 [==============================] - 4s 3ms/step - loss: 0.0052 - accuracy: 0.9995 - val_loss: 0.0905 - val_accuracy: 0.9769 - lr: 2.5000e-04\n",
            "Epoch 14/30\n",
            "1500/1500 [==============================] - 4s 3ms/step - loss: 0.0045 - accuracy: 0.9996 - val_loss: 0.0912 - val_accuracy: 0.9768 - lr: 2.5000e-04\n",
            "Epoch 15/30\n",
            "1489/1500 [============================>.] - ETA: 0s - loss: 0.0039 - accuracy: 0.9998\n",
            "Epoch 00015: ReduceLROnPlateau reducing learning rate to 0.0001250000059371814.\n",
            "1500/1500 [==============================] - 4s 3ms/step - loss: 0.0039 - accuracy: 0.9998 - val_loss: 0.0917 - val_accuracy: 0.9778 - lr: 2.5000e-04\n",
            "Epoch 16/30\n",
            "1500/1500 [==============================] - 4s 3ms/step - loss: 0.0030 - accuracy: 1.0000 - val_loss: 0.0932 - val_accuracy: 0.9775 - lr: 1.2500e-04\n",
            "Epoch 17/30\n",
            "1500/1500 [==============================] - 4s 3ms/step - loss: 0.0027 - accuracy: 1.0000 - val_loss: 0.0938 - val_accuracy: 0.9776 - lr: 1.2500e-04\n",
            "Epoch 18/30\n",
            "1492/1500 [============================>.] - ETA: 0s - loss: 0.0025 - accuracy: 1.0000\n",
            "Epoch 00018: ReduceLROnPlateau reducing learning rate to 6.25000029685907e-05.\n",
            "1500/1500 [==============================] - 4s 3ms/step - loss: 0.0025 - accuracy: 1.0000 - val_loss: 0.0954 - val_accuracy: 0.9780 - lr: 1.2500e-04\n",
            "Epoch 19/30\n",
            "1500/1500 [==============================] - 4s 3ms/step - loss: 0.0021 - accuracy: 1.0000 - val_loss: 0.0956 - val_accuracy: 0.9772 - lr: 6.2500e-05\n",
            "Epoch 20/30\n",
            "1500/1500 [==============================] - 4s 3ms/step - loss: 0.0020 - accuracy: 1.0000 - val_loss: 0.0954 - val_accuracy: 0.9777 - lr: 6.2500e-05\n",
            "Epoch 21/30\n",
            "1484/1500 [============================>.] - ETA: 0s - loss: 0.0019 - accuracy: 1.0000\n",
            "Epoch 00021: ReduceLROnPlateau reducing learning rate to 3.125000148429535e-05.\n",
            "1500/1500 [==============================] - 4s 3ms/step - loss: 0.0019 - accuracy: 1.0000 - val_loss: 0.0966 - val_accuracy: 0.9776 - lr: 6.2500e-05\n",
            "Epoch 22/30\n",
            "1500/1500 [==============================] - 4s 3ms/step - loss: 0.0017 - accuracy: 1.0000 - val_loss: 0.0965 - val_accuracy: 0.9778 - lr: 3.1250e-05\n",
            "Epoch 23/30\n",
            "1500/1500 [==============================] - 4s 3ms/step - loss: 0.0017 - accuracy: 1.0000 - val_loss: 0.0965 - val_accuracy: 0.9778 - lr: 3.1250e-05\n",
            "Epoch 24/30\n",
            "1497/1500 [============================>.] - ETA: 0s - loss: 0.0016 - accuracy: 1.0000\n",
            "Epoch 00024: ReduceLROnPlateau reducing learning rate to 1.5625000742147677e-05.\n",
            "1500/1500 [==============================] - 4s 3ms/step - loss: 0.0016 - accuracy: 1.0000 - val_loss: 0.0971 - val_accuracy: 0.9776 - lr: 3.1250e-05\n",
            "Epoch 25/30\n",
            "1500/1500 [==============================] - 4s 3ms/step - loss: 0.0016 - accuracy: 1.0000 - val_loss: 0.0969 - val_accuracy: 0.9776 - lr: 1.5625e-05\n",
            "Epoch 26/30\n",
            "1500/1500 [==============================] - 4s 3ms/step - loss: 0.0015 - accuracy: 1.0000 - val_loss: 0.0973 - val_accuracy: 0.9773 - lr: 1.5625e-05\n",
            "Epoch 27/30\n",
            "1487/1500 [============================>.] - ETA: 0s - loss: 0.0015 - accuracy: 1.0000\n",
            "Epoch 00027: ReduceLROnPlateau reducing learning rate to 7.812500371073838e-06.\n",
            "1500/1500 [==============================] - 4s 3ms/step - loss: 0.0015 - accuracy: 1.0000 - val_loss: 0.0974 - val_accuracy: 0.9777 - lr: 1.5625e-05\n",
            "Epoch 28/30\n",
            "1500/1500 [==============================] - 4s 3ms/step - loss: 0.0015 - accuracy: 1.0000 - val_loss: 0.0975 - val_accuracy: 0.9773 - lr: 7.8125e-06\n",
            "Epoch 29/30\n",
            "1500/1500 [==============================] - 4s 3ms/step - loss: 0.0015 - accuracy: 1.0000 - val_loss: 0.0977 - val_accuracy: 0.9777 - lr: 7.8125e-06\n",
            "Epoch 30/30\n",
            "1486/1500 [============================>.] - ETA: 0s - loss: 0.0015 - accuracy: 1.0000\n",
            "Epoch 00030: ReduceLROnPlateau reducing learning rate to 3.906250185536919e-06.\n",
            "1500/1500 [==============================] - 4s 3ms/step - loss: 0.0015 - accuracy: 1.0000 - val_loss: 0.0976 - val_accuracy: 0.9776 - lr: 7.8125e-06\n"
          ]
        }
      ],
      "source": [
        "from tensorflow.keras.callbacks import ReduceLROnPlateau\n",
        "\n",
        "reduceLR = ReduceLROnPlateau(monitor='val_loss', factor=0.5, patience=3, verbose=1)\n",
        "\n",
        "hist = model.fit(x_train, t_train, epochs=30, validation_split=0.2, callbacks=[reduceLR])"
      ]
    },
    {
      "cell_type": "code",
      "execution_count": 8,
      "metadata": {
        "colab": {
          "base_uri": "https://localhost:8080/"
        },
        "id": "JS2bZ_QTd2Go",
        "outputId": "ccca4961-e149-43e9-e2c2-e6075e49b907"
      },
      "outputs": [
        {
          "output_type": "stream",
          "name": "stdout",
          "text": [
            "313/313 [==============================] - 1s 3ms/step - loss: 0.0783 - accuracy: 0.9801\n"
          ]
        },
        {
          "output_type": "execute_result",
          "data": {
            "text/plain": [
              "[0.07833239436149597, 0.9800999760627747]"
            ]
          },
          "metadata": {},
          "execution_count": 8
        }
      ],
      "source": [
        "# test data 이용하여 정확도 검증\n",
        "\n",
        "model.evaluate(x_test, t_test)"
      ]
    },
    {
      "cell_type": "code",
      "execution_count": 9,
      "metadata": {
        "colab": {
          "base_uri": "https://localhost:8080/",
          "height": 295
        },
        "id": "LGgx_34Keskt",
        "outputId": "db8b7533-27e9-4d88-80a3-d5d0461e2950"
      },
      "outputs": [
        {
          "output_type": "display_data",
          "data": {
            "image/png": "[encoded data removed]",
            "text/plain": [
              "<Figure size 432x288 with 1 Axes>"
            ]
          },
          "metadata": {
            "needs_background": "light"
          }
        }
      ],
      "source": [
        "# 손실함수 그래프\n",
        "import matplotlib.pyplot as plt\n",
        "\n",
        "plt.title('Loss Trend')\n",
        "plt.xlabel('epochs')\n",
        "plt.ylabel('loss')\n",
        "plt.grid()\n",
        "\n",
        "plt.plot(hist.history['loss'], label='training loss')\n",
        "plt.plot(hist.history['val_loss'], label='validation loss')\n",
        "plt.legend(loc='best')\n",
        "\n",
        "plt.show()"
      ]
    },
    {
      "cell_type": "code",
      "execution_count": 10,
      "metadata": {
        "colab": {
          "base_uri": "https://localhost:8080/",
          "height": 295
        },
        "id": "NTFcF9yPf82R",
        "outputId": "eae22bb3-bc9a-48f6-e800-aac5b50749ad"
      },
      "outputs": [
        {
          "output_type": "display_data",
          "data": {
            "image/png": "[encoded data removed]",
            "text/plain": [
              "<Figure size 432x288 with 1 Axes>"
            ]
          },
          "metadata": {
            "needs_background": "light"
          }
        }
      ],
      "source": [
        "# 정확도 함수 그래프\n",
        "\n",
        "plt.title('Accuracy Trend')\n",
        "plt.xlabel('epochs')\n",
        "plt.ylabel('accuracy')\n",
        "plt.grid()\n",
        "\n",
        "plt.plot(hist.history['accuracy'], label='training accuracy')\n",
        "plt.plot(hist.history['val_accuracy'], label='validation accuracy')\n",
        "plt.legend(loc='best')\n",
        "\n",
        "plt.show()"
      ]
    },
    {
      "cell_type": "code",
      "execution_count": 11,
      "metadata": {
        "colab": {
          "base_uri": "https://localhost:8080/",
          "height": 295
        },
        "id": "-eT9BeUpg2jO",
        "outputId": "3537f879-401e-4ca7-a01f-b43bc21d1ea9"
      },
      "outputs": [
        {
          "output_type": "display_data",
          "data": {
            "image/png": "[encoded data removed]",
            "text/plain": [
              "<Figure size 576x288 with 2 Axes>"
            ]
          },
          "metadata": {
            "needs_background": "light"
          }
        }
      ],
      "source": [
        "plt.figure(figsize=(8, 4))\n",
        "\n",
        "plt.subplot(1, 2, 1)\n",
        "\n",
        "plt.title('Loss Trend')\n",
        "plt.grid()\n",
        "plt.xlabel('epochs')\n",
        "plt.ylabel('loss')\n",
        "\n",
        "plt.plot(hist.history['loss'], label='training loss')\n",
        "plt.plot(hist.history['val_loss'], label='validation loss')\n",
        "plt.legend(loc='best')\n",
        "\n",
        "\n",
        "plt.subplot(1, 2, 2)\n",
        "\n",
        "plt.xlabel('epochs')\n",
        "plt.ylabel('accuracy')\n",
        "plt.grid()\n",
        "\n",
        "plt.plot(hist.history['accuracy'], label='training accuracy')\n",
        "plt.plot(hist.history['val_accuracy'], label='validation accuracy')\n",
        "plt.legend(loc='best')\n",
        "\n",
        "plt.show()"
      ]
    },
    {
      "cell_type": "code",
      "execution_count": null,
      "metadata": {
        "id": "2uC7r59VfPrF"
      },
      "outputs": [],
      "source": [
        ""
      ]
    }
  ],
  "metadata": {
    "accelerator": "GPU",
    "colab": {
      "collapsed_sections": [],
      "name": "TF_2.x_LEC_28_Example_ReduceLROnPlateau.ipynb",
      "provenance": []
    },
    "kernelspec": {
      "display_name": "Python 3",
      "language": "python",
      "name": "python3"
    },
    "language_info": {
      "codemirror_mode": {
        "name": "ipython",
        "version": 3
      },
      "file_extension": ".py",
      "mimetype": "text/x-python",
      "name": "python",
      "nbconvert_exporter": "python",
      "pygments_lexer": "ipython3",
      "version": "3.7.3"
    }
  },
  "nbformat": 4,
  "nbformat_minor": 0
}