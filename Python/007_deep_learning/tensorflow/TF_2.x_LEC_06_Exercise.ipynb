{
  "cells": [
    {
      "cell_type": "code",
      "execution_count": 1,
      "metadata": {
        "colab": {
          "base_uri": "https://localhost:8080/",
          "height": 34
        },
        "colab_type": "code",
        "id": "SmSiuzrH79Rq",
        "outputId": "32f2602e-7e07-47a3-bb77-a9ffdac9744d"
      },
      "outputs": [
        {
          "name": "stdout",
          "output_type": "stream",
          "text": [
            "2.9.1\n"
          ]
        }
      ],
      "source": [
        "import tensorflow as tf\n",
        "\n",
        "from tensorflow.keras.models import Sequential\n",
        "from tensorflow.keras.layers import Flatten, Dense\n",
        "from tensorflow.keras.optimizers import SGD, Adam\n",
        "\n",
        "import numpy as np\n",
        "\n",
        "print(tf.__version__)"
      ]
    },
    {
      "cell_type": "code",
      "execution_count": 2,
      "metadata": {
        "colab": {
          "base_uri": "https://localhost:8080/",
          "height": 34
        },
        "colab_type": "code",
        "id": "j_1JX_S-8YrX",
        "outputId": "3b097c03-fe96-4cf3-fcd0-4970cf06c2ed"
      },
      "outputs": [
        {
          "name": "stdout",
          "output_type": "stream",
          "text": [
            "x_data.shape =  (15, 3) , t_data.shape =  (15,)\n"
          ]
        }
      ],
      "source": [
        "# train data \n",
        "# t_data = 2*x1 -3*x2 + 2*x3\n",
        "\n",
        "x_data = np.array([ [1, 2, 0], [5, 4, 3], [1, 2, -1], [3, 1, 0], [2, 4, 2], \n",
        "                    [4, 1, 2], [-1, 3, 2], [4, 3, 3], [0, 2, 6], [2, 2, 1],\n",
        "                    [1, -2, -2], [0, 1, 3], [1, 1, 3], [0, 1, 4], [2, 3, 3] ])\n",
        "\n",
        "t_data = np.array([-4, 4, -6, 3, -4, \n",
        "                   9, -7, 5, 6, 0,\n",
        "                   4, 3, 5, 5, 1])\n",
        "\n",
        "print('x_data.shape = ', x_data.shape, ', t_data.shape = ', t_data.shape)"
      ]
    },
    {
      "cell_type": "code",
      "execution_count": 3,
      "metadata": {
        "colab": {},
        "colab_type": "code",
        "id": "ezD7UAJ3cjQm"
      },
      "outputs": [],
      "source": [
        "# Linear Regression 을 keras 이용하여 생성\n",
        "\n",
        "model = Sequential()\n",
        "\n",
        "model.add(Dense(1, input_shape=(3, ),activation='linear'))  # 노드 3개인 출력층 생성"
      ]
    },
    {
      "cell_type": "code",
      "execution_count": 4,
      "metadata": {
        "colab": {
          "base_uri": "https://localhost:8080/",
          "height": 203
        },
        "colab_type": "code",
        "id": "u3q03Vt2AXFR",
        "outputId": "0c87f748-84bb-45fa-a656-c493725da535"
      },
      "outputs": [
        {
          "name": "stdout",
          "output_type": "stream",
          "text": [
            "Model: \"sequential\"\n",
            "_________________________________________________________________\n",
            " Layer (type)                Output Shape              Param #   \n",
            "=================================================================\n",
            " dense (Dense)               (None, 1)                 4         \n",
            "                                                                 \n",
            "=================================================================\n",
            "Total params: 4\n",
            "Trainable params: 4\n",
            "Non-trainable params: 0\n",
            "_________________________________________________________________\n"
          ]
        }
      ],
      "source": [
        "# 학습을 위한 optimizer, 손실함수 loss 정의\n",
        "\n",
        "model.compile(optimizer=SGD(learning_rate=1e-2), loss='mse')\n",
        "\n",
        "model.summary()"
      ]
    },
    {
      "cell_type": "code",
      "execution_count": 5,
      "metadata": {
        "colab": {
          "base_uri": "https://localhost:8080/",
          "height": 1000
        },
        "colab_type": "code",
        "id": "e_WRpBwEAsIt",
        "outputId": "f3cc039a-2f7c-4159-f369-60a53d3b353e"
      },
      "outputs": [
        {
          "name": "stdout",
          "output_type": "stream",
          "text": [
            "Epoch 1/100\n",
            "1/1 [==============================] - 1s 592ms/step - loss: 18.1878\n",
            "Epoch 2/100\n",
            "1/1 [==============================] - 0s 4ms/step - loss: 14.3803\n",
            "Epoch 3/100\n",
            "1/1 [==============================] - 0s 3ms/step - loss: 12.2406\n",
            "Epoch 4/100\n",
            "1/1 [==============================] - 0s 3ms/step - loss: 10.9371\n",
            "Epoch 5/100\n",
            "1/1 [==============================] - 0s 3ms/step - loss: 10.0585\n",
            "Epoch 6/100\n",
            "1/1 [==============================] - 0s 5ms/step - loss: 9.4012\n",
            "Epoch 7/100\n",
            "1/1 [==============================] - 0s 4ms/step - loss: 8.8641\n",
            "Epoch 8/100\n",
            "1/1 [==============================] - 0s 4ms/step - loss: 8.3967\n",
            "Epoch 9/100\n",
            "1/1 [==============================] - 0s 3ms/step - loss: 7.9737\n",
            "Epoch 10/100\n",
            "1/1 [==============================] - 0s 3ms/step - loss: 7.5820\n",
            "Epoch 11/100\n",
            "1/1 [==============================] - 0s 3ms/step - loss: 7.2146\n",
            "Epoch 12/100\n",
            "1/1 [==============================] - 0s 5ms/step - loss: 6.8676\n",
            "Epoch 13/100\n",
            "1/1 [==============================] - 0s 3ms/step - loss: 6.5387\n",
            "Epoch 14/100\n",
            "1/1 [==============================] - 0s 3ms/step - loss: 6.2264\n",
            "Epoch 15/100\n",
            "1/1 [==============================] - 0s 4ms/step - loss: 5.9294\n",
            "Epoch 16/100\n",
            "1/1 [==============================] - 0s 4ms/step - loss: 5.6470\n",
            "Epoch 17/100\n",
            "1/1 [==============================] - 0s 3ms/step - loss: 5.3782\n",
            "Epoch 18/100\n",
            "1/1 [==============================] - 0s 3ms/step - loss: 5.1224\n",
            "Epoch 19/100\n",
            "1/1 [==============================] - 0s 3ms/step - loss: 4.8789\n",
            "Epoch 20/100\n",
            "1/1 [==============================] - 0s 4ms/step - loss: 4.6470\n",
            "Epoch 21/100\n",
            "1/1 [==============================] - 0s 5ms/step - loss: 4.4263\n",
            "Epoch 22/100\n",
            "1/1 [==============================] - 0s 5ms/step - loss: 4.2161\n",
            "Epoch 23/100\n",
            "1/1 [==============================] - 0s 4ms/step - loss: 4.0160\n",
            "Epoch 24/100\n",
            "1/1 [==============================] - 0s 3ms/step - loss: 3.8254\n",
            "Epoch 25/100\n",
            "1/1 [==============================] - 0s 3ms/step - loss: 3.6440\n",
            "Epoch 26/100\n",
            "1/1 [==============================] - 0s 3ms/step - loss: 3.4711\n",
            "Epoch 27/100\n",
            "1/1 [==============================] - 0s 3ms/step - loss: 3.3066\n",
            "Epoch 28/100\n",
            "1/1 [==============================] - 0s 4ms/step - loss: 3.1498\n",
            "Epoch 29/100\n",
            "1/1 [==============================] - 0s 5ms/step - loss: 3.0005\n",
            "Epoch 30/100\n",
            "1/1 [==============================] - 0s 4ms/step - loss: 2.8583\n",
            "Epoch 31/100\n",
            "1/1 [==============================] - 0s 3ms/step - loss: 2.7229\n",
            "Epoch 32/100\n",
            "1/1 [==============================] - 0s 3ms/step - loss: 2.5939\n",
            "Epoch 33/100\n",
            "1/1 [==============================] - 0s 3ms/step - loss: 2.4710\n",
            "Epoch 34/100\n",
            "1/1 [==============================] - 0s 5ms/step - loss: 2.3540\n",
            "Epoch 35/100\n",
            "1/1 [==============================] - 0s 4ms/step - loss: 2.2425\n",
            "Epoch 36/100\n",
            "1/1 [==============================] - 0s 3ms/step - loss: 2.1364\n",
            "Epoch 37/100\n",
            "1/1 [==============================] - 0s 4ms/step - loss: 2.0352\n",
            "Epoch 38/100\n",
            "1/1 [==============================] - 0s 4ms/step - loss: 1.9389\n",
            "Epoch 39/100\n",
            "1/1 [==============================] - 0s 4ms/step - loss: 1.8471\n",
            "Epoch 40/100\n",
            "1/1 [==============================] - 0s 3ms/step - loss: 1.7597\n",
            "Epoch 41/100\n",
            "1/1 [==============================] - 0s 3ms/step - loss: 1.6764\n",
            "Epoch 42/100\n",
            "1/1 [==============================] - 0s 4ms/step - loss: 1.5970\n",
            "Epoch 43/100\n",
            "1/1 [==============================] - 0s 4ms/step - loss: 1.5215\n",
            "Epoch 44/100\n",
            "1/1 [==============================] - 0s 3ms/step - loss: 1.4495\n",
            "Epoch 45/100\n",
            "1/1 [==============================] - 0s 2ms/step - loss: 1.3809\n",
            "Epoch 46/100\n",
            "1/1 [==============================] - 0s 3ms/step - loss: 1.3156\n",
            "Epoch 47/100\n",
            "1/1 [==============================] - 0s 3ms/step - loss: 1.2533\n",
            "Epoch 48/100\n",
            "1/1 [==============================] - 0s 5ms/step - loss: 1.1940\n",
            "Epoch 49/100\n",
            "1/1 [==============================] - 0s 4ms/step - loss: 1.1375\n",
            "Epoch 50/100\n",
            "1/1 [==============================] - 0s 3ms/step - loss: 1.0837\n",
            "Epoch 51/100\n",
            "1/1 [==============================] - 0s 4ms/step - loss: 1.0325\n",
            "Epoch 52/100\n",
            "1/1 [==============================] - 0s 4ms/step - loss: 0.9836\n",
            "Epoch 53/100\n",
            "1/1 [==============================] - 0s 3ms/step - loss: 0.9371\n",
            "Epoch 54/100\n",
            "1/1 [==============================] - 0s 3ms/step - loss: 0.8928\n",
            "Epoch 55/100\n",
            "1/1 [==============================] - 0s 3ms/step - loss: 0.8506\n",
            "Epoch 56/100\n",
            "1/1 [==============================] - 0s 3ms/step - loss: 0.8104\n",
            "Epoch 57/100\n",
            "1/1 [==============================] - 0s 2ms/step - loss: 0.7720\n",
            "Epoch 58/100\n",
            "1/1 [==============================] - 0s 3ms/step - loss: 0.7355\n",
            "Epoch 59/100\n",
            "1/1 [==============================] - 0s 3ms/step - loss: 0.7008\n",
            "Epoch 60/100\n",
            "1/1 [==============================] - 0s 5ms/step - loss: 0.6676\n",
            "Epoch 61/100\n",
            "1/1 [==============================] - 0s 4ms/step - loss: 0.6361\n",
            "Epoch 62/100\n",
            "1/1 [==============================] - 0s 2ms/step - loss: 0.6060\n",
            "Epoch 63/100\n",
            "1/1 [==============================] - 0s 2ms/step - loss: 0.5773\n",
            "Epoch 64/100\n",
            "1/1 [==============================] - 0s 4ms/step - loss: 0.5501\n",
            "Epoch 65/100\n",
            "1/1 [==============================] - 0s 3ms/step - loss: 0.5241\n",
            "Epoch 66/100\n",
            "1/1 [==============================] - 0s 2ms/step - loss: 0.4993\n",
            "Epoch 67/100\n",
            "1/1 [==============================] - 0s 2ms/step - loss: 0.4757\n",
            "Epoch 68/100\n",
            "1/1 [==============================] - 0s 4ms/step - loss: 0.4532\n",
            "Epoch 69/100\n",
            "1/1 [==============================] - 0s 4ms/step - loss: 0.4318\n",
            "Epoch 70/100\n",
            "1/1 [==============================] - 0s 4ms/step - loss: 0.4114\n",
            "Epoch 71/100\n",
            "1/1 [==============================] - 0s 2ms/step - loss: 0.3919\n",
            "Epoch 72/100\n",
            "1/1 [==============================] - 0s 3ms/step - loss: 0.3734\n",
            "Epoch 73/100\n",
            "1/1 [==============================] - 0s 3ms/step - loss: 0.3558\n",
            "Epoch 74/100\n",
            "1/1 [==============================] - 0s 3ms/step - loss: 0.3390\n",
            "Epoch 75/100\n",
            "1/1 [==============================] - 0s 4ms/step - loss: 0.3230\n",
            "Epoch 76/100\n",
            "1/1 [==============================] - 0s 3ms/step - loss: 0.3077\n",
            "Epoch 77/100\n",
            "1/1 [==============================] - 0s 5ms/step - loss: 0.2932\n",
            "Epoch 78/100\n",
            "1/1 [==============================] - 0s 7ms/step - loss: 0.2793\n",
            "Epoch 79/100\n",
            "1/1 [==============================] - 0s 3ms/step - loss: 0.2661\n",
            "Epoch 80/100\n",
            "1/1 [==============================] - 0s 4ms/step - loss: 0.2536\n",
            "Epoch 81/100\n",
            "1/1 [==============================] - 0s 4ms/step - loss: 0.2416\n",
            "Epoch 82/100\n",
            "1/1 [==============================] - 0s 3ms/step - loss: 0.2302\n",
            "Epoch 83/100\n",
            "1/1 [==============================] - 0s 4ms/step - loss: 0.2193\n",
            "Epoch 84/100\n",
            "1/1 [==============================] - 0s 3ms/step - loss: 0.2090\n",
            "Epoch 85/100\n",
            "1/1 [==============================] - 0s 4ms/step - loss: 0.1991\n",
            "Epoch 86/100\n",
            "1/1 [==============================] - 0s 3ms/step - loss: 0.1897\n",
            "Epoch 87/100\n",
            "1/1 [==============================] - 0s 3ms/step - loss: 0.1808\n",
            "Epoch 88/100\n",
            "1/1 [==============================] - 0s 37ms/step - loss: 0.1722\n",
            "Epoch 89/100\n",
            "1/1 [==============================] - 0s 3ms/step - loss: 0.1641\n",
            "Epoch 90/100\n",
            "1/1 [==============================] - 0s 3ms/step - loss: 0.1564\n",
            "Epoch 91/100\n",
            "1/1 [==============================] - 0s 10ms/step - loss: 0.1490\n",
            "Epoch 92/100\n",
            "1/1 [==============================] - 0s 3ms/step - loss: 0.1420\n",
            "Epoch 93/100\n",
            "1/1 [==============================] - 0s 2ms/step - loss: 0.1353\n",
            "Epoch 94/100\n",
            "1/1 [==============================] - 0s 3ms/step - loss: 0.1289\n",
            "Epoch 95/100\n",
            "1/1 [==============================] - 0s 9ms/step - loss: 0.1228\n",
            "Epoch 96/100\n",
            "1/1 [==============================] - 0s 2ms/step - loss: 0.1170\n",
            "Epoch 97/100\n",
            "1/1 [==============================] - 0s 3ms/step - loss: 0.1115\n",
            "Epoch 98/100\n",
            "1/1 [==============================] - 0s 3ms/step - loss: 0.1063\n",
            "Epoch 99/100\n",
            "1/1 [==============================] - 0s 3ms/step - loss: 0.1013\n",
            "Epoch 100/100\n",
            "1/1 [==============================] - 0s 2ms/step - loss: 0.0965\n",
            "\n",
            "Elapsed Time =>  0:00:01.316990\n"
          ]
        }
      ],
      "source": [
        "from datetime import datetime\n",
        "\n",
        "start_time = datetime.now()\n",
        "\n",
        "hist = model.fit(x_data, t_data, epochs=100)\n",
        "\n",
        "end_time = datetime.now()\n",
        "\n",
        "print('\\nElapsed Time => ', end_time - start_time)"
      ]
    },
    {
      "cell_type": "code",
      "execution_count": 6,
      "metadata": {
        "colab": {
          "base_uri": "https://localhost:8080/",
          "height": 52
        },
        "colab_type": "code",
        "id": "bvDlgjzp4sf8",
        "outputId": "b44ba30d-053e-4eec-b0dc-f8e3e0760e1d"
      },
      "outputs": [
        {
          "name": "stdout",
          "output_type": "stream",
          "text": [
            "<class 'keras.callbacks.History'>\n",
            "dict_keys(['loss'])\n"
          ]
        }
      ],
      "source": [
        "# hist 타입 및 key 확인\n",
        "\n",
        "print(type(hist))\n",
        "print(hist.history.keys())"
      ]
    },
    {
      "cell_type": "code",
      "execution_count": 7,
      "metadata": {
        "colab": {
          "base_uri": "https://localhost:8080/",
          "height": 295
        },
        "colab_type": "code",
        "id": "jJRl77mYINzR",
        "outputId": "d54c5f6f-a699-4822-af83-9e2c845ca17c"
      },
      "outputs": [
        {
          "data": {
            "image/png": "[encoded data removed]",
            "text/plain": [
              "<Figure size 432x288 with 1 Axes>"
            ]
          },
          "metadata": {
            "needs_background": "light"
          },
          "output_type": "display_data"
        }
      ],
      "source": [
        "# 손실함수 출력\n",
        "\n",
        "import matplotlib.pyplot as plt\n",
        "\n",
        "plt.title('Loss Trend')\n",
        "plt.xlabel('epochs')\n",
        "plt.ylabel('loss')\n",
        "plt.grid()\n",
        "\n",
        "plt.plot(hist.history['loss'], label='train loss')\n",
        "plt.legend(loc='best')\n",
        "\n",
        "plt.show()"
      ]
    },
    {
      "cell_type": "code",
      "execution_count": 8,
      "metadata": {
        "colab": {
          "base_uri": "https://localhost:8080/",
          "height": 140
        },
        "colab_type": "code",
        "id": "Qi9DeLp3Yngl",
        "outputId": "e92816b7-089c-4c82-b6a0-dcbc03c36037"
      },
      "outputs": [
        {
          "name": "stdout",
          "output_type": "stream",
          "text": [
            "1/1 [==============================] - 0s 83ms/step\n",
            "[[-4.5064816]\n",
            " [-2.6719   ]\n",
            " [-3.7056222]\n",
            " [ 8.626968 ]\n",
            " [ 6.559522 ]]\n",
            "==================\n",
            "[-5, -3, -4, 9, 7]\n"
          ]
        }
      ],
      "source": [
        "# 예측,  ret_val = 2*x1 -3*x2 + 2*x3\n",
        "\n",
        "test_data = [ [5, 5, 0], [2, 3, 1], [-1, 0, -1], [10, 5, 2], [4, -1, -2] ]\n",
        "\n",
        "ret_val = [ 2*data[0] -3*data[1] + 2*data[2]  for data in test_data ]\n",
        "\n",
        "prediction_val = model.predict(np.array(test_data))\n",
        "\n",
        "print(prediction_val)\n",
        "print('==================')\n",
        "print(ret_val)"
      ]
    },
    {
      "cell_type": "code",
      "execution_count": 9,
      "metadata": {
        "colab": {
          "base_uri": "https://localhost:8080/",
          "height": 122
        },
        "colab_type": "code",
        "id": "vvUSvKvIZKwO",
        "outputId": "5c7951c3-388f-4655-bb9a-d56faaea935f"
      },
      "outputs": [
        {
          "name": "stdout",
          "output_type": "stream",
          "text": [
            "KerasTensor(type_spec=TensorSpec(shape=(None, 3), dtype=tf.float32, name='dense_input'), name='dense_input', description=\"created by layer 'dense_input'\")\n",
            "KerasTensor(type_spec=TensorSpec(shape=(None, 1), dtype=tf.float32, name=None), name='dense/BiasAdd:0', description=\"created by layer 'dense'\")\n",
            "[<tf.Variable 'dense/kernel:0' shape=(3, 1) dtype=float32, numpy=\n",
            "array([[ 1.8729697],\n",
            "       [-2.7845957],\n",
            "       [ 1.8843004]], dtype=float32)>, <tf.Variable 'dense/bias:0' shape=(1,) dtype=float32, numpy=array([0.05164784], dtype=float32)>]\n"
          ]
        }
      ],
      "source": [
        "# 모델 입력, 출력, 가중치 확인\n",
        "\n",
        "print(model.input)\n",
        "print(model.output)\n",
        "print(model.weights)"
      ]
    },
    {
      "cell_type": "code",
      "execution_count": null,
      "metadata": {
        "colab": {},
        "colab_type": "code",
        "id": "R7NHIdhIkvPw"
      },
      "outputs": [],
      "source": []
    }
  ],
  "metadata": {
    "accelerator": "GPU",
    "colab": {
      "collapsed_sections": [],
      "name": "TF_2.x_Example_1.ipynb",
      "provenance": []
    },
    "kernelspec": {
      "display_name": "Python 3.9.12 ('base')",
      "language": "python",
      "name": "python3"
    },
    "language_info": {
      "codemirror_mode": {
        "name": "ipython",
        "version": 3
      },
      "file_extension": ".py",
      "mimetype": "text/x-python",
      "name": "python",
      "nbconvert_exporter": "python",
      "pygments_lexer": "ipython3",
      "version": "3.9.12"
    },
    "vscode": {
      "interpreter": {
        "hash": "964f46f3973c3d99dc6929d5bd1748275317def86f082ea2874e0d5a9cf6d261"
      }
    }
  },
  "nbformat": 4,
  "nbformat_minor": 0
}
