{
  "cells": [
    {
      "cell_type": "code",
      "execution_count": 1,
      "metadata": {
        "colab": {
          "base_uri": "https://localhost:8080/",
          "height": 34
        },
        "colab_type": "code",
        "id": "SmSiuzrH79Rq",
        "outputId": "8ffada03-06cd-4b22-ad1b-31723d8e5893"
      },
      "outputs": [
        {
          "name": "stdout",
          "output_type": "stream",
          "text": [
            "2.9.1\n"
          ]
        }
      ],
      "source": [
        "import tensorflow as tf\n",
        "\n",
        "from tensorflow.keras.models import Sequential\n",
        "from tensorflow.keras.layers import Flatten, Dense\n",
        "from tensorflow.keras.optimizers import SGD, Adam\n",
        "\n",
        "print(tf.__version__)"
      ]
    },
    {
      "cell_type": "code",
      "execution_count": 2,
      "metadata": {
        "colab": {
          "base_uri": "https://localhost:8080/",
          "height": 124
        },
        "colab_type": "code",
        "id": "qKOCZzEG8KFI",
        "outputId": "4e225550-92b7-4191-8636-a52dc052c5d9"
      },
      "outputs": [
        {
          "ename": "ModuleNotFoundError",
          "evalue": "No module named 'google.colab'",
          "output_type": "error",
          "traceback": [
            "\u001b[1;31m---------------------------------------------------------------------------\u001b[0m",
            "\u001b[1;31mModuleNotFoundError\u001b[0m                       Traceback (most recent call last)",
            "\u001b[1;32mc:\\Users\\lak50\\Desktop\\aivle\\Aivle_Lecture\\020.5_Deep_Learning\\TensorFlow2\\TF_2_x_LEC_08_Exercise.ipynb 셀 2\u001b[0m in \u001b[0;36m<cell line: 4>\u001b[1;34m()\u001b[0m\n\u001b[0;32m      <a href='vscode-notebook-cell:/c%3A/Users/lak50/Desktop/aivle/Aivle_Lecture/020.5_Deep_Learning/TensorFlow2/TF_2_x_LEC_08_Exercise.ipynb#W1sZmlsZQ%3D%3D?line=0'>1</a>\u001b[0m \u001b[39m# Google Drive 에 저장되어 있는 diabetes,csv 파일을 읽어들이기 위해서\u001b[39;00m\n\u001b[0;32m      <a href='vscode-notebook-cell:/c%3A/Users/lak50/Desktop/aivle/Aivle_Lecture/020.5_Deep_Learning/TensorFlow2/TF_2_x_LEC_08_Exercise.ipynb#W1sZmlsZQ%3D%3D?line=1'>2</a>\u001b[0m \u001b[39m# Colab 의 /content/gdrive/ 에 Google Drive 마운트 시킴\u001b[39;00m\n\u001b[1;32m----> <a href='vscode-notebook-cell:/c%3A/Users/lak50/Desktop/aivle/Aivle_Lecture/020.5_Deep_Learning/TensorFlow2/TF_2_x_LEC_08_Exercise.ipynb#W1sZmlsZQ%3D%3D?line=3'>4</a>\u001b[0m \u001b[39mfrom\u001b[39;00m \u001b[39mgoogle\u001b[39;00m\u001b[39m.\u001b[39;00m\u001b[39mcolab\u001b[39;00m \u001b[39mimport\u001b[39;00m drive   \u001b[39m# colab 사용시 mount 하기 위한 용도. local 에서는 불필요\u001b[39;00m\n\u001b[0;32m      <a href='vscode-notebook-cell:/c%3A/Users/lak50/Desktop/aivle/Aivle_Lecture/020.5_Deep_Learning/TensorFlow2/TF_2_x_LEC_08_Exercise.ipynb#W1sZmlsZQ%3D%3D?line=5'>6</a>\u001b[0m drive\u001b[39m.\u001b[39mmount(\u001b[39m'\u001b[39m\u001b[39m/content/gdrive/\u001b[39m\u001b[39m'\u001b[39m)\n",
            "\u001b[1;31mModuleNotFoundError\u001b[0m: No module named 'google.colab'"
          ]
        }
      ],
      "source": [
        "# Google Drive 에 저장되어 있는 diabetes,csv 파일을 읽어들이기 위해서\n",
        "# Colab 의 /content/gdrive/ 에 Google Drive 마운트 시킴\n",
        "\n",
        "from google.colab import drive   # colab 사용시 mount 하기 위한 용도. local 에서는 불필요\n",
        "\n",
        "drive.mount('/content/gdrive/')  # colab 사용시 mount 하기 위한 용도. local 에서는 불필요"
      ]
    },
    {
      "cell_type": "code",
      "execution_count": null,
      "metadata": {
        "colab": {
          "base_uri": "https://localhost:8080/",
          "height": 34
        },
        "colab_type": "code",
        "id": "-Ji_Hyro8PUl",
        "outputId": "73da0636-30b7-4daa-a9ac-f85c19a56f7c"
      },
      "outputs": [
        {
          "name": "stdout",
          "output_type": "stream",
          "text": [
            "current dir =  /content/gdrive/My Drive/Colab Notebooks/tensorflow_2.x_working_dir\n"
          ]
        }
      ],
      "source": [
        "# 마운트된 Google Drive 의 working directory 이동\n",
        "\n",
        "import os\n",
        "\n",
        "working_dir = 'dataset'\n",
        "\n",
        "# Google Drive 에서 Colab Default Directory\n",
        "colab_default_dir = '/content/gdrive/My Drive/Colab Notebooks/'\n",
        "\n",
        "original_dir = os.getcwd()  # save current dir\n",
        "\n",
        "try:\n",
        "\n",
        "    os.chdir(colab_default_dir)\n",
        "\n",
        "    if not os.path.exists(working_dir):\n",
        "        os.mkdir(working_dir)\n",
        "\n",
        "    os.chdir(working_dir)  # change working dir\n",
        "    print('current dir = ', os.getcwd())\n",
        "\n",
        "except Exception as err:\n",
        "    \n",
        "    os.chdir(original_dir)\n",
        "    print(str(err))"
      ]
    },
    {
      "cell_type": "code",
      "execution_count": null,
      "metadata": {
        "colab": {
          "base_uri": "https://localhost:8080/",
          "height": 104
        },
        "colab_type": "code",
        "id": "j_1JX_S-8YrX",
        "outputId": "4046f70d-3a4a-4b1e-fcae-81f8fc238e33"
      },
      "outputs": [
        {
          "name": "stdout",
          "output_type": "stream",
          "text": [
            "loaded_data.shape =  (759, 9)\n",
            "training_x_data.shape =  (532, 8)\n",
            "training_t_data.shape =  (532, 1)\n",
            "test_x_data.shape =  (227, 8)\n",
            "test_t_data.shape =  (227, 1)\n"
          ]
        }
      ],
      "source": [
        "# loadtxt() 이용해서 diabetes.csv 읽어들임\n",
        "\n",
        "import numpy as np\n",
        "\n",
        "try:\n",
        "\n",
        "    loaded_data = np.loadtxt('./diabetes.csv', delimiter=',')\n",
        "\n",
        "    # training data / test data 분리\n",
        "\n",
        "    seperation_rate = 0.3  # 분리 비율\n",
        "    test_data_num = int(len(loaded_data) * seperation_rate)\n",
        "\n",
        "    np.random.shuffle(loaded_data)\n",
        "\n",
        "    test_data = loaded_data[ 0:test_data_num ]\n",
        "    training_data = loaded_data[ test_data_num: ]\n",
        "\n",
        "    # training_x_data / training_t__data 생성\n",
        "\n",
        "    training_x_data = training_data[ :, 0:-1]\n",
        "    training_t_data = training_data[ :, [-1]]\n",
        "\n",
        "    # test_x_data / test_t__data 생성\n",
        "    test_x_data = test_data[ :, 0:-1]\n",
        "    test_t_data = test_data[ :, [-1]]\n",
        "\n",
        "    print(\"loaded_data.shape = \", loaded_data.shape)\n",
        "    print(\"training_x_data.shape = \", training_x_data.shape)\n",
        "    print(\"training_t_data.shape = \", training_t_data.shape)\n",
        "\n",
        "    print(\"test_x_data.shape = \", test_x_data.shape)\n",
        "    print(\"test_t_data.shape = \", test_t_data.shape)\n",
        "\n",
        "except Exception as err:\n",
        "\n",
        "    print(str(err))"
      ]
    },
    {
      "cell_type": "code",
      "execution_count": 1,
      "metadata": {
        "colab": {},
        "colab_type": "code",
        "id": "ezD7UAJ3cjQm"
      },
      "outputs": [
        {
          "ename": "NameError",
          "evalue": "name 'Sequential' is not defined",
          "output_type": "error",
          "traceback": [
            "\u001b[1;31m---------------------------------------------------------------------------\u001b[0m",
            "\u001b[1;31mNameError\u001b[0m                                 Traceback (most recent call last)",
            "\u001b[1;32me:\\aivle\\Aivle_Lecture\\020.5_Deep_Learning\\TensorFlow2\\TF_2_x_LEC_08_Exercise.ipynb 셀 5\u001b[0m in \u001b[0;36m<cell line: 3>\u001b[1;34m()\u001b[0m\n\u001b[0;32m      <a href='vscode-notebook-cell:/e%3A/aivle/Aivle_Lecture/020.5_Deep_Learning/TensorFlow2/TF_2_x_LEC_08_Exercise.ipynb#W4sZmlsZQ%3D%3D?line=0'>1</a>\u001b[0m \u001b[39m# Logistic Regression 을 keras 이용하여 생성\u001b[39;00m\n\u001b[1;32m----> <a href='vscode-notebook-cell:/e%3A/aivle/Aivle_Lecture/020.5_Deep_Learning/TensorFlow2/TF_2_x_LEC_08_Exercise.ipynb#W4sZmlsZQ%3D%3D?line=2'>3</a>\u001b[0m model \u001b[39m=\u001b[39m Sequential()\n\u001b[0;32m      <a href='vscode-notebook-cell:/e%3A/aivle/Aivle_Lecture/020.5_Deep_Learning/TensorFlow2/TF_2_x_LEC_08_Exercise.ipynb#W4sZmlsZQ%3D%3D?line=4'>5</a>\u001b[0m \u001b[39m# 노드 1개인 출력층 생성\u001b[39;00m\n\u001b[0;32m      <a href='vscode-notebook-cell:/e%3A/aivle/Aivle_Lecture/020.5_Deep_Learning/TensorFlow2/TF_2_x_LEC_08_Exercise.ipynb#W4sZmlsZQ%3D%3D?line=5'>6</a>\u001b[0m model\u001b[39m.\u001b[39madd(tf\u001b[39m.\u001b[39mkeras\u001b[39m.\u001b[39mlayers\u001b[39m.\u001b[39mDense(\u001b[39m19\u001b[39m, input_shape\u001b[39m=\u001b[39m(x\u001b[39m.\u001b[39mshape[\u001b[39m1\u001b[39m],), \n\u001b[0;32m      <a href='vscode-notebook-cell:/e%3A/aivle/Aivle_Lecture/020.5_Deep_Learning/TensorFlow2/TF_2_x_LEC_08_Exercise.ipynb#W4sZmlsZQ%3D%3D?line=6'>7</a>\u001b[0m                                 activation\u001b[39m=\u001b[39m\u001b[39m'\u001b[39m\u001b[39msigmoid\u001b[39m\u001b[39m'\u001b[39m))\n",
            "\u001b[1;31mNameError\u001b[0m: name 'Sequential' is not defined"
          ]
        }
      ],
      "source": [
        "# Logistic Regression 을 keras 이용하여 생성\n",
        "\n",
        "model = Sequential()\n",
        "\n",
        "# 노드 1개인 출력층 생성\n",
        "model.add(Dense(training_t_data.shape[1], \n",
        "                input_shape=(training_x_data.shape[1],),\n",
        "                activation='sigmoid'))  "
      ]
    },
    {
      "cell_type": "code",
      "execution_count": null,
      "metadata": {
        "colab": {
          "base_uri": "https://localhost:8080/",
          "height": 191
        },
        "colab_type": "code",
        "id": "u3q03Vt2AXFR",
        "outputId": "3b09e0eb-db5b-48c6-8a3f-c90ba463305f"
      },
      "outputs": [
        {
          "name": "stdout",
          "output_type": "stream",
          "text": [
            "Model: \"sequential_2\"\n",
            "_________________________________________________________________\n",
            "Layer (type)                 Output Shape              Param #   \n",
            "=================================================================\n",
            "dense_2 (Dense)              (None, 1)                 9         \n",
            "=================================================================\n",
            "Total params: 9\n",
            "Trainable params: 9\n",
            "Non-trainable params: 0\n",
            "_________________________________________________________________\n"
          ]
        }
      ],
      "source": [
        "# 학습을 위한 optimizer, 손실함수 loss 정의\n",
        "\n",
        "model.compile(optimizer=SGD(learning_rate=0.01), \n",
        "              loss='binary_crossentropy', \n",
        "              metrics=['accuracy'])\n",
        "\n",
        "model.summary()"
      ]
    },
    {
      "cell_type": "code",
      "execution_count": 2,
      "metadata": {
        "colab": {
          "base_uri": "https://localhost:8080/",
          "height": 1000
        },
        "colab_type": "code",
        "id": "e_WRpBwEAsIt",
        "outputId": "3a72749a-9741-41ae-ec4d-41a95f566828"
      },
      "outputs": [
        {
          "ename": "NameError",
          "evalue": "name 'model' is not defined",
          "output_type": "error",
          "traceback": [
            "\u001b[1;31m---------------------------------------------------------------------------\u001b[0m",
            "\u001b[1;31mNameError\u001b[0m                                 Traceback (most recent call last)",
            "\u001b[1;32me:\\aivle\\Aivle_Lecture\\020.5_Deep_Learning\\TensorFlow2\\TF_2_x_LEC_08_Exercise.ipynb 셀 7\u001b[0m in \u001b[0;36m<cell line: 5>\u001b[1;34m()\u001b[0m\n\u001b[0;32m      <a href='vscode-notebook-cell:/e%3A/aivle/Aivle_Lecture/020.5_Deep_Learning/TensorFlow2/TF_2_x_LEC_08_Exercise.ipynb#W6sZmlsZQ%3D%3D?line=0'>1</a>\u001b[0m \u001b[39mfrom\u001b[39;00m \u001b[39mdatetime\u001b[39;00m \u001b[39mimport\u001b[39;00m datetime\n\u001b[0;32m      <a href='vscode-notebook-cell:/e%3A/aivle/Aivle_Lecture/020.5_Deep_Learning/TensorFlow2/TF_2_x_LEC_08_Exercise.ipynb#W6sZmlsZQ%3D%3D?line=2'>3</a>\u001b[0m start_time \u001b[39m=\u001b[39m datetime\u001b[39m.\u001b[39mnow()\n\u001b[1;32m----> <a href='vscode-notebook-cell:/e%3A/aivle/Aivle_Lecture/020.5_Deep_Learning/TensorFlow2/TF_2_x_LEC_08_Exercise.ipynb#W6sZmlsZQ%3D%3D?line=4'>5</a>\u001b[0m hist \u001b[39m=\u001b[39m model\u001b[39m.\u001b[39mfit(training_x_data, training_t_data, epochs\u001b[39m=\u001b[39m\u001b[39m400\u001b[39m, validation_split\u001b[39m=\u001b[39m\u001b[39m0.2\u001b[39m, verbose\u001b[39m=\u001b[39m\u001b[39m2\u001b[39m)\n\u001b[0;32m      <a href='vscode-notebook-cell:/e%3A/aivle/Aivle_Lecture/020.5_Deep_Learning/TensorFlow2/TF_2_x_LEC_08_Exercise.ipynb#W6sZmlsZQ%3D%3D?line=6'>7</a>\u001b[0m end_time \u001b[39m=\u001b[39m datetime\u001b[39m.\u001b[39mnow()\n\u001b[0;32m      <a href='vscode-notebook-cell:/e%3A/aivle/Aivle_Lecture/020.5_Deep_Learning/TensorFlow2/TF_2_x_LEC_08_Exercise.ipynb#W6sZmlsZQ%3D%3D?line=8'>9</a>\u001b[0m \u001b[39mprint\u001b[39m(\u001b[39m'\u001b[39m\u001b[39m\\n\u001b[39;00m\u001b[39mElapsed Time => \u001b[39m\u001b[39m'\u001b[39m, end_time \u001b[39m-\u001b[39m start_time)\n",
            "\u001b[1;31mNameError\u001b[0m: name 'model' is not defined"
          ]
        }
      ],
      "source": [
        "from datetime import datetime\n",
        "\n",
        "start_time = datetime.now()\n",
        "\n",
        "hist = model.fit(training_x_data, training_t_data, epochs=400, validation_split=0.2, verbose=2)\n",
        "\n",
        "end_time = datetime.now()\n",
        "\n",
        "print('\\nElapsed Time => ', end_time - start_time)"
      ]
    },
    {
      "cell_type": "code",
      "execution_count": null,
      "metadata": {
        "colab": {
          "base_uri": "https://localhost:8080/",
          "height": 52
        },
        "colab_type": "code",
        "id": "bvDlgjzp4sf8",
        "outputId": "f71d0dfd-f302-401c-aea6-72bea66e6793"
      },
      "outputs": [
        {
          "name": "stdout",
          "output_type": "stream",
          "text": [
            "8/8 [==============================] - 0s 3ms/step - loss: 0.5057 - accuracy: 0.7313\n"
          ]
        },
        {
          "data": {
            "text/plain": [
              "[0.5056570768356323, 0.7312775254249573]"
            ]
          },
          "execution_count": 13,
          "metadata": {
            "tags": []
          },
          "output_type": "execute_result"
        }
      ],
      "source": [
        "model.evaluate(test_x_data, test_t_data)"
      ]
    },
    {
      "cell_type": "code",
      "execution_count": null,
      "metadata": {
        "colab": {
          "base_uri": "https://localhost:8080/",
          "height": 295
        },
        "colab_type": "code",
        "id": "jJRl77mYINzR",
        "outputId": "0fa95418-bfd3-437d-edc9-658959181603"
      },
      "outputs": [
        {
          "data": {
            "image/png": "[encoded data removed]",
            "text/plain": [
              "<Figure size 432x288 with 1 Axes>"
            ]
          },
          "metadata": {
            "needs_background": "light",
            "tags": []
          },
          "output_type": "display_data"
        }
      ],
      "source": [
        "import matplotlib.pyplot as plt\n",
        "\n",
        "plt.title('Loss')\n",
        "plt.xlabel('epochs')\n",
        "plt.ylabel('loss')\n",
        "plt.grid()\n",
        "\n",
        "plt.plot(hist.history['loss'], label='train loss')\n",
        "plt.plot(hist.history['val_loss'], label='validation loss')\n",
        "\n",
        "plt.legend(loc='best')\n",
        "\n",
        "plt.show()"
      ]
    },
    {
      "cell_type": "code",
      "execution_count": null,
      "metadata": {
        "colab": {
          "base_uri": "https://localhost:8080/",
          "height": 295
        },
        "colab_type": "code",
        "id": "jVxdH6km-S3t",
        "outputId": "ff7365bd-02fd-4467-a4c4-ab3bd791ac5a"
      },
      "outputs": [
        {
          "data": {
            "image/png": "[encoded data removed]",
            "text/plain": [
              "<Figure size 432x288 with 1 Axes>"
            ]
          },
          "metadata": {
            "needs_background": "light",
            "tags": []
          },
          "output_type": "display_data"
        }
      ],
      "source": [
        "import matplotlib.pyplot as plt\n",
        "\n",
        "plt.title('Accuracy')\n",
        "plt.xlabel('epochs')\n",
        "plt.ylabel('accuracy')\n",
        "plt.grid()\n",
        "\n",
        "plt.plot(hist.history['accuracy'], label='train accuracy')\n",
        "plt.plot(hist.history['val_accuracy'], label='validation accuracy')\n",
        "\n",
        "plt.legend(loc='best')\n",
        "\n",
        "plt.show()"
      ]
    },
    {
      "cell_type": "code",
      "execution_count": null,
      "metadata": {
        "colab": {},
        "colab_type": "code",
        "id": "rXTJY6PF-e2T"
      },
      "outputs": [],
      "source": []
    }
  ],
  "metadata": {
    "accelerator": "GPU",
    "colab": {
      "collapsed_sections": [],
      "name": "TF_2.x_LEC_08_Exercise.ipynb",
      "provenance": []
    },
    "kernelspec": {
      "display_name": "Python 3.9.12 ('base')",
      "language": "python",
      "name": "python3"
    },
    "language_info": {
      "codemirror_mode": {
        "name": "ipython",
        "version": 3
      },
      "file_extension": ".py",
      "mimetype": "text/x-python",
      "name": "python",
      "nbconvert_exporter": "python",
      "pygments_lexer": "ipython3",
      "version": "3.9.12"
    },
    "vscode": {
      "interpreter": {
        "hash": "964f46f3973c3d99dc6929d5bd1748275317def86f082ea2874e0d5a9cf6d261"
      }
    }
  },
  "nbformat": 4,
  "nbformat_minor": 0
}
