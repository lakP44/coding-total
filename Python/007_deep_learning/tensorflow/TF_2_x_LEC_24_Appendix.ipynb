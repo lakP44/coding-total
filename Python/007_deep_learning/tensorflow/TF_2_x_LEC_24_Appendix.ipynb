{
  "nbformat": 4,
  "nbformat_minor": 0,
  "metadata": {
    "colab": {
      "name": "TF_2.x_LEC_FunctionalAPI_Appendix.ipynb",
      "provenance": [],
      "collapsed_sections": []
    },
    "kernelspec": {
      "name": "python3",
      "display_name": "Python 3"
    },
    "language_info": {
      "name": "python"
    },
    "accelerator": "GPU"
  },
  "cells": [
    {
      "cell_type": "markdown",
      "metadata": {
        "id": "Es0t-9nBXG19"
      },
      "source": [
        "Functional API CNN Example - MNIST datasets"
      ]
    },
    {
      "cell_type": "code",
      "metadata": {
        "colab": {
          "base_uri": "https://localhost:8080/"
        },
        "id": "PAvgeaHJLTmb",
        "outputId": "0a2e4b14-d251-4149-cd52-d33da611eca5"
      },
      "source": [
        "import tensorflow as tf\n",
        "from tensorflow.keras.datasets import mnist\n",
        "from tensorflow.keras.layers import Input, Conv2D, MaxPool2D\n",
        "from tensorflow.keras.layers import Flatten, Dense, Dropout\n",
        "from tensorflow.keras.models import Model\n",
        "\n",
        "(x_train, y_train),(x_test, y_test) = mnist.load_data()\n",
        "\n",
        "x_train=x_train.reshape(-1, 28, 28, 1)\n",
        "x_test=x_test.reshape(-1, 28, 28, 1)\n",
        "\n",
        "print(x_train.shape, x_test.shape)\n",
        "print(y_train.shape, y_test.shape)\n",
        "\n",
        "x_train = x_train / 255.0\n",
        "x_test = x_test / 255.0"
      ],
      "execution_count": 2,
      "outputs": [
        {
          "output_type": "stream",
          "text": [
            "Downloading data from https://storage.googleapis.com/tensorflow/tf-keras-datasets/mnist.npz\n",
            "11493376/11490434 [==============================] - 0s 0us/step\n",
            "(60000, 28, 28, 1) (10000, 28, 28, 1)\n",
            "(60000,) (10000,)\n"
          ],
          "name": "stdout"
        }
      ]
    },
    {
      "cell_type": "markdown",
      "metadata": {
        "id": "MEE-9edzjj3i"
      },
      "source": [
        "Functional API 코드에서 동일한 의미를 가지지만, 하나의 라인으로 표현할 수 있는 코드를 두 개의 라인으로 표현한 경우에 있어 일반 함수를 호출하는 경우로 혼동할 수 있음. 다음 코드는 Example 코드와 동일함"
      ]
    },
    {
      "cell_type": "code",
      "metadata": {
        "id": "4di8yX2HX7tf"
      },
      "source": [
        "input_ = Input(shape=(28,28,1))\n",
        "\n",
        "x = Conv2D(32, 3, activation='relu')\n",
        "x = x(input_)\n",
        "\n",
        "x = Conv2D(64, 3, activation='relu')(x)\n",
        "x = MaxPool2D(pool_size=(2,2))(x)\n",
        "x = Dropout(0.25)(x)\n",
        "\n",
        "x = Flatten()(x)\n",
        "\n",
        "x = Dense(128, activation='relu')(x)\n",
        "x = Dropout(0.5)(x)\n",
        "\n",
        "output_ = Dense(10, activation='softmax')\n",
        "output_ = output_(x)\n",
        "\n",
        "cnn = Model(inputs=input_,  outputs=output_)"
      ],
      "execution_count": 6,
      "outputs": []
    },
    {
      "cell_type": "code",
      "metadata": {
        "colab": {
          "base_uri": "https://localhost:8080/"
        },
        "id": "n3a16gPYX-AM",
        "outputId": "5e27ef01-b595-4285-89b7-b11593da0724"
      },
      "source": [
        "cnn.compile(loss='sparse_categorical_crossentropy',\n",
        "            optimizer=tf.keras.optimizers.Adam(), metrics=['accuracy'])\n",
        "\n",
        "cnn.summary()"
      ],
      "execution_count": 7,
      "outputs": [
        {
          "output_type": "stream",
          "text": [
            "Model: \"model_2\"\n",
            "_________________________________________________________________\n",
            "Layer (type)                 Output Shape              Param #   \n",
            "=================================================================\n",
            "input_4 (InputLayer)         [(None, 28, 28, 1)]       0         \n",
            "_________________________________________________________________\n",
            "conv2d_6 (Conv2D)            (None, 26, 26, 32)        320       \n",
            "_________________________________________________________________\n",
            "conv2d_7 (Conv2D)            (None, 24, 24, 64)        18496     \n",
            "_________________________________________________________________\n",
            "max_pooling2d_2 (MaxPooling2 (None, 12, 12, 64)        0         \n",
            "_________________________________________________________________\n",
            "dropout_4 (Dropout)          (None, 12, 12, 64)        0         \n",
            "_________________________________________________________________\n",
            "flatten_2 (Flatten)          (None, 9216)              0         \n",
            "_________________________________________________________________\n",
            "dense_8 (Dense)              (None, 128)               1179776   \n",
            "_________________________________________________________________\n",
            "dropout_5 (Dropout)          (None, 128)               0         \n",
            "_________________________________________________________________\n",
            "dense_9 (Dense)              (None, 10)                1290      \n",
            "=================================================================\n",
            "Total params: 1,199,882\n",
            "Trainable params: 1,199,882\n",
            "Non-trainable params: 0\n",
            "_________________________________________________________________\n"
          ],
          "name": "stdout"
        }
      ]
    },
    {
      "cell_type": "code",
      "metadata": {
        "colab": {
          "base_uri": "https://localhost:8080/"
        },
        "id": "q-L3plG0aZ6s",
        "outputId": "f51621de-f8c2-405c-803c-065d29e9be08"
      },
      "source": [
        "hist = cnn.fit(x_train, y_train, batch_size=128, \n",
        "               epochs=30, validation_data=(x_test, y_test))"
      ],
      "execution_count": 8,
      "outputs": [
        {
          "output_type": "stream",
          "text": [
            "Epoch 1/30\n",
            "469/469 [==============================] - 35s 9ms/step - loss: 0.2399 - accuracy: 0.9275 - val_loss: 0.0482 - val_accuracy: 0.9840\n",
            "Epoch 2/30\n",
            "469/469 [==============================] - 4s 8ms/step - loss: 0.0844 - accuracy: 0.9744 - val_loss: 0.0378 - val_accuracy: 0.9857\n",
            "Epoch 3/30\n",
            "469/469 [==============================] - 4s 8ms/step - loss: 0.0648 - accuracy: 0.9800 - val_loss: 0.0328 - val_accuracy: 0.9899\n",
            "Epoch 4/30\n",
            "469/469 [==============================] - 4s 8ms/step - loss: 0.0522 - accuracy: 0.9834 - val_loss: 0.0322 - val_accuracy: 0.9887\n",
            "Epoch 5/30\n",
            "469/469 [==============================] - 4s 8ms/step - loss: 0.0452 - accuracy: 0.9861 - val_loss: 0.0291 - val_accuracy: 0.9906\n",
            "Epoch 6/30\n",
            "469/469 [==============================] - 4s 8ms/step - loss: 0.0405 - accuracy: 0.9873 - val_loss: 0.0282 - val_accuracy: 0.9913\n",
            "Epoch 7/30\n",
            "469/469 [==============================] - 4s 8ms/step - loss: 0.0353 - accuracy: 0.9883 - val_loss: 0.0292 - val_accuracy: 0.9904\n",
            "Epoch 8/30\n",
            "469/469 [==============================] - 4s 8ms/step - loss: 0.0303 - accuracy: 0.9902 - val_loss: 0.0251 - val_accuracy: 0.9921\n",
            "Epoch 9/30\n",
            "469/469 [==============================] - 4s 8ms/step - loss: 0.0273 - accuracy: 0.9909 - val_loss: 0.0272 - val_accuracy: 0.9910\n",
            "Epoch 10/30\n",
            "469/469 [==============================] - 4s 8ms/step - loss: 0.0265 - accuracy: 0.9918 - val_loss: 0.0286 - val_accuracy: 0.9916\n",
            "Epoch 11/30\n",
            "469/469 [==============================] - 4s 8ms/step - loss: 0.0250 - accuracy: 0.9918 - val_loss: 0.0253 - val_accuracy: 0.9925\n",
            "Epoch 12/30\n",
            "469/469 [==============================] - 4s 8ms/step - loss: 0.0209 - accuracy: 0.9931 - val_loss: 0.0256 - val_accuracy: 0.9936\n",
            "Epoch 13/30\n",
            "469/469 [==============================] - 4s 8ms/step - loss: 0.0203 - accuracy: 0.9933 - val_loss: 0.0257 - val_accuracy: 0.9920\n",
            "Epoch 14/30\n",
            "469/469 [==============================] - 4s 8ms/step - loss: 0.0177 - accuracy: 0.9943 - val_loss: 0.0233 - val_accuracy: 0.9938\n",
            "Epoch 15/30\n",
            "469/469 [==============================] - 4s 8ms/step - loss: 0.0183 - accuracy: 0.9937 - val_loss: 0.0230 - val_accuracy: 0.9935\n",
            "Epoch 16/30\n",
            "469/469 [==============================] - 4s 8ms/step - loss: 0.0177 - accuracy: 0.9944 - val_loss: 0.0244 - val_accuracy: 0.9933\n",
            "Epoch 17/30\n",
            "469/469 [==============================] - 4s 8ms/step - loss: 0.0155 - accuracy: 0.9949 - val_loss: 0.0284 - val_accuracy: 0.9926\n",
            "Epoch 18/30\n",
            "469/469 [==============================] - 4s 8ms/step - loss: 0.0160 - accuracy: 0.9947 - val_loss: 0.0277 - val_accuracy: 0.9929\n",
            "Epoch 19/30\n",
            "469/469 [==============================] - 4s 8ms/step - loss: 0.0153 - accuracy: 0.9948 - val_loss: 0.0294 - val_accuracy: 0.9914\n",
            "Epoch 20/30\n",
            "469/469 [==============================] - 4s 8ms/step - loss: 0.0147 - accuracy: 0.9954 - val_loss: 0.0256 - val_accuracy: 0.9936\n",
            "Epoch 21/30\n",
            "469/469 [==============================] - 4s 8ms/step - loss: 0.0125 - accuracy: 0.9954 - val_loss: 0.0250 - val_accuracy: 0.9932\n",
            "Epoch 22/30\n",
            "469/469 [==============================] - 4s 8ms/step - loss: 0.0140 - accuracy: 0.9951 - val_loss: 0.0231 - val_accuracy: 0.9941\n",
            "Epoch 23/30\n",
            "469/469 [==============================] - 4s 8ms/step - loss: 0.0109 - accuracy: 0.9962 - val_loss: 0.0286 - val_accuracy: 0.9929\n",
            "Epoch 24/30\n",
            "469/469 [==============================] - 4s 8ms/step - loss: 0.0131 - accuracy: 0.9956 - val_loss: 0.0247 - val_accuracy: 0.9927\n",
            "Epoch 25/30\n",
            "469/469 [==============================] - 4s 8ms/step - loss: 0.0111 - accuracy: 0.9961 - val_loss: 0.0285 - val_accuracy: 0.9930\n",
            "Epoch 26/30\n",
            "469/469 [==============================] - 4s 8ms/step - loss: 0.0119 - accuracy: 0.9962 - val_loss: 0.0253 - val_accuracy: 0.9941\n",
            "Epoch 27/30\n",
            "469/469 [==============================] - 4s 8ms/step - loss: 0.0103 - accuracy: 0.9965 - val_loss: 0.0292 - val_accuracy: 0.9932\n",
            "Epoch 28/30\n",
            "469/469 [==============================] - 4s 8ms/step - loss: 0.0113 - accuracy: 0.9961 - val_loss: 0.0292 - val_accuracy: 0.9937\n",
            "Epoch 29/30\n",
            "469/469 [==============================] - 4s 8ms/step - loss: 0.0093 - accuracy: 0.9966 - val_loss: 0.0308 - val_accuracy: 0.9924\n",
            "Epoch 30/30\n",
            "469/469 [==============================] - 4s 8ms/step - loss: 0.0092 - accuracy: 0.9968 - val_loss: 0.0308 - val_accuracy: 0.9930\n"
          ],
          "name": "stdout"
        }
      ]
    },
    {
      "cell_type": "code",
      "metadata": {
        "colab": {
          "base_uri": "https://localhost:8080/"
        },
        "id": "nFdrvigVamLS",
        "outputId": "1cd7ca16-7152-4e2b-a2ee-87dfb3898cf7"
      },
      "source": [
        "cnn.evaluate(x_test, y_test)"
      ],
      "execution_count": 9,
      "outputs": [
        {
          "output_type": "stream",
          "text": [
            "313/313 [==============================] - 1s 2ms/step - loss: 0.0308 - accuracy: 0.9930\n"
          ],
          "name": "stdout"
        },
        {
          "output_type": "execute_result",
          "data": {
            "text/plain": [
              "[0.030774803832173347, 0.9929999709129333]"
            ]
          },
          "metadata": {
            "tags": []
          },
          "execution_count": 9
        }
      ]
    },
    {
      "cell_type": "code",
      "metadata": {
        "colab": {
          "base_uri": "https://localhost:8080/",
          "height": 295
        },
        "id": "ZO9ekRAzbaOk",
        "outputId": "0f17805b-4839-42d3-b3ae-7c80563ed86b"
      },
      "source": [
        "import matplotlib.pyplot as plt\n",
        "\n",
        "plt.plot(hist.history['accuracy'])\n",
        "plt.plot(hist.history['val_accuracy'])\n",
        "plt.title('Accuracy Trend')\n",
        "plt.ylabel('accuracy')\n",
        "plt.xlabel('epoch')\n",
        "plt.legend(['train','validation'], loc='best')\n",
        "plt.grid()\n",
        "plt.show()"
      ],
      "execution_count": 10,
      "outputs": [
        {
          "output_type": "display_data",
          "data": {
            "image/png": "[encoded data removed]",
            "text/plain": [
              "<Figure size 432x288 with 1 Axes>"
            ]
          },
          "metadata": {
            "tags": [],
            "needs_background": "light"
          }
        }
      ]
    },
    {
      "cell_type": "code",
      "metadata": {
        "colab": {
          "base_uri": "https://localhost:8080/",
          "height": 295
        },
        "id": "l_y2q938bcj2",
        "outputId": "dc395efe-c394-4875-b7bc-25180b9a2ee2"
      },
      "source": [
        "plt.plot(hist.history['loss'])\n",
        "plt.plot(hist.history['val_loss'])\n",
        "plt.title('Loss Trend')\n",
        "plt.ylabel('loss')\n",
        "plt.xlabel('epoch')\n",
        "plt.legend(['train','validation'], loc='best')\n",
        "plt.grid()\n",
        "plt.show()"
      ],
      "execution_count": 11,
      "outputs": [
        {
          "output_type": "display_data",
          "data": {
            "image/png": "[encoded data removed]",
            "text/plain": [
              "<Figure size 432x288 with 1 Axes>"
            ]
          },
          "metadata": {
            "tags": [],
            "needs_background": "light"
          }
        }
      ]
    },
    {
      "cell_type": "code",
      "metadata": {
        "id": "qCCu78LFbnbm"
      },
      "source": [
        ""
      ],
      "execution_count": null,
      "outputs": []
    }
  ]
}