{
  "nbformat": 4,
  "nbformat_minor": 0,
  "metadata": {
    "colab": {
      "name": "TF_2.x_LEC_02_TF_2.x_Exercise.ipynb",
      "provenance": [],
      "collapsed_sections": []
    },
    "kernelspec": {
      "display_name": "Python 3",
      "language": "python",
      "name": "python3"
    },
    "language_info": {
      "codemirror_mode": {
        "name": "ipython",
        "version": 3
      },
      "file_extension": ".py",
      "mimetype": "text/x-python",
      "name": "python",
      "nbconvert_exporter": "python",
      "pygments_lexer": "ipython3",
      "version": "3.7.3"
    }
  },
  "cells": [
    {
      "cell_type": "code",
      "metadata": {
        "colab_type": "code",
        "id": "jZE_EyQ-FhMk",
        "colab": {
          "base_uri": "https://localhost:8080/",
          "height": 35
        },
        "outputId": "78710898-e984-42ba-ca95-d02adb411d1c"
      },
      "source": [
        "import tensorflow as tf\n",
        "\n",
        "tf.__version__"
      ],
      "execution_count": null,
      "outputs": [
        {
          "output_type": "execute_result",
          "data": {
            "text/plain": [
              "'2.2.0'"
            ]
          },
          "metadata": {
            "tags": []
          },
          "execution_count": 1
        }
      ]
    },
    {
      "cell_type": "code",
      "metadata": {
        "colab_type": "code",
        "id": "ulEDpouIjaTW",
        "colab": {
          "base_uri": "https://localhost:8080/",
          "height": 35
        },
        "outputId": "cdcb0eb9-e791-4b97-8290-a116dbdb04b5"
      },
      "source": [
        "a = tf.constant(1.0)\n",
        "b = tf.constant(2.0)\n",
        "\n",
        "c = a + b\n",
        "\n",
        "print(c.numpy())    # Eager Execution"
      ],
      "execution_count": null,
      "outputs": [
        {
          "output_type": "stream",
          "text": [
            "3.0\n"
          ],
          "name": "stdout"
        }
      ]
    },
    {
      "cell_type": "code",
      "metadata": {
        "colab_type": "code",
        "id": "o4tXIPUSDUiu",
        "colab": {
          "base_uri": "https://localhost:8080/",
          "height": 89
        },
        "outputId": "46f087bb-9758-4ea9-da15-1d439d1aa177"
      },
      "source": [
        "W = tf.Variable(tf.random.normal([1]))  # 가우시안 분포\n",
        "print('initial W = ', W.numpy())\n",
        "print('===========================================')\n",
        "\n",
        "# session 생성 없이 즉시 실행 (Eager Execution)\n",
        "# numpy() 메서드 사용하면 numpy 값을 리턴해줌\n",
        "\n",
        "for step in range(2):\n",
        "    W = W + 1.0\n",
        "    print('step = ', step, ', W = ', W.numpy())"
      ],
      "execution_count": null,
      "outputs": [
        {
          "output_type": "stream",
          "text": [
            "initial W =  [0.588869]\n",
            "===========================================\n",
            "step =  0 , W =  [1.588869]\n",
            "step =  1 , W =  [2.588869]\n"
          ],
          "name": "stdout"
        }
      ]
    },
    {
      "cell_type": "code",
      "metadata": {
        "colab_type": "code",
        "id": "xrLgzwKcOOFk",
        "colab": {
          "base_uri": "https://localhost:8080/",
          "height": 53
        },
        "outputId": "0dd51dc8-5188-4c41-f238-1e62c57b7196"
      },
      "source": [
        "a = tf.constant(1.0)\n",
        "b = tf.constant(3.0)\n",
        "\n",
        "# 함수 정의\n",
        "def tensor_sum(x, y):\n",
        "    return x + y\n",
        "\n",
        "result = tensor_sum(a, b)\n",
        "\n",
        "print(type(result))\n",
        "print(result.numpy())"
      ],
      "execution_count": null,
      "outputs": [
        {
          "output_type": "stream",
          "text": [
            "<class 'tensorflow.python.framework.ops.EagerTensor'>\n",
            "4.0\n"
          ],
          "name": "stdout"
        }
      ]
    },
    {
      "cell_type": "code",
      "metadata": {
        "colab_type": "code",
        "id": "IG_ieVvcXO7c",
        "colab": {}
      },
      "source": [
        ""
      ],
      "execution_count": null,
      "outputs": []
    }
  ]
}
