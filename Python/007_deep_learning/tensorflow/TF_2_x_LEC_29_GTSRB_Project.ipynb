{
  "cells": [
    {
      "cell_type": "code",
      "execution_count": 1,
      "metadata": {
        "id": "nWhPUUnPveS3"
      },
      "outputs": [],
      "source": [
        "import tensorflow as tf\n",
        "from tensorflow.keras.models import Sequential\n",
        "from tensorflow.keras.layers import Dense, Dropout\n",
        "from tensorflow.keras.layers import Flatten, Conv2D, MaxPooling2D"
      ]
    },
    {
      "cell_type": "markdown",
      "metadata": {
        "id": "tF5KinX3zpAR"
      },
      "source": [
        "Google Drive 에서 데이터 파일 마운트 하려면 다음과 같이 하면되지만, 프로그래밍 편의를 위해 wget 으로 직접 다운로드 함\n",
        "\n",
        "from google.colab import drive   \n",
        "\n",
        "drive.mount('/content/gdrive/')  \n",
        "\n",
        "import shutil\n",
        "\n",
        "shutil.copy('/content/gdrive/My Drive/Colab Notebooks/dataset/GTSRB_Final_Training_Images.zip', '/content/')"
      ]
    },
    {
      "cell_type": "code",
      "execution_count": 2,
      "metadata": {
        "colab": {
          "base_uri": "https://localhost:8080/"
        },
        "id": "esUP4a8Yq7h6",
        "outputId": "17ded777-8325-44a6-8cc6-5c3b475da9b1"
      },
      "outputs": [
        {
          "output_type": "stream",
          "name": "stdout",
          "text": [
            "--2022-02-01 09:26:16--  https://sid.erda.dk/public/archives/daaeac0d7ce1152aea9b61d9f1e19370/GTSRB_Final_Training_Images.zip\n",
            "Resolving sid.erda.dk (sid.erda.dk)... 130.225.104.13\n",
            "Connecting to sid.erda.dk (sid.erda.dk)|130.225.104.13|:443... connected.\n",
            "HTTP request sent, awaiting response... 200 OK\n",
            "Length: 276294756 (263M) [application/zip]\n",
            "Saving to: ‘GTSRB_Final_Training_Images.zip’\n",
            "\n",
            "GTSRB_Final_Trainin 100%[===================>] 263.50M  23.4MB/s    in 12s     \n",
            "\n",
            "2022-02-01 09:26:29 (21.9 MB/s) - ‘GTSRB_Final_Training_Images.zip’ saved [276294756/276294756]\n",
            "\n"
          ]
        }
      ],
      "source": [
        "# 파일 다운로드\n",
        "\n",
        "!wget https://sid.erda.dk/public/archives/daaeac0d7ce1152aea9b61d9f1e19370/GTSRB_Final_Training_Images.zip"
      ]
    },
    {
      "cell_type": "markdown",
      "source": [
        "# 디렉토리 설정"
      ],
      "metadata": {
        "id": "zv0XU6UuxVfh"
      }
    },
    {
      "cell_type": "code",
      "source": [
        "import os\n",
        "\n",
        "ROOT_DIR = '/content'\n",
        "\n",
        "DATA_ROOT_DIR = os.path.join(ROOT_DIR, 'GTSRB/Final_Training/Images/')"
      ],
      "metadata": {
        "id": "nQjdKxB_xScQ"
      },
      "execution_count": 3,
      "outputs": []
    },
    {
      "cell_type": "code",
      "execution_count": 4,
      "metadata": {
        "id": "5iDRtTO7rpXp"
      },
      "outputs": [],
      "source": [
        "import os\n",
        "import shutil\n",
        "\n",
        "if os.path.exists('/content/GTSRB/'):    # 작업 디렉토리는 GTSRB\n",
        "    \n",
        "    shutil.rmtree('/content/GTSRB/')\n",
        "    print('/content/GTSRB/  is removed !!!')"
      ]
    },
    {
      "cell_type": "code",
      "execution_count": 5,
      "metadata": {
        "id": "ajx57MQ3X6v1"
      },
      "outputs": [],
      "source": [
        "# 압축파일 풀기\n",
        "\n",
        "import zipfile\n",
        "\n",
        "with zipfile.ZipFile('/content/GTSRB_Final_Training_Images.zip', 'r') as target_file:\n",
        "    \n",
        "    target_file.extractall()"
      ]
    },
    {
      "cell_type": "markdown",
      "metadata": {
        "id": "ZqNacGsEYZq_"
      },
      "source": [
        "압축을 풀어보면, 데이터 디렉토리 구조는 다음과 같음\n",
        "\n",
        "GTSRB\n",
        " |- Final_Training\n",
        "    |- Images\n",
        "        |- 00000\n",
        "        |- 00001\n",
        "        |- 00002\n",
        "        |- .....\n",
        "        |- 00042"
      ]
    },
    {
      "cell_type": "code",
      "execution_count": 6,
      "metadata": {
        "colab": {
          "base_uri": "https://localhost:8080/"
        },
        "id": "hR1kZT1uaC5t",
        "outputId": "756d30ea-3827-4138-9785-3c303509d2af"
      },
      "outputs": [
        {
          "output_type": "stream",
          "name": "stdout",
          "text": [
            "total label nums =  43\n",
            "=================================================\n",
            "['00034', '00002', '00016', '00040', '00021', '00022', '00023', '00004', '00014', '00027', '00018', '00019', '00005', '00020', '00029', '00013', '00041', '00015', '00032', '00000', '00008', '00030', '00007', '00006', '00026', '00024', '00003', '00031', '00038', '00017', '00009', '00036', '00035', '00011', '00033', '00025', '00037', '00039', '00012', '00028', '00010', '00042', '00001']\n"
          ]
        }
      ],
      "source": [
        "# 데이터 전체 개수 확인\n",
        "\n",
        "import os\n",
        "import glob\n",
        "\n",
        "# 데이터 정답 (label) 개수 및 종류 확인\n",
        "\n",
        "label_name_list = os.listdir(DATA_ROOT_DIR)\n",
        "\n",
        "print('total label nums = ', len(label_name_list))\n",
        "print('=================================================')\n",
        "print(label_name_list)"
      ]
    },
    {
      "cell_type": "markdown",
      "metadata": {
        "id": "HnH8tDL502Ih"
      },
      "source": [
        "원본 image를 정답 디렉토리 별로 읽어서 x_train numpy 생성 \n",
        "train label 읽어서 y_train numpy 생성"
      ]
    },
    {
      "cell_type": "code",
      "execution_count": 7,
      "metadata": {
        "id": "LbMVr2OC1HIS"
      },
      "outputs": [],
      "source": [
        "import os\n",
        "import cv2\n",
        "import glob\n",
        "import numpy as np\n",
        "from datetime import datetime\n",
        "\n",
        "image_list = []\n",
        "label_list = []\n",
        "\n",
        "image_label_list = os.listdir(DATA_ROOT_DIR)    # 정답이름\n",
        "\n",
        "for label_name in image_label_list:\n",
        "\n",
        "    # 이미지 파일 읽어오기\n",
        "\n",
        "    file_path = os.path.join(DATA_ROOT_DIR, label_name)\n",
        "    img_file_list = glob.glob(file_path+'/*.ppm')\n",
        "\n",
        "    # 각각의 정답 디렉토리에 있는 이미지 파일, 즉 .ppm 파일 읽어서 리스트에 저장\n",
        "    \n",
        "    for img_file in img_file_list:\n",
        "\n",
        "        try:\n",
        "            src_img = cv2.imread(img_file, cv2.IMREAD_COLOR) \n",
        "            src_img = cv2.resize(src_img, dsize=(32,32))\n",
        "            src_img = cv2.cvtColor(src_img, cv2.COLOR_BGR2RGB)\n",
        "\n",
        "            image_list.append(src_img)\n",
        "            label_list.append(float(label_name))  # 정답은 문자열을 실수로 변환\n",
        "\n",
        "        except Exception as err:\n",
        "            print(str(err), img_file)\n",
        "            continue"
      ]
    },
    {
      "cell_type": "code",
      "source": [
        "# numpy 변환\n",
        "\n",
        "x_train = np.array(image_list).astype('float32')\n",
        "y_train = np.array(label_list).astype('float32')\n",
        "\n",
        "print('x_train.shape = ', x_train.shape, ', y_train.shape = ', y_train.shape)"
      ],
      "metadata": {
        "colab": {
          "base_uri": "https://localhost:8080/"
        },
        "id": "xD_CYdJVzNV0",
        "outputId": "62c28d4e-cccb-4578-fed0-f930cc793e81"
      },
      "execution_count": 8,
      "outputs": [
        {
          "output_type": "stream",
          "name": "stdout",
          "text": [
            "x_train.shape =  (39209, 32, 32, 3) , y_train.shape =  (39209,)\n"
          ]
        }
      ]
    },
    {
      "cell_type": "markdown",
      "metadata": {
        "id": "A8Gos4G3OrVW"
      },
      "source": [
        "test data 생성. train : test = 8 : 2 \n",
        "\n",
        "단, 데이터 다양성을 위해서 train data 를 먼저 random shuffle 한후에 test data 생성함. 이때 주의할것은 label data 도 동일한 인덱스로 shuffle 되어야 한다는 것이다 "
      ]
    },
    {
      "cell_type": "code",
      "execution_count": 9,
      "metadata": {
        "id": "-KPUPQ--O-7K"
      },
      "outputs": [],
      "source": [
        "import numpy as np\n",
        "\n",
        "s = np.arange(len(x_train))  # [ 0 1 2...39206 39207 39208]\n",
        "\n",
        "np.random.shuffle(s)         # index random shuffle\n",
        "\n",
        "x_train = x_train[s]\n",
        "y_train = y_train[s]"
      ]
    },
    {
      "cell_type": "markdown",
      "metadata": {
        "id": "-kJWBM8ePnwb"
      },
      "source": [
        "x_train : x_test = 8 : 2"
      ]
    },
    {
      "cell_type": "code",
      "execution_count": 10,
      "metadata": {
        "id": "PR0_HtK6PsS_"
      },
      "outputs": [],
      "source": [
        "SPLIT_RATIO = 0.2    # 20%\n",
        "\n",
        "SPLIT_NUMS = int(SPLIT_RATIO*len(x_train))\n",
        "\n",
        "x_test = x_train[0:SPLIT_NUMS]\n",
        "y_test = y_train[0:SPLIT_NUMS]\n",
        "\n",
        "x_train = x_train[SPLIT_NUMS:]\n",
        "y_train = y_train[SPLIT_NUMS:]"
      ]
    },
    {
      "cell_type": "markdown",
      "metadata": {
        "id": "joPzIIyS-hjs"
      },
      "source": [
        "x_train, x_test, y_train, y_test shape 확인"
      ]
    },
    {
      "cell_type": "code",
      "execution_count": 11,
      "metadata": {
        "colab": {
          "base_uri": "https://localhost:8080/"
        },
        "id": "adtWSfppQSqu",
        "outputId": "581de535-ebe6-49cd-9afa-d83c937b9e78"
      },
      "outputs": [
        {
          "output_type": "stream",
          "name": "stdout",
          "text": [
            "x_train.shape =  (31368, 32, 32, 3) , y_train.shape =  (31368,)\n",
            "x_test.shape =  (7841, 32, 32, 3) , y_test.shape =  (7841,)\n"
          ]
        }
      ],
      "source": [
        "print('x_train.shape = ', x_train.shape, ', y_train.shape = ', y_train.shape)\n",
        "print('x_test.shape = ', x_test.shape, ', y_test.shape = ', y_test.shape)"
      ]
    },
    {
      "cell_type": "code",
      "execution_count": 12,
      "metadata": {
        "colab": {
          "base_uri": "https://localhost:8080/"
        },
        "id": "-IRt41UZ-8Em",
        "outputId": "ba3be4ad-0288-4d3f-ad27-efde0b5b3d0d"
      },
      "outputs": [
        {
          "output_type": "stream",
          "name": "stdout",
          "text": [
            "[ 9. 18.  3.]\n",
            "[41. 12. 18.]\n"
          ]
        }
      ],
      "source": [
        "print(y_train[:3])\n",
        "print(y_test[:3])"
      ]
    },
    {
      "cell_type": "markdown",
      "metadata": {
        "id": "ajW_TMZf_Pc2"
      },
      "source": [
        "데이터 정규화"
      ]
    },
    {
      "cell_type": "code",
      "execution_count": 13,
      "metadata": {
        "id": "Q4Xh-9FkvsKE"
      },
      "outputs": [],
      "source": [
        "# 정규화 \n",
        "\n",
        "x_train = x_train.astype(np.float32) / 255.0\n",
        "x_test = x_test.astype(np.float32) / 255.0"
      ]
    },
    {
      "cell_type": "markdown",
      "metadata": {
        "id": "wusn5G5WAchl"
      },
      "source": [
        "이미지 출력"
      ]
    },
    {
      "cell_type": "code",
      "execution_count": 14,
      "metadata": {
        "colab": {
          "base_uri": "https://localhost:8080/",
          "height": 585
        },
        "id": "kXNWhNxgAbZv",
        "outputId": "b635345b-7c3b-4988-c35f-a7e40d720d43"
      },
      "outputs": [
        {
          "output_type": "display_data",
          "data": {
            "image/png": "[encoded data removed]",
            "text/plain": [
              "<Figure size 576x576 with 16 Axes>"
            ]
          },
          "metadata": {
            "needs_background": "light"
          }
        }
      ],
      "source": [
        "import matplotlib.pyplot as plt\n",
        "\n",
        "random_index = np.random.randint(0, len(x_train), 16)    # 16개 랜덤 train 데이터 추출 \n",
        "\n",
        "plt.figure(figsize=(8,8))\n",
        "\n",
        "for pos in range(len(random_index)):\n",
        "\n",
        "    plt.subplot(4,4,pos+1)\n",
        "    plt.axis('off')\n",
        "    train_img_index = random_index[pos]\n",
        "    plt.imshow(x_train[train_img_index])\n",
        "\n",
        "plt.tight_layout()\n",
        "plt.show()"
      ]
    },
    {
      "cell_type": "markdown",
      "metadata": {
        "id": "YOscWaGQ_Ttt"
      },
      "source": [
        "Sequential 모델 구축"
      ]
    },
    {
      "cell_type": "code",
      "execution_count": 22,
      "metadata": {
        "colab": {
          "base_uri": "https://localhost:8080/"
        },
        "id": "ISOTB0okwnAc",
        "outputId": "781811a2-3804-49dc-d601-96e53de03a3a"
      },
      "outputs": [
        {
          "output_type": "stream",
          "name": "stdout",
          "text": [
            "Model: \"sequential_1\"\n",
            "_________________________________________________________________\n",
            " Layer (type)                Output Shape              Param #   \n",
            "=================================================================\n",
            " conv2d_2 (Conv2D)           (None, 30, 30, 32)        896       \n",
            "                                                                 \n",
            " conv2d_3 (Conv2D)           (None, 28, 28, 64)        18496     \n",
            "                                                                 \n",
            " max_pooling2d_1 (MaxPooling  (None, 14, 14, 64)       0         \n",
            " 2D)                                                             \n",
            "                                                                 \n",
            " dropout_2 (Dropout)         (None, 14, 14, 64)        0         \n",
            "                                                                 \n",
            " flatten_1 (Flatten)         (None, 12544)             0         \n",
            "                                                                 \n",
            " dense_2 (Dense)             (None, 256)               3211520   \n",
            "                                                                 \n",
            " dropout_3 (Dropout)         (None, 256)               0         \n",
            "                                                                 \n",
            " dense_3 (Dense)             (None, 43)                11051     \n",
            "                                                                 \n",
            "=================================================================\n",
            "Total params: 3,241,963\n",
            "Trainable params: 3,241,963\n",
            "Non-trainable params: 0\n",
            "_________________________________________________________________\n"
          ]
        }
      ],
      "source": [
        "n_classes = len(os.listdir(DATA_ROOT_DIR))  # 정답 개수\n",
        "\n",
        "model = Sequential()\n",
        "\n",
        "model.add(Conv2D(input_shape=(32,32,3), kernel_size=(3,3), filters=32, activation='relu'))\n",
        "model.add(Conv2D(kernel_size=(3,3), filters=64, activation='relu'))\n",
        "model.add(MaxPooling2D(pool_size=(2,2)))\n",
        "model.add(Dropout(0.25))\n",
        "\n",
        "model.add(Flatten())\n",
        "\n",
        "model.add(Dense(256, activation='relu'))\n",
        "model.add(Dropout(0.5))\n",
        "model.add(Dense(n_classes, activation='softmax'))\n",
        "\n",
        "model.summary()"
      ]
    },
    {
      "cell_type": "code",
      "execution_count": 23,
      "metadata": {
        "id": "ndPGvLsXx0XF"
      },
      "outputs": [],
      "source": [
        "model.compile(loss='sparse_categorical_crossentropy',\n",
        "              optimizer=tf.keras.optimizers.Adam(), metrics=['accuracy'])"
      ]
    },
    {
      "cell_type": "code",
      "execution_count": 24,
      "metadata": {
        "colab": {
          "base_uri": "https://localhost:8080/"
        },
        "id": "Rsq5HiT5yEA_",
        "outputId": "eb62482c-8dfe-47d2-9203-0ba6e39899b8"
      },
      "outputs": [
        {
          "output_type": "stream",
          "name": "stdout",
          "text": [
            "Epoch 1/30\n",
            "981/981 [==============================] - 13s 13ms/step - loss: 0.9402 - accuracy: 0.7401 - val_loss: 0.1466 - val_accuracy: 0.9651\n",
            "Epoch 2/30\n",
            "981/981 [==============================] - 12s 12ms/step - loss: 0.2071 - accuracy: 0.9398 - val_loss: 0.0740 - val_accuracy: 0.9856\n",
            "Epoch 3/30\n",
            "981/981 [==============================] - 12s 12ms/step - loss: 0.1192 - accuracy: 0.9635 - val_loss: 0.0545 - val_accuracy: 0.9884\n",
            "Epoch 4/30\n",
            "981/981 [==============================] - 12s 12ms/step - loss: 0.0867 - accuracy: 0.9734 - val_loss: 0.0488 - val_accuracy: 0.9893\n",
            "Epoch 5/30\n",
            "981/981 [==============================] - 12s 12ms/step - loss: 0.0663 - accuracy: 0.9796 - val_loss: 0.0416 - val_accuracy: 0.9916\n",
            "Epoch 6/30\n",
            "981/981 [==============================] - 12s 12ms/step - loss: 0.0552 - accuracy: 0.9827 - val_loss: 0.0417 - val_accuracy: 0.9912\n",
            "Epoch 7/30\n",
            "981/981 [==============================] - 12s 12ms/step - loss: 0.0486 - accuracy: 0.9844 - val_loss: 0.0332 - val_accuracy: 0.9932\n",
            "Epoch 8/30\n",
            "981/981 [==============================] - 12s 12ms/step - loss: 0.0404 - accuracy: 0.9873 - val_loss: 0.0344 - val_accuracy: 0.9934\n",
            "Epoch 9/30\n",
            "981/981 [==============================] - 12s 12ms/step - loss: 0.0391 - accuracy: 0.9882 - val_loss: 0.0446 - val_accuracy: 0.9917\n",
            "Epoch 10/30\n",
            "981/981 [==============================] - 12s 12ms/step - loss: 0.0357 - accuracy: 0.9890 - val_loss: 0.0285 - val_accuracy: 0.9945\n",
            "Epoch 11/30\n",
            "981/981 [==============================] - 12s 12ms/step - loss: 0.0291 - accuracy: 0.9901 - val_loss: 0.0306 - val_accuracy: 0.9936\n",
            "Epoch 12/30\n",
            "981/981 [==============================] - 12s 12ms/step - loss: 0.0292 - accuracy: 0.9915 - val_loss: 0.0417 - val_accuracy: 0.9936\n",
            "Epoch 13/30\n",
            "981/981 [==============================] - 12s 12ms/step - loss: 0.0263 - accuracy: 0.9917 - val_loss: 0.0430 - val_accuracy: 0.9943\n",
            "Epoch 14/30\n",
            "981/981 [==============================] - 12s 12ms/step - loss: 0.0269 - accuracy: 0.9923 - val_loss: 0.0301 - val_accuracy: 0.9941\n",
            "Epoch 15/30\n",
            "981/981 [==============================] - 12s 12ms/step - loss: 0.0250 - accuracy: 0.9927 - val_loss: 0.0338 - val_accuracy: 0.9936\n",
            "Epoch 00015: early stopping\n",
            "elapsed time =>  0:02:59.830951\n"
          ]
        }
      ],
      "source": [
        "from tensorflow.keras.callbacks import EarlyStopping\n",
        "from datetime import datetime\n",
        "\n",
        "earlystopping = EarlyStopping(monitor='val_loss', patience=5, verbose=1)   \n",
        "\n",
        "start_time = datetime.now()\n",
        "\n",
        "hist = model.fit(x_train, y_train, batch_size=32, epochs=30, \n",
        "                 validation_data=(x_test, y_test), callbacks=[earlystopping])\n",
        "\n",
        "end_time = datetime.now()\n",
        "\n",
        "print('elapsed time => ', end_time-start_time)"
      ]
    },
    {
      "cell_type": "code",
      "execution_count": 25,
      "metadata": {
        "colab": {
          "base_uri": "https://localhost:8080/"
        },
        "id": "TNQbhxp_yOU4",
        "outputId": "a895bde0-656f-4fcd-c208-0cdc83d62dd0"
      },
      "outputs": [
        {
          "output_type": "stream",
          "name": "stdout",
          "text": [
            "246/246 [==============================] - 1s 5ms/step - loss: 0.0338 - accuracy: 0.9936\n"
          ]
        },
        {
          "output_type": "execute_result",
          "data": {
            "text/plain": [
              "[0.033778876066207886, 0.9936232566833496]"
            ]
          },
          "metadata": {},
          "execution_count": 25
        }
      ],
      "source": [
        "model.evaluate(x_test, y_test)"
      ]
    },
    {
      "cell_type": "code",
      "execution_count": 26,
      "metadata": {
        "colab": {
          "base_uri": "https://localhost:8080/"
        },
        "id": "4u9Y23Hd7EQW",
        "outputId": "a41d1813-3495-4e4f-8aa7-e30bc012e2fc"
      },
      "outputs": [
        {
          "output_type": "stream",
          "name": "stdout",
          "text": [
            "(7841, 43)\n"
          ]
        }
      ],
      "source": [
        "y_pred = model.predict(x_test)\n",
        "\n",
        "print(y_pred.shape)"
      ]
    },
    {
      "cell_type": "code",
      "execution_count": 27,
      "metadata": {
        "colab": {
          "base_uri": "https://localhost:8080/",
          "height": 295
        },
        "id": "z7hIF36fyR6O",
        "outputId": "a3e7ce4c-34cb-4c89-9d07-275c85cc3e7e"
      },
      "outputs": [
        {
          "output_type": "display_data",
          "data": {
            "image/png": "[encoded data removed]",
            "text/plain": [
              "<Figure size 432x288 with 1 Axes>"
            ]
          },
          "metadata": {
            "needs_background": "light"
          }
        }
      ],
      "source": [
        "import matplotlib.pyplot as plt\n",
        "\n",
        "plt.plot(hist.history['accuracy'], label='train')\n",
        "plt.plot(hist.history['val_accuracy'], label='validation')\n",
        "plt.title('Accuracy Trend')\n",
        "plt.ylabel('accuracy')\n",
        "plt.xlabel('epoch')\n",
        "plt.legend(loc='best')\n",
        "plt.grid()\n",
        "plt.show()"
      ]
    },
    {
      "cell_type": "code",
      "execution_count": 28,
      "metadata": {
        "colab": {
          "base_uri": "https://localhost:8080/",
          "height": 295
        },
        "id": "ikuZTLbMybAQ",
        "outputId": "05983ea0-3d48-4510-e958-211aaef5fa6e"
      },
      "outputs": [
        {
          "output_type": "display_data",
          "data": {
            "image/png": "[encoded data removed]",
            "text/plain": [
              "<Figure size 432x288 with 1 Axes>"
            ]
          },
          "metadata": {
            "needs_background": "light"
          }
        }
      ],
      "source": [
        "plt.plot(hist.history['loss'], label='train')\n",
        "plt.plot(hist.history['val_loss'], label='validation')\n",
        "plt.title('Loss Trend')\n",
        "plt.ylabel('loss')\n",
        "plt.xlabel('epoch')\n",
        "plt.legend(loc='best')\n",
        "plt.grid()\n",
        "plt.show()"
      ]
    },
    {
      "cell_type": "code",
      "execution_count": null,
      "metadata": {
        "id": "PByUMR0n0Z8B"
      },
      "outputs": [],
      "source": [
        ""
      ]
    }
  ],
  "metadata": {
    "accelerator": "GPU",
    "colab": {
      "collapsed_sections": [],
      "name": "TF_2_x_LEC_29_GTSRB_Project.ipynb",
      "provenance": []
    },
    "kernelspec": {
      "display_name": "Python 3",
      "language": "python",
      "name": "python3"
    },
    "language_info": {
      "codemirror_mode": {
        "name": "ipython",
        "version": 3
      },
      "file_extension": ".py",
      "mimetype": "text/x-python",
      "name": "python",
      "nbconvert_exporter": "python",
      "pygments_lexer": "ipython3",
      "version": "3.7.3"
    }
  },
  "nbformat": 4,
  "nbformat_minor": 0
}