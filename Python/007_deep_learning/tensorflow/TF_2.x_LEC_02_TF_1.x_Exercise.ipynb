{
  "cells": [
    {
      "cell_type": "code",
      "execution_count": 1,
      "metadata": {
        "colab": {
          "base_uri": "https://localhost:8080/",
          "height": 89
        },
        "colab_type": "code",
        "id": "St3k2kbdXinQ",
        "outputId": "1bfea8d1-394b-4565-a3aa-0497a78ce031"
      },
      "outputs": [
        {
          "name": "stderr",
          "output_type": "stream",
          "text": [
            "UsageError: Line magic function `%tensorflow_version` not found.\n"
          ]
        }
      ],
      "source": [
        "%tensorflow_version 1.x\n",
        "\n",
        "import tensorflow as tf\n",
        "\n",
        "print('tensorflow version = ', tf.__version__)\n",
        "print('===========================================')\n",
        "\n",
        "a = tf.constant(1.0)\n",
        "b = tf.constant(2.0)\n",
        "\n",
        "c = a + b\n",
        "\n",
        "print('c = ', c)\n",
        "\n",
        "with tf.Session() as sess:    # session 만든 후에 연산 실행\n",
        "\n",
        "    print(sess.run(c))"
      ]
    },
    {
      "cell_type": "code",
      "execution_count": 2,
      "metadata": {
        "colab": {
          "base_uri": "https://localhost:8080/",
          "height": 125
        },
        "colab_type": "code",
        "id": "QvRAkt0uYSLd",
        "outputId": "5906ea64-a411-443c-d96d-65b71d14e69e"
      },
      "outputs": [
        {
          "name": "stderr",
          "output_type": "stream",
          "text": [
            "UsageError: Line magic function `%tensorflow_version` not found.\n"
          ]
        }
      ],
      "source": [
        "%tensorflow_version 1.x\n",
        "\n",
        "import tensorflow as tf\n",
        "\n",
        "print('tensorflow version = ', tf.__version__)\n",
        "print('===========================================')\n",
        "\n",
        "W = tf.Variable(tf.random_normal([1]))  # 가우시안 분포\n",
        "print(W)\n",
        "print('===========================================')\n",
        "\n",
        "# session 생성 하고,\n",
        "# tf.Variable(...) 초기화 해주는 코드 실행 후 연산 실행\n",
        "\n",
        "with tf.Session() as sess:\n",
        "\n",
        "    # 변수 노드 값 초기화\n",
        "    sess.run(tf.global_variables_initializer())\n",
        "\n",
        "    for step in range(2):\n",
        "        W = W + 1.0\n",
        "        print('step = ', step, ', W = ', sess.run(W))"
      ]
    },
    {
      "cell_type": "code",
      "execution_count": 5,
      "metadata": {
        "colab": {
          "base_uri": "https://localhost:8080/",
          "height": 71
        },
        "colab_type": "code",
        "id": "A19lBudRab0f",
        "outputId": "6d4e27f6-8f23-4396-a97a-a0b62165e6fa"
      },
      "outputs": [
        {
          "name": "stderr",
          "output_type": "stream",
          "text": [
            "UsageError: Line magic function `%tensorflow_version` not found.\n"
          ]
        }
      ],
      "source": [
        "%tensorflow_version 1.x\n",
        "\n",
        "import tensorflow as tf\n",
        "\n",
        "print('tensorflow version = ', tf.__version__)\n",
        "print('===========================================')\n",
        "\n",
        "a = tf.placeholder(tf.float32)  # 입력 값 저장할 노드 정의\n",
        "b = tf.placeholder(tf.float32)  # 입력 값 저장할 노드 정의\n",
        "\n",
        "# 함수 정의\n",
        "def tensor_sum(x, y):\n",
        "    return x + y\n",
        "\n",
        "result = tensor_sum(a, b)   # 함수 결과 값 저장 할 노드 정의\n",
        "\n",
        "# session 생성 하고,\n",
        "# feed_dict 통해서 placeholder 노드에 값 대입\n",
        "\n",
        "with tf.Session() as sess:\n",
        "\n",
        "    print(sess.run(result, feed_dict={a: [1.0], b: [3.0]}))"
      ]
    }
  ],
  "metadata": {
    "colab": {
      "collapsed_sections": [],
      "name": "TF_2.x_LEC_02_TF_1.x_Exercise.ipynb",
      "provenance": []
    },
    "kernelspec": {
      "display_name": "base",
      "language": "python",
      "name": "python3"
    },
    "language_info": {
      "codemirror_mode": {
        "name": "ipython",
        "version": 3
      },
      "file_extension": ".py",
      "mimetype": "text/x-python",
      "name": "python",
      "nbconvert_exporter": "python",
      "pygments_lexer": "ipython3",
      "version": "3.9.13"
    },
    "vscode": {
      "interpreter": {
        "hash": "16f5b46f222e2a3e8d4adbf7141cae37b71ed37616e60735fa5d1164a1bc3ada"
      }
    }
  },
  "nbformat": 4,
  "nbformat_minor": 0
}
