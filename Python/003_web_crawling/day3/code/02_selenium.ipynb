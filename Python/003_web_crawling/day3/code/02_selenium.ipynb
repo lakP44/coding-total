{
 "cells": [
  {
   "cell_type": "markdown",
   "id": "2f414be2",
   "metadata": {},
   "source": [
    "### selenium\n",
    "- 브라우져의 자동화 목적으로 만들어진 다양한 브라우져와 언어를 지원하는 라이브러리\n",
    "- 브라우져를 파이썬 코드로 컨트롤 해서 브라우져에 있는 데이터를 수집"
   ]
  },
  {
   "cell_type": "markdown",
   "id": "e7f2f376",
   "metadata": {},
   "source": [
    "#### 크롤링 방법\n",
    "- 1. requests : json :웹페이지의 API 트래픽을 분석해서 데이터 수집 : naver stock\n",
    "- 2. requests : json : 공식적으로 제공하는 API를 application key 받아서 데이터 수집 : naver api(papago, trend)\n",
    "- 3. requests : html, BeatufulSoup(css selector) : 웹페이지의 html 코드 받아서 데이터 수집 : gmarket\n",
    "- 4. selenium : browser - python : 브라우져를 파이썬 코드로 컨트롤 해서 데이터 수집 : ted\n",
    "- 크롤링할때 좋은 순서 : 2 > 1 > 3 > 4"
   ]
  },
  {
   "cell_type": "markdown",
   "id": "77c41855",
   "metadata": {},
   "source": [
    "#### 환경설정\n",
    "- 크롬 브라우져 설치\n",
    "- 크롬 브라우져 드라이버 다운로드 : 크롬 브라우져와 같은 버전 : 크롬브라우져와 파이썬코드 연결\n",
    "- selenium 패키지 설치\n",
    "- opt. : 크롬 브라우져의 드라이버 파일을 환경변수로 등록하면 조금 쉽게 사용"
   ]
  },
  {
   "cell_type": "code",
   "execution_count": 3,
   "id": "d03e7a58",
   "metadata": {},
   "outputs": [],
   "source": [
    "# !pip install selenium"
   ]
  },
  {
   "cell_type": "code",
   "execution_count": 4,
   "id": "7b558452",
   "metadata": {},
   "outputs": [],
   "source": [
    "from selenium import webdriver\n",
    "from selenium.webdriver.common.by import By"
   ]
  },
  {
   "cell_type": "code",
   "execution_count": 6,
   "id": "22e7b20b",
   "metadata": {},
   "outputs": [
    {
     "name": "stdout",
     "output_type": "stream",
     "text": [
      " C 드라이브의 볼륨: 로컬 디스크\n",
      " 볼륨 일련 번호: 8A64-4954\n",
      "\n",
      " C:\\Users\\User\\Desktop\\python_crawling\\day3\\code 디렉터리\n",
      "\n",
      "2022-08-05  오전 11:25    <DIR>          .\n",
      "2022-08-05  오전 11:25    <DIR>          ..\n",
      "2022-08-05  오전 10:59    <DIR>          .ipynb_checkpoints\n",
      "2022-08-05  오전 10:59           185,176 01_crawling_images.ipynb\n",
      "2022-08-05  오전 11:25             3,732 02_selenium.ipynb\n",
      "2022-08-05  오전 11:22        11,775,488 chromedriver.exe\n",
      "2022-08-05  오전 10:20    <DIR>          data\n",
      "2022-08-05  오전 09:58            31,275 gmarket.csv\n",
      "               4개 파일          11,995,671 바이트\n",
      "               4개 디렉터리  377,716,400,128 바이트 남음\n"
     ]
    }
   ],
   "source": [
    "%ls"
   ]
  },
  {
   "cell_type": "code",
   "execution_count": 5,
   "id": "be1fe645",
   "metadata": {},
   "outputs": [],
   "source": [
    "# 1. 브라우져 띄우기\n",
    "driver = webdriver.Chrome()"
   ]
  },
  {
   "cell_type": "code",
   "execution_count": 7,
   "id": "68df9d08",
   "metadata": {},
   "outputs": [],
   "source": [
    "# 2. 페이지 이동\n",
    "driver.get(\"https://daum.net\")"
   ]
  },
  {
   "cell_type": "code",
   "execution_count": 8,
   "id": "4c4449b2",
   "metadata": {},
   "outputs": [],
   "source": [
    "# 3. 브라우져 사이즈 조절\n",
    "driver.set_window_size(200, 600)"
   ]
  },
  {
   "cell_type": "code",
   "execution_count": 9,
   "id": "3ee01181",
   "metadata": {},
   "outputs": [],
   "source": [
    "# 4. 브라우져 스크롤 조절(자바스크립트 코드 실행)\n",
    "driver.execute_script(\"window.scrollTo(200, 300);\")"
   ]
  },
  {
   "cell_type": "code",
   "execution_count": 11,
   "id": "4acffc49",
   "metadata": {},
   "outputs": [],
   "source": [
    "# 5. alert 다루기\n",
    "driver.execute_script(\"alert('hello selenium!');\")"
   ]
  },
  {
   "cell_type": "code",
   "execution_count": 12,
   "id": "bc16b2f4",
   "metadata": {},
   "outputs": [],
   "source": [
    "alert = driver.switch_to.alert"
   ]
  },
  {
   "cell_type": "code",
   "execution_count": 13,
   "id": "90acee5d",
   "metadata": {},
   "outputs": [],
   "source": [
    "alert.accept()"
   ]
  },
  {
   "cell_type": "code",
   "execution_count": 14,
   "id": "2fbb22ca",
   "metadata": {},
   "outputs": [],
   "source": [
    "driver.execute_script(\"window.scrollTo(0, 0);\")"
   ]
  },
  {
   "cell_type": "code",
   "execution_count": 16,
   "id": "8e7598b3",
   "metadata": {},
   "outputs": [],
   "source": [
    "# 6. input 창에 문자열 입력\n",
    "driver.find_element(By.CSS_SELECTOR, \"#q\").send_keys(\"파이썬\")"
   ]
  },
  {
   "cell_type": "code",
   "execution_count": 18,
   "id": "2bcc5bb2",
   "metadata": {},
   "outputs": [],
   "source": [
    "# 7. 검색 버튼 클릭\n",
    "driver.find_element(By.CSS_SELECTOR, \".inner_search > .ico_pctop.btn_search\").click()"
   ]
  },
  {
   "cell_type": "code",
   "execution_count": 19,
   "id": "0c4d3b4b",
   "metadata": {},
   "outputs": [],
   "source": [
    "# 8. 브라우져 종료\n",
    "driver.quit()"
   ]
  },
  {
   "cell_type": "code",
   "execution_count": 20,
   "id": "3912156b",
   "metadata": {},
   "outputs": [],
   "source": [
    "# 브라우져 자동화\n",
    "driver = webdriver.Chrome()\n",
    "driver.get(\"https://daum.net\")\n",
    "driver.set_window_size(200, 600)\n",
    "driver.execute_script(\"window.scrollTo(200, 300);\")\n",
    "driver.execute_script(\"alert('hello selenium!');\")\n",
    "alert = driver.switch_to.alert\n",
    "alert.accept()\n",
    "driver.execute_script(\"window.scrollTo(0, 0);\")\n",
    "driver.find_element(By.CSS_SELECTOR, \"#q\").send_keys(\"파이썬\")\n",
    "driver.find_element(By.CSS_SELECTOR, \".inner_search > .ico_pctop.btn_search\").click()\n",
    "driver.quit()"
   ]
  },
  {
   "cell_type": "code",
   "execution_count": 21,
   "id": "e63e6621",
   "metadata": {},
   "outputs": [],
   "source": [
    "# 간단하게 머신러닝 사용"
   ]
  },
  {
   "cell_type": "code",
   "execution_count": 23,
   "id": "13f61800",
   "metadata": {},
   "outputs": [
    {
     "name": "stdout",
     "output_type": "stream",
     "text": [
      " C 드라이브의 볼륨: 로컬 디스크\n",
      " 볼륨 일련 번호: 8A64-4954\n",
      "\n",
      " C:\\Users\\User\\Desktop\\python_crawling\\day3\\code 디렉터리\n",
      "\n",
      "2022-08-05  오후 12:03               477 premierleague.csv\n",
      "               1개 파일                 477 바이트\n",
      "               0개 디렉터리  377,761,505,280 바이트 남음\n"
     ]
    }
   ],
   "source": [
    "%ls premierleague.csv"
   ]
  },
  {
   "cell_type": "code",
   "execution_count": 30,
   "id": "4edd72e0",
   "metadata": {},
   "outputs": [
    {
     "data": {
      "text/html": [
       "<div>\n",
       "<style scoped>\n",
       "    .dataframe tbody tr th:only-of-type {\n",
       "        vertical-align: middle;\n",
       "    }\n",
       "\n",
       "    .dataframe tbody tr th {\n",
       "        vertical-align: top;\n",
       "    }\n",
       "\n",
       "    .dataframe thead th {\n",
       "        text-align: right;\n",
       "    }\n",
       "</style>\n",
       "<table border=\"1\" class=\"dataframe\">\n",
       "  <thead>\n",
       "    <tr style=\"text-align: right;\">\n",
       "      <th></th>\n",
       "      <th>name</th>\n",
       "      <th>gf</th>\n",
       "      <th>ga</th>\n",
       "      <th>points</th>\n",
       "    </tr>\n",
       "  </thead>\n",
       "  <tbody>\n",
       "    <tr>\n",
       "      <th>0</th>\n",
       "      <td>Manchester City</td>\n",
       "      <td>106</td>\n",
       "      <td>27</td>\n",
       "      <td>100</td>\n",
       "    </tr>\n",
       "    <tr>\n",
       "      <th>1</th>\n",
       "      <td>Manchester United</td>\n",
       "      <td>68</td>\n",
       "      <td>28</td>\n",
       "      <td>81</td>\n",
       "    </tr>\n",
       "    <tr>\n",
       "      <th>2</th>\n",
       "      <td>Tottenham Hotspur</td>\n",
       "      <td>74</td>\n",
       "      <td>36</td>\n",
       "      <td>77</td>\n",
       "    </tr>\n",
       "    <tr>\n",
       "      <th>3</th>\n",
       "      <td>Liverpool</td>\n",
       "      <td>84</td>\n",
       "      <td>38</td>\n",
       "      <td>75</td>\n",
       "    </tr>\n",
       "    <tr>\n",
       "      <th>4</th>\n",
       "      <td>Chelsea</td>\n",
       "      <td>62</td>\n",
       "      <td>38</td>\n",
       "      <td>70</td>\n",
       "    </tr>\n",
       "  </tbody>\n",
       "</table>\n",
       "</div>"
      ],
      "text/plain": [
       "                name   gf  ga  points\n",
       "0    Manchester City  106  27     100\n",
       "1  Manchester United   68  28      81\n",
       "2  Tottenham Hotspur   74  36      77\n",
       "3          Liverpool   84  38      75\n",
       "4            Chelsea   62  38      70"
      ]
     },
     "execution_count": 30,
     "metadata": {},
     "output_type": "execute_result"
    }
   ],
   "source": [
    "df = pd.read_csv(\"premierleague.csv\")\n",
    "df.head(5)"
   ]
  },
  {
   "cell_type": "code",
   "execution_count": 26,
   "id": "2e4e9f56",
   "metadata": {},
   "outputs": [],
   "source": [
    "feature = df[[\"gf\", \"ga\"]]\n",
    "target = df[\"points\"]"
   ]
  },
  {
   "cell_type": "code",
   "execution_count": null,
   "id": "5bb75df9",
   "metadata": {},
   "outputs": [],
   "source": [
    "# !pip install sklearn"
   ]
  },
  {
   "cell_type": "code",
   "execution_count": 29,
   "id": "c6a82c9b",
   "metadata": {},
   "outputs": [],
   "source": [
    "from sklearn.linear_model import LinearRegression\n",
    "model = LinearRegression().fit(feature, target)"
   ]
  },
  {
   "cell_type": "code",
   "execution_count": 36,
   "id": "a8f9c91d",
   "metadata": {},
   "outputs": [
    {
     "data": {
      "text/plain": [
       "array([79.])"
      ]
     },
     "execution_count": 36,
     "metadata": {},
     "output_type": "execute_result"
    }
   ],
   "source": [
    "# 데이터 예측 : 득점 80, 실점 36\n",
    "np.round(model.predict([[80, 36]]))"
   ]
  },
  {
   "cell_type": "code",
   "execution_count": 35,
   "id": "76670de9",
   "metadata": {},
   "outputs": [],
   "source": [
    "# warning 메시지 안뜨게\n",
    "import warnings\n",
    "warnings.filterwarnings(\"ignore\")"
   ]
  },
  {
   "cell_type": "code",
   "execution_count": 37,
   "id": "7f69783b",
   "metadata": {},
   "outputs": [],
   "source": [
    "# data > train(8h) > model(ram) > computer off\n",
    "# model > ssd(hdd)"
   ]
  },
  {
   "cell_type": "code",
   "execution_count": 38,
   "id": "3ba4bba2",
   "metadata": {},
   "outputs": [],
   "source": [
    "import pickle"
   ]
  },
  {
   "cell_type": "code",
   "execution_count": 39,
   "id": "ff0d4769",
   "metadata": {},
   "outputs": [],
   "source": [
    "# ram > ssd\n",
    "with open(\"model.pkl\", \"wb\") as file:\n",
    "    pickle.dump(model, file)"
   ]
  },
  {
   "cell_type": "code",
   "execution_count": 41,
   "id": "ad7e6494",
   "metadata": {},
   "outputs": [],
   "source": [
    "# ssd > ram\n",
    "with open(\"model.pkl\", \"rb\") as file:\n",
    "    load_model = pickle.load(file)"
   ]
  },
  {
   "cell_type": "code",
   "execution_count": 42,
   "id": "0a2f314b",
   "metadata": {},
   "outputs": [
    {
     "data": {
      "text/plain": [
       "array([79.])"
      ]
     },
     "execution_count": 42,
     "metadata": {},
     "output_type": "execute_result"
    }
   ],
   "source": [
    "np.round(load_model.predict([[80, 36]]))"
   ]
  },
  {
   "cell_type": "markdown",
   "id": "cd91cfbc",
   "metadata": {},
   "source": [
    "#### 텍스터 데이터 수집\n",
    "- TED 사이트 : https://ted.com/talks"
   ]
  },
  {
   "cell_type": "code",
   "execution_count": 46,
   "id": "e0cf162b",
   "metadata": {},
   "outputs": [],
   "source": [
    "# 1. 브라우져 열기\n",
    "driver = webdriver.Chrome()"
   ]
  },
  {
   "cell_type": "code",
   "execution_count": 47,
   "id": "6ec61e62",
   "metadata": {},
   "outputs": [],
   "source": [
    "# 2. 페이지 이동\n",
    "driver.get(\"https://www.ted.com/talks\")"
   ]
  },
  {
   "cell_type": "code",
   "execution_count": 48,
   "id": "a32b8847",
   "metadata": {},
   "outputs": [
    {
     "data": {
      "text/plain": [
       "'Join TED Recommends to get the best ideas, selected just for you'"
      ]
     },
     "execution_count": 48,
     "metadata": {},
     "output_type": "execute_result"
    }
   ],
   "source": [
    "# 3. 제목 데이터 텍스트 수집\n",
    "sub_title = driver.find_element(By.CSS_SELECTOR, \"#banner-secondary\").text\n",
    "sub_title"
   ]
  },
  {
   "cell_type": "code",
   "execution_count": 50,
   "id": "5cca6c6b",
   "metadata": {},
   "outputs": [],
   "source": [
    "# 4. select box에서 한국어 메뉴 클릭\n",
    "driver.find_element(By.CSS_SELECTOR, '#languages [lang=\"ko\"]').click()"
   ]
  },
  {
   "cell_type": "code",
   "execution_count": 51,
   "id": "5a32b25f",
   "metadata": {},
   "outputs": [
    {
     "data": {
      "text/plain": [
       "36"
      ]
     },
     "execution_count": 51,
     "metadata": {},
     "output_type": "execute_result"
    }
   ],
   "source": [
    "# 5. 전체 데이터의 제목과 링크 데이터 수집\n",
    "elements = driver.find_elements(By.CSS_SELECTOR, \"#browse-results > .row > div\")\n",
    "len(elements)"
   ]
  },
  {
   "cell_type": "code",
   "execution_count": 58,
   "id": "7e203ecf",
   "metadata": {},
   "outputs": [
    {
     "data": {
      "text/plain": [
       "('스페인어의 역사 - 일란 스타반스(Ilan Stavans)',\n",
       " 'https://www.ted.com/talks/ilan_stavans_a_brief_history_of_spanish?language=ko')"
      ]
     },
     "execution_count": 58,
     "metadata": {},
     "output_type": "execute_result"
    }
   ],
   "source": [
    "element = elements[0]\n",
    "title = element.find_element(By.CSS_SELECTOR, \"h4 > .ga-link\").text\n",
    "link = element.find_element(By.CSS_SELECTOR, \"h4 > .ga-link\").get_attribute(\"href\")\n",
    "title, link"
   ]
  },
  {
   "cell_type": "code",
   "execution_count": 59,
   "id": "304128ea",
   "metadata": {},
   "outputs": [],
   "source": [
    "# 6. 데이터 프레임으로 만들기"
   ]
  },
  {
   "cell_type": "code",
   "execution_count": 61,
   "id": "534d8aba",
   "metadata": {},
   "outputs": [
    {
     "data": {
      "text/html": [
       "<div>\n",
       "<style scoped>\n",
       "    .dataframe tbody tr th:only-of-type {\n",
       "        vertical-align: middle;\n",
       "    }\n",
       "\n",
       "    .dataframe tbody tr th {\n",
       "        vertical-align: top;\n",
       "    }\n",
       "\n",
       "    .dataframe thead th {\n",
       "        text-align: right;\n",
       "    }\n",
       "</style>\n",
       "<table border=\"1\" class=\"dataframe\">\n",
       "  <thead>\n",
       "    <tr style=\"text-align: right;\">\n",
       "      <th></th>\n",
       "      <th>title</th>\n",
       "      <th>link</th>\n",
       "    </tr>\n",
       "  </thead>\n",
       "  <tbody>\n",
       "    <tr>\n",
       "      <th>34</th>\n",
       "      <td>두려움을 극복하기 위한 올림픽 챔피언의 사고방식</td>\n",
       "      <td>https://www.ted.com/talks/allyson_felix_an_oly...</td>\n",
       "    </tr>\n",
       "    <tr>\n",
       "      <th>35</th>\n",
       "      <td>바퀴벌레를 없애는 것은 왜 이렇게 어려울까요? - 아메야 곤달레카르</td>\n",
       "      <td>https://www.ted.com/talks/ameya_gondhalekar_wh...</td>\n",
       "    </tr>\n",
       "  </tbody>\n",
       "</table>\n",
       "</div>"
      ],
      "text/plain": [
       "                                    title  \\\n",
       "34             두려움을 극복하기 위한 올림픽 챔피언의 사고방식   \n",
       "35  바퀴벌레를 없애는 것은 왜 이렇게 어려울까요? - 아메야 곤달레카르   \n",
       "\n",
       "                                                 link  \n",
       "34  https://www.ted.com/talks/allyson_felix_an_oly...  \n",
       "35  https://www.ted.com/talks/ameya_gondhalekar_wh...  "
      ]
     },
     "execution_count": 61,
     "metadata": {},
     "output_type": "execute_result"
    }
   ],
   "source": [
    "data = []\n",
    "for element in elements:\n",
    "    data.append({\n",
    "        \"title\": element.find_element(By.CSS_SELECTOR, \"h4 > .ga-link\").text,\n",
    "        \"link\": element.find_element(By.CSS_SELECTOR, \"h4 > .ga-link\").get_attribute(\"href\"),\n",
    "    })\n",
    "df = pd.DataFrame(data)\n",
    "df.tail(2)"
   ]
  },
  {
   "cell_type": "code",
   "execution_count": 62,
   "id": "16548ec1",
   "metadata": {},
   "outputs": [],
   "source": [
    "driver.quit()"
   ]
  },
  {
   "cell_type": "markdown",
   "id": "49efffc2",
   "metadata": {},
   "source": [
    "#### Headless\n",
    "- 브라우져를 화면에 띄우지 않고 메모리 상에서만 브라우져를 실행하여 크롤링하는 방법\n",
    "- window가 지원되지 않는 환경에서 selenium 사용 가능\n",
    "- 크롬 버전 : 60 이상부터 지원"
   ]
  },
  {
   "cell_type": "code",
   "execution_count": 63,
   "id": "01a541c7",
   "metadata": {},
   "outputs": [
    {
     "data": {
      "text/plain": [
       "'103.0.5060.134'"
      ]
     },
     "execution_count": 63,
     "metadata": {},
     "output_type": "execute_result"
    }
   ],
   "source": [
    "# 크롬 버전 확인\n",
    "driver = webdriver.Chrome()\n",
    "version = driver.capabilities[\"browserVersion\"]\n",
    "driver.quit()\n",
    "version"
   ]
  },
  {
   "cell_type": "code",
   "execution_count": 66,
   "id": "c675f684",
   "metadata": {},
   "outputs": [
    {
     "data": {
      "text/plain": [
       "'Join TED Recommends to get the best ideas, selected just for you'"
      ]
     },
     "execution_count": 66,
     "metadata": {},
     "output_type": "execute_result"
    }
   ],
   "source": [
    "options = webdriver.ChromeOptions()\n",
    "options.add_argument(\"headless\")\n",
    "\n",
    "driver = webdriver.Chrome(options=options)\n",
    "\n",
    "driver.get(\"https://www.ted.com/talks\")\n",
    "sub_title = driver.find_element(By.CSS_SELECTOR, \"#banner-secondary\").text\n",
    "driver.quit()\n",
    "\n",
    "sub_title"
   ]
  }
 ],
 "metadata": {
  "kernelspec": {
   "display_name": "base",
   "language": "python",
   "name": "python3"
  },
  "language_info": {
   "codemirror_mode": {
    "name": "ipython",
    "version": 3
   },
   "file_extension": ".py",
   "mimetype": "text/x-python",
   "name": "python",
   "nbconvert_exporter": "python",
   "pygments_lexer": "ipython3",
   "version": "3.9.12 (main, Apr  4 2022, 05:22:27) [MSC v.1916 64 bit (AMD64)]"
  },
  "vscode": {
   "interpreter": {
    "hash": "964f46f3973c3d99dc6929d5bd1748275317def86f082ea2874e0d5a9cf6d261"
   }
  }
 },
 "nbformat": 4,
 "nbformat_minor": 5
}
