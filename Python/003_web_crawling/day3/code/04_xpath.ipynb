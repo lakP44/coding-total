{
 "cells": [
  {
   "cell_type": "markdown",
   "id": "64544db2",
   "metadata": {},
   "source": [
    "#### xpath\n",
    "- html element 선택하는 방법\n",
    "- scrapy 에서 기본적으로 사용하는 selector\n",
    "- scrapy : 파이썬 코드로 웹페이지의 데이터를 수집하는 프레임워크"
   ]
  },
  {
   "cell_type": "code",
   "execution_count": 3,
   "id": "1fec056d",
   "metadata": {},
   "outputs": [],
   "source": [
    "# !pip install scrapy"
   ]
  },
  {
   "cell_type": "code",
   "execution_count": 4,
   "id": "6af77895",
   "metadata": {},
   "outputs": [],
   "source": [
    "import scrapy, requests\n",
    "from scrapy.http import TextResponse"
   ]
  },
  {
   "cell_type": "code",
   "execution_count": 5,
   "id": "966c716b",
   "metadata": {},
   "outputs": [],
   "source": [
    "# 네이버 연관검색어 수집"
   ]
  },
  {
   "cell_type": "code",
   "execution_count": 1,
   "id": "fc9cabe8",
   "metadata": {},
   "outputs": [
    {
     "data": {
      "text/plain": [
       "'https://search.naver.com/search.naver?query=kt'"
      ]
     },
     "execution_count": 1,
     "metadata": {},
     "output_type": "execute_result"
    }
   ],
   "source": [
    "query = \"kt\"\n",
    "url = f\"https://search.naver.com/search.naver?query={query}\"\n",
    "url"
   ]
  },
  {
   "cell_type": "code",
   "execution_count": 8,
   "id": "7c04bdbd",
   "metadata": {},
   "outputs": [],
   "source": [
    "response = requests.get(url)\n",
    "dom = TextResponse(response.url, body=response.text, encoding=\"utf-8\")"
   ]
  },
  {
   "cell_type": "code",
   "execution_count": null,
   "id": "2c077b6b",
   "metadata": {},
   "outputs": [],
   "source": [
    "# xpath syntax\n",
    "# //*[@id=\"nx_footer_related_keywords\"]/div/div[2]/ul/li[1]/a/div\n",
    "# // : 최상위 엘리먼트\n",
    "# * : 모든 하위 엘리먼트 : css selector(.wrap p)\n",
    "# [@id=\"nx_footer_related_keywords\"] : 속성값으로 엘리먼트 선택\n",
    "# / : 한단계 하위 엘리먼트 : css selector(.wrap > p)\n",
    "# [n] : n 번째 엘리먼트"
   ]
  },
  {
   "cell_type": "code",
   "execution_count": 9,
   "id": "7d8cd42c",
   "metadata": {},
   "outputs": [
    {
     "data": {
      "text/plain": [
       "[<Selector xpath='//*[@id=\"nx_footer_related_keywords\"]/div/div[2]/ul/li[1]/a/div' data='<div class=\"tit\">삼성전자</div>'>]"
      ]
     },
     "execution_count": 9,
     "metadata": {},
     "output_type": "execute_result"
    }
   ],
   "source": [
    "dom.xpath('//*[@id=\"nx_footer_related_keywords\"]/div/div[2]/ul/li[1]/a/div')"
   ]
  },
  {
   "cell_type": "code",
   "execution_count": 11,
   "id": "c634587e",
   "metadata": {},
   "outputs": [
    {
     "data": {
      "text/plain": [
       "[<Selector xpath='//*[@id=\"nx_footer_related_keywords\"]/div/div[2]/ul/li/a/div' data='<div class=\"tit\">삼성전자</div>'>,\n",
       " <Selector xpath='//*[@id=\"nx_footer_related_keywords\"]/div/div[2]/ul/li/a/div' data='<div class=\"tit\">kt 고객센터</div>'>]"
      ]
     },
     "execution_count": 11,
     "metadata": {},
     "output_type": "execute_result"
    }
   ],
   "source": [
    "dom.xpath('//*[@id=\"nx_footer_related_keywords\"]/div/div[2]/ul/li/a/div')[:2]"
   ]
  },
  {
   "cell_type": "code",
   "execution_count": 14,
   "id": "95c02d7d",
   "metadata": {},
   "outputs": [
    {
     "name": "stdout",
     "output_type": "stream",
     "text": [
      "['삼성전자', 'kt 고객센터', 'kt 인터넷', 'ky', '환율', 'kt 대리점', 'kr', '날씨', 'SKT', 'kt 고객센터 전화번호']\n"
     ]
    }
   ],
   "source": [
    "# text 수집\n",
    "keywords = dom.xpath('//*[@id=\"nx_footer_related_keywords\"]/div/div[2]/ul/li/a/div/text()').extract()\n",
    "print(keywords)"
   ]
  },
  {
   "cell_type": "code",
   "execution_count": 15,
   "id": "6e763001",
   "metadata": {},
   "outputs": [],
   "source": [
    "# selenium 에서의 xpath는 for 을 사용해서 데이터를 수집"
   ]
  }
 ],
 "metadata": {
  "kernelspec": {
   "display_name": "Python 3.9.12 ('base')",
   "language": "python",
   "name": "python3"
  },
  "language_info": {
   "codemirror_mode": {
    "name": "ipython",
    "version": 3
   },
   "file_extension": ".py",
   "mimetype": "text/x-python",
   "name": "python",
   "nbconvert_exporter": "python",
   "pygments_lexer": "ipython3",
   "version": "3.9.12"
  },
  "vscode": {
   "interpreter": {
    "hash": "964f46f3973c3d99dc6929d5bd1748275317def86f082ea2874e0d5a9cf6d261"
   }
  }
 },
 "nbformat": 4,
 "nbformat_minor": 5
}
