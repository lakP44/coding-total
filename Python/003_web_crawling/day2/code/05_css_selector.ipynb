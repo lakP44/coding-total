{
 "cells": [
  {
   "cell_type": "markdown",
   "id": "868fb461",
   "metadata": {},
   "source": [
    "### CSS Selector\n",
    "- CSS 스타일을 적용 시킬 HTML 엘리먼트를 선택하는 방법"
   ]
  },
  {
   "cell_type": "code",
   "execution_count": 1,
   "id": "5901e0af",
   "metadata": {},
   "outputs": [],
   "source": [
    "# 1. Element Tag 이름으로 선택\n",
    "# css selector : span : python 3 선택"
   ]
  },
  {
   "cell_type": "code",
   "execution_count": 6,
   "id": "3daa7916",
   "metadata": {},
   "outputs": [
    {
     "data": {
      "text/html": [
       "<div id=\"kt\">\n",
       "    <div>python 1</div>\n",
       "    <p>python 2</p>\n",
       "    <span>python 3</span>\n",
       "</div>\n"
      ],
      "text/plain": [
       "<IPython.core.display.HTML object>"
      ]
     },
     "metadata": {},
     "output_type": "display_data"
    }
   ],
   "source": [
    "%%html\n",
    "<div id=\"kt\">\n",
    "    <div>python 1</div>\n",
    "    <p>python 2</p>\n",
    "    <span>python 3</span>\n",
    "</div>"
   ]
  },
  {
   "cell_type": "code",
   "execution_count": 2,
   "id": "e14fe139",
   "metadata": {},
   "outputs": [],
   "source": [
    "# 2. Tag의 id 값으로 선택\n",
    "# css selector : #kt2 : python 2 선택"
   ]
  },
  {
   "cell_type": "code",
   "execution_count": 7,
   "id": "e6a79b6a",
   "metadata": {},
   "outputs": [
    {
     "data": {
      "text/html": [
       "<div class=\"kt\">\n",
       "    <p id=\"kt1\">python 1</p>\n",
       "    <p id=\"kt2\">python 2</p>\n",
       "    <p id=\"kt3\">python 3</p>\n",
       "</div>\n"
      ],
      "text/plain": [
       "<IPython.core.display.HTML object>"
      ]
     },
     "metadata": {},
     "output_type": "display_data"
    }
   ],
   "source": [
    "%%html\n",
    "<div class=\"kt\">\n",
    "    <p id=\"kt1\">python 1</p>\n",
    "    <p id=\"kt2\">python 2</p>\n",
    "    <p id=\"kt3\">python 3</p>\n",
    "</div>"
   ]
  },
  {
   "cell_type": "code",
   "execution_count": 3,
   "id": "9d6c77ac",
   "metadata": {},
   "outputs": [],
   "source": [
    "# 3. Tag의 class 값으로 선택\n",
    "# css selector : .kt2 : python 2 선택\n",
    "# css selector : .kt : python 1, python 2, python 3 선택"
   ]
  },
  {
   "cell_type": "code",
   "execution_count": 9,
   "id": "815596ac",
   "metadata": {},
   "outputs": [
    {
     "data": {
      "text/html": [
       "<p class=\"kt kt1\">python 1</p>\n",
       "<p class=\"kt kt2\">python 2</p>\n",
       "<p class=\"kt kt3\">python 3</p>\n"
      ],
      "text/plain": [
       "<IPython.core.display.HTML object>"
      ]
     },
     "metadata": {},
     "output_type": "display_data"
    }
   ],
   "source": [
    "%%html\n",
    "<p class=\"kt kt1\">python 1</p>\n",
    "<p class=\"kt kt2\">python 2</p>\n",
    "<p class=\"kt kt3\">python 3</p>"
   ]
  },
  {
   "cell_type": "code",
   "execution_count": 11,
   "id": "203d7261",
   "metadata": {},
   "outputs": [],
   "source": [
    "# 4. Tag의 attr 값으로 선택\n",
    "# css selector : [value=\"no1\"] : python 1 선택"
   ]
  },
  {
   "cell_type": "code",
   "execution_count": 12,
   "id": "53f350dc",
   "metadata": {},
   "outputs": [
    {
     "data": {
      "text/html": [
       "<p value=\"no1\">python 1</p>\n",
       "<p value=\"no2\">python 2</p>\n",
       "<p value=\"no3\">python 3</p>\n"
      ],
      "text/plain": [
       "<IPython.core.display.HTML object>"
      ]
     },
     "metadata": {},
     "output_type": "display_data"
    }
   ],
   "source": [
    "%%html\n",
    "<p value=\"no1\">python 1</p>\n",
    "<p value=\"no2\">python 2</p>\n",
    "<p value=\"no3\">python 3</p>"
   ]
  },
  {
   "cell_type": "code",
   "execution_count": 13,
   "id": "a41d5b5a",
   "metadata": {},
   "outputs": [],
   "source": [
    "# tag 이름 : span\n",
    "# id : #kt\n",
    "# class : .kt\n",
    "# attr : [value=\"kt\"]"
   ]
  },
  {
   "cell_type": "code",
   "execution_count": 14,
   "id": "29ec8fd9",
   "metadata": {},
   "outputs": [],
   "source": [
    "# 5. 여러개의 엘리먼트 선택"
   ]
  },
  {
   "cell_type": "code",
   "execution_count": 18,
   "id": "78d0c78c",
   "metadata": {},
   "outputs": [],
   "source": [
    "# not selector\n",
    "# class no 엘리먼트를 모두 선택하고, \n",
    "# no2 클래스를 갖는 엘리먼트만 제외\n",
    "# css selector : .no:not(.no2) : python 1, python 2"
   ]
  },
  {
   "cell_type": "code",
   "execution_count": 20,
   "id": "9a75afed",
   "metadata": {},
   "outputs": [
    {
     "data": {
      "text/html": [
       "<p class=\"no no1\">python 1</p>\n",
       "<p class=\"no no2\">python 2</p>\n",
       "<p class=\"no no3\">python 3</p>\n"
      ],
      "text/plain": [
       "<IPython.core.display.HTML object>"
      ]
     },
     "metadata": {},
     "output_type": "display_data"
    }
   ],
   "source": [
    "%%html\n",
    "<p class=\"no no1\">python 1</p>\n",
    "<p class=\"no no2\">python 2</p>\n",
    "<p class=\"no no3\">python 3</p>"
   ]
  },
  {
   "cell_type": "code",
   "execution_count": 25,
   "id": "f0955b38",
   "metadata": {},
   "outputs": [],
   "source": [
    "# n 번째 엘리먼트 선택\n",
    "# css selector : .py:nth-child(3) : python 2 선택\n",
    "# .py 엘리먼트 중에서 3번째 : X\n",
    "# 3번째 엘리먼트중에서 .py 클래스를 갖는 : O"
   ]
  },
  {
   "cell_type": "code",
   "execution_count": 26,
   "id": "14cc5661",
   "metadata": {},
   "outputs": [
    {
     "data": {
      "text/html": [
       "<div>\n",
       "    <p class=\"py\">python 1</p>\n",
       "    <span>python 0</span>\n",
       "    <p class=\"py\">python 2</p>\n",
       "    <p class=\"py\">python 3</p>\n",
       "</div>\n"
      ],
      "text/plain": [
       "<IPython.core.display.HTML object>"
      ]
     },
     "metadata": {},
     "output_type": "display_data"
    }
   ],
   "source": [
    "%%html\n",
    "<div>\n",
    "    <p class=\"py\">python 1</p>\n",
    "    <span>python 0</span>\n",
    "    <p class=\"py\">python 2</p>\n",
    "    <p class=\"py\">python 3</p>\n",
    "</div>"
   ]
  },
  {
   "cell_type": "code",
   "execution_count": 29,
   "id": "9543aec5",
   "metadata": {},
   "outputs": [],
   "source": [
    "# 6. 계층적으로 엘리먼트 선택\n",
    "# .wrap > p : inner 1 선택\n",
    "# .wrap p : inner 1, inner 2 선택"
   ]
  },
  {
   "cell_type": "code",
   "execution_count": 28,
   "id": "68023688",
   "metadata": {},
   "outputs": [
    {
     "data": {
      "text/html": [
       "<div class=\"wrap\">\n",
       "    <p>inner 1</p>\n",
       "    <div>\n",
       "        <p>inner 2</p>\n",
       "    </div>\n",
       "</div>\n"
      ],
      "text/plain": [
       "<IPython.core.display.HTML object>"
      ]
     },
     "metadata": {},
     "output_type": "display_data"
    }
   ],
   "source": [
    "%%html\n",
    "<div class=\"wrap\">\n",
    "    <p>inner 1</p>\n",
    "    <div>\n",
    "        <p>inner 2</p>\n",
    "    </div>\n",
    "</div>"
   ]
  },
  {
   "cell_type": "code",
   "execution_count": 34,
   "id": "b7e123ed",
   "metadata": {},
   "outputs": [],
   "source": [
    "# 여러개의 엘리먼트 선택\n",
    "# .py1, .py3 : python 1, python 3 선택"
   ]
  },
  {
   "cell_type": "code",
   "execution_count": 33,
   "id": "67f649b7",
   "metadata": {},
   "outputs": [
    {
     "data": {
      "text/html": [
       "<p class=\"py1\">python 1</p>\n",
       "<p class=\"py2\">python 2</p>\n",
       "<p class=\"py3\">python 3</p>\n"
      ],
      "text/plain": [
       "<IPython.core.display.HTML object>"
      ]
     },
     "metadata": {},
     "output_type": "display_data"
    }
   ],
   "source": [
    "%%html\n",
    "<p class=\"py1\">python 1</p>\n",
    "<p class=\"py2\">python 2</p>\n",
    "<p class=\"py3\">python 3</p>"
   ]
  },
  {
   "cell_type": "code",
   "execution_count": null,
   "id": "502c773d",
   "metadata": {},
   "outputs": [],
   "source": [
    "# 엘리먼트 하나 선택\n",
    "# tag 이름 : span\n",
    "# id : #kt\n",
    "# class : .kt\n",
    "# attr : [value=\"kt\"]\n",
    "\n",
    "# 여러개의 엘리먼트 선택\n",
    "# :not(.kt1)\n",
    "# :nth-child(n)\n",
    "# .wrap > p : 한단계 하위 엘리먼트\n",
    "# .wrap p : 모든 하위 엘리먼트\n",
    "# .kt1, .kt2 : 선택하는 모든 엘리먼트 선택"
   ]
  }
 ],
 "metadata": {
  "kernelspec": {
   "display_name": "Python 3",
   "language": "python",
   "name": "python3"
  },
  "language_info": {
   "codemirror_mode": {
    "name": "ipython",
    "version": 3
   },
   "file_extension": ".py",
   "mimetype": "text/x-python",
   "name": "python",
   "nbconvert_exporter": "python",
   "pygments_lexer": "ipython3",
   "version": "3.8.8"
  }
 },
 "nbformat": 4,
 "nbformat_minor": 5
}
