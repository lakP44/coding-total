{
 "cells": [
  {
   "cell_type": "markdown",
   "id": "98fbebb3",
   "metadata": {},
   "source": [
    "### HTML\n",
    "- 웹문서를 작성하는 언어\n",
    "- 구성요소\n",
    "    - Document : 한페이지를 나타내는 코드\n",
    "    - Element : 하나의 레이아웃 : Element가 모여서 Document를 만듦\n",
    "    - Tag : Element의 종류를 정의 : 시작태그 + 끝태그 = Element\n",
    "    - Attribute : 속성값 : 시작태그에서 태그의 기능 정의\n",
    "        - id : element를 지정하는 페이지 내에서 유일한 값\n",
    "        - class : element를 지정하는 값으로 페이지 내에서 여러개 사용 가능\n",
    "        - attr : id, class 를 제외한 나머지 속성값\n",
    "    - Text : 시작태그와 끝태그 사이의 문자열\n",
    "- 엘리먼트는 계층적 구조를 갖습니다."
   ]
  },
  {
   "cell_type": "code",
   "execution_count": 3,
   "id": "032a4dee",
   "metadata": {},
   "outputs": [
    {
     "data": {
      "text/html": [
       "<div class=\"wrapper\">\n",
       "    <button id=\"b1\" class=\"btn no1\" value=\"1\">HTML 1</button>\n",
       "    <button id=\"b2\" class=\"btn no2\" value=\"2\">HTML 2</button>\n",
       "    <p>HTML 3</p>\n",
       "</div>\n"
      ],
      "text/plain": [
       "<IPython.core.display.HTML object>"
      ]
     },
     "metadata": {},
     "output_type": "display_data"
    }
   ],
   "source": [
    "%%html\n",
    "<div class=\"wrapper\">\n",
    "    <button id=\"b1\" class=\"btn no1\" value=\"1\">HTML 1</button>\n",
    "    <button id=\"b2\" class=\"btn no2\" value=\"2\">HTML 2</button>\n",
    "    <p>HTML 3</p>\n",
    "</div>"
   ]
  },
  {
   "cell_type": "markdown",
   "id": "cc41b63d",
   "metadata": {},
   "source": [
    "#### HTML 태그 종류"
   ]
  },
  {
   "cell_type": "code",
   "execution_count": 4,
   "id": "95b930d2",
   "metadata": {},
   "outputs": [],
   "source": [
    "# p : 한줄의 문자열 출력"
   ]
  },
  {
   "cell_type": "code",
   "execution_count": 5,
   "id": "1825738b",
   "metadata": {},
   "outputs": [
    {
     "data": {
      "text/html": [
       "<p>python 1</p>\n",
       "<p>python 2</p>\n"
      ],
      "text/plain": [
       "<IPython.core.display.HTML object>"
      ]
     },
     "metadata": {},
     "output_type": "display_data"
    }
   ],
   "source": [
    "%%html\n",
    "<p>python 1</p>\n",
    "<p>python 2</p>"
   ]
  },
  {
   "cell_type": "code",
   "execution_count": 6,
   "id": "490cef3b",
   "metadata": {},
   "outputs": [],
   "source": [
    "# span : 한블럭의 문자열 출력"
   ]
  },
  {
   "cell_type": "code",
   "execution_count": 7,
   "id": "fc9811d1",
   "metadata": {},
   "outputs": [
    {
     "data": {
      "text/html": [
       "<span>python 1</span>\n",
       "<span>python 2</span>\n"
      ],
      "text/plain": [
       "<IPython.core.display.HTML object>"
      ]
     },
     "metadata": {},
     "output_type": "display_data"
    }
   ],
   "source": [
    "%%html\n",
    "<span>python 1</span>\n",
    "<span>python 2</span>"
   ]
  },
  {
   "cell_type": "code",
   "execution_count": 8,
   "id": "3d50083f",
   "metadata": {},
   "outputs": [],
   "source": [
    "# ul, li : 리스트 문자열 출력"
   ]
  },
  {
   "cell_type": "code",
   "execution_count": 9,
   "id": "630f90b9",
   "metadata": {},
   "outputs": [
    {
     "data": {
      "text/html": [
       "<ul>\n",
       "    <li>python 1</li>\n",
       "    <li>python 2</li>\n",
       "</ul>\n"
      ],
      "text/plain": [
       "<IPython.core.display.HTML object>"
      ]
     },
     "metadata": {},
     "output_type": "display_data"
    }
   ],
   "source": [
    "%%html\n",
    "<ul>\n",
    "    <li>python 1</li>\n",
    "    <li>python 2</li>\n",
    "</ul>"
   ]
  },
  {
   "cell_type": "code",
   "execution_count": null,
   "id": "d6dc8719",
   "metadata": {},
   "outputs": [],
   "source": [
    "# a : 링크를 나타내는 태그"
   ]
  },
  {
   "cell_type": "code",
   "execution_count": 11,
   "id": "37df4c63",
   "metadata": {},
   "outputs": [
    {
     "data": {
      "text/html": [
       "<a href=\"https://kt.com\" target=\"_blink\">Click</a>\n"
      ],
      "text/plain": [
       "<IPython.core.display.HTML object>"
      ]
     },
     "metadata": {},
     "output_type": "display_data"
    }
   ],
   "source": [
    "%%html\n",
    "<a href=\"https://kt.com\" target=\"_blink\">Click</a>"
   ]
  },
  {
   "cell_type": "code",
   "execution_count": 13,
   "id": "7ddcfdc8",
   "metadata": {},
   "outputs": [],
   "source": [
    "# img : 이미지를 출력하는 태그"
   ]
  },
  {
   "cell_type": "code",
   "execution_count": 14,
   "id": "c4f1e103",
   "metadata": {},
   "outputs": [
    {
     "data": {
      "text/html": [
       "<img src=\"https://cfm.kt.com/images/v2/layout/gnb-ktlogo.png\">\n"
      ],
      "text/plain": [
       "<IPython.core.display.HTML object>"
      ]
     },
     "metadata": {},
     "output_type": "display_data"
    }
   ],
   "source": [
    "%%html\n",
    "<img src=\"https://cfm.kt.com/images/v2/layout/gnb-ktlogo.png\">"
   ]
  },
  {
   "cell_type": "code",
   "execution_count": 15,
   "id": "9289dfe9",
   "metadata": {},
   "outputs": [],
   "source": [
    "# iframe : 외부 URL 링크에 해당하는 웹페이지를 출력"
   ]
  },
  {
   "cell_type": "code",
   "execution_count": 17,
   "id": "14720f6f",
   "metadata": {},
   "outputs": [
    {
     "data": {
      "text/html": [
       "<iframe src=\"https://kt.com\" width=\"100%\" height=\"400px;\">\n"
      ],
      "text/plain": [
       "<IPython.core.display.HTML object>"
      ]
     },
     "metadata": {},
     "output_type": "display_data"
    }
   ],
   "source": [
    "%%html\n",
    "<iframe src=\"https://kt.com\" width=\"100%\" height=\"400px;\">"
   ]
  },
  {
   "cell_type": "code",
   "execution_count": 18,
   "id": "0f81a5e6",
   "metadata": {},
   "outputs": [],
   "source": [
    "# div : 레이아웃을 나타내는 태그"
   ]
  },
  {
   "cell_type": "code",
   "execution_count": 19,
   "id": "c4eacb93",
   "metadata": {},
   "outputs": [
    {
     "data": {
      "text/html": [
       "<div>\n",
       "    <p>python 1</p>\n",
       "    <p>python 2</p>\n",
       "</div>\n",
       "<div>\n",
       "    <p>python 3</p>\n",
       "</div>\n"
      ],
      "text/plain": [
       "<IPython.core.display.HTML object>"
      ]
     },
     "metadata": {},
     "output_type": "display_data"
    }
   ],
   "source": [
    "%%html\n",
    "<div>\n",
    "    <p>python 1</p>\n",
    "    <p>python 2</p>\n",
    "</div>\n",
    "<div>\n",
    "    <p>python 3</p>\n",
    "</div>"
   ]
  },
  {
   "cell_type": "code",
   "execution_count": 20,
   "id": "5168196b",
   "metadata": {},
   "outputs": [],
   "source": [
    "# table : 행열 데이터를 출력"
   ]
  },
  {
   "cell_type": "code",
   "execution_count": 23,
   "id": "234245b8",
   "metadata": {},
   "outputs": [
    {
     "data": {
      "text/html": [
       "<table>\n",
       "    <caption>제목</caption>\n",
       "    <thead>\n",
       "        <tr>\n",
       "            <th>column 1</th>\n",
       "            <th>column 2</th>\n",
       "        </tr>\n",
       "    </thead>\n",
       "    <tbody>\n",
       "        <tr>\n",
       "            <td>data 1</td>\n",
       "            <td>data 2</td>\n",
       "        </tr>\n",
       "        <tr>\n",
       "            <td>data 3</td>\n",
       "            <td>data 4</td>\n",
       "        </tr>\n",
       "    </tbody>\n",
       "</table>\n"
      ],
      "text/plain": [
       "<IPython.core.display.HTML object>"
      ]
     },
     "metadata": {},
     "output_type": "display_data"
    }
   ],
   "source": [
    "%%html\n",
    "<table>\n",
    "    <caption>제목</caption>\n",
    "    <thead>\n",
    "        <tr>\n",
    "            <th>column 1</th>\n",
    "            <th>column 2</th>\n",
    "        </tr>\n",
    "    </thead>\n",
    "    <tbody>\n",
    "        <tr>\n",
    "            <td>data 1</td>\n",
    "            <td>data 2</td>\n",
    "        </tr>\n",
    "        <tr>\n",
    "            <td>data 3</td>\n",
    "            <td>data 4</td>\n",
    "        </tr>\n",
    "    </tbody>\n",
    "</table>"
   ]
  },
  {
   "cell_type": "code",
   "execution_count": 24,
   "id": "e7403e85",
   "metadata": {},
   "outputs": [],
   "source": [
    "# 부동소수점 에러"
   ]
  },
  {
   "cell_type": "code",
   "execution_count": 25,
   "id": "8326b556",
   "metadata": {},
   "outputs": [
    {
     "name": "stdout",
     "output_type": "stream",
     "text": [
      "0.1 0.2\n"
     ]
    }
   ],
   "source": [
    "data1, data2 = 0.1, 0.2\n",
    "print(data1, data2)"
   ]
  },
  {
   "cell_type": "code",
   "execution_count": 26,
   "id": "09f72c0a",
   "metadata": {},
   "outputs": [
    {
     "data": {
      "text/plain": [
       "False"
      ]
     },
     "execution_count": 26,
     "metadata": {},
     "output_type": "execute_result"
    }
   ],
   "source": [
    "(data1 + data2) == 0.3"
   ]
  },
  {
   "cell_type": "code",
   "execution_count": 27,
   "id": "d2fa7c8a",
   "metadata": {},
   "outputs": [
    {
     "data": {
      "text/plain": [
       "0.30000000000000004"
      ]
     },
     "execution_count": 27,
     "metadata": {},
     "output_type": "execute_result"
    }
   ],
   "source": [
    "data1 + data2"
   ]
  },
  {
   "cell_type": "code",
   "execution_count": 31,
   "id": "a56cd1ab",
   "metadata": {},
   "outputs": [
    {
     "data": {
      "text/plain": [
       "(0.3, True)"
      ]
     },
     "execution_count": 31,
     "metadata": {},
     "output_type": "execute_result"
    }
   ],
   "source": [
    "# 해결방법 1 : 반올림 사용 : round\n",
    "round(data1 + data2, 1), round(data1 + data2, 1) == 0.3"
   ]
  },
  {
   "cell_type": "code",
   "execution_count": 34,
   "id": "7ee57ee3",
   "metadata": {},
   "outputs": [
    {
     "data": {
      "text/plain": [
       "True"
      ]
     },
     "execution_count": 34,
     "metadata": {},
     "output_type": "execute_result"
    }
   ],
   "source": [
    "# 해결방법 2 : 고정소수점 방식으로 연산\n",
    "from decimal import Decimal\n",
    "float(Decimal(str(data1)) + Decimal(str(data2))) == 0.3"
   ]
  }
 ],
 "metadata": {
  "kernelspec": {
   "display_name": "Python 3",
   "language": "python",
   "name": "python3"
  },
  "language_info": {
   "codemirror_mode": {
    "name": "ipython",
    "version": 3
   },
   "file_extension": ".py",
   "mimetype": "text/x-python",
   "name": "python",
   "nbconvert_exporter": "python",
   "pygments_lexer": "ipython3",
   "version": "3.8.8"
  }
 },
 "nbformat": 4,
 "nbformat_minor": 5
}
