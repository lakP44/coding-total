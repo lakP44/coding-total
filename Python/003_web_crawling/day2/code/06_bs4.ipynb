{
 "cells": [
  {
   "cell_type": "markdown",
   "id": "f8e3e750",
   "metadata": {},
   "source": [
    "#### 정적 페이지 데이터 수집\n",
    "- 네이버 연관 검색어 수집\n",
    "- bs4 : BeautifulSoup : HTML(str) > CSS Selector 를 이용하여 엘리먼트 선택"
   ]
  },
  {
   "cell_type": "code",
   "execution_count": 2,
   "id": "7a80463a",
   "metadata": {},
   "outputs": [],
   "source": [
    "import pandas as pd\n",
    "import requests\n",
    "from bs4 import BeautifulSoup"
   ]
  },
  {
   "cell_type": "code",
   "execution_count": 3,
   "id": "536432ee",
   "metadata": {},
   "outputs": [],
   "source": [
    "# 1. 웹서비스 분석 : URL"
   ]
  },
  {
   "cell_type": "code",
   "execution_count": 4,
   "id": "937c82bb",
   "metadata": {},
   "outputs": [
    {
     "data": {
      "text/plain": [
       "'https://search.naver.com/search.naver?query=kt'"
      ]
     },
     "execution_count": 4,
     "metadata": {},
     "output_type": "execute_result"
    }
   ],
   "source": [
    "keyword = \"kt\"\n",
    "url = f\"https://search.naver.com/search.naver?query={keyword}\"\n",
    "url"
   ]
  },
  {
   "cell_type": "code",
   "execution_count": 5,
   "id": "038b6738",
   "metadata": {},
   "outputs": [],
   "source": [
    "# 2. request(url) > response(html) : HTML(str)"
   ]
  },
  {
   "cell_type": "code",
   "execution_count": 6,
   "id": "e97cc96a",
   "metadata": {},
   "outputs": [
    {
     "data": {
      "text/plain": [
       "<Response [200]>"
      ]
     },
     "execution_count": 6,
     "metadata": {},
     "output_type": "execute_result"
    }
   ],
   "source": [
    "response = requests.get(url)\n",
    "response"
   ]
  },
  {
   "cell_type": "code",
   "execution_count": 7,
   "id": "c6047d4e",
   "metadata": {},
   "outputs": [
    {
     "data": {
      "text/plain": [
       "'<!doctype html> <html lang=\"ko\"> <head> <meta charset=\"utf-8\"> <meta name=\"referrer\" content=\"always\">  <meta name=\"format-detection\" content=\"telephone=no,address=no,email=no\"> <meta name=\"viewport\" content=\"width=device-width,initial-scale=1.0,maximum-scale=2.0\"> <meta property=\"og:title\" content=\"kt : 네이버 통합검색\"/> <meta property=\"og:image\" content=\"https://ssl.pstatic.net/sstatic/search/common/og_v3.png\"> <meta property=\"og:description\" content=\"\\'kt\\'의 네이버 통합검색 결과입니다.\"> <meta name=\"description\"'"
      ]
     },
     "execution_count": 7,
     "metadata": {},
     "output_type": "execute_result"
    }
   ],
   "source": [
    "response.text[:500]"
   ]
  },
  {
   "cell_type": "code",
   "execution_count": 8,
   "id": "af9c954b",
   "metadata": {},
   "outputs": [],
   "source": [
    "# 3. HTML(str) > BeatifulSoup Object > BS(CSS Selector) > Data"
   ]
  },
  {
   "cell_type": "code",
   "execution_count": 9,
   "id": "9e885695",
   "metadata": {},
   "outputs": [
    {
     "data": {
      "text/plain": [
       "bs4.BeautifulSoup"
      ]
     },
     "execution_count": 9,
     "metadata": {},
     "output_type": "execute_result"
    }
   ],
   "source": [
    "dom = BeautifulSoup(response.text, \"html.parser\")\n",
    "type(dom)"
   ]
  },
  {
   "cell_type": "code",
   "execution_count": 10,
   "id": "99a69e3e",
   "metadata": {},
   "outputs": [
    {
     "data": {
      "text/plain": [
       "10"
      ]
     },
     "execution_count": 10,
     "metadata": {},
     "output_type": "execute_result"
    }
   ],
   "source": [
    "# select() : 엘리먼트 여러개 선택\n",
    "# select_one() : 엘리먼트 한개 선택\n",
    "elements = dom.select(\".lst_related_srch > .item\")\n",
    "len(elements)"
   ]
  },
  {
   "cell_type": "code",
   "execution_count": 11,
   "id": "2f72bf41",
   "metadata": {},
   "outputs": [
    {
     "data": {
      "text/plain": [
       "<li class=\"item\"> <a class=\"keyword\" href=\"?where=nexearch&amp;query=kt+%EC%9D%B8%ED%84%B0%EB%84%B7&amp;ie=utf8&amp;sm=tab_she&amp;qdt=0\" onclick=\"return goOtherCR(this, 'a=rsk_btm*q.list1&amp;r=3&amp;u=' + urlencode(this.href))\"> <div class=\"tit\">kt 인터넷</div> </a> </li>"
      ]
     },
     "execution_count": 11,
     "metadata": {},
     "output_type": "execute_result"
    }
   ],
   "source": [
    "elements[2]"
   ]
  },
  {
   "cell_type": "code",
   "execution_count": 12,
   "id": "b92720b3",
   "metadata": {},
   "outputs": [
    {
     "name": "stdout",
     "output_type": "stream",
     "text": [
      "['ktx', 'kt 고객센터', 'kt 인터넷', 'ky', '환율', '애플', 'kr', 'SKT', 'kt 대리점', '쿠팡']\n"
     ]
    }
   ],
   "source": [
    "keywords = []\n",
    "for element in elements:\n",
    "    keyword = element.select_one(\".tit\").text\n",
    "    keywords.append(keyword)\n",
    "print(keywords)"
   ]
  },
  {
   "cell_type": "code",
   "execution_count": 13,
   "id": "a4c7edf6",
   "metadata": {},
   "outputs": [
    {
     "name": "stdout",
     "output_type": "stream",
     "text": [
      "['ktx', 'kt 고객센터', 'kt 인터넷', 'ky', '환율', '애플', 'kr', 'SKT', 'kt 대리점', '쿠팡']\n"
     ]
    }
   ],
   "source": [
    "keywords = [element.select_one(\".tit\").text for element in elements]\n",
    "print(keywords)"
   ]
  },
  {
   "cell_type": "code",
   "execution_count": null,
   "id": "5252dd2a",
   "metadata": {},
   "outputs": [],
   "source": []
  },
  {
   "cell_type": "code",
   "execution_count": null,
   "id": "6d26d754",
   "metadata": {},
   "outputs": [],
   "source": []
  },
  {
   "cell_type": "code",
   "execution_count": null,
   "id": "508ba964",
   "metadata": {},
   "outputs": [],
   "source": []
  },
  {
   "cell_type": "code",
   "execution_count": null,
   "id": "cb277cdd",
   "metadata": {},
   "outputs": [],
   "source": []
  },
  {
   "cell_type": "code",
   "execution_count": null,
   "id": "64a10c02",
   "metadata": {},
   "outputs": [],
   "source": []
  }
 ],
 "metadata": {
  "kernelspec": {
   "display_name": "Python 3.9.12 ('base')",
   "language": "python",
   "name": "python3"
  },
  "language_info": {
   "codemirror_mode": {
    "name": "ipython",
    "version": 3
   },
   "file_extension": ".py",
   "mimetype": "text/x-python",
   "name": "python",
   "nbconvert_exporter": "python",
   "pygments_lexer": "ipython3",
   "version": "3.9.12"
  },
  "vscode": {
   "interpreter": {
    "hash": "964f46f3973c3d99dc6929d5bd1748275317def86f082ea2874e0d5a9cf6d261"
   }
  }
 },
 "nbformat": 4,
 "nbformat_minor": 5
}
