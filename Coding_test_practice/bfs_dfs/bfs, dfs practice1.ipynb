{
 "cells": [
  {
   "cell_type": "markdown",
   "metadata": {},
   "source": [
    "# 음료수 얼려먹기"
   ]
  },
  {
   "cell_type": "code",
   "execution_count": 3,
   "metadata": {},
   "outputs": [],
   "source": [
    "import numpy as np"
   ]
  },
  {
   "cell_type": "code",
   "execution_count": null,
   "metadata": {},
   "outputs": [],
   "source": [
    "# # 초기 그래프\n",
    "# [[0, 0, 1, 1, 0],\n",
    "#  [0, 0, 0, 1, 1],\n",
    "#  [1, 1, 1, 1, 1],\n",
    "#  [0, 0, 0, 0, 0]]\n",
    "\n",
    "\n",
    "# # ice_dfs(0,0) -> 시작 iter 0\n",
    "# [[1, 0, 1, 1, 0],\n",
    "#  [0, 0, 0, 1, 1],\n",
    "#  [1, 1, 1, 1, 1],\n",
    "#  [0, 0, 0, 0, 0]]\n",
    "\n",
    "# #ice_dfs(0,1) -> 우 recur 1\n",
    "# [[1, 1, 1, 1, 0],\n",
    "#  [0, 0, 0, 1, 1],\n",
    "#  [1, 1, 1, 1, 1],\n",
    "#  [0, 0, 0, 0, 0]]\n",
    "\n",
    "# #ice_dfs(1,1) -> 하 recur 2\n",
    "# [[1, 1, 1, 1, 0],\n",
    "#  [0, 1, 0, 1, 1],\n",
    "#  [1, 1, 1, 1, 1],\n",
    "#  [0, 0, 0, 0, 0]]\n",
    "\n",
    "# #ice_dfs(1,0) -> 좌 recur 3\n",
    "# [[1, 1, 1, 1, 0],\n",
    "#  [1, 1, 0, 1, 1],\n",
    "#  [1, 1, 1, 1, 1],\n",
    "#  [0, 0, 0, 0, 0]]\n",
    "\n",
    "# True # recur 3 종료\n",
    "\n",
    "# #ice_dfs(1,2) -> (recur2에서) 우 recur 4\n",
    "# [[1, 1, 1, 1, 0],\n",
    "#  [1, 1, 1, 1, 1],\n",
    "#  [1, 1, 1, 1, 1],\n",
    "#  [0, 0, 0, 0, 0]]\n",
    "\n",
    "# True # recur 4 종료\n",
    "# True # recur 2 종료\n",
    "# True # recur 1 종료\n",
    "# True # recur 0 종료"
   ]
  },
  {
   "attachments": {},
   "cell_type": "markdown",
   "metadata": {},
   "source": [
    "- DFS는 stack 구조로 First Input의 결과가 하위 재귀호출이 끝난 후에 반환됨을 기억해야함\n",
    "- 여기서는 위에서 정의한 return 값이 헷갈렸음\n",
    "- 즉, 다시 이해해보면\n",
    "- 0,0에서 시작하면 성공조건을 타고 상하좌우에 대해 각각 재귀호출에 들어간다.\n",
    "- 방문처리가 되면서 하위 호출들이 모두 종료조건에 걸림\n",
    "- (우->하->(좌),(우))\n",
    "- 다시 타고 올라오면서 True값을 return하지만 값은 최종값인 1개만 리턴\n",
    "- 시작점인 (0,0)에 대해서 재귀호출을 하는 세부적인 사항은 아래와 같다."
   ]
  },
  {
   "cell_type": "code",
   "execution_count": 5,
   "metadata": {},
   "outputs": [
    {
     "name": "stdout",
     "output_type": "stream",
     "text": [
      "[[0, 0, 1, 1, 0], [0, 0, 0, 1, 1], [1, 1, 1, 1, 1], [0, 0, 0, 0, 0]]\n",
      "[[1 1 1 1 0]\n",
      " [1 1 0 1 1]\n",
      " [1 1 1 1 1]\n",
      " [0 0 0 0 0]]\n",
      "[[1 1 1 1 0]\n",
      " [1 1 1 1 1]\n",
      " [1 1 1 1 1]\n",
      " [0 0 0 0 0]]\n",
      "[[1 1 1 1 0]\n",
      " [1 1 1 1 1]\n",
      " [1 1 1 1 1]\n",
      " [0 0 0 0 0]]\n",
      "[[1 1 1 1 0]\n",
      " [1 1 1 1 1]\n",
      " [1 1 1 1 1]\n",
      " [0 0 0 0 0]]\n",
      "[[1 1 1 1 0]\n",
      " [1 1 1 1 1]\n",
      " [1 1 1 1 1]\n",
      " [0 0 0 0 0]]\n",
      "1\n",
      "[[1 1 1 1 1]\n",
      " [1 1 1 1 1]\n",
      " [1 1 1 1 1]\n",
      " [0 0 0 0 0]]\n",
      "2\n",
      "[[1 1 1 1 1]\n",
      " [1 1 1 1 1]\n",
      " [1 1 1 1 1]\n",
      " [1 1 1 1 1]]\n",
      "[[1 1 1 1 1]\n",
      " [1 1 1 1 1]\n",
      " [1 1 1 1 1]\n",
      " [1 1 1 1 1]]\n",
      "[[1 1 1 1 1]\n",
      " [1 1 1 1 1]\n",
      " [1 1 1 1 1]\n",
      " [1 1 1 1 1]]\n",
      "[[1 1 1 1 1]\n",
      " [1 1 1 1 1]\n",
      " [1 1 1 1 1]\n",
      " [1 1 1 1 1]]\n",
      "[[1 1 1 1 1]\n",
      " [1 1 1 1 1]\n",
      " [1 1 1 1 1]\n",
      " [1 1 1 1 1]]\n",
      "3\n"
     ]
    }
   ],
   "source": [
    "n, m = map(int, input().split())\n",
    "\n",
    "graph = []\n",
    "for i in range(n):\n",
    "    graph.append(list(map(int, input()))) # 전체 맵 상태를 입력받는곳 중요\n",
    "print(graph)\n",
    "\n",
    "def dfs(x, y):\n",
    "    if x <= -1 or x >= n or y <= -1 or y >= m:\n",
    "        return False\n",
    "    if graph[x][y] == 0: # 요기부터 -->\n",
    "        graph[x][y] = 1\n",
    "        \n",
    "        dfs(x - 1, y)    \n",
    "        dfs(x, y - 1)\n",
    "        dfs(x + 1, y)\n",
    "        dfs(x, y + 1)\n",
    "        \n",
    "        return True\n",
    "    return False # --> 요기까지 0을 1로 채워가면서 한 섹터를 채울때마다 True를 반환\n",
    "\n",
    "result = 0\n",
    "for i in range (n):\n",
    "    for j in range (m):\n",
    "        if dfs(i, j) == True:\n",
    "            result += 1\n",
    "            print(result)"
   ]
  },
  {
   "cell_type": "code",
   "execution_count": 9,
   "metadata": {},
   "outputs": [
    {
     "name": "stdout",
     "output_type": "stream",
     "text": [
      "[[0, 0, 1, 1, 0], [0, 0, 0, 1, 1], [1, 1, 1, 1, 1], [0, 0, 0, 0, 0]]\n"
     ]
    }
   ],
   "source": [
    "n, m = map(int, input().split())\n",
    "\n",
    "graph = []\n",
    "for i in range(n):\n",
    "    graph.append(list(map(int, input())))\n",
    "print(graph)\n",
    "\n",
    "def dfs(x, y):\n",
    "    if x <= -1 or x >= n or y <= -1 or y >= m:\n",
    "        return False\n",
    "    if graph[x][y] == 0:\n",
    "        graph[x][y] = 1\n",
    "        \n",
    "    while True:\n",
    "        x -= 1\n",
    "        if x <= -1 or x >= n or y <= -1 or y >= m:\n",
    "            continue\n",
    "        if graph[x][y] == 0:\n",
    "            graph[x][y] = 1\n",
    "    while True:\n",
    "        x += 1\n",
    "        if x <= -1 or x >= n or y <= -1 or y >= m:\n",
    "            break\n",
    "        if graph[x][y] == 0:\n",
    "            graph[x][y] = 1\n",
    "    while True:\n",
    "        y -= 1\n",
    "        if x <= -1 or x >= n or y <= -1 or y >= m:\n",
    "            break\n",
    "        if graph[x][y] == 0:\n",
    "            graph[x][y] = 1\n",
    "    while True:\n",
    "        y += 1\n",
    "        if x <= -1 or x >= n or y <= -1 or y >= m:\n",
    "            break\n",
    "        if graph[x][y] == 0:\n",
    "            graph[x][y] = 1\n",
    "        \n",
    "        print(np.array(graph))\n",
    "        return True\n",
    "    return False\n",
    "\n",
    "result = 0\n",
    "for i in range (n):\n",
    "    for j in range (m):\n",
    "        if dfs(i, j) == True:\n",
    "            result += 1\n",
    "            print(result)"
   ]
  }
 ],
 "metadata": {
  "kernelspec": {
   "display_name": "base",
   "language": "python",
   "name": "python3"
  },
  "language_info": {
   "codemirror_mode": {
    "name": "ipython",
    "version": 3
   },
   "file_extension": ".py",
   "mimetype": "text/x-python",
   "name": "python",
   "nbconvert_exporter": "python",
   "pygments_lexer": "ipython3",
   "version": "3.9.12"
  },
  "orig_nbformat": 4,
  "vscode": {
   "interpreter": {
    "hash": "964f46f3973c3d99dc6929d5bd1748275317def86f082ea2874e0d5a9cf6d261"
   }
  }
 },
 "nbformat": 4,
 "nbformat_minor": 2
}
