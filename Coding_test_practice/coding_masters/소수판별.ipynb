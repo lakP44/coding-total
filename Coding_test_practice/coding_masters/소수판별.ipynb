{
 "cells": [
  {
   "cell_type": "code",
   "execution_count": 22,
   "metadata": {},
   "outputs": [
    {
     "name": "stdout",
     "output_type": "stream",
     "text": [
      "0\n"
     ]
    }
   ],
   "source": [
    "n = int(input())\n",
    "\n",
    "prime = [i for i in range(int(n**0.5)+1)]\n",
    "prime[1]=0\n",
    "o = 1\n",
    "\n",
    "if n<2 or n%2==0: o = 0\n",
    "else: \n",
    "    for i in range(3, int(n**0.5)+1, 2):\n",
    "        if prime[i] > 1: \n",
    "            if n%i==0: o=0; break;\n",
    "            for j in range(i+i, int(n**0.5)+1, i):\n",
    "                prime[j] = 0\n",
    "\n",
    "print(o)"
   ]
  }
 ],
 "metadata": {
  "kernelspec": {
   "display_name": "Python 3.9.12 ('base')",
   "language": "python",
   "name": "python3"
  },
  "language_info": {
   "codemirror_mode": {
    "name": "ipython",
    "version": 3
   },
   "file_extension": ".py",
   "mimetype": "text/x-python",
   "name": "python",
   "nbconvert_exporter": "python",
   "pygments_lexer": "ipython3",
   "version": "3.9.12"
  },
  "orig_nbformat": 4,
  "vscode": {
   "interpreter": {
    "hash": "964f46f3973c3d99dc6929d5bd1748275317def86f082ea2874e0d5a9cf6d261"
   }
  }
 },
 "nbformat": 4,
 "nbformat_minor": 2
}
