{
 "cells": [
  {
   "cell_type": "code",
   "execution_count": 25,
   "metadata": {},
   "outputs": [
    {
     "data": {
      "text/html": [
       "<div>\n",
       "<style scoped>\n",
       "    .dataframe tbody tr th:only-of-type {\n",
       "        vertical-align: middle;\n",
       "    }\n",
       "\n",
       "    .dataframe tbody tr th {\n",
       "        vertical-align: top;\n",
       "    }\n",
       "\n",
       "    .dataframe thead th {\n",
       "        text-align: right;\n",
       "    }\n",
       "</style>\n",
       "<table border=\"1\" class=\"dataframe\">\n",
       "  <thead>\n",
       "    <tr style=\"text-align: right;\">\n",
       "      <th></th>\n",
       "      <th>age</th>\n",
       "      <th>name</th>\n",
       "    </tr>\n",
       "  </thead>\n",
       "  <tbody>\n",
       "    <tr>\n",
       "      <th>0</th>\n",
       "      <td>24.000</td>\n",
       "      <td>Geonhyuk</td>\n",
       "    </tr>\n",
       "    <tr>\n",
       "      <th>1</th>\n",
       "      <td>23.000</td>\n",
       "      <td>Seungkwan</td>\n",
       "    </tr>\n",
       "    <tr>\n",
       "      <th>2</th>\n",
       "      <td>22.999</td>\n",
       "      <td>Dongbin</td>\n",
       "    </tr>\n",
       "    <tr>\n",
       "      <th>3</th>\n",
       "      <td>22.000</td>\n",
       "      <td>Minkyu</td>\n",
       "    </tr>\n",
       "  </tbody>\n",
       "</table>\n",
       "</div>"
      ],
      "text/plain": [
       "      age       name\n",
       "0  24.000   Geonhyuk\n",
       "1  23.000  Seungkwan\n",
       "2  22.999    Dongbin\n",
       "3  22.000     Minkyu"
      ]
     },
     "metadata": {},
     "output_type": "display_data"
    },
    {
     "name": "stdout",
     "output_type": "stream",
     "text": [
      "Geonhyuk\n",
      "Seungkwan\n",
      "Dongbin\n",
      "Minkyu\n"
     ]
    }
   ],
   "source": [
    "import pandas as pd\n",
    "\n",
    "a = int(input())\n",
    "b1 = []\n",
    "c1 = []\n",
    "bc = pd.DataFrame()\n",
    "d = 0.001\n",
    "for i in range(a):\n",
    "    b, c= map(str, input().split())\n",
    "    b = int(b)\n",
    "    if b in b1:\n",
    "        b -= d\n",
    "        d += 0.001\n",
    "    b1.append(b)\n",
    "    c1.append(c)\n",
    "bc['age'] = b1\n",
    "bc['name'] = c1\n",
    "bc1 = bc.sort_values(by = 'age', ascending = False)\n",
    "bc1 = bc1.reset_index(drop = True)\n",
    "display(bc1)\n",
    "for i in range(a):\n",
    "    print(bc1['name'][i])"
   ]
  }
 ],
 "metadata": {
  "kernelspec": {
   "display_name": "Python 3.7.13 ('pytorch')",
   "language": "python",
   "name": "python3"
  },
  "language_info": {
   "codemirror_mode": {
    "name": "ipython",
    "version": 3
   },
   "file_extension": ".py",
   "mimetype": "text/x-python",
   "name": "python",
   "nbconvert_exporter": "python",
   "pygments_lexer": "ipython3",
   "version": "3.7.13"
  },
  "orig_nbformat": 4,
  "vscode": {
   "interpreter": {
    "hash": "2ef4ca6e6b35b751fe8c4c207625e3afe412bc6dbf38474890eb2da21baad8c8"
   }
  }
 },
 "nbformat": 4,
 "nbformat_minor": 2
}
