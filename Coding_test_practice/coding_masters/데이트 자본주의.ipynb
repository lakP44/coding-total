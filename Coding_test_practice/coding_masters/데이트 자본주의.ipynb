{
 "cells": [
  {
   "cell_type": "code",
   "execution_count": 32,
   "metadata": {},
   "outputs": [
    {
     "name": "stdout",
     "output_type": "stream",
     "text": [
      "3\n"
     ]
    }
   ],
   "source": [
    "a, b = map(int, input().split())\n",
    "c = list(map(int, input().split()))\n",
    "c1 = c.copy()\n",
    "\n",
    "for i in c1:\n",
    "    if i > a:\n",
    "        c.remove(i)\n",
    "    else:\n",
    "        continue\n",
    "count = 0\n",
    "while True:\n",
    "    if len(c) == 0:\n",
    "        print(count)\n",
    "        break\n",
    "    elif a >= max(c):\n",
    "        a = a - max(c)\n",
    "        c.remove(max(c))\n",
    "        count += 1\n",
    "    elif a < max(c):\n",
    "        c.remove(max(c))\n",
    "# 300 200 500 400 100\n",
    "#     count = 0\n",
    "#     for i in range(len(c)):\n",
    "#         if max(c) < a:\n",
    "#             a = a - max(c)\n",
    "#             count += 1\n",
    "#             if len(c) == 0:\n",
    "#                 break\n",
    "#             c.remove(max(c))\n",
    "#             if len(c) == 0:\n",
    "#                 break\n",
    "#             if max(c) > a:\n",
    "#                 c.remove(max(c))\n",
    "#             if len(c) == 0:\n",
    "#                 break\n",
    "# print(count)"
   ]
  }
 ],
 "metadata": {
  "kernelspec": {
   "display_name": "Python 3.7.13 ('pytorch')",
   "language": "python",
   "name": "python3"
  },
  "language_info": {
   "codemirror_mode": {
    "name": "ipython",
    "version": 3
   },
   "file_extension": ".py",
   "mimetype": "text/x-python",
   "name": "python",
   "nbconvert_exporter": "python",
   "pygments_lexer": "ipython3",
   "version": "3.7.13"
  },
  "orig_nbformat": 4,
  "vscode": {
   "interpreter": {
    "hash": "2ef4ca6e6b35b751fe8c4c207625e3afe412bc6dbf38474890eb2da21baad8c8"
   }
  }
 },
 "nbformat": 4,
 "nbformat_minor": 2
}
