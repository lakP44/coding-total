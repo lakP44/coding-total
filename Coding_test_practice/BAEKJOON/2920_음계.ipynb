{
 "cells": [
  {
   "attachments": {},
   "cell_type": "markdown",
   "metadata": {},
   "source": [
    "https://www.acmicpc.net/problem/2920"
   ]
  },
  {
   "cell_type": "code",
   "execution_count": null,
   "metadata": {},
   "outputs": [],
   "source": [
    "a = list(map(int, input().split()))\n",
    "\n",
    "count = 0\n",
    "for i in range(len(a)):\n",
    "    if a[i] == i + 1:\n",
    "        count += 1\n",
    "    elif a[i] == 8 - i:\n",
    "        count -= 1\n",
    "\n",
    "if count == 8:\n",
    "    print('ascending')\n",
    "elif count == -8:\n",
    "    print('descending')\n",
    "else:\n",
    "    print('mixed')\n"
   ]
  }
 ],
 "metadata": {
  "kernelspec": {
   "display_name": "base",
   "language": "python",
   "name": "python3"
  },
  "language_info": {
   "name": "python",
   "version": "3.9.13"
  },
  "orig_nbformat": 4,
  "vscode": {
   "interpreter": {
    "hash": "964f46f3973c3d99dc6929d5bd1748275317def86f082ea2874e0d5a9cf6d261"
   }
  }
 },
 "nbformat": 4,
 "nbformat_minor": 2
}
