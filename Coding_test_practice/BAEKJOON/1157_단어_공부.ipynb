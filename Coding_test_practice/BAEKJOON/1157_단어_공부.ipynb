{
 "cells": [
  {
   "cell_type": "code",
   "execution_count": 29,
   "metadata": {},
   "outputs": [
    {
     "name": "stdout",
     "output_type": "stream",
     "text": [
      "A\n"
     ]
    }
   ],
   "source": [
    "from collections import Counter\n",
    "\n",
    "a = Counter(list(str(input()).upper()))\n",
    "\n",
    "b = sorted(a.values(), reverse = True)\n",
    "\n",
    "if len(b) > 1:\n",
    "    if b[0] == b[1]:\n",
    "        print('?')\n",
    "    else:\n",
    "        print(list(sorted(a, key=lambda x: a[x]))[len(b) - 1])\n",
    "else:\n",
    "    print(list(sorted(a, key=lambda x: a[x]))[len(b) - 1])"
   ]
  }
 ],
 "metadata": {
  "kernelspec": {
   "display_name": "base",
   "language": "python",
   "name": "python3"
  },
  "language_info": {
   "codemirror_mode": {
    "name": "ipython",
    "version": 3
   },
   "file_extension": ".py",
   "mimetype": "text/x-python",
   "name": "python",
   "nbconvert_exporter": "python",
   "pygments_lexer": "ipython3",
   "version": "3.9.13"
  },
  "orig_nbformat": 4,
  "vscode": {
   "interpreter": {
    "hash": "964f46f3973c3d99dc6929d5bd1748275317def86f082ea2874e0d5a9cf6d261"
   }
  }
 },
 "nbformat": 4,
 "nbformat_minor": 2
}
