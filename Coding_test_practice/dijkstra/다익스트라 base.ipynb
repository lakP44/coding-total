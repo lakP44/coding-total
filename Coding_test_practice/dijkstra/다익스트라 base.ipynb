{
 "cells": [
  {
   "cell_type": "markdown",
   "metadata": {},
   "source": [
    "# 다익스트라"
   ]
  },
  {
   "cell_type": "code",
   "execution_count": null,
   "metadata": {},
   "outputs": [],
   "source": [
    "import sys\n",
    "input = sys.stdin.readline # 코테용 빨리 입력받기~\n",
    "INF = int(1e9) # 무한대값 지정, 10의 9제곱\n",
    "\n",
    "n, m = map(int, input().split()) # 정수 2개를 받음, n = 노드의 개수, m = 간선의개수\n",
    "start = int(input()) # 시작지점\n",
    "# 주어지는 그래프 정보 담는 N개 길이의 리스트\n",
    "graph = [[] for _ in range(n+1)] # 몇번째 노드에 몇번이 이어져 있는지 받는곳\n",
    "visited = [False] * (n+1)  # 방문처리 기록용\n",
    "distance = [INF] * (n+1)   # 거리 테이블용, 초기 거리 <-- 무한대\n",
    "\n",
    "for _ in range(m):\n",
    "    a, b, c = map(int, input().split()) # a번 노드에서 b번 노드로 가는 거리가 c\n",
    "    graph[a].append((b, c)) # 그래프에 a번째 노드의 정보를 입력받음, 도착 노드와 거리를 튜플로 입력받음\n",
    "\n",
    "# 방문하지 않은 노드이면서 시작노드와 최단거리인 노드 반환\n",
    "def get_smallest_node():\n",
    "    min_value = INF\n",
    "    index = 0\n",
    "    for i in range(1, n+1):\n",
    "        if not visited[i] and distance[i] < min_value: # 방문하지 않았으면서 거리가 무한대보다 작은 곳, distance가 min_value보다 작을 수가 있나? <-- 아 아래 다익스트라 함수에서 불러줌\n",
    "            min_value = distance[i] # min_value는 distance의 i번째가 된다\n",
    "            index = i # index도 i로 변함\n",
    "    return index\n",
    "\n",
    "# 다익스트라 알고리즘\n",
    "def dijkstra(start):\n",
    "    # 시작노드 -> 시작노드 거리 계산 및 방문처리\n",
    "    distance[start] = 0 # 시작점은 거리가 0, 당연한거\n",
    "    visited[start] = True # 시작지점은 True, False는 아직 방문 안한 것\n",
    "    # 시작노드의 인접한 노드들에 대해 최단거리 계산\n",
    "    for i in graph[start]: # 그래프의 시작지점에서 i로 받아옴, 아마 시작지점 인덱스 위치에 튜플로 ex) (2, 3), (3, 5) 이런식으로 담겨있을거임\n",
    "        distance[i[0]] = i[1] # 거리의, 도착 노드번째 인덱스 값이, 거리가 됨, distance <-- 시작지점이 1이고 2번째 노드까지 3, 3번째 노드까지 5이면? [0, 3, 5] 이런식으로?\n",
    "\n",
    "    # 시작노드 제외한 n-1개의 다른 노드들 처리\n",
    "    for _ in range(n-1):\n",
    "        now = get_smallest_node()  # 방문X 면서 시작노드와 최단거리인 노드 반환, 이걸 돌리다보면 가장 작은 min_value값이 나옴, distance가 더 크면 < min_value 부분에서 무시됨, 더 작으면 index랑 min_value가 변함\n",
    "        visited[now] = True        # 해당 노드 방문처리\n",
    "        # 해당 노드의 인접한 노드들 간의 거리 계산\n",
    "        for next in graph[now]: # 그냥 받는애 이름이 next인거 같음 graph[now]는 시작노드와 최단거리인 노드의 또 이어진 상태와 거리를 나타냄\n",
    "            cost = distance[now] + next[1]  # 시작->now 거리 + now->now의 인접노드 거리 <-- 최단거리 노드의 거리, 즉 시작점에서 그 노드까지의 거리, 이전 상태 + 앞으로의 거리를 뽑아줌\n",
    "            if cost < distance[next[0]]:    # cost < 시작->now의 인접노드 다이렉트 거리, 전체 거리가 바로 다음노드의 거리보다 작으면?\n",
    "                distance[next[0]] = cost # next는 시작거리와 최단거리인 노드상태, 따라서 next[0]은 노드!, distance에 들어갔으니...\n",
    "\n",
    "\n",
    "dijkstra(start)\n",
    "\n",
    "for i in range(1, n+1):\n",
    "    if distance[i] == INF:\n",
    "        print('도달 할 수 없음')\n",
    "    else:\n",
    "        print(distance[i])"
   ]
  },
  {
   "cell_type": "markdown",
   "metadata": {},
   "source": [
    "# 플로이드 워셜 알고리즘"
   ]
  },
  {
   "cell_type": "code",
   "execution_count": 13,
   "metadata": {},
   "outputs": [
    {
     "name": "stdout",
     "output_type": "stream",
     "text": [
      "[[99999999, 99999999, 99999999, 99999999, 99999999, 99999999], [99999999, 0, 99999999, 99999999, 99999999, 99999999], [99999999, 99999999, 0, 99999999, 99999999, 99999999], [99999999, 99999999, 99999999, 0, 99999999, 99999999], [99999999, 99999999, 99999999, 99999999, 0, 99999999], [99999999, 99999999, 99999999, 99999999, 99999999, 0]]\n",
      "--------------------------------------------------------------------------------\n",
      "[[99999999, 99999999, 99999999, 99999999, 99999999, 99999999], [99999999, 0, 1, 1, 1, 99999999], [99999999, 1, 0, 99999999, 1, 99999999], [99999999, 1, 99999999, 0, 1, 1], [99999999, 1, 1, 1, 0, 1], [99999999, 99999999, 99999999, 1, 1, 0]]\n",
      "--------------------------------------------------------------------------------\n",
      "[[99999999, 99999999, 99999999, 99999999, 99999999, 99999999], [99999999, 0, 1, 1, 1, 2], [99999999, 1, 0, 2, 1, 2], [99999999, 1, 2, 0, 1, 1], [99999999, 1, 1, 1, 0, 1], [99999999, 2, 2, 1, 1, 0]]\n",
      "--------------------------------------------------------------------------------\n",
      "3\n",
      "--------------------------------------------------------------------------------\n",
      "3\n"
     ]
    }
   ],
   "source": [
    "INF = int(99999999)\n",
    "\n",
    "n, m = map(int, input().split())\n",
    "graph = [[INF] * (n+1) for _ in range(n+1)]\n",
    "\n",
    "for a in range(1, n+1):\n",
    "    for b in range(1, n+1):\n",
    "        if a == b:\n",
    "            graph[a][b] = 0\n",
    "        \n",
    "print(graph)  \n",
    "print('--'*40)  \n",
    "for _ in range(m):\n",
    "    a, b = map(int, input().split())\n",
    "    graph[a][b] = 1\n",
    "    graph[b][a] = 1\n",
    "print(graph)\n",
    "print('--'*40) \n",
    "\n",
    "x, k = map(int, input().split())\n",
    "\n",
    "for k in range(1, n+1):\n",
    "    for a in range(1, n+1):\n",
    "        for b in range(1, n+1):\n",
    "            graph[a][b] = min(graph[a][b], graph[a][k] + graph[k][b])\n",
    "            \n",
    "            \n",
    "print(graph)\n",
    "print('--'*40)   \n",
    "distance = graph[1][k] + graph[k][x]\n",
    "print(distance)\n",
    "print('--'*40) \n",
    "if distance >= INF:\n",
    "    print('-1')\n",
    "else:\n",
    "    print(distance)"
   ]
  },
  {
   "cell_type": "code",
   "execution_count": null,
   "metadata": {},
   "outputs": [],
   "source": [
    "import sys\n",
    "inf = sys.maxsize\n",
    "\n",
    "## number of node: 4, graph is (4x4) matrix... [i,i] is always zero.\n",
    "graph = [\n",
    "    [0, 4, inf, 6],\n",
    "    [3, 0, 7, inf],\n",
    "    [5, inf, 0, 4],\n",
    "    [inf, inf, 2, 0]\n",
    "]\n",
    "\n",
    "def minDist(graph):\n",
    "    result = graph\n",
    "    for i in range(len(graph)):\n",
    "        for j in range(len(graph)): ## j is start point\n",
    "            for k in range(len(graph)): ## k is end point\n",
    "                ## update minimum distance if [j->i->k] is shorter than [j->i]\n",
    "                result[j][k] = min(result[j][k], result[j][i]+result[i][k])\n",
    "    return result\n",
    "\n",
    "print(minDist(graph))\n",
    "\n",
    ">> [[0, 4, 8, 6], [3, 0, 7, 9], [5, 9, 0, 4], [7, 11, 2, 0]]"
   ]
  }
 ],
 "metadata": {
  "kernelspec": {
   "display_name": "base",
   "language": "python",
   "name": "python3"
  },
  "language_info": {
   "codemirror_mode": {
    "name": "ipython",
    "version": 3
   },
   "file_extension": ".py",
   "mimetype": "text/x-python",
   "name": "python",
   "nbconvert_exporter": "python",
   "pygments_lexer": "ipython3",
   "version": "3.9.12 (main, Apr  4 2022, 05:22:27) [MSC v.1916 64 bit (AMD64)]"
  },
  "orig_nbformat": 4,
  "vscode": {
   "interpreter": {
    "hash": "964f46f3973c3d99dc6929d5bd1748275317def86f082ea2874e0d5a9cf6d261"
   }
  }
 },
 "nbformat": 4,
 "nbformat_minor": 2
}
