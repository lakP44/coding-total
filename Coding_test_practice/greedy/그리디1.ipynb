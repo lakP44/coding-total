{
 "cells": [
  {
   "cell_type": "code",
   "execution_count": 1,
   "metadata": {},
   "outputs": [
    {
     "name": "stdout",
     "output_type": "stream",
     "text": [
      "24\n"
     ]
    }
   ],
   "source": [
    "n, m, k = map(int, input().split())\n",
    "# 배열의 크기 n, 더해지는 횟수 m, 한 인덱스당 더해질 수 있는 횟수 k\n",
    "data = list(map(int, input().split()))\n",
    "\n",
    "first = data[n-1] # 가장 큰 수\n",
    "second = data[n-2] # 두 번째로 큰 수\n",
    "\n",
    "result = 0\n",
    "\n",
    "while True:\n",
    "    for i in range(k): # 가장 큰 수를 k번 더하기\n",
    "        if m == 0:\n",
    "            break\n",
    "        result += first\n",
    "        m -= 1 # 더할 때마다 1씩 빼기\n",
    "    if m == 0:\n",
    "        break\n",
    "    result += second # 두 번째로 큰 수를 한 번 더하기\n",
    "    m -= 1 # 더할 때마다 1씩 빼기\n",
    "    \n",
    "print(result) # 최종 답안 출력"
   ]
  }
 ],
 "metadata": {
  "kernelspec": {
   "display_name": "Python 3.9.12 ('base')",
   "language": "python",
   "name": "python3"
  },
  "language_info": {
   "codemirror_mode": {
    "name": "ipython",
    "version": 3
   },
   "file_extension": ".py",
   "mimetype": "text/x-python",
   "name": "python",
   "nbconvert_exporter": "python",
   "pygments_lexer": "ipython3",
   "version": "3.9.12 (main, Apr  4 2022, 05:22:27) [MSC v.1916 64 bit (AMD64)]"
  },
  "orig_nbformat": 4,
  "vscode": {
   "interpreter": {
    "hash": "964f46f3973c3d99dc6929d5bd1748275317def86f082ea2874e0d5a9cf6d261"
   }
  }
 },
 "nbformat": 4,
 "nbformat_minor": 2
}
