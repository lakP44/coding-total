{
 "cells": [
  {
   "cell_type": "code",
   "execution_count": 18,
   "id": "1c55e51c-2b7b-4a0c-9efa-4c96746eb11a",
   "metadata": {
    "execution": {
     "iopub.execute_input": "2022-12-13T17:24:46.312342Z",
     "iopub.status.busy": "2022-12-13T17:24:46.312055Z",
     "iopub.status.idle": "2022-12-13T17:24:48.867237Z",
     "shell.execute_reply": "2022-12-13T17:24:48.866489Z",
     "shell.execute_reply.started": "2022-12-13T17:24:46.312324Z"
    }
   },
   "outputs": [
    {
     "name": "stdout",
     "output_type": "stream",
     "text": [
      "Collecting lightgbm\n",
      "  Downloading lightgbm-3.3.3-py3-none-manylinux1_x86_64.whl (2.0 MB)\n",
      "\u001b[2K     \u001b[90m━━━━━━━━━━━━━━━━━━━━━━━━━━━━━━━━━━━━━━━━\u001b[0m \u001b[32m2.0/2.0 MB\u001b[0m \u001b[31m80.6 MB/s\u001b[0m eta \u001b[36m0:00:00\u001b[0m\n",
      "\u001b[?25hRequirement already satisfied: wheel in /usr/local/lib/python3.9/dist-packages (from lightgbm) (0.35.1)\n",
      "Requirement already satisfied: scipy in /usr/local/lib/python3.9/dist-packages (from lightgbm) (1.8.1)\n",
      "Requirement already satisfied: scikit-learn!=0.22.0 in /usr/local/lib/python3.9/dist-packages (from lightgbm) (1.1.1)\n",
      "Requirement already satisfied: numpy in /usr/local/lib/python3.9/dist-packages (from lightgbm) (1.23.1)\n",
      "Requirement already satisfied: threadpoolctl>=2.0.0 in /usr/local/lib/python3.9/dist-packages (from scikit-learn!=0.22.0->lightgbm) (3.1.0)\n",
      "Requirement already satisfied: joblib>=1.0.0 in /usr/local/lib/python3.9/dist-packages (from scikit-learn!=0.22.0->lightgbm) (1.1.0)\n",
      "Installing collected packages: lightgbm\n",
      "Successfully installed lightgbm-3.3.3\n",
      "\u001b[33mWARNING: Running pip as the 'root' user can result in broken permissions and conflicting behaviour with the system package manager. It is recommended to use a virtual environment instead: https://pip.pypa.io/warnings/venv\u001b[0m\u001b[33m\n",
      "\u001b[0mNote: you may need to restart the kernel to use updated packages.\n"
     ]
    }
   ],
   "source": [
    "# pip install lightgbm"
   ]
  },
  {
   "cell_type": "code",
   "execution_count": 1,
   "id": "97f5ecb2-92de-4d7e-bdcb-0c73a794e1e0",
   "metadata": {
    "execution": {
     "iopub.execute_input": "2022-12-13T19:29:30.256745Z",
     "iopub.status.busy": "2022-12-13T19:29:30.256074Z",
     "iopub.status.idle": "2022-12-13T19:29:31.238272Z",
     "shell.execute_reply": "2022-12-13T19:29:31.237738Z",
     "shell.execute_reply.started": "2022-12-13T19:29:30.256682Z"
    }
   },
   "outputs": [],
   "source": [
    "import random\n",
    "import os\n",
    "import pandas as pd\n",
    "import numpy as np\n",
    "\n",
    "from sklearn.model_selection import train_test_split\n",
    "\n",
    "from sklearn.linear_model import LinearRegression\n",
    "from sklearn.ensemble import RandomForestRegressor, GradientBoostingRegressor, StackingRegressor\n",
    "\n",
    "from sklearn.model_selection import GridSearchCV\n",
    "from math import pi\n",
    "from math import log\n",
    "from math import e\n",
    "import math\n",
    "import itertools\n",
    "import csv\n",
    "from lightgbm import LGBMRegressor\n",
    "import matplotlib.pyplot as plt\n",
    "import collections"
   ]
  },
  {
   "cell_type": "code",
   "execution_count": 2,
   "id": "d3ab6e57-90af-41b2-be55-7810d3894e12",
   "metadata": {
    "execution": {
     "iopub.execute_input": "2022-12-13T19:29:32.354485Z",
     "iopub.status.busy": "2022-12-13T19:29:32.354107Z",
     "iopub.status.idle": "2022-12-13T19:29:32.358312Z",
     "shell.execute_reply": "2022-12-13T19:29:32.357492Z",
     "shell.execute_reply.started": "2022-12-13T19:29:32.354464Z"
    }
   },
   "outputs": [],
   "source": [
    "def seed_everything(seed):\n",
    "    random.seed(seed)\n",
    "    os.environ['PYTHONHASHSEED'] = str(seed)\n",
    "    np.random.seed(seed)\n",
    "seed_everything(41)"
   ]
  },
  {
   "cell_type": "code",
   "execution_count": 3,
   "id": "5abfcceb-7cce-424a-a570-f31cd620b825",
   "metadata": {
    "execution": {
     "iopub.execute_input": "2022-12-13T19:29:33.924004Z",
     "iopub.status.busy": "2022-12-13T19:29:33.923209Z",
     "iopub.status.idle": "2022-12-13T19:29:33.928498Z",
     "shell.execute_reply": "2022-12-13T19:29:33.927792Z",
     "shell.execute_reply.started": "2022-12-13T19:29:33.923976Z"
    }
   },
   "outputs": [
    {
     "name": "stdout",
     "output_type": "stream",
     "text": [
      "17\n"
     ]
    }
   ],
   "source": [
    "column_list = ['start_end_prob_s', 'start_end_prob_s1', 'start_end_prob_y', '면적', '부피', '수목', 'start_end_prob_s2', 'start_end_prob_s3', 'start_end_prob_s4', 'start_end_prob_s5\\\n",
    "', 'start_end_prob_s6', 'start_end_prob_s7', 'start_end_prob_s8', 'start_end_prob_s9', 'start_end_prob_s10', 'start_end_prob_s11', 'start_end_prob_s12']\n",
    "# column_list는 넣고싶은 모든 컬럼명입니다\n",
    "print(len(a))"
   ]
  },
  {
   "cell_type": "code",
   "execution_count": 4,
   "id": "1beb3017-11e5-47a8-b408-4bb85db34a98",
   "metadata": {
    "execution": {
     "iopub.execute_input": "2022-12-13T19:29:35.903146Z",
     "iopub.status.busy": "2022-12-13T19:29:35.902505Z",
     "iopub.status.idle": "2022-12-13T19:29:36.043668Z",
     "shell.execute_reply": "2022-12-13T19:29:36.043249Z",
     "shell.execute_reply.started": "2022-12-13T19:29:35.903126Z"
    }
   },
   "outputs": [
    {
     "data": {
      "text/html": [
       "<div>\n",
       "<style scoped>\n",
       "    .dataframe tbody tr th:only-of-type {\n",
       "        vertical-align: middle;\n",
       "    }\n",
       "\n",
       "    .dataframe tbody tr th {\n",
       "        vertical-align: top;\n",
       "    }\n",
       "\n",
       "    .dataframe thead th {\n",
       "        text-align: right;\n",
       "    }\n",
       "</style>\n",
       "<table border=\"1\" class=\"dataframe\">\n",
       "  <thead>\n",
       "    <tr style=\"text-align: right;\">\n",
       "      <th></th>\n",
       "      <th>ID</th>\n",
       "      <th>착과량(int)</th>\n",
       "      <th>수고(m)</th>\n",
       "      <th>수관폭1(min)</th>\n",
       "      <th>수관폭2(max)</th>\n",
       "      <th>수관폭평균</th>\n",
       "      <th>2022-09-01 새순</th>\n",
       "      <th>2022-09-02 새순</th>\n",
       "      <th>2022-09-03 새순</th>\n",
       "      <th>2022-09-04 새순</th>\n",
       "      <th>...</th>\n",
       "      <th>2022-11-19 엽록소</th>\n",
       "      <th>2022-11-20 엽록소</th>\n",
       "      <th>2022-11-21 엽록소</th>\n",
       "      <th>2022-11-22 엽록소</th>\n",
       "      <th>2022-11-23 엽록소</th>\n",
       "      <th>2022-11-24 엽록소</th>\n",
       "      <th>2022-11-25 엽록소</th>\n",
       "      <th>2022-11-26 엽록소</th>\n",
       "      <th>2022-11-27 엽록소</th>\n",
       "      <th>2022-11-28 엽록소</th>\n",
       "    </tr>\n",
       "  </thead>\n",
       "  <tbody>\n",
       "    <tr>\n",
       "      <th>0</th>\n",
       "      <td>TRAIN_0000</td>\n",
       "      <td>692</td>\n",
       "      <td>275.0</td>\n",
       "      <td>287.0</td>\n",
       "      <td>292.0</td>\n",
       "      <td>289.5</td>\n",
       "      <td>2.8</td>\n",
       "      <td>2.8</td>\n",
       "      <td>2.7</td>\n",
       "      <td>2.7</td>\n",
       "      <td>...</td>\n",
       "      <td>70.978249</td>\n",
       "      <td>70.876794</td>\n",
       "      <td>70.705253</td>\n",
       "      <td>70.559603</td>\n",
       "      <td>70.427356</td>\n",
       "      <td>70.340491</td>\n",
       "      <td>70.293830</td>\n",
       "      <td>70.262422</td>\n",
       "      <td>70.169841</td>\n",
       "      <td>70.043251</td>\n",
       "    </tr>\n",
       "    <tr>\n",
       "      <th>1</th>\n",
       "      <td>TRAIN_0001</td>\n",
       "      <td>534</td>\n",
       "      <td>293.0</td>\n",
       "      <td>284.0</td>\n",
       "      <td>336.0</td>\n",
       "      <td>310.0</td>\n",
       "      <td>3.3</td>\n",
       "      <td>3.3</td>\n",
       "      <td>3.3</td>\n",
       "      <td>3.2</td>\n",
       "      <td>...</td>\n",
       "      <td>71.535483</td>\n",
       "      <td>71.382303</td>\n",
       "      <td>71.253604</td>\n",
       "      <td>71.092665</td>\n",
       "      <td>70.955608</td>\n",
       "      <td>70.796630</td>\n",
       "      <td>70.597550</td>\n",
       "      <td>70.565088</td>\n",
       "      <td>70.560502</td>\n",
       "      <td>70.427600</td>\n",
       "    </tr>\n",
       "    <tr>\n",
       "      <th>2</th>\n",
       "      <td>TRAIN_0002</td>\n",
       "      <td>634</td>\n",
       "      <td>300.0</td>\n",
       "      <td>392.0</td>\n",
       "      <td>450.0</td>\n",
       "      <td>421.0</td>\n",
       "      <td>3.0</td>\n",
       "      <td>2.9</td>\n",
       "      <td>2.9</td>\n",
       "      <td>2.9</td>\n",
       "      <td>...</td>\n",
       "      <td>71.279804</td>\n",
       "      <td>71.199570</td>\n",
       "      <td>71.144020</td>\n",
       "      <td>71.026740</td>\n",
       "      <td>70.920038</td>\n",
       "      <td>70.876723</td>\n",
       "      <td>70.710129</td>\n",
       "      <td>70.595971</td>\n",
       "      <td>70.418203</td>\n",
       "      <td>70.399578</td>\n",
       "    </tr>\n",
       "    <tr>\n",
       "      <th>3</th>\n",
       "      <td>TRAIN_0003</td>\n",
       "      <td>639</td>\n",
       "      <td>289.0</td>\n",
       "      <td>368.0</td>\n",
       "      <td>379.0</td>\n",
       "      <td>373.5</td>\n",
       "      <td>3.1</td>\n",
       "      <td>3.0</td>\n",
       "      <td>3.0</td>\n",
       "      <td>3.0</td>\n",
       "      <td>...</td>\n",
       "      <td>69.934615</td>\n",
       "      <td>69.884124</td>\n",
       "      <td>69.845683</td>\n",
       "      <td>69.794682</td>\n",
       "      <td>69.779813</td>\n",
       "      <td>69.614644</td>\n",
       "      <td>69.455404</td>\n",
       "      <td>69.281590</td>\n",
       "      <td>69.238689</td>\n",
       "      <td>69.133970</td>\n",
       "    </tr>\n",
       "    <tr>\n",
       "      <th>4</th>\n",
       "      <td>TRAIN_0004</td>\n",
       "      <td>496</td>\n",
       "      <td>306.0</td>\n",
       "      <td>353.0</td>\n",
       "      <td>358.0</td>\n",
       "      <td>355.5</td>\n",
       "      <td>3.7</td>\n",
       "      <td>3.6</td>\n",
       "      <td>3.6</td>\n",
       "      <td>3.6</td>\n",
       "      <td>...</td>\n",
       "      <td>68.313016</td>\n",
       "      <td>68.285364</td>\n",
       "      <td>68.209860</td>\n",
       "      <td>68.209458</td>\n",
       "      <td>68.040083</td>\n",
       "      <td>67.859963</td>\n",
       "      <td>67.775556</td>\n",
       "      <td>67.701456</td>\n",
       "      <td>67.504244</td>\n",
       "      <td>67.410093</td>\n",
       "    </tr>\n",
       "  </tbody>\n",
       "</table>\n",
       "<p>5 rows × 184 columns</p>\n",
       "</div>"
      ],
      "text/plain": [
       "           ID  착과량(int)  수고(m)  수관폭1(min)  수관폭2(max)  수관폭평균  2022-09-01 새순  \\\n",
       "0  TRAIN_0000       692  275.0      287.0      292.0  289.5            2.8   \n",
       "1  TRAIN_0001       534  293.0      284.0      336.0  310.0            3.3   \n",
       "2  TRAIN_0002       634  300.0      392.0      450.0  421.0            3.0   \n",
       "3  TRAIN_0003       639  289.0      368.0      379.0  373.5            3.1   \n",
       "4  TRAIN_0004       496  306.0      353.0      358.0  355.5            3.7   \n",
       "\n",
       "   2022-09-02 새순  2022-09-03 새순  2022-09-04 새순  ...  2022-11-19 엽록소  \\\n",
       "0            2.8            2.7            2.7  ...       70.978249   \n",
       "1            3.3            3.3            3.2  ...       71.535483   \n",
       "2            2.9            2.9            2.9  ...       71.279804   \n",
       "3            3.0            3.0            3.0  ...       69.934615   \n",
       "4            3.6            3.6            3.6  ...       68.313016   \n",
       "\n",
       "   2022-11-20 엽록소  2022-11-21 엽록소  2022-11-22 엽록소  2022-11-23 엽록소  \\\n",
       "0       70.876794       70.705253       70.559603       70.427356   \n",
       "1       71.382303       71.253604       71.092665       70.955608   \n",
       "2       71.199570       71.144020       71.026740       70.920038   \n",
       "3       69.884124       69.845683       69.794682       69.779813   \n",
       "4       68.285364       68.209860       68.209458       68.040083   \n",
       "\n",
       "   2022-11-24 엽록소  2022-11-25 엽록소  2022-11-26 엽록소  2022-11-27 엽록소  \\\n",
       "0       70.340491       70.293830       70.262422       70.169841   \n",
       "1       70.796630       70.597550       70.565088       70.560502   \n",
       "2       70.876723       70.710129       70.595971       70.418203   \n",
       "3       69.614644       69.455404       69.281590       69.238689   \n",
       "4       67.859963       67.775556       67.701456       67.504244   \n",
       "\n",
       "   2022-11-28 엽록소  \n",
       "0       70.043251  \n",
       "1       70.427600  \n",
       "2       70.399578  \n",
       "3       69.133970  \n",
       "4       67.410093  \n",
       "\n",
       "[5 rows x 184 columns]"
      ]
     },
     "metadata": {},
     "output_type": "display_data"
    }
   ],
   "source": [
    "train = pd.read_csv('./train.csv')\n",
    "test = pd.read_csv('./test.csv')\n",
    "train_org = train.reset_index().copy()\n",
    "test_org = test.reset_index().copy()\n",
    "display(train.head())"
   ]
  },
  {
   "cell_type": "code",
   "execution_count": 6,
   "id": "32c75f35-cc29-4609-810c-ccc04ed1f3e6",
   "metadata": {
    "execution": {
     "iopub.execute_input": "2022-12-13T19:29:38.609813Z",
     "iopub.status.busy": "2022-12-13T19:29:38.609300Z",
     "iopub.status.idle": "2022-12-13T19:29:38.612522Z",
     "shell.execute_reply": "2022-12-13T19:29:38.611827Z",
     "shell.execute_reply.started": "2022-12-13T19:29:38.609793Z"
    }
   },
   "outputs": [],
   "source": [
    "# train['원기둥부피'] = (((train['수관폭평균'] / 2) ** 2) * pi) * train['수고(m)']\n",
    "# test['원기둥부피'] = (((test['수관폭평균'] / 2) ** 2) * pi) * test['수고(m)']"
   ]
  },
  {
   "cell_type": "code",
   "execution_count": 7,
   "id": "3b905dd7-c2e0-416b-8ede-126993ffaf04",
   "metadata": {
    "execution": {
     "iopub.execute_input": "2022-12-13T19:29:38.881947Z",
     "iopub.status.busy": "2022-12-13T19:29:38.881436Z",
     "iopub.status.idle": "2022-12-13T19:29:38.884552Z",
     "shell.execute_reply": "2022-12-13T19:29:38.883911Z",
     "shell.execute_reply.started": "2022-12-13T19:29:38.881928Z"
    }
   },
   "outputs": [],
   "source": [
    "# train['구부피'] = (((train['수관폭평균'] / 2) ** 3) * pi) * 4/3\n",
    "# test['구부피'] = (((test['수관폭평균'] / 2) ** 3) * pi) * 4/3"
   ]
  },
  {
   "cell_type": "code",
   "execution_count": 8,
   "id": "73e94db0-efce-4f05-b826-30178a6e448d",
   "metadata": {
    "execution": {
     "iopub.execute_input": "2022-12-13T19:29:41.978330Z",
     "iopub.status.busy": "2022-12-13T19:29:41.977708Z",
     "iopub.status.idle": "2022-12-13T19:29:41.980854Z",
     "shell.execute_reply": "2022-12-13T19:29:41.980255Z",
     "shell.execute_reply.started": "2022-12-13T19:29:41.978307Z"
    }
   },
   "outputs": [],
   "source": [
    "# train['햇빛받는잎사귀넓이'] = (((train['수관폭평균'] / 2) ** 2) * pi) * 4 / 2\n",
    "# test['햇빛받는잎사귀넓이'] = (((test['수관폭평균'] / 2) ** 2) * pi) * 4 / 2"
   ]
  },
  {
   "cell_type": "code",
   "execution_count": 9,
   "id": "9857c0d0-d819-4029-8fdc-d4d43bc40462",
   "metadata": {
    "execution": {
     "iopub.execute_input": "2022-12-13T19:29:42.215429Z",
     "iopub.status.busy": "2022-12-13T19:29:42.215189Z",
     "iopub.status.idle": "2022-12-13T19:29:42.220044Z",
     "shell.execute_reply": "2022-12-13T19:29:42.219400Z",
     "shell.execute_reply.started": "2022-12-13T19:29:42.215412Z"
    }
   },
   "outputs": [],
   "source": [
    "train['면적'] = train['수관폭평균'] ** 2\n",
    "test['면적'] = test['수관폭평균'] ** 2"
   ]
  },
  {
   "cell_type": "code",
   "execution_count": 10,
   "id": "70ab2135-9652-4364-9d25-0cd09de4945a",
   "metadata": {
    "execution": {
     "iopub.execute_input": "2022-12-13T19:29:42.825626Z",
     "iopub.status.busy": "2022-12-13T19:29:42.825343Z",
     "iopub.status.idle": "2022-12-13T19:29:42.828975Z",
     "shell.execute_reply": "2022-12-13T19:29:42.828289Z",
     "shell.execute_reply.started": "2022-12-13T19:29:42.825607Z"
    }
   },
   "outputs": [],
   "source": [
    "# train['test'] = train['수관폭평균'] / train['start_end_prob_y']"
   ]
  },
  {
   "cell_type": "code",
   "execution_count": 11,
   "id": "9964a151-1d8c-49f5-a3ca-522a09eab4be",
   "metadata": {
    "execution": {
     "iopub.execute_input": "2022-12-13T19:29:43.718358Z",
     "iopub.status.busy": "2022-12-13T19:29:43.718092Z",
     "iopub.status.idle": "2022-12-13T19:29:43.740205Z",
     "shell.execute_reply": "2022-12-13T19:29:43.739677Z",
     "shell.execute_reply.started": "2022-12-13T19:29:43.718340Z"
    }
   },
   "outputs": [],
   "source": [
    "train['start_end_prob_s'] = train['2022-11-28 새순'] / train['2022-09-01 새순']\n",
    "test['start_end_prob_s'] = test['2022-11-28 새순'] / test['2022-09-01 새순']\n",
    "\n",
    "\n",
    "train['start_end_prob_s1'] = train['2022-11-20 새순'] / train['2022-11-01 새순'] * train['2022-09-01 새순'] * train['2022-10-01 새순'] ** 1.7\n",
    "test['start_end_prob_s1'] = test['2022-11-01 새순'] / test['2022-09-01 새순']\n",
    "\n",
    "# train['test11'] = train['start_end_prob_s1'] ** 2\n",
    "\n",
    "train['start_end_prob_y'] = train['2022-11-28 엽록소'] / train['2022-09-01 엽록소']\n",
    "test['start_end_prob_y'] = test['2022-11-28 엽록소'] / test['2022-09-01 엽록소']\n",
    "\n",
    "train['부피'] = train['수관폭1(min)'] ** 2 * train['수고(m)']\n",
    "test['부피'] = test['수관폭1(min)'] ** 2 * test['수고(m)']\n",
    "\n",
    "train['start_end_prob_s1'] = train['2022-09-07 새순'] / train['2022-09-01 새순']\n",
    "test['start_end_prob_s1'] = test['2022-09-07 새순'] / test['2022-09-01 새순']\n",
    "\n",
    "train['start_end_prob_s2'] = train['2022-09-14 새순'] / train['2022-09-08 새순']\n",
    "test['start_end_prob_s2'] = test['2022-09-14 새순'] / test['2022-09-08 새순']\n",
    "\n",
    "train['start_end_prob_s3'] = train['2022-09-21 새순'] / train['2022-09-15 새순']\n",
    "test['start_end_prob_s3'] = test['2022-09-21 새순'] / test['2022-09-15 새순']\n",
    "\n",
    "train['start_end_prob_s4'] = train['2022-09-28 새순'] / train['2022-09-22 새순']\n",
    "test['start_end_prob_s4'] = test['2022-09-28 새순'] / test['2022-09-22 새순']\n",
    "\n",
    "train['start_end_prob_s5'] = train['2022-10-05 새순'] / train['2022-09-29 새순']\n",
    "test['start_end_prob_s5'] = test['2022-10-05 새순'] / test['2022-09-29 새순']\n",
    "\n",
    "train['start_end_prob_s6'] = train['2022-10-12 새순'] / train['2022-10-06 새순']\n",
    "test['start_end_prob_s6'] = test['2022-10-12 새순'] / test['2022-10-06 새순']\n",
    "\n",
    "train['start_end_prob_s7'] = train['2022-10-19 새순'] / train['2022-10-13 새순']\n",
    "test['start_end_prob_s7'] = test['2022-10-19 새순'] / test['2022-10-13 새순']\n",
    "\n",
    "train['start_end_prob_s8'] = train['2022-10-26 새순'] / train['2022-10-20 새순']\n",
    "test['start_end_prob_s8'] = test['2022-10-26 새순'] / test['2022-10-20 새순']\n",
    "\n",
    "train['start_end_prob_s9'] = train['2022-11-02 새순'] / train['2022-10-27 새순']\n",
    "test['start_end_prob_s9'] = test['2022-11-02 새순'] / test['2022-10-27 새순']\n",
    "\n",
    "train['start_end_prob_s10'] = train['2022-11-09 새순'] / train['2022-11-03 새순']\n",
    "test['start_end_prob_s10'] = test['2022-11-09 새순'] / test['2022-11-03 새순']\n",
    "\n",
    "train['start_end_prob_s11'] = train['2022-11-16 새순'] / train['2022-11-10 새순']\n",
    "test['start_end_prob_s11'] = test['2022-11-16 새순'] / test['2022-11-10 새순']\n",
    "\n",
    "train['start_end_prob_s12'] = train['2022-11-23 새순'] / train['2022-11-17 새순']\n",
    "test['start_end_prob_s12'] = test['2022-11-23 새순'] / test['2022-11-17 새순']\n",
    "\n",
    "# # train['start_end_prob_s13'] = train['2022-11-28 새순'] / train['2022-11-24 새순']\n",
    "# # test['start_end_prob_s13'] = test['2022-11-28 새순'] / test['2022-11-24 새순']\n",
    "\n",
    "# train['start_end_prob_y1'] = train['2022-09-07 엽록소'] / train['2022-09-01 엽록소']\n",
    "# test['start_end_prob_y1'] = test['2022-09-07 엽록소'] / test['2022-09-01 엽록소']\n",
    "\n",
    "# train['start_end_prob_y2'] = train['2022-09-14 엽록소'] / train['2022-09-08 엽록소']\n",
    "# test['start_end_prob_y2'] = test['2022-09-14 엽록소'] / test['2022-09-08 엽록소']\n",
    "\n",
    "# train['start_end_prob_y3'] = train['2022-09-21 엽록소'] / train['2022-09-15 엽록소']\n",
    "# test['start_end_prob_y3'] = test['2022-09-21 엽록소'] / test['2022-09-15 엽록소']\n",
    "\n",
    "# train['start_end_prob_y4'] = train['2022-09-28 엽록소'] / train['2022-09-22 엽록소']\n",
    "# test['start_end_prob_y4'] = test['2022-09-28 엽록소'] / test['2022-09-22 엽록소']\n",
    "\n",
    "# train['start_end_prob_y5'] = train['2022-10-05 엽록소'] / train['2022-09-29 엽록소']\n",
    "# test['start_end_prob_y5'] = test['2022-10-05 엽록소'] / test['2022-09-29 엽록소']\n",
    "\n",
    "# train['start_end_prob_y6'] = train['2022-10-12 엽록소'] / train['2022-10-06 엽록소']\n",
    "# test['start_end_prob_y6'] = test['2022-10-12 엽록소'] / test['2022-10-06 엽록소']\n",
    "\n",
    "# train['start_end_prob_y7'] = train['2022-10-19 엽록소'] / train['2022-10-13 엽록소']\n",
    "# test['start_end_prob_y7'] = test['2022-10-19 엽록소'] / test['2022-10-13 엽록소']\n",
    "\n",
    "# train['start_end_prob_y8'] = train['2022-10-26 엽록소'] / train['2022-10-20 엽록소']\n",
    "# test['start_end_prob_y8'] = test['2022-10-26 엽록소'] / test['2022-10-20 엽록소']\n",
    "\n",
    "# train['start_end_prob_y9'] = train['2022-11-02 엽록소'] / train['2022-10-27 엽록소']\n",
    "# test['start_end_prob_y9'] = test['2022-11-02 엽록소'] / test['2022-10-27 엽록소']\n",
    "\n",
    "# train['start_end_prob_y10'] = train['2022-11-09 엽록소'] / train['2022-11-03 엽록소']\n",
    "# test['start_end_prob_y10'] = test['2022-11-09 엽록소'] / test['2022-11-03 엽록소']\n",
    "\n",
    "# train['start_end_prob_y11'] = train['2022-11-16 엽록소'] / train['2022-11-10 엽록소']\n",
    "# test['start_end_prob_y11'] = test['2022-11-16 엽록소'] / test['2022-11-10 엽록소']\n",
    "\n",
    "# train['start_end_prob_y12'] = train['2022-11-23 엽록소'] / train['2022-11-17 엽록소']\n",
    "# test['start_end_prob_y12'] = test['2022-11-23 엽록소'] / test['2022-11-17 엽록소']\n",
    "\n",
    "# train['start_end_prob_y13'] = train['2022-11-28 엽록소'] / train['2022-11-24 엽록소']\n",
    "# test['start_end_prob_y13'] = test['2022-11-28 엽록소'] / test['2022-11-24 엽록소']"
   ]
  },
  {
   "cell_type": "code",
   "execution_count": 12,
   "id": "1f854bd7-fc97-415a-962e-9dcd2efc9e14",
   "metadata": {
    "execution": {
     "iopub.execute_input": "2022-12-13T19:29:45.264415Z",
     "iopub.status.busy": "2022-12-13T19:29:45.263854Z",
     "iopub.status.idle": "2022-12-13T19:29:45.269337Z",
     "shell.execute_reply": "2022-12-13T19:29:45.268694Z",
     "shell.execute_reply.started": "2022-12-13T19:29:45.264386Z"
    }
   },
   "outputs": [],
   "source": [
    "train['수목'] = train['수고(m)'] * train['수관폭평균']\n",
    "test['수목'] = test['수고(m)'] * test['수관폭평균']"
   ]
  },
  {
   "cell_type": "code",
   "execution_count": 216,
   "id": "7ff4d08e-a22c-43e0-b318-d801bee89bea",
   "metadata": {
    "execution": {
     "iopub.execute_input": "2022-12-13T19:17:52.594613Z",
     "iopub.status.busy": "2022-12-13T19:17:52.593823Z",
     "iopub.status.idle": "2022-12-13T19:17:52.608058Z",
     "shell.execute_reply": "2022-12-13T19:17:52.607583Z",
     "shell.execute_reply.started": "2022-12-13T19:17:52.594587Z"
    }
   },
   "outputs": [],
   "source": [
    "new_soon = [s for s in train if \"새순\" in s]\n",
    "greengreen = [s for s in train if \"엽록\" in s]\n",
    "new_soon1 = [s for s in test if \"새순\" in s]\n",
    "greengreen1 = [s for s in test if \"엽록\" in s]\n",
    "\n",
    "tr_green = train[greengreen]\n",
    "tr_saesoon = train[new_soon]\n",
    "ts_green = test[greengreen1]\n",
    "ts_saesoon = test[new_soon1]\n",
    "\n",
    "train['엽록소기울기'] = (tr_green.iloc[:, 70] - tr_green.iloc[:, 0]) / 70\n",
    "train['새순기울기'] = (tr_saesoon.iloc[:, 70] - tr_saesoon.iloc[:, 0]) / 70\n",
    "test['엽록소기울기'] = (ts_green.iloc[:, 70] - ts_green.iloc[:, 0]) / 70\n",
    "test['새순기울기'] = (ts_saesoon.iloc[:, 70] - ts_saesoon.iloc[:, 0]) / 70"
   ]
  },
  {
   "cell_type": "code",
   "execution_count": null,
   "id": "404bd608",
   "metadata": {},
   "outputs": [],
   "source": [
    "def NMAE(true, pred):\n",
    "    mae = np.mean(np.abs(true-pred))\n",
    "    score = mae / np.mean(np.abs(true))\n",
    "    return score"
   ]
  },
  {
   "cell_type": "code",
   "execution_count": null,
   "id": "19367120",
   "metadata": {},
   "outputs": [],
   "source": [
    "column_list = ['start_end_prob_s', 'start_end_prob_s1', 'start_end_prob_y', '면적', '부피', '수목', 'start_end_prob_s2', 'start_end_prob_s3', 'start_end_prob_s4', 'start_end_prob_s5\\\n",
    "', 'start_end_prob_s6', 'start_end_prob_s7', 'start_end_prob_s8', 'start_end_prob_s9', 'start_end_prob_s10', 'start_end_prob_s11', 'start_end_prob_s12']\n",
    "\n",
    "model_list = {\n",
    "    'rf': RandomForestRegressor(n_estimators = 195),\n",
    "    'gb': GradientBoostingRegressor(learning_rate = 0.03, n_estimators = 145),\n",
    "    'lgbm': LGBMRegressor()\n",
    "}\n",
    "ts_size = 0.2\n",
    "rad_state = 42\n",
    "shuf = True\n",
    "drop_col = ['ID']\n",
    "target = ['착과량(int)']"
   ]
  },
  {
   "cell_type": "code",
   "execution_count": 244,
   "id": "626a8b83-6945-491b-9161-aedf6339b80f",
   "metadata": {
    "execution": {
     "iopub.execute_input": "2022-12-13T19:23:00.126152Z",
     "iopub.status.busy": "2022-12-13T19:23:00.125892Z",
     "iopub.status.idle": "2022-12-13T19:24:44.154427Z",
     "shell.execute_reply": "2022-12-13T19:24:44.153933Z",
     "shell.execute_reply.started": "2022-12-13T19:23:00.126133Z"
    }
   },
   "outputs": [
    {
     "name": "stdout",
     "output_type": "stream",
     "text": [
      "(1655, 200)\n",
      "Counter({0: 201})\n",
      "['start_end_prob_s', 'start_end_prob_s1', 'start_end_prob_y', '면적', '부피', '수목', 'start_end_prob_s2', 'start_end_prob_s3', 'start_end_prob_s4', 'start_end_prob_s5', 'start_end_prob_s6', 'start_end_prob_s7', 'start_end_prob_s8', 'start_end_prob_s9', 'start_end_prob_s10', 'start_end_prob_s11', 'start_end_prob_s12']진행중\n",
      "NMAE: 0.07711301742485632\n"
     ]
    }
   ],
   "source": [
    "NMAEE = []\n",
    "feature = []\n",
    "pred_list = []\n",
    "\n",
    "def similar_autoML(mint, maax):\n",
    "    '''\n",
    "    mint = 최소 컬럼 수, maax = 최대 컬럼수\n",
    "    \n",
    "    '''\n",
    "    for i in range (mint, maax + 1):\n",
    "        caselist = list(itertools.combinations(col_list, i))\n",
    "        list(caselist)\n",
    "        for n in range (len(caselist)):\n",
    "            feature.append(list(caselist[n]))\n",
    "            train_test = train[list(caselist[n])].reset_index(drop = True)\n",
    "            result1 = pd.concat([train_org,train_test], axis = 1)\n",
    "            result2 = result1.drop([drop_col], axis=1)\n",
    "            x = result2.drop(target, axis=1)\n",
    "            y = result2[target]\n",
    "            x_train, x_valid, y_train, y_valid = train_test_split(x, y, test_size=ts_size, random_state=rad_state, shuffle=shuf)\n",
    "            # print(x_train.shape)\n",
    "            # print(collections.Counter(list(train.isna().sum())))\n",
    "            \n",
    "            ###################################################################################################################\n",
    "            \n",
    "            models = model_list\n",
    "\n",
    "            stacking = StackingRegressor(\n",
    "                estimators=list(models.items()),\n",
    "                final_estimator=LinearRegression(),\n",
    "                cv=5\n",
    "            )\n",
    "            print(str(list(caselist[n])), '진행중')\n",
    "            stacking.fit(x_train, y_train)\n",
    "            \n",
    "            ###################################################################################################################\n",
    "            \n",
    "            pred_stacking = stacking.predict(x_valid)\n",
    "            \n",
    "            pred_list.append(pred_stacking)\n",
    "            \n",
    "            nmae_mandarin = NMAE(y_valid, pred_stacking)\n",
    "            \n",
    "            print('NMAE:', nmae_mandarin)\n",
    "            \n",
    "            NMAEE.append(nmae_mandarin)\n",
    "            \n",
    "            with open('NMAE.csv','w',newline='') as f:\n",
    "                writer = csv.writer(f)\n",
    "                writer.writerow(NMAEE)\n",
    "                \n",
    "            with open('feature_name.csv','w',newline='') as f:\n",
    "                writer = csv.writer(f)\n",
    "                writer.writerow(feature)\n",
    "                \n",
    "            with open('pred.csv','w',newline='') as f:\n",
    "                writer = csv.writer(f)\n",
    "                writer.writerow(pred_stacking)\n",
    "                \n",
    "    return nmae_mandarin, NMAEE, pred_list"
   ]
  },
  {
   "cell_type": "code",
   "execution_count": null,
   "id": "bd8c7da2",
   "metadata": {},
   "outputs": [],
   "source": [
    "similar_autoML(1, len(column_list))"
   ]
  }
 ],
 "metadata": {
  "kernelspec": {
   "display_name": "base",
   "language": "python",
   "name": "python3"
  },
  "language_info": {
   "codemirror_mode": {
    "name": "ipython",
    "version": 3
   },
   "file_extension": ".py",
   "mimetype": "text/x-python",
   "name": "python",
   "nbconvert_exporter": "python",
   "pygments_lexer": "ipython3",
   "version": "3.9.12 (main, Apr  4 2022, 05:22:27) [MSC v.1916 64 bit (AMD64)]"
  },
  "vscode": {
   "interpreter": {
    "hash": "964f46f3973c3d99dc6929d5bd1748275317def86f082ea2874e0d5a9cf6d261"
   }
  }
 },
 "nbformat": 4,
 "nbformat_minor": 5
}
