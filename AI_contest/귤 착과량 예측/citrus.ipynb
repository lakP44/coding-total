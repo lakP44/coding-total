{
 "cells": [
  {
   "cell_type": "code",
   "execution_count": 30,
   "id": "a2cefffc",
   "metadata": {},
   "outputs": [],
   "source": [
    "import random\n",
    "import os\n",
    "import pandas as pd\n",
    "import numpy as np\n",
    "import seaborn as sns\n",
    "import matplotlib.pyplot as plt\n",
    "from math import pi\n",
    "from scipy.stats import norm, skew\n",
    "\n",
    "from sklearn.model_selection import train_test_split\n",
    "from sklearn.preprocessing import MinMaxScaler\n",
    "\n",
    "from sklearn.linear_model import LinearRegression\n",
    "from sklearn.ensemble import RandomForestRegressor, GradientBoostingRegressor, StackingRegressor\n",
    "from sklearn.ensemble import VotingRegressor\n",
    "from lightgbm import LGBMRegressor\n",
    "\n",
    "from sklearn.model_selection import GridSearchCV\n",
    "\n",
    "import warnings\n",
    "warnings.filterwarnings('ignore')"
   ]
  },
  {
   "cell_type": "code",
   "execution_count": 31,
   "id": "94d0e77c",
   "metadata": {},
   "outputs": [],
   "source": [
    "# RandomSeed\n",
    "def seed_everything(seed):\n",
    "    random.seed(seed)\n",
    "    os.environ['PYTHONHASHSEED'] = str(seed)\n",
    "    np.random.seed(seed)\n",
    "seed_everything(41)"
   ]
  },
  {
   "cell_type": "code",
   "execution_count": 32,
   "id": "53b784c8",
   "metadata": {},
   "outputs": [],
   "source": [
    "# error\n",
    "def NMAE(true, pred):\n",
    "    mae = np.mean(np.abs(true-pred))\n",
    "    score = mae / np.mean(np.abs(true))\n",
    "    return score"
   ]
  },
  {
   "cell_type": "code",
   "execution_count": 33,
   "id": "7f65a633",
   "metadata": {},
   "outputs": [],
   "source": [
    "train = pd.read_csv('./train.csv')\n",
    "test = pd.read_csv('./test.csv')"
   ]
  },
  {
   "cell_type": "code",
   "execution_count": 34,
   "id": "1dfac970",
   "metadata": {},
   "outputs": [],
   "source": [
    "train = train.drop(['ID'], axis=1)\n",
    "test = test.drop(['ID'], axis=1)"
   ]
  },
  {
   "cell_type": "code",
   "execution_count": 35,
   "id": "58c49358",
   "metadata": {},
   "outputs": [
    {
     "name": "stdout",
     "output_type": "stream",
     "text": [
      "<class 'pandas.core.frame.DataFrame'>\n",
      "RangeIndex: 2207 entries, 0 to 2206\n",
      "Columns: 183 entries, 착과량(int) to 2022-11-28 엽록소\n",
      "dtypes: float64(182), int64(1)\n",
      "memory usage: 3.1 MB\n"
     ]
    }
   ],
   "source": [
    "train.info()"
   ]
  },
  {
   "cell_type": "code",
   "execution_count": 36,
   "id": "1f53f21a",
   "metadata": {
    "scrolled": true
   },
   "outputs": [
    {
     "data": {
      "text/html": [
       "<div>\n",
       "<style scoped>\n",
       "    .dataframe tbody tr th:only-of-type {\n",
       "        vertical-align: middle;\n",
       "    }\n",
       "\n",
       "    .dataframe tbody tr th {\n",
       "        vertical-align: top;\n",
       "    }\n",
       "\n",
       "    .dataframe thead th {\n",
       "        text-align: right;\n",
       "    }\n",
       "</style>\n",
       "<table border=\"1\" class=\"dataframe\">\n",
       "  <thead>\n",
       "    <tr style=\"text-align: right;\">\n",
       "      <th></th>\n",
       "      <th>착과량(int)</th>\n",
       "      <th>수고(m)</th>\n",
       "      <th>수관폭1(min)</th>\n",
       "      <th>수관폭2(max)</th>\n",
       "      <th>수관폭평균</th>\n",
       "      <th>2022-09-01 새순</th>\n",
       "      <th>2022-09-02 새순</th>\n",
       "      <th>2022-09-03 새순</th>\n",
       "      <th>2022-09-04 새순</th>\n",
       "      <th>2022-09-05 새순</th>\n",
       "      <th>...</th>\n",
       "      <th>2022-11-19 엽록소</th>\n",
       "      <th>2022-11-20 엽록소</th>\n",
       "      <th>2022-11-21 엽록소</th>\n",
       "      <th>2022-11-22 엽록소</th>\n",
       "      <th>2022-11-23 엽록소</th>\n",
       "      <th>2022-11-24 엽록소</th>\n",
       "      <th>2022-11-25 엽록소</th>\n",
       "      <th>2022-11-26 엽록소</th>\n",
       "      <th>2022-11-27 엽록소</th>\n",
       "      <th>2022-11-28 엽록소</th>\n",
       "    </tr>\n",
       "  </thead>\n",
       "  <tbody>\n",
       "    <tr>\n",
       "      <th>0</th>\n",
       "      <td>692</td>\n",
       "      <td>275.0</td>\n",
       "      <td>287.0</td>\n",
       "      <td>292.0</td>\n",
       "      <td>289.5</td>\n",
       "      <td>2.8</td>\n",
       "      <td>2.8</td>\n",
       "      <td>2.7</td>\n",
       "      <td>2.7</td>\n",
       "      <td>2.7</td>\n",
       "      <td>...</td>\n",
       "      <td>70.978249</td>\n",
       "      <td>70.876794</td>\n",
       "      <td>70.705253</td>\n",
       "      <td>70.559603</td>\n",
       "      <td>70.427356</td>\n",
       "      <td>70.340491</td>\n",
       "      <td>70.293830</td>\n",
       "      <td>70.262422</td>\n",
       "      <td>70.169841</td>\n",
       "      <td>70.043251</td>\n",
       "    </tr>\n",
       "    <tr>\n",
       "      <th>1</th>\n",
       "      <td>534</td>\n",
       "      <td>293.0</td>\n",
       "      <td>284.0</td>\n",
       "      <td>336.0</td>\n",
       "      <td>310.0</td>\n",
       "      <td>3.3</td>\n",
       "      <td>3.3</td>\n",
       "      <td>3.3</td>\n",
       "      <td>3.2</td>\n",
       "      <td>3.2</td>\n",
       "      <td>...</td>\n",
       "      <td>71.535483</td>\n",
       "      <td>71.382303</td>\n",
       "      <td>71.253604</td>\n",
       "      <td>71.092665</td>\n",
       "      <td>70.955608</td>\n",
       "      <td>70.796630</td>\n",
       "      <td>70.597550</td>\n",
       "      <td>70.565088</td>\n",
       "      <td>70.560502</td>\n",
       "      <td>70.427600</td>\n",
       "    </tr>\n",
       "    <tr>\n",
       "      <th>2</th>\n",
       "      <td>634</td>\n",
       "      <td>300.0</td>\n",
       "      <td>392.0</td>\n",
       "      <td>450.0</td>\n",
       "      <td>421.0</td>\n",
       "      <td>3.0</td>\n",
       "      <td>2.9</td>\n",
       "      <td>2.9</td>\n",
       "      <td>2.9</td>\n",
       "      <td>2.9</td>\n",
       "      <td>...</td>\n",
       "      <td>71.279804</td>\n",
       "      <td>71.199570</td>\n",
       "      <td>71.144020</td>\n",
       "      <td>71.026740</td>\n",
       "      <td>70.920038</td>\n",
       "      <td>70.876723</td>\n",
       "      <td>70.710129</td>\n",
       "      <td>70.595971</td>\n",
       "      <td>70.418203</td>\n",
       "      <td>70.399578</td>\n",
       "    </tr>\n",
       "    <tr>\n",
       "      <th>3</th>\n",
       "      <td>639</td>\n",
       "      <td>289.0</td>\n",
       "      <td>368.0</td>\n",
       "      <td>379.0</td>\n",
       "      <td>373.5</td>\n",
       "      <td>3.1</td>\n",
       "      <td>3.0</td>\n",
       "      <td>3.0</td>\n",
       "      <td>3.0</td>\n",
       "      <td>3.0</td>\n",
       "      <td>...</td>\n",
       "      <td>69.934615</td>\n",
       "      <td>69.884124</td>\n",
       "      <td>69.845683</td>\n",
       "      <td>69.794682</td>\n",
       "      <td>69.779813</td>\n",
       "      <td>69.614644</td>\n",
       "      <td>69.455404</td>\n",
       "      <td>69.281590</td>\n",
       "      <td>69.238689</td>\n",
       "      <td>69.133970</td>\n",
       "    </tr>\n",
       "    <tr>\n",
       "      <th>4</th>\n",
       "      <td>496</td>\n",
       "      <td>306.0</td>\n",
       "      <td>353.0</td>\n",
       "      <td>358.0</td>\n",
       "      <td>355.5</td>\n",
       "      <td>3.7</td>\n",
       "      <td>3.6</td>\n",
       "      <td>3.6</td>\n",
       "      <td>3.6</td>\n",
       "      <td>3.5</td>\n",
       "      <td>...</td>\n",
       "      <td>68.313016</td>\n",
       "      <td>68.285364</td>\n",
       "      <td>68.209860</td>\n",
       "      <td>68.209458</td>\n",
       "      <td>68.040083</td>\n",
       "      <td>67.859963</td>\n",
       "      <td>67.775556</td>\n",
       "      <td>67.701456</td>\n",
       "      <td>67.504244</td>\n",
       "      <td>67.410093</td>\n",
       "    </tr>\n",
       "  </tbody>\n",
       "</table>\n",
       "<p>5 rows × 183 columns</p>\n",
       "</div>"
      ],
      "text/plain": [
       "   착과량(int)  수고(m)  수관폭1(min)  수관폭2(max)  수관폭평균  2022-09-01 새순  2022-09-02 새순  \\\n",
       "0       692  275.0      287.0      292.0  289.5            2.8            2.8   \n",
       "1       534  293.0      284.0      336.0  310.0            3.3            3.3   \n",
       "2       634  300.0      392.0      450.0  421.0            3.0            2.9   \n",
       "3       639  289.0      368.0      379.0  373.5            3.1            3.0   \n",
       "4       496  306.0      353.0      358.0  355.5            3.7            3.6   \n",
       "\n",
       "   2022-09-03 새순  2022-09-04 새순  2022-09-05 새순  ...  2022-11-19 엽록소  \\\n",
       "0            2.7            2.7            2.7  ...       70.978249   \n",
       "1            3.3            3.2            3.2  ...       71.535483   \n",
       "2            2.9            2.9            2.9  ...       71.279804   \n",
       "3            3.0            3.0            3.0  ...       69.934615   \n",
       "4            3.6            3.6            3.5  ...       68.313016   \n",
       "\n",
       "   2022-11-20 엽록소  2022-11-21 엽록소  2022-11-22 엽록소  2022-11-23 엽록소  \\\n",
       "0       70.876794       70.705253       70.559603       70.427356   \n",
       "1       71.382303       71.253604       71.092665       70.955608   \n",
       "2       71.199570       71.144020       71.026740       70.920038   \n",
       "3       69.884124       69.845683       69.794682       69.779813   \n",
       "4       68.285364       68.209860       68.209458       68.040083   \n",
       "\n",
       "   2022-11-24 엽록소  2022-11-25 엽록소  2022-11-26 엽록소  2022-11-27 엽록소  \\\n",
       "0       70.340491       70.293830       70.262422       70.169841   \n",
       "1       70.796630       70.597550       70.565088       70.560502   \n",
       "2       70.876723       70.710129       70.595971       70.418203   \n",
       "3       69.614644       69.455404       69.281590       69.238689   \n",
       "4       67.859963       67.775556       67.701456       67.504244   \n",
       "\n",
       "   2022-11-28 엽록소  \n",
       "0       70.043251  \n",
       "1       70.427600  \n",
       "2       70.399578  \n",
       "3       69.133970  \n",
       "4       67.410093  \n",
       "\n",
       "[5 rows x 183 columns]"
      ]
     },
     "execution_count": 36,
     "metadata": {},
     "output_type": "execute_result"
    }
   ],
   "source": [
    "train.head()"
   ]
  },
  {
   "cell_type": "code",
   "execution_count": 37,
   "id": "d6b6b589",
   "metadata": {},
   "outputs": [
    {
     "data": {
      "text/html": [
       "<div>\n",
       "<style scoped>\n",
       "    .dataframe tbody tr th:only-of-type {\n",
       "        vertical-align: middle;\n",
       "    }\n",
       "\n",
       "    .dataframe tbody tr th {\n",
       "        vertical-align: top;\n",
       "    }\n",
       "\n",
       "    .dataframe thead th {\n",
       "        text-align: right;\n",
       "    }\n",
       "</style>\n",
       "<table border=\"1\" class=\"dataframe\">\n",
       "  <thead>\n",
       "    <tr style=\"text-align: right;\">\n",
       "      <th></th>\n",
       "      <th>수고(m)</th>\n",
       "      <th>수관폭1(min)</th>\n",
       "      <th>수관폭2(max)</th>\n",
       "      <th>수관폭평균</th>\n",
       "      <th>2022-09-01 새순</th>\n",
       "      <th>2022-09-02 새순</th>\n",
       "      <th>2022-09-03 새순</th>\n",
       "      <th>2022-09-04 새순</th>\n",
       "      <th>2022-09-05 새순</th>\n",
       "      <th>2022-09-06 새순</th>\n",
       "      <th>...</th>\n",
       "      <th>2022-11-19 엽록소</th>\n",
       "      <th>2022-11-20 엽록소</th>\n",
       "      <th>2022-11-21 엽록소</th>\n",
       "      <th>2022-11-22 엽록소</th>\n",
       "      <th>2022-11-23 엽록소</th>\n",
       "      <th>2022-11-24 엽록소</th>\n",
       "      <th>2022-11-25 엽록소</th>\n",
       "      <th>2022-11-26 엽록소</th>\n",
       "      <th>2022-11-27 엽록소</th>\n",
       "      <th>2022-11-28 엽록소</th>\n",
       "    </tr>\n",
       "  </thead>\n",
       "  <tbody>\n",
       "    <tr>\n",
       "      <th>0</th>\n",
       "      <td>231.0</td>\n",
       "      <td>219.0</td>\n",
       "      <td>302.0</td>\n",
       "      <td>260.5</td>\n",
       "      <td>4.3</td>\n",
       "      <td>4.2</td>\n",
       "      <td>4.2</td>\n",
       "      <td>4.1</td>\n",
       "      <td>4.1</td>\n",
       "      <td>4.1</td>\n",
       "      <td>...</td>\n",
       "      <td>72.091497</td>\n",
       "      <td>71.906176</td>\n",
       "      <td>71.886799</td>\n",
       "      <td>71.858720</td>\n",
       "      <td>71.725540</td>\n",
       "      <td>71.531618</td>\n",
       "      <td>71.476935</td>\n",
       "      <td>71.321237</td>\n",
       "      <td>71.184295</td>\n",
       "      <td>71.000223</td>\n",
       "    </tr>\n",
       "    <tr>\n",
       "      <th>1</th>\n",
       "      <td>206.0</td>\n",
       "      <td>324.0</td>\n",
       "      <td>346.0</td>\n",
       "      <td>335.0</td>\n",
       "      <td>2.5</td>\n",
       "      <td>2.5</td>\n",
       "      <td>2.5</td>\n",
       "      <td>2.5</td>\n",
       "      <td>2.5</td>\n",
       "      <td>2.4</td>\n",
       "      <td>...</td>\n",
       "      <td>68.423776</td>\n",
       "      <td>68.353200</td>\n",
       "      <td>68.346777</td>\n",
       "      <td>68.188159</td>\n",
       "      <td>67.995233</td>\n",
       "      <td>67.879958</td>\n",
       "      <td>67.744820</td>\n",
       "      <td>67.673522</td>\n",
       "      <td>67.539973</td>\n",
       "      <td>67.447849</td>\n",
       "    </tr>\n",
       "    <tr>\n",
       "      <th>2</th>\n",
       "      <td>282.0</td>\n",
       "      <td>373.0</td>\n",
       "      <td>404.0</td>\n",
       "      <td>388.5</td>\n",
       "      <td>4.7</td>\n",
       "      <td>4.7</td>\n",
       "      <td>4.6</td>\n",
       "      <td>4.6</td>\n",
       "      <td>4.5</td>\n",
       "      <td>4.5</td>\n",
       "      <td>...</td>\n",
       "      <td>74.435783</td>\n",
       "      <td>74.247468</td>\n",
       "      <td>74.142664</td>\n",
       "      <td>74.070401</td>\n",
       "      <td>73.892408</td>\n",
       "      <td>73.796143</td>\n",
       "      <td>73.615838</td>\n",
       "      <td>73.440136</td>\n",
       "      <td>73.387051</td>\n",
       "      <td>73.228319</td>\n",
       "    </tr>\n",
       "    <tr>\n",
       "      <th>3</th>\n",
       "      <td>234.0</td>\n",
       "      <td>337.0</td>\n",
       "      <td>357.0</td>\n",
       "      <td>347.0</td>\n",
       "      <td>3.6</td>\n",
       "      <td>3.6</td>\n",
       "      <td>3.6</td>\n",
       "      <td>3.6</td>\n",
       "      <td>3.5</td>\n",
       "      <td>3.5</td>\n",
       "      <td>...</td>\n",
       "      <td>73.570735</td>\n",
       "      <td>73.420243</td>\n",
       "      <td>73.313538</td>\n",
       "      <td>73.149298</td>\n",
       "      <td>73.109599</td>\n",
       "      <td>72.924511</td>\n",
       "      <td>72.847411</td>\n",
       "      <td>72.838263</td>\n",
       "      <td>72.672156</td>\n",
       "      <td>72.538171</td>\n",
       "    </tr>\n",
       "    <tr>\n",
       "      <th>4</th>\n",
       "      <td>222.0</td>\n",
       "      <td>329.0</td>\n",
       "      <td>347.0</td>\n",
       "      <td>338.0</td>\n",
       "      <td>2.7</td>\n",
       "      <td>2.7</td>\n",
       "      <td>2.7</td>\n",
       "      <td>2.7</td>\n",
       "      <td>2.6</td>\n",
       "      <td>2.6</td>\n",
       "      <td>...</td>\n",
       "      <td>72.216758</td>\n",
       "      <td>72.163153</td>\n",
       "      <td>72.052952</td>\n",
       "      <td>71.905982</td>\n",
       "      <td>71.766141</td>\n",
       "      <td>71.746813</td>\n",
       "      <td>71.668847</td>\n",
       "      <td>71.501043</td>\n",
       "      <td>71.419715</td>\n",
       "      <td>71.328224</td>\n",
       "    </tr>\n",
       "  </tbody>\n",
       "</table>\n",
       "<p>5 rows × 182 columns</p>\n",
       "</div>"
      ],
      "text/plain": [
       "   수고(m)  수관폭1(min)  수관폭2(max)  수관폭평균  2022-09-01 새순  2022-09-02 새순  \\\n",
       "0  231.0      219.0      302.0  260.5            4.3            4.2   \n",
       "1  206.0      324.0      346.0  335.0            2.5            2.5   \n",
       "2  282.0      373.0      404.0  388.5            4.7            4.7   \n",
       "3  234.0      337.0      357.0  347.0            3.6            3.6   \n",
       "4  222.0      329.0      347.0  338.0            2.7            2.7   \n",
       "\n",
       "   2022-09-03 새순  2022-09-04 새순  2022-09-05 새순  2022-09-06 새순  ...  \\\n",
       "0            4.2            4.1            4.1            4.1  ...   \n",
       "1            2.5            2.5            2.5            2.4  ...   \n",
       "2            4.6            4.6            4.5            4.5  ...   \n",
       "3            3.6            3.6            3.5            3.5  ...   \n",
       "4            2.7            2.7            2.6            2.6  ...   \n",
       "\n",
       "   2022-11-19 엽록소  2022-11-20 엽록소  2022-11-21 엽록소  2022-11-22 엽록소  \\\n",
       "0       72.091497       71.906176       71.886799       71.858720   \n",
       "1       68.423776       68.353200       68.346777       68.188159   \n",
       "2       74.435783       74.247468       74.142664       74.070401   \n",
       "3       73.570735       73.420243       73.313538       73.149298   \n",
       "4       72.216758       72.163153       72.052952       71.905982   \n",
       "\n",
       "   2022-11-23 엽록소  2022-11-24 엽록소  2022-11-25 엽록소  2022-11-26 엽록소  \\\n",
       "0       71.725540       71.531618       71.476935       71.321237   \n",
       "1       67.995233       67.879958       67.744820       67.673522   \n",
       "2       73.892408       73.796143       73.615838       73.440136   \n",
       "3       73.109599       72.924511       72.847411       72.838263   \n",
       "4       71.766141       71.746813       71.668847       71.501043   \n",
       "\n",
       "   2022-11-27 엽록소  2022-11-28 엽록소  \n",
       "0       71.184295       71.000223  \n",
       "1       67.539973       67.447849  \n",
       "2       73.387051       73.228319  \n",
       "3       72.672156       72.538171  \n",
       "4       71.419715       71.328224  \n",
       "\n",
       "[5 rows x 182 columns]"
      ]
     },
     "execution_count": 37,
     "metadata": {},
     "output_type": "execute_result"
    }
   ],
   "source": [
    "test.head()"
   ]
  },
  {
   "cell_type": "markdown",
   "id": "5def1392",
   "metadata": {},
   "source": [
    "### Feature Engineering"
   ]
  },
  {
   "cell_type": "markdown",
   "id": "dfca30c8",
   "metadata": {},
   "source": [
    "- start_end_prob_s + start_end_prob_y + 수목"
   ]
  },
  {
   "cell_type": "code",
   "execution_count": 38,
   "id": "e71aa1df",
   "metadata": {},
   "outputs": [],
   "source": [
    "train['start_end_prob_s1'] = train['2022-09-07 새순'] / train['2022-09-01 새순']\n",
    "test['start_end_prob_s1'] = test['2022-09-07 새순'] / test['2022-09-01 새순']\n",
    "\n",
    "train['start_end_prob_s2'] = train['2022-09-14 새순'] / train['2022-09-08 새순']\n",
    "test['start_end_prob_s2'] = test['2022-09-14 새순'] / test['2022-09-08 새순']\n",
    "\n",
    "train['start_end_prob_s3'] = train['2022-09-21 새순'] / train['2022-09-15 새순']\n",
    "test['start_end_prob_s3'] = test['2022-09-21 새순'] / test['2022-09-15 새순']\n",
    "\n",
    "train['start_end_prob_s4'] = train['2022-09-28 새순'] / train['2022-09-22 새순']\n",
    "test['start_end_prob_s4'] = test['2022-09-28 새순'] / test['2022-09-22 새순']\n",
    "\n",
    "train['start_end_prob_s5'] = train['2022-10-05 새순'] / train['2022-09-29 새순']\n",
    "test['start_end_prob_s5'] = test['2022-10-05 새순'] / test['2022-09-29 엽록소']\n",
    "\n",
    "train['start_end_prob_s6'] = train['2022-10-12 새순'] / train['2022-10-06 새순']\n",
    "test['start_end_prob_s6'] = test['2022-10-12 새순'] / test['2022-10-06 새순']\n",
    "\n",
    "train['start_end_prob_s7'] = train['2022-10-19 새순'] / train['2022-10-13 새순']\n",
    "test['start_end_prob_s7'] = test['2022-10-19 새순'] / test['2022-10-13 새순']\n",
    "\n",
    "train['start_end_prob_s8'] = train['2022-10-26 새순'] / train['2022-10-20 새순']\n",
    "test['start_end_prob_s8'] = test['2022-10-26 새순'] / test['2022-10-20 새순']\n",
    "\n",
    "train['start_end_prob_s9'] = train['2022-11-02 새순'] / train['2022-10-27 새순']\n",
    "test['start_end_prob_s9'] = test['2022-11-02 새순'] / test['2022-10-27 새순']\n",
    "\n",
    "train['start_end_prob_s10'] = train['2022-11-09 새순'] / train['2022-11-03 새순']\n",
    "test['start_end_prob_s10'] = test['2022-11-09 새순'] / test['2022-11-03 새순']\n",
    "\n",
    "train['start_end_prob_s11'] = train['2022-11-16 새순'] / train['2022-11-10 새순']\n",
    "test['start_end_prob_s11'] = test['2022-11-16 새순'] / test['2022-11-10 새순']\n",
    "\n",
    "train['start_end_prob_s12'] = train['2022-11-23 새순'] / train['2022-11-17 새순']\n",
    "test['start_end_prob_s12'] = test['2022-11-23 새순'] / test['2022-11-17 새순']\n",
    "\n",
    "train['start_end_prob_s13'] = train['2022-11-28 새순'] / train['2022-11-24 새순']\n",
    "test['start_end_prob_s13'] = test['2022-11-28 새순'] / test['2022-11-24 새순']"
   ]
  },
  {
   "cell_type": "code",
   "execution_count": 18,
   "id": "61c62f08",
   "metadata": {},
   "outputs": [],
   "source": [
    "# train['start_end_prob_y1'] = train['2022-09-07 엽록소'] / train['2022-09-01 엽록소']\n",
    "# test['start_end_prob_y1'] = test['2022-09-07 엽록소'] / test['2022-09-01 엽록소']\n",
    "\n",
    "# train['start_end_prob_y2'] = train['2022-09-14 엽록소'] / train['2022-09-08 엽록소']\n",
    "# test['start_end_prob_y2'] = test['2022-09-14 엽록소'] / test['2022-09-08 엽록소']\n",
    "\n",
    "# train['start_end_prob_y3'] = train['2022-09-21 엽록소'] / train['2022-09-15 엽록소']\n",
    "# test['start_end_prob_y3'] = test['2022-09-21 엽록소'] / test['2022-09-15 엽록소']\n",
    "\n",
    "# train['start_end_prob_y4'] = train['2022-09-28 엽록소'] / train['2022-09-22 엽록소']\n",
    "# test['start_end_prob_y4'] = test['2022-09-28 엽록소'] / test['2022-09-22 엽록소']\n",
    "\n",
    "# train['start_end_prob_y5'] = train['2022-10-05 엽록소'] / train['2022-09-29 엽록소']\n",
    "# test['start_end_prob_y5'] = test['2022-10-05 엽록소'] / test['2022-09-29 엽록소']\n",
    "\n",
    "# train['start_end_prob_y6'] = train['2022-10-12 엽록소'] / train['2022-10-06 엽록소']\n",
    "# test['start_end_prob_y6'] = test['2022-10-12 엽록소'] / test['2022-10-06 엽록소']\n",
    "\n",
    "# train['start_end_prob_y7'] = train['2022-10-19 엽록소'] / train['2022-10-13 엽록소']\n",
    "# test['start_end_prob_y7'] = test['2022-10-19 엽록소'] / test['2022-10-13 엽록소']\n",
    "\n",
    "# train['start_end_prob_y8'] = train['2022-10-26 엽록소'] / train['2022-10-20 엽록소']\n",
    "# test['start_end_prob_y8'] = test['2022-10-26 엽록소'] / test['2022-10-20 엽록소']\n",
    "\n",
    "# train['start_end_prob_y9'] = train['2022-11-02 엽록소'] / train['2022-10-27 엽록소']\n",
    "# test['start_end_prob_y9'] = test['2022-11-02 엽록소'] / test['2022-10-27 엽록소']\n",
    "\n",
    "# train['start_end_prob_y10'] = train['2022-11-09 엽록소'] / train['2022-11-03 엽록소']\n",
    "# test['start_end_prob_y10'] = test['2022-11-09 엽록소'] / test['2022-11-03 엽록소']\n",
    "\n",
    "# train['start_end_prob_y11'] = train['2022-11-16 엽록소'] / train['2022-11-10 엽록소']\n",
    "# test['start_end_prob_y11'] = test['2022-11-16 엽록소'] / test['2022-11-10 엽록소']\n",
    "\n",
    "# train['start_end_prob_y12'] = train['2022-11-23 엽록소'] / train['2022-11-17 엽록소']\n",
    "# test['start_end_prob_y12'] = test['2022-11-23 엽록소'] / test['2022-11-17 엽록소']\n",
    "\n",
    "# train['start_end_prob_y13'] = train['2022-11-28 엽록소'] / train['2022-11-24 엽록소']\n",
    "# test['start_end_prob_y13'] = test['2022-11-28 엽록소'] / test['2022-11-24 엽록소']"
   ]
  },
  {
   "cell_type": "code",
   "execution_count": 39,
   "id": "fb63af50",
   "metadata": {},
   "outputs": [],
   "source": [
    "train['start_end_prob_s'] = train['2022-11-28 새순'] / train['2022-09-01 새순']\n",
    "test['start_end_prob_s'] = test['2022-11-28 새순'] / test['2022-09-01 새순']\n",
    "\n",
    "# train['start_end_prob_y'] = train['2022-11-28 엽록소'] / train['2022-09-01 엽록소']\n",
    "# test['start_end_prob_y'] = test['2022-11-28 엽록소'] / test['2022-09-01 엽록소']\n",
    "\n",
    "train['부피'] = train['수관폭1(min)'] ** 2 * train['수고(m)']\n",
    "test['부피'] = test['수관폭1(min)'] ** 2 * test['수고(m)']\n",
    "# train['부피'] = (((train['수관폭평균'] / 2) ** 2) * pi) * train['수고(m)']\n",
    "# test['부피'] = (((test['수관폭평균'] / 2) ** 2) * pi) * test['수고(m)']\n",
    "\n",
    "train['면적'] = train['수관폭평균'] ** 2\n",
    "test['면적'] = test['수관폭평균'] ** 2"
   ]
  },
  {
   "cell_type": "code",
   "execution_count": 40,
   "id": "93c539d7",
   "metadata": {},
   "outputs": [],
   "source": [
    "train['수목'] = train['수고(m)'] * train['수관폭평균']\n",
    "test['수목'] = test['수고(m)'] * test['수관폭평균']"
   ]
  },
  {
   "cell_type": "code",
   "execution_count": 488,
   "id": "ef26906a",
   "metadata": {},
   "outputs": [],
   "source": [
    "# train['햇빛받는잎사귀넓이'] = (((train['수관폭평균'] / 2) ** 2) * pi) * 4 / 2\n",
    "# test['햇빛받는잎사귀넓이'] = (((test['수관폭평균'] / 2) ** 2) * pi) * 4 / 2"
   ]
  },
  {
   "cell_type": "code",
   "execution_count": 337,
   "id": "a61f7620",
   "metadata": {},
   "outputs": [],
   "source": [
    "# #최대 - 최소\n",
    "# train['수관폭차'] = train['수관폭2(max)'] - train['수관폭1(min)']\n",
    "# test['수관폭차'] = test['수관폭2(max)'] - test['수관폭1(min)']"
   ]
  },
  {
   "cell_type": "code",
   "execution_count": 338,
   "id": "32cd090d",
   "metadata": {},
   "outputs": [],
   "source": [
    "# #75\n",
    "# train['수관폭(75)'] = train['수관폭2(max)'] - train['수관폭평균']\n",
    "# test['수관폭(75)'] = test['수관폭2(max)'] - test['수관폭평균']\n",
    "\n",
    "# #25\n",
    "# train['수관폭(25)'] = train['수관폭평균'] - train['수관폭1(min)']\n",
    "# test['수관폭(25)'] = test['수관폭평균'] - test['수관폭1(min)']"
   ]
  },
  {
   "cell_type": "code",
   "execution_count": 339,
   "id": "b194ba64",
   "metadata": {},
   "outputs": [],
   "source": [
    "# new_soon = [s for s in train if \"새순\" in s]\n",
    "# greengreen = [s for s in train if \"엽록\" in s]\n",
    "# new_soon1 = [s for s in test if \"새순\" in s]\n",
    "# greengreen1 = [s for s in test if \"엽록\" in s]\n",
    "\n",
    "# tr_green = train[greengreen]\n",
    "# tr_saesoon = train[new_soon]\n",
    "# ts_green = test[greengreen1]\n",
    "# ts_saesoon = test[new_soon1]\n",
    "\n",
    "# train['엽록소기울기'] = (tr_green.iloc[:, 70] - tr_green.iloc[:, 0]) / 70\n",
    "# train['새순기울기'] = (tr_saesoon.iloc[:, 70] - tr_saesoon.iloc[:, 0]) / 70\n",
    "# test['엽록소기울기'] = (ts_green.iloc[:, 70] - ts_green.iloc[:, 0]) / 70\n",
    "# test['새순기울기'] = (ts_saesoon.iloc[:, 70] - ts_saesoon.iloc[:, 0]) / 70"
   ]
  },
  {
   "cell_type": "markdown",
   "id": "6a46d508",
   "metadata": {},
   "source": [
    "### Data Split"
   ]
  },
  {
   "cell_type": "code",
   "execution_count": 41,
   "id": "2ba8fe52",
   "metadata": {},
   "outputs": [],
   "source": [
    "# x, y split\n",
    "x = train.drop(['착과량(int)'], axis=1)\n",
    "y = train['착과량(int)']"
   ]
  },
  {
   "cell_type": "code",
   "execution_count": 42,
   "id": "bbe59943",
   "metadata": {},
   "outputs": [],
   "source": [
    "# train valid split\n",
    "x_train, x_valid, y_train, y_valid = train_test_split(x, y, test_size=0.25, random_state=42, shuffle=False)\n",
    "#x_train, x_valid, y_train, y_valid = train_test_split(train_knn, y, test_size=0.25, random_state=42, shuffle=False)"
   ]
  },
  {
   "cell_type": "markdown",
   "id": "a462a0a2",
   "metadata": {},
   "source": [
    "### Modeling"
   ]
  },
  {
   "cell_type": "markdown",
   "id": "cad38ee2",
   "metadata": {},
   "source": [
    "#### RF"
   ]
  },
  {
   "cell_type": "code",
   "execution_count": 36,
   "id": "5f801e33",
   "metadata": {},
   "outputs": [
    {
     "data": {
      "text/plain": [
       "{'n_estimators': 175}"
      ]
     },
     "execution_count": 36,
     "metadata": {},
     "output_type": "execute_result"
    }
   ],
   "source": [
    "# tuning ver\n",
    "params = {\n",
    "    'n_estimators': range(150, 201, 5),\n",
    "}\n",
    "\n",
    "rf = RandomForestRegressor(random_state=2022)\n",
    "rf = GridSearchCV(rf, params, cv=5)\n",
    "rf.fit(x_train, y_train)\n",
    "rf.best_params_"
   ]
  },
  {
   "cell_type": "code",
   "execution_count": 37,
   "id": "720551ea",
   "metadata": {},
   "outputs": [],
   "source": [
    "pred_rf = rf.predict(x_valid)"
   ]
  },
  {
   "cell_type": "code",
   "execution_count": 15,
   "id": "0a215c8e",
   "metadata": {},
   "outputs": [
    {
     "name": "stdout",
     "output_type": "stream",
     "text": [
      "NMAE: 0.07939858752481645\n"
     ]
    }
   ],
   "source": [
    "print('NMAE:', NMAE(y_valid, pred_rf))\n",
    "\n",
    "# 0.07939858752481645"
   ]
  },
  {
   "cell_type": "markdown",
   "id": "6c856107",
   "metadata": {},
   "source": [
    "#### GB"
   ]
  },
  {
   "cell_type": "code",
   "execution_count": 38,
   "id": "d61d1c71",
   "metadata": {},
   "outputs": [
    {
     "data": {
      "text/plain": [
       "{'learning_rate': 0.03, 'n_estimators': 145}"
      ]
     },
     "execution_count": 38,
     "metadata": {},
     "output_type": "execute_result"
    }
   ],
   "source": [
    "# {'learning_rate': 0.03, 'n_estimators': 145}\n",
    "\n",
    "# tuning\n",
    "params = {'n_estimators': range(50, 150, 5),\n",
    "          'learning_rate': [0.01, 0.02, 0.03]}\n",
    "\n",
    "gb = GradientBoostingRegressor()\n",
    "gb = GridSearchCV(gb, params, cv=5)\n",
    "gb.fit(x_train, y_train)\n",
    "gb.best_params_"
   ]
  },
  {
   "cell_type": "code",
   "execution_count": 39,
   "id": "f665762d",
   "metadata": {},
   "outputs": [],
   "source": [
    "pred_gb = gb.predict(x_valid)"
   ]
  },
  {
   "cell_type": "code",
   "execution_count": 40,
   "id": "367fdab2",
   "metadata": {},
   "outputs": [
    {
     "name": "stdout",
     "output_type": "stream",
     "text": [
      "NMAE: 0.07825392012102447\n"
     ]
    }
   ],
   "source": [
    "print('NMAE:', NMAE(y_valid, pred_gb))"
   ]
  },
  {
   "cell_type": "markdown",
   "id": "84ffb7a8",
   "metadata": {},
   "source": [
    "#### LGBM"
   ]
  },
  {
   "cell_type": "code",
   "execution_count": 241,
   "id": "491f8d7e",
   "metadata": {},
   "outputs": [
    {
     "data": {
      "text/plain": [
       "{'max_depth': 1, 'num_leaves': 2}"
      ]
     },
     "execution_count": 241,
     "metadata": {},
     "output_type": "execute_result"
    }
   ],
   "source": [
    "params = {\n",
    "    'max_depth': range(1, 20),\n",
    "    'num_leaves': range(1, 10),\n",
    "}\n",
    "lgbm = LGBMRegressor()\n",
    "model_lgbm = GridSearchCV(lgbm, params, cv=5)\n",
    "model_lgbm.fit(x_train, y_train)\n",
    "model_lgbm.best_params_"
   ]
  },
  {
   "cell_type": "code",
   "execution_count": 243,
   "id": "48a8238a",
   "metadata": {},
   "outputs": [],
   "source": [
    "pred_lgbm = model_lgbm.predict(x_valid)"
   ]
  },
  {
   "cell_type": "code",
   "execution_count": 244,
   "id": "a05475f5",
   "metadata": {},
   "outputs": [
    {
     "name": "stdout",
     "output_type": "stream",
     "text": [
      "NMAE: 0.0774292733729582\n"
     ]
    }
   ],
   "source": [
    "print('NMAE:', NMAE(y_valid, pred_lgbm))\n",
    "# NMAE: 0.0774292733729582"
   ]
  },
  {
   "cell_type": "markdown",
   "id": "b8fd0423",
   "metadata": {},
   "source": [
    "#### Stacking"
   ]
  },
  {
   "cell_type": "code",
   "execution_count": 43,
   "id": "bd53b95b",
   "metadata": {},
   "outputs": [
    {
     "data": {
      "text/plain": [
       "StackingRegressor(cv=5,\n",
       "                  estimators=[('rf',\n",
       "                               RandomForestRegressor(n_estimators=195,\n",
       "                                                     random_state=2022)),\n",
       "                              ('gb',\n",
       "                               GradientBoostingRegressor(learning_rate=0.03,\n",
       "                                                         n_estimators=145,\n",
       "                                                         random_state=2022)),\n",
       "                              ('lgbm', LGBMRegressor(random_state=2022))],\n",
       "                  final_estimator=LinearRegression())"
      ]
     },
     "execution_count": 43,
     "metadata": {},
     "output_type": "execute_result"
    }
   ],
   "source": [
    "models = {\n",
    "    'rf': RandomForestRegressor(n_estimators = 195, random_state=2022),\n",
    "    'gb': GradientBoostingRegressor(learning_rate = 0.03, n_estimators = 145, random_state=2022),\n",
    "    'lgbm': LGBMRegressor(random_state=2022),\n",
    "}\n",
    "\n",
    "stacking = StackingRegressor(\n",
    "    estimators=list(models.items()),\n",
    "    final_estimator=LinearRegression(),\n",
    "    cv=5\n",
    ")\n",
    "\n",
    "stacking.fit(x_train, y_train)"
   ]
  },
  {
   "cell_type": "code",
   "execution_count": 44,
   "id": "241ad00b",
   "metadata": {},
   "outputs": [],
   "source": [
    "pred_stacking = stacking.predict(x_valid)"
   ]
  },
  {
   "cell_type": "code",
   "execution_count": 45,
   "id": "9ab0c088",
   "metadata": {},
   "outputs": [
    {
     "name": "stdout",
     "output_type": "stream",
     "text": [
      "NMAE: 0.07726260567119689\n"
     ]
    }
   ],
   "source": [
    "# NMAE: 0.07718396449379535\n",
    "# NMAE: 0.07764071516064674\n",
    "print('NMAE:', NMAE(y_valid, pred_stacking))"
   ]
  },
  {
   "cell_type": "markdown",
   "id": "d2df9de4",
   "metadata": {},
   "source": [
    "#### soft voting"
   ]
  },
  {
   "cell_type": "code",
   "execution_count": 277,
   "id": "e3636e49",
   "metadata": {},
   "outputs": [],
   "source": [
    "rf = RandomForestRegressor(n_estimators=195, random_state=2022)\n",
    "gb = GradientBoostingRegressor(learning_rate=0.03, n_estimators=145, random_state=2022)\n",
    "lgbm = LGBMRegressor(max_depth=1, num_leaves=2)\n",
    "\n",
    "rf.fit(x_train, y_train)\n",
    "gb.fit(x_train, y_train)\n",
    "lgbm.fit(x_train, y_train)\n",
    "\n",
    "pred_rf = rf.predict(x_valid)\n",
    "pred_gb = gb.predict(x_valid)\n",
    "pred_lgbm = lgbm.predict(x_valid)\n",
    "\n",
    "pred = (0.15*pred_rf + 0.20*pred_gb + 0.65*pred_lgbm)\n",
    "\n",
    "print('NMAE:', NMAE(y_valid, pred))"
   ]
  },
  {
   "cell_type": "code",
   "execution_count": 278,
   "id": "e92cf960",
   "metadata": {},
   "outputs": [
    {
     "name": "stdout",
     "output_type": "stream",
     "text": [
      "NMAE: 0.07852420850720318\n",
      "NMAE: 0.07762133065734089\n",
      "NMAE: 0.0774292733729582\n"
     ]
    }
   ],
   "source": [
    "print('NMAE:', NMAE(y_valid, pred_rf))\n",
    "print('NMAE:', NMAE(y_valid, pred_gb))\n",
    "print('NMAE:', NMAE(y_valid, pred_lgbm))"
   ]
  },
  {
   "cell_type": "code",
   "execution_count": 286,
   "id": "386afef0",
   "metadata": {},
   "outputs": [
    {
     "name": "stdout",
     "output_type": "stream",
     "text": [
      "NMAE: 0.07732533465201491\n"
     ]
    }
   ],
   "source": [
    "# hard voting\n",
    "pred = (pred_rf + pred_gb + pred_lgbm) / 3\n",
    "\n",
    "print('NMAE:', NMAE(y_valid, pred))"
   ]
  },
  {
   "cell_type": "code",
   "execution_count": 294,
   "id": "a2d4e0aa",
   "metadata": {},
   "outputs": [
    {
     "name": "stdout",
     "output_type": "stream",
     "text": [
      "NMAE: 0.07728553148260693\n"
     ]
    }
   ],
   "source": [
    "# soft voting\n",
    "# NMAE: 0.07730783824543626\n",
    "# \n",
    "pred = (0.15*pred_rf + 0.20*pred_gb + 0.65*pred_lgbm)\n",
    "\n",
    "print('NMAE:', NMAE(y_valid, pred))"
   ]
  },
  {
   "cell_type": "markdown",
   "id": "a04e380a",
   "metadata": {},
   "source": [
    "### TEST SET INFERENCE"
   ]
  },
  {
   "cell_type": "code",
   "execution_count": null,
   "id": "c2122b22",
   "metadata": {},
   "outputs": [],
   "source": [
    "# test = test.drop(['ID'], axis=1)\n",
    "# pred = stacking.predict(test)"
   ]
  },
  {
   "cell_type": "code",
   "execution_count": 297,
   "id": "dae1ea33",
   "metadata": {},
   "outputs": [],
   "source": [
    "# soft voting\n",
    "pred_rf = rf.predict(test)\n",
    "pred_gb = gb.predict(test)\n",
    "pred_lgbm = lgbm.predict(test)\n",
    "pred = (0.15*pred_rf + 0.20*pred_gb + 0.65*pred_lgbm)"
   ]
  },
  {
   "cell_type": "markdown",
   "id": "35433eda",
   "metadata": {},
   "source": [
    "### Submission"
   ]
  },
  {
   "cell_type": "code",
   "execution_count": 46,
   "id": "d03a0ffb",
   "metadata": {},
   "outputs": [],
   "source": [
    "sample_submission = pd.read_csv('./sample_submission.csv')"
   ]
  },
  {
   "cell_type": "code",
   "execution_count": 47,
   "id": "4f721f37",
   "metadata": {},
   "outputs": [],
   "source": [
    "pred = stacking.predict(test)"
   ]
  },
  {
   "cell_type": "code",
   "execution_count": 48,
   "id": "02112abe",
   "metadata": {},
   "outputs": [],
   "source": [
    "sample_submission['착과량(int)'] = pred\n",
    "sample_submission.to_csv('hard_coding_3.csv', index=False)"
   ]
  },
  {
   "cell_type": "code",
   "execution_count": 49,
   "id": "527d3870",
   "metadata": {},
   "outputs": [
    {
     "data": {
      "text/html": [
       "<div>\n",
       "<style scoped>\n",
       "    .dataframe tbody tr th:only-of-type {\n",
       "        vertical-align: middle;\n",
       "    }\n",
       "\n",
       "    .dataframe tbody tr th {\n",
       "        vertical-align: top;\n",
       "    }\n",
       "\n",
       "    .dataframe thead th {\n",
       "        text-align: right;\n",
       "    }\n",
       "</style>\n",
       "<table border=\"1\" class=\"dataframe\">\n",
       "  <thead>\n",
       "    <tr style=\"text-align: right;\">\n",
       "      <th></th>\n",
       "      <th>ID</th>\n",
       "      <th>착과량(int)</th>\n",
       "    </tr>\n",
       "  </thead>\n",
       "  <tbody>\n",
       "    <tr>\n",
       "      <th>0</th>\n",
       "      <td>TEST_0000</td>\n",
       "      <td>248.239094</td>\n",
       "    </tr>\n",
       "    <tr>\n",
       "      <th>1</th>\n",
       "      <td>TEST_0001</td>\n",
       "      <td>745.596872</td>\n",
       "    </tr>\n",
       "    <tr>\n",
       "      <th>2</th>\n",
       "      <td>TEST_0002</td>\n",
       "      <td>153.097636</td>\n",
       "    </tr>\n",
       "    <tr>\n",
       "      <th>3</th>\n",
       "      <td>TEST_0003</td>\n",
       "      <td>441.536569</td>\n",
       "    </tr>\n",
       "    <tr>\n",
       "      <th>4</th>\n",
       "      <td>TEST_0004</td>\n",
       "      <td>690.054065</td>\n",
       "    </tr>\n",
       "    <tr>\n",
       "      <th>...</th>\n",
       "      <td>...</td>\n",
       "      <td>...</td>\n",
       "    </tr>\n",
       "    <tr>\n",
       "      <th>2203</th>\n",
       "      <td>TEST_2203</td>\n",
       "      <td>739.152907</td>\n",
       "    </tr>\n",
       "    <tr>\n",
       "      <th>2204</th>\n",
       "      <td>TEST_2204</td>\n",
       "      <td>315.399010</td>\n",
       "    </tr>\n",
       "    <tr>\n",
       "      <th>2205</th>\n",
       "      <td>TEST_2205</td>\n",
       "      <td>370.233386</td>\n",
       "    </tr>\n",
       "    <tr>\n",
       "      <th>2206</th>\n",
       "      <td>TEST_2206</td>\n",
       "      <td>235.651894</td>\n",
       "    </tr>\n",
       "    <tr>\n",
       "      <th>2207</th>\n",
       "      <td>TEST_2207</td>\n",
       "      <td>108.134525</td>\n",
       "    </tr>\n",
       "  </tbody>\n",
       "</table>\n",
       "<p>2208 rows × 2 columns</p>\n",
       "</div>"
      ],
      "text/plain": [
       "             ID    착과량(int)\n",
       "0     TEST_0000  248.239094\n",
       "1     TEST_0001  745.596872\n",
       "2     TEST_0002  153.097636\n",
       "3     TEST_0003  441.536569\n",
       "4     TEST_0004  690.054065\n",
       "...         ...         ...\n",
       "2203  TEST_2203  739.152907\n",
       "2204  TEST_2204  315.399010\n",
       "2205  TEST_2205  370.233386\n",
       "2206  TEST_2206  235.651894\n",
       "2207  TEST_2207  108.134525\n",
       "\n",
       "[2208 rows x 2 columns]"
      ]
     },
     "execution_count": 49,
     "metadata": {},
     "output_type": "execute_result"
    }
   ],
   "source": [
    "sample_submission"
   ]
  }
 ],
 "metadata": {
  "kernelspec": {
   "display_name": "base",
   "language": "python",
   "name": "python3"
  },
  "language_info": {
   "codemirror_mode": {
    "name": "ipython",
    "version": 3
   },
   "file_extension": ".py",
   "mimetype": "text/x-python",
   "name": "python",
   "nbconvert_exporter": "python",
   "pygments_lexer": "ipython3",
   "version": "3.9.12 (main, Apr  4 2022, 05:22:27) [MSC v.1916 64 bit (AMD64)]"
  },
  "vscode": {
   "interpreter": {
    "hash": "964f46f3973c3d99dc6929d5bd1748275317def86f082ea2874e0d5a9cf6d261"
   }
  }
 },
 "nbformat": 4,
 "nbformat_minor": 5
}
