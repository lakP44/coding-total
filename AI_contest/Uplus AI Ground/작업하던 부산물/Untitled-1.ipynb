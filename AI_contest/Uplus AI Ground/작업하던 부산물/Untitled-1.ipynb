{
 "cells": [
  {
   "cell_type": "code",
   "execution_count": null,
   "metadata": {},
   "outputs": [],
   "source": [
    "# 수치형 데이터\n",
    "# 유저 특징 정보 추출 \n",
    "# userfeaturesextraction\n",
    "from itertools import islice\n",
    "\n",
    "profile_df = pd.read_csv(os.path.join(data_path, 'profile_data.csv'), encoding='utf-8')\n",
    "\n",
    "profile_df = profile_df.set_index('profile_id') # profile_id를 인덱스로 지정\n",
    "user_features = profile_df[['age']].to_dict() # profile_df의 age를 dictionary로 변형\n",
    "print(\"user_id 3의 age 정보 :\", user_features['age'][3]) # user_id와 age를 엮어주는거 같음, \n",
    "# user_features라는 딕셔너리 안의 key값은 age, age키의 값이 profile_id를 key로 가지고 나이를 값으로 가지는 딕셔너리가 됨 (user_features는 이중 딕셔너리)\n",
    "\n",
    "dict(islice(user_features['age'].items(), 5)) # 딕셔너리 인덱스 5까지 출력"
   ]
  },
  {
   "cell_type": "code",
   "execution_count": null,
   "metadata": {},
   "outputs": [],
   "source": [
    "# 범주형 데이터\n",
    "# 아이템 특징 정보 추출 \n",
    "# itemfeaturesextraction\n",
    "meta_df = pd.read_csv(os.path.join(data_path, 'meta_data.csv'), encoding='utf-8')\n",
    "\n",
    "meta_df = meta_df.set_index('album_id')\n",
    "\n",
    "# 범주형 데이터를 수치형 데이터로 변경 \n",
    "le = LabelEncoder()\n",
    "meta_df['genre_mid'] = le.fit_transform(meta_df['genre_mid'])\n",
    "item_features = meta_df[['genre_mid']].to_dict()\n",
    "print(\"album_id 749의 genre_mid 정보 :\", item_features['genre_mid'][749])"
   ]
  },
  {
   "cell_type": "code",
   "execution_count": null,
   "metadata": {},
   "outputs": [],
   "source": [
    "# 11\n",
    "# 추출한 특징 정보의 속성을 저장\n",
    "# savegenremidnunique\n",
    "cfg.n_genres = meta_df['genre_mid'].nunique() # <-- 범주형 데이터는 특징 속성을 저장해야 함\n",
    "cfg.n_sex = profile_df['sex'].nunique()\n",
    "cfg.n_continuous_feats = 1 "
   ]
  },
  {
   "cell_type": "code",
   "execution_count": null,
   "metadata": {},
   "outputs": [],
   "source": [
    "        self.user_embedding_mf = nn.Embedding(num_embeddings=self.n_users, embedding_dim=self.emb_dim) # n_users = data.profile_id.max()+1, emb_dim = 256\n",
    "        self.item_embedding_mf = nn.Embedding(num_embeddings=self.n_items, embedding_dim=self.emb_dim)\n",
    "        # ex) embedding_dim이 3, num_embeddings=8이면 // num_embeddings 행 개수, embedding_dim이 열 개수\n",
    "        \n",
    "        # tensor([[-0.1778, -1.9974, -1.2478],\n",
    "        # [ 0.0000,  0.0000,  0.0000],\n",
    "        # [ 1.0921,  0.0416, -0.7896],\n",
    "        # [ 0.0960, -0.6029,  0.3721],\n",
    "        # [ 0.2780, -0.4300, -1.9770],\n",
    "        # [ 0.0727,  0.5782, -3.2617],\n",
    "        # [-0.0173, -0.7092,  0.9121],\n",
    "        # [-0.4817, -1.1222,  2.2774]], requires_grad=True)\n",
    "        \n",
    "        self.user_embedding_mlp = nn.Embedding(num_embeddings=self.n_users, embedding_dim=self.emb_dim)\n",
    "        self.item_embedding_mlp = nn.Embedding(num_embeddings=self.n_items, embedding_dim=self.emb_dim) # 여기까지 4줄은 다 똑같음\n",
    "                \n",
    "        self.genre_embeddig = nn.Embedding(num_embeddings=self.n_genres, embedding_dim=self.n_genres//2) # 장르 임베딩 하이퍼 파라미터는 n_genres = meta_df['genre_mid'].nunique()\n",
    "                                                                                                        # 임베딩 차원이 장르/2라는 특이한 점이 있음\n",
    "        self.sex_embeddig = nn.Embedding(num_embeddings=self.n_sex, embedding_dim=self.n_sex//2) # 추가한거   \n",
    "\n",
    "        self.mlp_layers = nn.Sequential(\n",
    "            nn.Linear(2*self.emb_dim + self.n_genres//2 + self.n_sex//2 + self.n_continuous_feats, self.layer_dim), # (https://m.blog.naver.com/fbfbf1/222480437930)\n",
    "            # 추가한거\n",
    "            # nn.Linear의 형태는 nn.Linear(input_dim,output_dim)이다\n",
    "            # 여기서 input은 256*2 + 29//2 + 1, output은 256\n",
    "            nn.ReLU(), \n",
    "            nn.Dropout(p=self.dropout), # dropout = 0.05\n",
    "            nn.Linear(self.layer_dim, self.layer_dim//2), # layer_dim = 256\n",
    "            nn.ReLU(), \n",
    "            nn.Dropout(p=self.dropout)"
   ]
  },
  {
   "cell_type": "code",
   "execution_count": null,
   "metadata": {},
   "outputs": [],
   "source": []
  },
  {
   "cell_type": "code",
   "execution_count": null,
   "metadata": {},
   "outputs": [],
   "source": []
  },
  {
   "cell_type": "code",
   "execution_count": null,
   "metadata": {},
   "outputs": [],
   "source": []
  },
  {
   "cell_type": "code",
   "execution_count": null,
   "metadata": {},
   "outputs": [],
   "source": []
  },
  {
   "cell_type": "code",
   "execution_count": null,
   "metadata": {},
   "outputs": [],
   "source": []
  },
  {
   "cell_type": "code",
   "execution_count": null,
   "metadata": {},
   "outputs": [],
   "source": []
  },
  {
   "cell_type": "code",
   "execution_count": null,
   "metadata": {},
   "outputs": [],
   "source": []
  },
  {
   "cell_type": "code",
   "execution_count": null,
   "metadata": {},
   "outputs": [],
   "source": []
  },
  {
   "cell_type": "code",
   "execution_count": null,
   "metadata": {},
   "outputs": [],
   "source": []
  },
  {
   "cell_type": "code",
   "execution_count": null,
   "metadata": {},
   "outputs": [],
   "source": []
  },
  {
   "cell_type": "code",
   "execution_count": null,
   "metadata": {},
   "outputs": [],
   "source": []
  },
  {
   "cell_type": "code",
   "execution_count": null,
   "metadata": {},
   "outputs": [],
   "source": []
  }
 ],
 "metadata": {
  "kernelspec": {
   "display_name": "Python 3.9.12 ('base')",
   "language": "python",
   "name": "python3"
  },
  "language_info": {
   "name": "python",
   "version": "3.9.12"
  },
  "orig_nbformat": 4,
  "vscode": {
   "interpreter": {
    "hash": "964f46f3973c3d99dc6929d5bd1748275317def86f082ea2874e0d5a9cf6d261"
   }
  }
 },
 "nbformat": 4,
 "nbformat_minor": 2
}
