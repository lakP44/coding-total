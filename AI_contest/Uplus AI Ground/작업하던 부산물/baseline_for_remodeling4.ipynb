{
 "cells": [
  {
   "cell_type": "markdown",
   "metadata": {
    "id": "SOKnNSACYU0-"
   },
   "source": [
    "# LGU+ 경진대회 - 베이스라인  \n",
    "- [Neural Collaborative Filtering(NCF)](https://arxiv.org/pdf/1708.05031.pdf) 논문의 NeuMF를 참고하여 side-information을 결합한 모델을 PyTorch로 구현\n",
    "- 구현된 모델의 검증 데이터셋과 리더보드의 성능을 확인"
   ]
  },
  {
   "cell_type": "markdown",
   "metadata": {},
   "source": [
    "## 목차 \n",
    "- 데이터 전처리 \n",
    "    - 기본 설정\n",
    "    - 데이터 불러오기 \n",
    "    - 학습 및 검증 데이터 생성 \n",
    "- NeuMF 구현    \n",
    "    - 모델 구현 \n",
    "    - 학습 및 추론 코드 구현\n",
    "- 모델 학습 \n",
    "    - 하이퍼 파라미터 설정 & 최적화 기법 설정\n",
    "    - 모델 학습 \n",
    "    - 학습 과정 시각화 \n",
    "- 제출 \n",
    "    - 모든 유저에 대해 추천 결과 생성\n",
    "    - 저장 "
   ]
  },
  {
   "cell_type": "markdown",
   "metadata": {
    "id": "07lHW5CAYU1F"
   },
   "source": [
    "## 데이터 전처리\n",
    "### 기본 설정"
   ]
  },
  {
   "cell_type": "code",
   "execution_count": 342,
   "metadata": {
    "execution": {
     "iopub.execute_input": "2022-11-22T10:40:19.847055Z",
     "iopub.status.busy": "2022-11-22T10:40:19.846358Z",
     "iopub.status.idle": "2022-11-22T10:40:19.851302Z",
     "shell.execute_reply": "2022-11-22T10:40:19.850609Z",
     "shell.execute_reply.started": "2022-11-22T10:40:19.847028Z"
    }
   },
   "outputs": [],
   "source": [
    "# 검색용 : forsearch\n",
    "# 1. 패키지 로드 : package (# 패키지 로드)\n",
    "# 2. cfg : 클래스cfg (# cfg 하이퍼 파라미터)\n",
    "# 3. seed_everything : fixseed (# 시드 고정)\n",
    "# 4. 경로 : localpath (# 경로 설정)\n",
    "# 5. 불러온 데이터 : originaldata (# 데이터 불러오기)\n",
    "# 6. 중복제거 후 rating열 추가 : dropduplicate (# 데이터 전처리 (중복제거))\n",
    "# 7. train_test_split : traintestsplist (# 학습 및 검증 데이터 분리)\n",
    "# 8. matrix를 만들고 그걸 rating에 대응 : makematrix (# Matrix 형태로 변환)\n",
    "# 9. profile_id 대응 나이 추출 : userfeaturesextraction (# 유저 특징 정보 추출)\n",
    "# 10. album_id 대응 장르 mid 추출 : itemfeaturesextraction (# 아이템 특징 정보 추출)\n",
    "# 11. genre_mid 속성과 continues_feats 저장 : savegenremidnunique (# 추출한 특징 정보의 속성을 저장)\n",
    "# 12. 모델 구현 : modeling (# 모델 구현)\n",
    "# 13. dateset을 만듬 : makeUIdateset (# 학습 및 추론 코드 구현)\n",
    "# 14. UIdataset을 만듬 : realmakeUIdataset\n",
    "# 15. batchdata를 만듬 : makebatchdata\n",
    "# 16. 여기서 학습을 시키는 것 같음 : Learningandverification\n",
    "# 17. 검증, 평가 : Learningandverification2\n",
    "# 18. 뭘까 여긴 : Learningandverification3\n",
    "# 19. 하이퍼 파라미터 설정 : 하이퍼파라미터\n",
    "# 20. model 생성 및 optimizer, loss 함수 설정  : settingmodeloptimizerloss"
   ]
  },
  {
   "cell_type": "code",
   "execution_count": 343,
   "metadata": {
    "execution": {
     "iopub.execute_input": "2022-11-22T10:40:19.855702Z",
     "iopub.status.busy": "2022-11-22T10:40:19.854848Z",
     "iopub.status.idle": "2022-11-22T10:40:22.926553Z",
     "shell.execute_reply": "2022-11-22T10:40:22.925218Z",
     "shell.execute_reply.started": "2022-11-22T10:40:19.855670Z"
    }
   },
   "outputs": [
    {
     "name": "stdout",
     "output_type": "stream",
     "text": [
      "Requirement already satisfied: plotnine in /usr/local/lib/python3.9/dist-packages (0.10.1)\n",
      "Requirement already satisfied: matplotlib>=3.5.0 in /usr/local/lib/python3.9/dist-packages (from plotnine) (3.5.2)\n",
      "Requirement already satisfied: pandas>=1.3.5 in /usr/local/lib/python3.9/dist-packages (from plotnine) (1.4.3)\n",
      "Requirement already satisfied: scipy>=1.5.0 in /usr/local/lib/python3.9/dist-packages (from plotnine) (1.8.1)\n",
      "Requirement already satisfied: numpy>=1.19.0 in /usr/local/lib/python3.9/dist-packages (from plotnine) (1.23.1)\n",
      "Requirement already satisfied: patsy>=0.5.1 in /usr/local/lib/python3.9/dist-packages (from plotnine) (0.5.3)\n",
      "Requirement already satisfied: statsmodels>=0.13.2 in /usr/local/lib/python3.9/dist-packages (from plotnine) (0.13.5)\n",
      "Requirement already satisfied: mizani>=0.8.1 in /usr/local/lib/python3.9/dist-packages (from plotnine) (0.8.1)\n",
      "Requirement already satisfied: pillow>=6.2.0 in /usr/local/lib/python3.9/dist-packages (from matplotlib>=3.5.0->plotnine) (9.2.0)\n",
      "Requirement already satisfied: pyparsing>=2.2.1 in /usr/local/lib/python3.9/dist-packages (from matplotlib>=3.5.0->plotnine) (3.0.9)\n",
      "Requirement already satisfied: packaging>=20.0 in /usr/local/lib/python3.9/dist-packages (from matplotlib>=3.5.0->plotnine) (21.3)\n",
      "Requirement already satisfied: fonttools>=4.22.0 in /usr/local/lib/python3.9/dist-packages (from matplotlib>=3.5.0->plotnine) (4.34.4)\n",
      "Requirement already satisfied: python-dateutil>=2.7 in /usr/local/lib/python3.9/dist-packages (from matplotlib>=3.5.0->plotnine) (2.8.2)\n",
      "Requirement already satisfied: kiwisolver>=1.0.1 in /usr/local/lib/python3.9/dist-packages (from matplotlib>=3.5.0->plotnine) (1.4.3)\n",
      "Requirement already satisfied: cycler>=0.10 in /usr/local/lib/python3.9/dist-packages (from matplotlib>=3.5.0->plotnine) (0.11.0)\n",
      "Requirement already satisfied: palettable in /usr/local/lib/python3.9/dist-packages (from mizani>=0.8.1->plotnine) (3.3.0)\n",
      "Requirement already satisfied: pytz>=2020.1 in /usr/local/lib/python3.9/dist-packages (from pandas>=1.3.5->plotnine) (2022.1)\n",
      "Requirement already satisfied: six in /usr/lib/python3/dist-packages (from patsy>=0.5.1->plotnine) (1.14.0)\n",
      "\u001b[33mWARNING: Running pip as the 'root' user can result in broken permissions and conflicting behaviour with the system package manager. It is recommended to use a virtual environment instead: https://pip.pypa.io/warnings/venv\u001b[0m\u001b[33m\n",
      "\u001b[0mNote: you may need to restart the kernel to use updated packages.\n"
     ]
    }
   ],
   "source": [
    "pip install plotnine"
   ]
  },
  {
   "cell_type": "code",
   "execution_count": 344,
   "metadata": {
    "execution": {
     "iopub.execute_input": "2022-11-22T10:40:22.929886Z",
     "iopub.status.busy": "2022-11-22T10:40:22.929472Z",
     "iopub.status.idle": "2022-11-22T10:40:24.237446Z",
     "shell.execute_reply": "2022-11-22T10:40:24.236567Z",
     "shell.execute_reply.started": "2022-11-22T10:40:22.929823Z"
    }
   },
   "outputs": [
    {
     "name": "stdout",
     "output_type": "stream",
     "text": [
      "Found existing installation: lxml 4.9.1\n",
      "Uninstalling lxml-4.9.1:\n",
      "  Successfully uninstalled lxml-4.9.1\n",
      "\u001b[33mWARNING: Running pip as the 'root' user can result in broken permissions and conflicting behaviour with the system package manager. It is recommended to use a virtual environment instead: https://pip.pypa.io/warnings/venv\u001b[0m\u001b[33m\n",
      "\u001b[0mNote: you may need to restart the kernel to use updated packages.\n"
     ]
    }
   ],
   "source": [
    "pip uninstall lxml -y"
   ]
  },
  {
   "cell_type": "code",
   "execution_count": 345,
   "metadata": {
    "execution": {
     "iopub.execute_input": "2022-11-22T10:40:24.239451Z",
     "iopub.status.busy": "2022-11-22T10:40:24.239180Z",
     "iopub.status.idle": "2022-11-22T10:40:27.694303Z",
     "shell.execute_reply": "2022-11-22T10:40:27.692869Z",
     "shell.execute_reply.started": "2022-11-22T10:40:24.239424Z"
    }
   },
   "outputs": [
    {
     "name": "stdout",
     "output_type": "stream",
     "text": [
      "Collecting lxml\n",
      "  Using cached lxml-4.9.1-cp39-cp39-manylinux_2_17_x86_64.manylinux2014_x86_64.manylinux_2_24_x86_64.whl (7.0 MB)\n",
      "Installing collected packages: lxml\n",
      "Successfully installed lxml-4.9.1\n",
      "\u001b[33mWARNING: Running pip as the 'root' user can result in broken permissions and conflicting behaviour with the system package manager. It is recommended to use a virtual environment instead: https://pip.pypa.io/warnings/venv\u001b[0m\u001b[33m\n",
      "\u001b[0mNote: you may need to restart the kernel to use updated packages.\n"
     ]
    }
   ],
   "source": [
    " pip install lxml"
   ]
  },
  {
   "cell_type": "code",
   "execution_count": 346,
   "metadata": {
    "execution": {
     "iopub.execute_input": "2022-11-22T10:40:27.697724Z",
     "iopub.status.busy": "2022-11-22T10:40:27.696786Z",
     "iopub.status.idle": "2022-11-22T10:40:27.708798Z",
     "shell.execute_reply": "2022-11-22T10:40:27.708070Z",
     "shell.execute_reply.started": "2022-11-22T10:40:27.697714Z"
    },
    "id": "iHstgRfiYU1G"
   },
   "outputs": [],
   "source": [
    "# 1\n",
    "# 패키지 로드\n",
    "# package\n",
    "import os\n",
    "os.environ['CUDA_LAUNCH_BLOCKING'] = \"1\"\n",
    "os.environ[\"CUDA_VISIBLE_DEVICES\"] = \"0\"\n",
    "\n",
    "import warnings\n",
    "warnings.filterwarnings('ignore')\n",
    "\n",
    "import numpy as np\n",
    "import pandas as pd\n",
    "from tqdm.notebook import tqdm\n",
    "from sklearn.model_selection import train_test_split\n",
    "from collections import defaultdict\n",
    "import os, random\n",
    "\n",
    "from scipy import sparse\n",
    "from sklearn.preprocessing import LabelEncoder\n",
    "import matplotlib.pyplot as plt\n",
    "%matplotlib inline\n",
    "\n",
    "import torch\n",
    "import torch.nn as nn\n",
    "from torch.nn.init import normal_\n",
    "from torch.utils.data import TensorDataset, DataLoader\n",
    "import torch.nn.functional as F\n",
    "\n",
    "import plotnine\n",
    "from plotnine import *"
   ]
  },
  {
   "cell_type": "code",
   "execution_count": 347,
   "metadata": {
    "execution": {
     "iopub.execute_input": "2022-11-22T10:40:27.709968Z",
     "iopub.status.busy": "2022-11-22T10:40:27.709738Z",
     "iopub.status.idle": "2022-11-22T10:40:27.714633Z",
     "shell.execute_reply": "2022-11-22T10:40:27.713814Z",
     "shell.execute_reply.started": "2022-11-22T10:40:27.709963Z"
    }
   },
   "outputs": [],
   "source": [
    "# 2\n",
    "# 하이퍼 파라미터 \n",
    "# 클래스cfg\n",
    "class cfg: \n",
    "    gpu_idx = 0\n",
    "    device = torch.device(\"cuda:{}\".format(gpu_idx) if torch.cuda.is_available() else \"cpu\")\n",
    "    top_k = 25\n",
    "    seed = 27\n",
    "    neg_ratio = 100\n",
    "    test_size = 0.2"
   ]
  },
  {
   "cell_type": "code",
   "execution_count": 348,
   "metadata": {
    "execution": {
     "iopub.execute_input": "2022-11-22T10:40:27.715775Z",
     "iopub.status.busy": "2022-11-22T10:40:27.715575Z",
     "iopub.status.idle": "2022-11-22T10:40:27.722421Z",
     "shell.execute_reply": "2022-11-22T10:40:27.721553Z",
     "shell.execute_reply.started": "2022-11-22T10:40:27.715756Z"
    },
    "id": "5GrHkU7AYU1I"
   },
   "outputs": [],
   "source": [
    "# 3\n",
    "# 시드 고정 \n",
    "# fixseed\n",
    "def seed_everything(random_seed):\n",
    "    torch.manual_seed(random_seed)\n",
    "    torch.cuda.manual_seed(random_seed)\n",
    "    torch.cuda.manual_seed_all(random_seed)\n",
    "    torch.backends.cudnn.deterministic = True\n",
    "    torch.backends.cudnn.benchmark = False\n",
    "    np.random.seed(random_seed)\n",
    "    random.seed(random_seed)\n",
    "    \n",
    "seed_everything(cfg.seed)"
   ]
  },
  {
   "cell_type": "code",
   "execution_count": 349,
   "metadata": {
    "execution": {
     "iopub.execute_input": "2022-11-22T10:40:27.723747Z",
     "iopub.status.busy": "2022-11-22T10:40:27.723501Z",
     "iopub.status.idle": "2022-11-22T10:40:27.727271Z",
     "shell.execute_reply": "2022-11-22T10:40:27.726363Z",
     "shell.execute_reply.started": "2022-11-22T10:40:27.723724Z"
    }
   },
   "outputs": [],
   "source": [
    "# 4\n",
    "# 경로 설정\n",
    "# localpath\n",
    "data_path = '../data'\n",
    "saved_path = './saved'\n",
    "output_path = './submission'"
   ]
  },
  {
   "cell_type": "code",
   "execution_count": 350,
   "metadata": {
    "execution": {
     "iopub.execute_input": "2022-11-22T10:40:27.728656Z",
     "iopub.status.busy": "2022-11-22T10:40:27.728410Z",
     "iopub.status.idle": "2022-11-22T10:40:27.732047Z",
     "shell.execute_reply": "2022-11-22T10:40:27.731319Z",
     "shell.execute_reply.started": "2022-11-22T10:40:27.728635Z"
    }
   },
   "outputs": [],
   "source": [
    "# # 경로 설정\n",
    "# data_path = 'E:\\\\aivle\\\\2022_uplus_ai_ground\\\\data'\n",
    "# saved_path = 'E:\\\\aivle\\\\2022_uplus_ai_ground\\\\data\\\\saved'\n",
    "# output_path = 'E:\\\\aivle\\\\2022_uplus_ai_ground\\\\data\\\\submission'"
   ]
  },
  {
   "cell_type": "markdown",
   "metadata": {
    "id": "huw6BwpTYU1J"
   },
   "source": [
    "### 데이터 불러오기\n",
    "- history_data : 시청 시작 데이터\n",
    "- profile_data : 프로필 정보 \n",
    "- meta_data : 콘텐츠 일반 메타 정보"
   ]
  },
  {
   "cell_type": "code",
   "execution_count": 351,
   "metadata": {
    "execution": {
     "iopub.execute_input": "2022-11-22T10:40:27.733756Z",
     "iopub.status.busy": "2022-11-22T10:40:27.733238Z",
     "iopub.status.idle": "2022-11-22T10:40:29.525950Z",
     "shell.execute_reply": "2022-11-22T10:40:29.524996Z",
     "shell.execute_reply.started": "2022-11-22T10:40:27.733718Z"
    },
    "id": "A23qw5LXYU1M"
   },
   "outputs": [],
   "source": [
    "# 5\n",
    "# 데이터 불러오기 \n",
    "# originaldata\n",
    "history_df = pd.read_csv(os.path.join(data_path, 'history_data.csv'), encoding='utf-8')\n",
    "profile_df = pd.read_csv(os.path.join(data_path, 'profile_data.csv'), encoding='utf-8')\n",
    "meta_df = pd.read_csv(os.path.join(data_path, 'meta_data.csv'), encoding='utf-8')\n",
    "watch_df = pd.read_csv(os.path.join(data_path, 'watch_e_data_add_profile.csv'), encoding='utf-8')\n",
    "buy_df = pd.read_csv(os.path.join(data_path, 'buy_data.csv'), encoding='utf-8')\n",
    "meta_plus_df = pd.read_csv(os.path.join(data_path, 'meta_data_plus.csv'), encoding='utf-8')\n",
    "search_df = pd.read_csv(os.path.join(data_path, 'search_data.csv'), encoding='utf-8')\n"
   ]
  },
  {
   "cell_type": "code",
   "execution_count": 352,
   "metadata": {
    "execution": {
     "iopub.execute_input": "2022-11-22T10:40:29.529133Z",
     "iopub.status.busy": "2022-11-22T10:40:29.528899Z",
     "iopub.status.idle": "2022-11-22T10:40:29.541840Z",
     "shell.execute_reply": "2022-11-22T10:40:29.541175Z",
     "shell.execute_reply.started": "2022-11-22T10:40:29.529112Z"
    }
   },
   "outputs": [
    {
     "data": {
      "text/html": [
       "<div>\n",
       "<style scoped>\n",
       "    .dataframe tbody tr th:only-of-type {\n",
       "        vertical-align: middle;\n",
       "    }\n",
       "\n",
       "    .dataframe tbody tr th {\n",
       "        vertical-align: top;\n",
       "    }\n",
       "\n",
       "    .dataframe thead th {\n",
       "        text-align: right;\n",
       "    }\n",
       "</style>\n",
       "<table border=\"1\" class=\"dataframe\">\n",
       "  <thead>\n",
       "    <tr style=\"text-align: right;\">\n",
       "      <th></th>\n",
       "      <th>Unnamed: 0</th>\n",
       "      <th>profile_id</th>\n",
       "      <th>ss_id</th>\n",
       "      <th>log_time</th>\n",
       "      <th>act_target_dtl</th>\n",
       "      <th>album_id</th>\n",
       "      <th>watch_time</th>\n",
       "      <th>total_time</th>\n",
       "      <th>continuous_play</th>\n",
       "    </tr>\n",
       "  </thead>\n",
       "  <tbody>\n",
       "    <tr>\n",
       "      <th>0</th>\n",
       "      <td>0</td>\n",
       "      <td>3</td>\n",
       "      <td>2.022030e+13</td>\n",
       "      <td>2.022030e+13</td>\n",
       "      <td>MKID049</td>\n",
       "      <td>15</td>\n",
       "      <td>46.0</td>\n",
       "      <td>46.0</td>\n",
       "      <td>1.0</td>\n",
       "    </tr>\n",
       "    <tr>\n",
       "      <th>1</th>\n",
       "      <td>1</td>\n",
       "      <td>3</td>\n",
       "      <td>2.022030e+13</td>\n",
       "      <td>2.022030e+13</td>\n",
       "      <td>MKID049</td>\n",
       "      <td>16</td>\n",
       "      <td>104.0</td>\n",
       "      <td>105.0</td>\n",
       "      <td>1.0</td>\n",
       "    </tr>\n",
       "    <tr>\n",
       "      <th>2</th>\n",
       "      <td>2</td>\n",
       "      <td>3</td>\n",
       "      <td>2.022030e+13</td>\n",
       "      <td>2.022030e+13</td>\n",
       "      <td>MKID049</td>\n",
       "      <td>17</td>\n",
       "      <td>76.0</td>\n",
       "      <td>76.0</td>\n",
       "      <td>1.0</td>\n",
       "    </tr>\n",
       "    <tr>\n",
       "      <th>3</th>\n",
       "      <td>3</td>\n",
       "      <td>3</td>\n",
       "      <td>2.022030e+13</td>\n",
       "      <td>2.022030e+13</td>\n",
       "      <td>MKID049</td>\n",
       "      <td>18</td>\n",
       "      <td>67.0</td>\n",
       "      <td>68.0</td>\n",
       "      <td>1.0</td>\n",
       "    </tr>\n",
       "    <tr>\n",
       "      <th>4</th>\n",
       "      <td>4</td>\n",
       "      <td>3</td>\n",
       "      <td>2.022030e+13</td>\n",
       "      <td>2.022030e+13</td>\n",
       "      <td>MKID049</td>\n",
       "      <td>19</td>\n",
       "      <td>90.0</td>\n",
       "      <td>90.0</td>\n",
       "      <td>0.0</td>\n",
       "    </tr>\n",
       "  </tbody>\n",
       "</table>\n",
       "</div>"
      ],
      "text/plain": [
       "   Unnamed: 0  profile_id         ss_id      log_time act_target_dtl  \\\n",
       "0           0           3  2.022030e+13  2.022030e+13        MKID049   \n",
       "1           1           3  2.022030e+13  2.022030e+13        MKID049   \n",
       "2           2           3  2.022030e+13  2.022030e+13        MKID049   \n",
       "3           3           3  2.022030e+13  2.022030e+13        MKID049   \n",
       "4           4           3  2.022030e+13  2.022030e+13        MKID049   \n",
       "\n",
       "   album_id  watch_time  total_time  continuous_play  \n",
       "0        15        46.0        46.0              1.0  \n",
       "1        16       104.0       105.0              1.0  \n",
       "2        17        76.0        76.0              1.0  \n",
       "3        18        67.0        68.0              1.0  \n",
       "4        19        90.0        90.0              0.0  "
      ]
     },
     "metadata": {},
     "output_type": "display_data"
    }
   ],
   "source": [
    "display(watch_df.head())"
   ]
  },
  {
   "cell_type": "code",
   "execution_count": 353,
   "metadata": {
    "execution": {
     "iopub.execute_input": "2022-11-22T10:40:29.543143Z",
     "iopub.status.busy": "2022-11-22T10:40:29.542929Z",
     "iopub.status.idle": "2022-11-22T10:40:29.546791Z",
     "shell.execute_reply": "2022-11-22T10:40:29.545784Z",
     "shell.execute_reply.started": "2022-11-22T10:40:29.543123Z"
    }
   },
   "outputs": [],
   "source": [
    "# # df에 없는 profile_id 추가하는 함수\n",
    "\n",
    "# def add_profile_id(target_data, history_df=history_df):\n",
    "\n",
    "#     test1 = target_data.loc[:, ['album_id', 'profile_id']]\n",
    "#     his_test1 = history_df.loc[:, ['album_id', 'profile_id']]\n",
    "#     # display(watch_test1[watch_test1['profile_id'] == 3].head())\n",
    "#     # display(his_test1[his_test1['profile_id'] == 3].head())\n",
    "#     du_test1 = test1.drop_duplicates('profile_id')\n",
    "#     du_his = his_test1.drop_duplicates('profile_id')\n",
    "#     print('--'*30)\n",
    "#     result1 = pd.concat([du_test1,du_his])\n",
    "#     result2 = result1.drop_duplicates(['profile_id'], keep = False)\n",
    "#     # display(result2)\n",
    "\n",
    "#     for i in range (result2.shape[0]):\n",
    "#         print(result2.iloc[:, i])\n",
    "#         break\n",
    "#     result3 = pd.concat([target_data,result2])\n",
    "#     result3 = result3.fillna(0)\n",
    "#     return result3"
   ]
  },
  {
   "cell_type": "code",
   "execution_count": 354,
   "metadata": {
    "execution": {
     "iopub.execute_input": "2022-11-22T10:40:29.548036Z",
     "iopub.status.busy": "2022-11-22T10:40:29.547835Z",
     "iopub.status.idle": "2022-11-22T10:40:29.551108Z",
     "shell.execute_reply": "2022-11-22T10:40:29.550280Z",
     "shell.execute_reply.started": "2022-11-22T10:40:29.548018Z"
    }
   },
   "outputs": [],
   "source": [
    "# add_profile_id(buy_df, history_df=history_df)"
   ]
  },
  {
   "cell_type": "code",
   "execution_count": 355,
   "metadata": {
    "execution": {
     "iopub.execute_input": "2022-11-22T10:40:29.552413Z",
     "iopub.status.busy": "2022-11-22T10:40:29.552177Z",
     "iopub.status.idle": "2022-11-22T10:40:29.555942Z",
     "shell.execute_reply": "2022-11-22T10:40:29.554526Z",
     "shell.execute_reply.started": "2022-11-22T10:40:29.552392Z"
    }
   },
   "outputs": [],
   "source": [
    "# result3.to_csv('buy_df_add_profile.csv')"
   ]
  },
  {
   "cell_type": "code",
   "execution_count": 356,
   "metadata": {
    "execution": {
     "iopub.execute_input": "2022-11-22T10:40:29.557245Z",
     "iopub.status.busy": "2022-11-22T10:40:29.557040Z",
     "iopub.status.idle": "2022-11-22T10:40:29.560385Z",
     "shell.execute_reply": "2022-11-22T10:40:29.559417Z",
     "shell.execute_reply.started": "2022-11-22T10:40:29.557226Z"
    }
   },
   "outputs": [],
   "source": [
    "# base_df = pd.DataFrame()\n",
    "# for i in range (result2.shape[0]):\n",
    "#     a = result2.iloc[i, 1]\n",
    "#     if a in list(history_df['profile_id']):\n",
    "#         base_df = pd.concat([base_df,history_df[history_df['profile_id'] == a]])\n",
    "# display(base_df)"
   ]
  },
  {
   "cell_type": "code",
   "execution_count": 357,
   "metadata": {
    "execution": {
     "iopub.execute_input": "2022-11-22T10:40:29.561659Z",
     "iopub.status.busy": "2022-11-22T10:40:29.561425Z",
     "iopub.status.idle": "2022-11-22T10:40:30.133074Z",
     "shell.execute_reply": "2022-11-22T10:40:30.132171Z",
     "shell.execute_reply.started": "2022-11-22T10:40:29.561639Z"
    }
   },
   "outputs": [
    {
     "data": {
      "text/html": [
       "<div>\n",
       "<style scoped>\n",
       "    .dataframe tbody tr th:only-of-type {\n",
       "        vertical-align: middle;\n",
       "    }\n",
       "\n",
       "    .dataframe tbody tr th {\n",
       "        vertical-align: top;\n",
       "    }\n",
       "\n",
       "    .dataframe thead th {\n",
       "        text-align: right;\n",
       "    }\n",
       "</style>\n",
       "<table border=\"1\" class=\"dataframe\">\n",
       "  <thead>\n",
       "    <tr style=\"text-align: right;\">\n",
       "      <th></th>\n",
       "      <th>profile_id</th>\n",
       "      <th>log_time</th>\n",
       "      <th>album_id</th>\n",
       "      <th>rating</th>\n",
       "    </tr>\n",
       "  </thead>\n",
       "  <tbody>\n",
       "    <tr>\n",
       "      <th>0</th>\n",
       "      <td>3</td>\n",
       "      <td>20220301115719</td>\n",
       "      <td>15</td>\n",
       "      <td>1</td>\n",
       "    </tr>\n",
       "    <tr>\n",
       "      <th>1</th>\n",
       "      <td>3</td>\n",
       "      <td>20220301115809</td>\n",
       "      <td>16</td>\n",
       "      <td>1</td>\n",
       "    </tr>\n",
       "    <tr>\n",
       "      <th>2</th>\n",
       "      <td>3</td>\n",
       "      <td>20220301115958</td>\n",
       "      <td>17</td>\n",
       "      <td>1</td>\n",
       "    </tr>\n",
       "    <tr>\n",
       "      <th>3</th>\n",
       "      <td>3</td>\n",
       "      <td>20220301120118</td>\n",
       "      <td>18</td>\n",
       "      <td>1</td>\n",
       "    </tr>\n",
       "    <tr>\n",
       "      <th>4</th>\n",
       "      <td>3</td>\n",
       "      <td>20220301120229</td>\n",
       "      <td>19</td>\n",
       "      <td>1</td>\n",
       "    </tr>\n",
       "    <tr>\n",
       "      <th>...</th>\n",
       "      <td>...</td>\n",
       "      <td>...</td>\n",
       "      <td>...</td>\n",
       "      <td>...</td>\n",
       "    </tr>\n",
       "    <tr>\n",
       "      <th>899247</th>\n",
       "      <td>33032</td>\n",
       "      <td>20220427155668</td>\n",
       "      <td>381</td>\n",
       "      <td>1</td>\n",
       "    </tr>\n",
       "    <tr>\n",
       "      <th>899248</th>\n",
       "      <td>33032</td>\n",
       "      <td>20220427155680</td>\n",
       "      <td>381</td>\n",
       "      <td>1</td>\n",
       "    </tr>\n",
       "    <tr>\n",
       "      <th>899249</th>\n",
       "      <td>33032</td>\n",
       "      <td>20220427155810</td>\n",
       "      <td>125</td>\n",
       "      <td>1</td>\n",
       "    </tr>\n",
       "    <tr>\n",
       "      <th>899250</th>\n",
       "      <td>33032</td>\n",
       "      <td>20220427155838</td>\n",
       "      <td>125</td>\n",
       "      <td>1</td>\n",
       "    </tr>\n",
       "    <tr>\n",
       "      <th>899251</th>\n",
       "      <td>33032</td>\n",
       "      <td>20220427155891</td>\n",
       "      <td>381</td>\n",
       "      <td>1</td>\n",
       "    </tr>\n",
       "  </tbody>\n",
       "</table>\n",
       "<p>899252 rows × 4 columns</p>\n",
       "</div>"
      ],
      "text/plain": [
       "        profile_id        log_time  album_id  rating\n",
       "0                3  20220301115719        15       1\n",
       "1                3  20220301115809        16       1\n",
       "2                3  20220301115958        17       1\n",
       "3                3  20220301120118        18       1\n",
       "4                3  20220301120229        19       1\n",
       "...            ...             ...       ...     ...\n",
       "899247       33032  20220427155668       381       1\n",
       "899248       33032  20220427155680       381       1\n",
       "899249       33032  20220427155810       125       1\n",
       "899250       33032  20220427155838       125       1\n",
       "899251       33032  20220427155891       381       1\n",
       "\n",
       "[899252 rows x 4 columns]"
      ]
     },
     "metadata": {},
     "output_type": "display_data"
    }
   ],
   "source": [
    "# 데이터 전처리 (중복제거) \n",
    "# 참고 : drop_duplicates의 subset을 무엇으로 구성하냐에 따라서 제거되는 항목들이 다름 \n",
    "# ex) 'profile_id', 'album_id' : 중복된 시청이력 모두 제거 / 'profile_id', 'album_id', 'log_time' : 같은 시간에 시청한 이력만 제거 \n",
    "data = history_df[['profile_id', 'log_time', 'album_id']].drop_duplicates(subset=['profile_id', 'album_id', 'log_time']).sort_values(by = ['profile_id', 'log_time']).reset_index(drop = True)\n",
    "data['rating'] = 1 #data에 저 3행만 남음 + rating까지\n",
    "display(data)\n",
    "cfg.n_users = data.profile_id.max()+1 # profile_id의 최대값 + 1, 유저의 수\n",
    "cfg.n_items = data.album_id.max()+1 # album_id의 최대값 + 1, 아이템의 수\n",
    "# 얘네 둘을 cfg에 넣어줌"
   ]
  },
  {
   "cell_type": "markdown",
   "metadata": {
    "id": "cRnh1wEiYU1M"
   },
   "source": [
    "### 학습 및 검증 데이터 생성 \n",
    "- train : 시청 이력의 80%를 사용 \n",
    "- valid : 시청 이력의 20%를 사용 "
   ]
  },
  {
   "cell_type": "code",
   "execution_count": 358,
   "metadata": {
    "execution": {
     "iopub.execute_input": "2022-11-22T10:40:30.134614Z",
     "iopub.status.busy": "2022-11-22T10:40:30.134382Z",
     "iopub.status.idle": "2022-11-22T10:40:30.138670Z",
     "shell.execute_reply": "2022-11-22T10:40:30.137661Z",
     "shell.execute_reply.started": "2022-11-22T10:40:30.134593Z"
    }
   },
   "outputs": [],
   "source": [
    "# 6\n",
    "# 데이터 전처리 (중복제거) \n",
    "# dropduplicate\n",
    "# 참고 : drop_duplicates의 subset을 무엇으로 구성하냐에 따라서 제거되는 항목들이 다름 \n",
    "# ex) 'profile_id', 'album_id' : 중복된 시청이력 모두 제거 / 'profile_id', 'album_id', 'log_time' : 같은 시간에 시청한 이력만 제거 \n",
    "# data = watch_df[['profile_id', 'log_time', 'album_id']].drop_duplicates(subset=['profile_id', 'album_id', 'log_time']).sort_values(by = ['profile_id', 'log_time']).reset_index(drop = True)\n",
    "# data1 = history_df[['profile_id', 'log_time', 'album_id']].drop_duplicates(subset=['profile_id', 'album_id', 'log_time']).sort_values(by = ['profile_id', 'log_time']).reset_index(drop = True)\n",
    "# data['rating'] = 1\n",
    "# data1['rating'] = 1\n",
    "# display(data)\n",
    "# display(data1)\n",
    "# data = pd.concat([data, data1])\n",
    "# data = data[['profile_id', 'log_time', 'album_id']].drop_duplicates(subset=['profile_id', 'album_id', 'log_time']).sort_values(by = ['profile_id', 'log_time']).reset_index(drop = True)\n",
    "# data['rating'] = 1\n",
    "# display(data)\n",
    "# cfg.n_users = data.profile_id.max()+1 # cfg n_users에 profile_id 최댓값+1 값을 유저수로 추가\n",
    "# cfg.n_items = data.album_id.max()+1 # item 개수는 album_id 최댓값+1"
   ]
  },
  {
   "cell_type": "code",
   "execution_count": 359,
   "metadata": {
    "execution": {
     "iopub.execute_input": "2022-11-22T10:40:30.140140Z",
     "iopub.status.busy": "2022-11-22T10:40:30.139918Z",
     "iopub.status.idle": "2022-11-22T10:40:30.249151Z",
     "shell.execute_reply": "2022-11-22T10:40:30.248372Z",
     "shell.execute_reply.started": "2022-11-22T10:40:30.140120Z"
    }
   },
   "outputs": [
    {
     "name": "stdout",
     "output_type": "stream",
     "text": [
      "학습 데이터 크기: (719401, 4)\n",
      "검증 데이터 크기: (179851, 4)\n"
     ]
    }
   ],
   "source": [
    "# 7\n",
    "# 학습 및 검증 데이터 분리\n",
    "# traintestsplist\n",
    "train, valid = train_test_split(\n",
    "    data, test_size=cfg.test_size, random_state=cfg.seed,\n",
    ") # test_size = 0.2, seed = 42\n",
    "print('학습 데이터 크기:', train.shape)\n",
    "print('검증 데이터 크기:', valid.shape)"
   ]
  },
  {
   "cell_type": "code",
   "execution_count": 360,
   "metadata": {
    "execution": {
     "iopub.execute_input": "2022-11-22T10:40:30.250560Z",
     "iopub.status.busy": "2022-11-22T10:40:30.250308Z",
     "iopub.status.idle": "2022-11-22T10:40:34.307890Z",
     "shell.execute_reply": "2022-11-22T10:40:34.307073Z",
     "shell.execute_reply.started": "2022-11-22T10:40:30.250536Z"
    }
   },
   "outputs": [
    {
     "data": {
      "application/vnd.jupyter.widget-view+json": {
       "model_id": "938c718e1f7f4b5e9b71ab2a7bb189ec",
       "version_major": 2,
       "version_minor": 0
      },
      "text/plain": [
       "  0%|          | 0/719401 [00:00<?, ?it/s]"
      ]
     },
     "metadata": {},
     "output_type": "display_data"
    },
    {
     "name": "stdout",
     "output_type": "stream",
     "text": [
      "------------------------------------------------------------------------------------------\n",
      "train 형태: \n",
      " [[0. 0. 0. ... 0. 0. 0.]\n",
      " [0. 0. 0. ... 0. 0. 0.]\n",
      " [0. 0. 0. ... 0. 0. 0.]\n",
      " ...\n",
      " [0. 0. 0. ... 0. 0. 0.]\n",
      " [0. 0. 0. ... 0. 0. 0.]\n",
      " [0. 0. 0. ... 0. 0. 0.]]\n"
     ]
    }
   ],
   "source": [
    "# 8\n",
    "# Matrix 형태로 변환 \n",
    "# makematrix\n",
    "train = train.to_numpy() # train data를 넘파이 형태로 변환\n",
    "matrix = sparse.lil_matrix((cfg.n_users, cfg.n_items)) # lil_matrix((M, N), [dtype]) : dtype은 선택, 모양이 m, n인 **빈 행렬** 구성\n",
    "'''\n",
    "2. PreliminariesPermalink의\n",
    "    Learning from implicit data\n",
    "    \n",
    "    -- 여기서의 0은 비선호를 의미하지는 않음, 해당 아이템을 모를때에도 0으로 표기됨\n",
    "'''\n",
    "for (p, _, i, r) in tqdm(train): # p = profile_id 첫번째 행, i = album_id 첫번째 행, r = rating 첫번째 행\n",
    "    matrix[p, i] = r # 여기가 이해가 안됨 ㅠㅠ <-- 그냥 값을 뽑아서 매트릭스를 만들고 그 값을 1에 대응시키는거 같음\n",
    "train = sparse.csr_matrix(matrix) # 매트릭스를 다시 희소 행렬로 변환 --> 0을 제외한 데이터를 저장한다, \n",
    "print('---'*30)\n",
    "train = train.toarray() # 다시 array로 변환\n",
    "print(\"train 형태: \\n\", train)"
   ]
  },
  {
   "cell_type": "code",
   "execution_count": 361,
   "metadata": {
    "execution": {
     "iopub.execute_input": "2022-11-22T10:40:34.309315Z",
     "iopub.status.busy": "2022-11-22T10:40:34.309086Z",
     "iopub.status.idle": "2022-11-22T10:40:34.331815Z",
     "shell.execute_reply": "2022-11-22T10:40:34.331132Z",
     "shell.execute_reply.started": "2022-11-22T10:40:34.309293Z"
    }
   },
   "outputs": [
    {
     "name": "stdout",
     "output_type": "stream",
     "text": [
      "user_id 3의 age 정보 : 5\n"
     ]
    },
    {
     "data": {
      "text/plain": [
       "{3: 5, 5: 5, 7: 9, 12: 6, 16: 12}"
      ]
     },
     "execution_count": 361,
     "metadata": {},
     "output_type": "execute_result"
    }
   ],
   "source": [
    "# 9\n",
    "# 유저 특징 정보 추출 \n",
    "# userfeaturesextraction\n",
    "from itertools import islice\n",
    "\n",
    "profile_df = pd.read_csv(os.path.join(data_path, 'profile_data.csv'), encoding='utf-8')\n",
    "\n",
    "profile_df = profile_df.set_index('profile_id') # profile_id를 인덱스로 지정\n",
    "user_features = profile_df[['age']].to_dict() # profile_df의 age를 dictionary로 변형\n",
    "print(\"user_id 3의 age 정보 :\", user_features['age'][3]) # user_id와 age를 엮어주는거 같음, \n",
    "# user_features라는 딕셔너리 안의 key값은 age, age키의 값이 profile_id를 key로 가지고 나이를 값으로 가지는 딕셔너리가 됨 (user_features는 이중 딕셔너리)\n",
    "\n",
    "dict(islice(user_features['age'].items(), 5)) # 딕셔너리 인덱스 5까지 출력"
   ]
  },
  {
   "cell_type": "code",
   "execution_count": 362,
   "metadata": {
    "execution": {
     "iopub.execute_input": "2022-11-22T10:40:34.333124Z",
     "iopub.status.busy": "2022-11-22T10:40:34.332906Z",
     "iopub.status.idle": "2022-11-22T10:40:34.338181Z",
     "shell.execute_reply": "2022-11-22T10:40:34.337697Z",
     "shell.execute_reply.started": "2022-11-22T10:40:34.333104Z"
    }
   },
   "outputs": [],
   "source": [
    "def profile_album_id(target_data, column1, column2):\n",
    "\n",
    "    drop_dupl = target_data.drop_duplicates([column1],  keep='first').reset_index(drop = True)\n",
    "    drop_num = drop_dupl.loc[:, column1]\n",
    "    \n",
    "    asd = []\n",
    "    for i in range (drop_num.shape[0]):\n",
    "        feat_num = target_data.loc[target_data[column1] == drop_num[i]][[column2]].reset_index(drop = True)\n",
    "        for n in range (feat_num.shape[0]):\n",
    "            asd.append(feat_num.loc[n, 'album_id'])\n",
    "    return asd\n",
    "    # for i in range (drop_dupl.shape[0]):\n",
    "    #     a.append(\n",
    "    \n"
   ]
  },
  {
   "cell_type": "code",
   "execution_count": 363,
   "metadata": {
    "execution": {
     "iopub.execute_input": "2022-11-22T10:40:34.339320Z",
     "iopub.status.busy": "2022-11-22T10:40:34.339119Z",
     "iopub.status.idle": "2022-11-22T10:40:34.342400Z",
     "shell.execute_reply": "2022-11-22T10:40:34.341829Z",
     "shell.execute_reply.started": "2022-11-22T10:40:34.339300Z"
    }
   },
   "outputs": [],
   "source": [
    "# pro_album_id = profile_album_id(watch_df, 'profile_id', 'album_id')"
   ]
  },
  {
   "cell_type": "code",
   "execution_count": 364,
   "metadata": {
    "execution": {
     "iopub.execute_input": "2022-11-22T10:40:34.343442Z",
     "iopub.status.busy": "2022-11-22T10:40:34.343245Z",
     "iopub.status.idle": "2022-11-22T10:40:35.083964Z",
     "shell.execute_reply": "2022-11-22T10:40:35.082810Z",
     "shell.execute_reply.started": "2022-11-22T10:40:34.343424Z"
    }
   },
   "outputs": [],
   "source": [
    "watch_df = pd.read_csv(os.path.join(data_path, 'watch_e_data_add_profile.csv'), encoding='utf-8')\n",
    "\n",
    "def make_double_dictionary(target_data, column1, column2, column3):\n",
    "    '''\n",
    "    컬럼 1은 가장 밖의 키, 컬럼 2는 값으로 들어갈 이중 딕셔너리의 키, 컬럼3은 이중 딕셔너리의 값을 의미합니다\n",
    "    ex) {column1 : {column2 : column3}}, {profile_id : {album_id : watch_time}}\n",
    "    \n",
    "    접근방법은 아래 딕셔너리와 같이 \"변수명[컬럼명]\"으로 가능합니다\n",
    "    '''\n",
    "    x = {}\n",
    "    # for i in range (target_data.shape[0]):\n",
    "    #     for n in range (drop_dupl.shape[0]):\n",
    "        \n",
    "    drop_dupl = target_data.drop_duplicates([column1],  keep='first').reset_index(drop = True)\n",
    "    drop_num = drop_dupl.loc[:, column1] # 0이면 프로필 아이디3, 1이면 프로필 아이디 5\n",
    "    \n",
    "    for i in range (drop_dupl.shape[0]): # 얘가 3일때\n",
    "        y = {}\n",
    "        feat_num = target_data.loc[target_data[column1] == drop_num[i]][[column2, column3]].reset_index(drop = True)\n",
    "        \n",
    "        for b in range (feat_num.shape[0]): # profile_id가 3인 데이터프레임이 쫙 돌아감\n",
    "            y.setdefault(feat_num.loc[b, column2], feat_num.loc[b, column3])\n",
    "        \n",
    "        x.setdefault(drop_num[i], y)\n",
    "                                   \n",
    "    target_features = {}\n",
    "    target_features.setdefault(column3, x)\n",
    "    # target_data = target_data.set_index(column1) # profile_id를 인덱스로 지정\n",
    "    # target_features = target_data[['add_dic']].to_dict()\n",
    "    return target_features\n"
   ]
  },
  {
   "cell_type": "code",
   "execution_count": 365,
   "metadata": {
    "execution": {
     "iopub.execute_input": "2022-11-22T10:40:35.086249Z",
     "iopub.status.busy": "2022-11-22T10:40:35.085615Z",
     "iopub.status.idle": "2022-11-22T10:41:01.361964Z",
     "shell.execute_reply": "2022-11-22T10:41:01.361145Z",
     "shell.execute_reply.started": "2022-11-22T10:40:35.086224Z"
    }
   },
   "outputs": [
    {
     "name": "stdout",
     "output_type": "stream",
     "text": [
      "watch_df 3의 album 15의 watch_time 정보 : 46.0\n"
     ]
    }
   ],
   "source": [
    "watch_features = make_double_dictionary(watch_df, 'profile_id', 'album_id', 'watch_time')\n",
    "dict(islice(watch_features['watch_time'].items(), 3))\n",
    "print(\"watch_df 3의 album 15의 watch_time 정보 :\", watch_features['watch_time'][3][15])"
   ]
  },
  {
   "cell_type": "code",
   "execution_count": 366,
   "metadata": {
    "execution": {
     "iopub.execute_input": "2022-11-22T10:41:01.363440Z",
     "iopub.status.busy": "2022-11-22T10:41:01.363154Z",
     "iopub.status.idle": "2022-11-22T10:41:01.529824Z",
     "shell.execute_reply": "2022-11-22T10:41:01.528900Z",
     "shell.execute_reply.started": "2022-11-22T10:41:01.363415Z"
    }
   },
   "outputs": [
    {
     "name": "stdout",
     "output_type": "stream",
     "text": [
      "album_id 749의 genre_mid 정보 : 1\n"
     ]
    }
   ],
   "source": [
    "# 10\n",
    "# 아이템 특징 정보 추출 \n",
    "# itemfeaturesextraction\n",
    "meta_df = pd.read_csv(os.path.join(data_path, 'meta_data.csv'), encoding='utf-8')\n",
    "\n",
    "meta_df = meta_df.set_index('album_id')\n",
    "\n",
    "# 범주형 데이터를 수치형 데이터로 변경 \n",
    "le = LabelEncoder()\n",
    "meta_df['genre_mid'] = le.fit_transform(meta_df['genre_mid'])\n",
    "item_features = meta_df[['genre_mid']].to_dict()\n",
    "print(\"album_id 749의 genre_mid 정보 :\", item_features['genre_mid'][749])"
   ]
  },
  {
   "cell_type": "code",
   "execution_count": 367,
   "metadata": {
    "execution": {
     "iopub.execute_input": "2022-11-22T10:41:01.531288Z",
     "iopub.status.busy": "2022-11-22T10:41:01.531007Z",
     "iopub.status.idle": "2022-11-22T10:41:01.546835Z",
     "shell.execute_reply": "2022-11-22T10:41:01.546000Z",
     "shell.execute_reply.started": "2022-11-22T10:41:01.531265Z"
    }
   },
   "outputs": [
    {
     "name": "stdout",
     "output_type": "stream",
     "text": [
      "user_id 3의 sex 정보 : 0\n"
     ]
    },
    {
     "data": {
      "text/plain": [
       "{3: 0, 5: 1, 7: 0, 12: 1, 16: 0}"
      ]
     },
     "execution_count": 367,
     "metadata": {},
     "output_type": "execute_result"
    }
   ],
   "source": [
    "# 추가한거\n",
    "\n",
    "le = LabelEncoder()\n",
    "profile_df['sex'] = le.fit_transform(profile_df['sex'])\n",
    "\n",
    "user_features2 = profile_df[['sex']].to_dict() # profile_df의 age를 dictionary로 변형\n",
    "print(\"user_id 3의 sex 정보 :\", user_features2['sex'][3]) # user_id와 age를 엮어주는거 같음, \n",
    "# user_features라는 딕셔너리 안의 key값은 age, age키의 값이 profile_id를 key로 가지고 나이를 값으로 가지는 딕셔너리가 됨 (user_features는 이중 딕셔너리)\n",
    "\n",
    "dict(islice(user_features2['sex'].items(), 5)) # 딕셔너리 인덱스 5까지 출력"
   ]
  },
  {
   "cell_type": "code",
   "execution_count": 368,
   "metadata": {
    "execution": {
     "iopub.execute_input": "2022-11-22T10:41:01.548602Z",
     "iopub.status.busy": "2022-11-22T10:41:01.548376Z",
     "iopub.status.idle": "2022-11-22T10:41:01.562872Z",
     "shell.execute_reply": "2022-11-22T10:41:01.562161Z",
     "shell.execute_reply.started": "2022-11-22T10:41:01.548580Z"
    }
   },
   "outputs": [
    {
     "name": "stdout",
     "output_type": "stream",
     "text": [
      "user_id 3의 pr_keyword 정보 : 1\n"
     ]
    },
    {
     "data": {
      "text/plain": [
       "{3: 1, 5: 6, 7: 4, 12: 2, 16: 2}"
      ]
     },
     "execution_count": 368,
     "metadata": {},
     "output_type": "execute_result"
    }
   ],
   "source": [
    "le = LabelEncoder()\n",
    "profile_df['pr_interest_keyword_cd_1'] = le.fit_transform(profile_df['pr_interest_keyword_cd_1'])\n",
    "\n",
    "user_features3 = profile_df[['pr_interest_keyword_cd_1']].to_dict() # profile_df의 age를 dictionary로 변형\n",
    "print(\"user_id 3의 pr_keyword 정보 :\", user_features3['pr_interest_keyword_cd_1'][3]) # user_id와 age를 엮어주는거 같음, \n",
    "# user_features라는 딕셔너리 안의 key값은 age, age키의 값이 profile_id를 key로 가지고 나이를 값으로 가지는 딕셔너리가 됨 (user_features는 이중 딕셔너리)\n",
    "\n",
    "dict(islice(user_features3['pr_interest_keyword_cd_1'].items(), 5)) # 딕셔너리 인덱스 5까지 출력"
   ]
  },
  {
   "cell_type": "code",
   "execution_count": 369,
   "metadata": {
    "execution": {
     "iopub.execute_input": "2022-11-22T10:41:01.564208Z",
     "iopub.status.busy": "2022-11-22T10:41:01.563987Z",
     "iopub.status.idle": "2022-11-22T10:41:01.578333Z",
     "shell.execute_reply": "2022-11-22T10:41:01.577565Z",
     "shell.execute_reply.started": "2022-11-22T10:41:01.564188Z"
    }
   },
   "outputs": [
    {
     "name": "stdout",
     "output_type": "stream",
     "text": [
      "user_id 3의 ch_keyword 정보 : 0\n"
     ]
    },
    {
     "data": {
      "text/plain": [
       "{3: 0, 5: 4, 7: 5, 12: 8, 16: 0}"
      ]
     },
     "execution_count": 369,
     "metadata": {},
     "output_type": "execute_result"
    }
   ],
   "source": [
    "le = LabelEncoder()\n",
    "profile_df['ch_interest_keyword_cd_1'] = le.fit_transform(profile_df['ch_interest_keyword_cd_1'])\n",
    "\n",
    "user_features4 = profile_df[['ch_interest_keyword_cd_1']].to_dict() # profile_df의 age를 dictionary로 변형\n",
    "print(\"user_id 3의 ch_keyword 정보 :\", user_features4['ch_interest_keyword_cd_1'][3]) # user_id와 age를 엮어주는거 같음, \n",
    "# user_features라는 딕셔너리 안의 key값은 age, age키의 값이 profile_id를 key로 가지고 나이를 값으로 가지는 딕셔너리가 됨 (user_features는 이중 딕셔너리)\n",
    "\n",
    "dict(islice(user_features4['ch_interest_keyword_cd_1'].items(), 5)) # 딕셔너리 인덱스 5까지 출력"
   ]
  },
  {
   "cell_type": "code",
   "execution_count": 370,
   "metadata": {
    "execution": {
     "iopub.execute_input": "2022-11-22T10:41:01.583727Z",
     "iopub.status.busy": "2022-11-22T10:41:01.583286Z",
     "iopub.status.idle": "2022-11-22T10:41:01.589291Z",
     "shell.execute_reply": "2022-11-22T10:41:01.588378Z",
     "shell.execute_reply.started": "2022-11-22T10:41:01.583704Z"
    }
   },
   "outputs": [],
   "source": [
    "# 11\n",
    "# 추출한 특징 정보의 속성을 저장\n",
    "# savegenremidnunique\n",
    "cfg.n_genres = meta_df['genre_mid'].nunique()\n",
    "cfg.n_sex = profile_df['sex'].nunique()\n",
    "cfg.n_pr_keyword = profile_df['pr_interest_keyword_cd_1'].nunique()\n",
    "cfg.n_ch_keyword = profile_df['ch_interest_keyword_cd_1'].nunique()\n",
    "cfg.n_continuous_feats = 1 "
   ]
  },
  {
   "cell_type": "code",
   "execution_count": 371,
   "metadata": {
    "execution": {
     "iopub.execute_input": "2022-11-22T10:41:01.592409Z",
     "iopub.status.busy": "2022-11-22T10:41:01.592175Z",
     "iopub.status.idle": "2022-11-22T10:41:01.599425Z",
     "shell.execute_reply": "2022-11-22T10:41:01.598694Z",
     "shell.execute_reply.started": "2022-11-22T10:41:01.592388Z"
    }
   },
   "outputs": [
    {
     "name": "stdout",
     "output_type": "stream",
     "text": [
      "0\n",
      "[]\n",
      "0\n",
      "[    0     1     2 ... 25914 25915 25916]\n",
      "25917\n",
      "------------------------------------------------------------\n",
      "1\n",
      "[]\n",
      "0\n",
      "[    0     1     2 ... 25914 25915 25916]\n",
      "25917\n",
      "------------------------------------------------------------\n"
     ]
    }
   ],
   "source": [
    "# 13번 셀 positive, negative 참고 (ReferencePN)\n",
    "# \n",
    "count = 0 # 3번 5번 이렇게 profile_id 데이터 값이 있어서 얘네만 나오는거 같음\n",
    "\n",
    "for user_id, items_by_user in enumerate(train):\n",
    "    print(count)\n",
    "    pos_item_ids = np.where(items_by_user > 0.5)[0]\n",
    "    num_pos_samples = len(pos_item_ids)\n",
    "    print(pos_item_ids)\n",
    "    print(num_pos_samples)\n",
    "    num_neg_samples = cfg.neg_ratio * num_pos_samples\n",
    "    neg_items = np.where(items_by_user < 0.5)[0]\n",
    "    print(neg_items)\n",
    "    print(len(neg_items))\n",
    "    print('--'*30)\n",
    "    count += 1\n",
    "    if count > 1:\n",
    "        break"
   ]
  },
  {
   "cell_type": "markdown",
   "metadata": {
    "id": "REzvMyWZYU1S"
   },
   "source": [
    "## NeuMF 구현\n",
    "\n",
    "\n",
    "### 모델 구현 \n",
    "- [Neural Collaborative Filtering(NCF)](https://arxiv.org/pdf/1708.05031.pdf) 논문의 NeuMF를 참고하여 side-information을 결합한 모델을 PyTorch로 구현\n",
    "    - continuous feature (age)와 categorical feature (genre_mid)를 같이 학습할 수 있도록 결합"
   ]
  },
  {
   "cell_type": "markdown",
   "metadata": {},
   "source": [
    "![](http://drive.google.com/uc?export=view&id=1tpajTLipLoFdvLICO-alAxeoKAE8-k61)"
   ]
  },
  {
   "cell_type": "code",
   "execution_count": 372,
   "metadata": {
    "execution": {
     "iopub.execute_input": "2022-11-22T10:41:01.602876Z",
     "iopub.status.busy": "2022-11-22T10:41:01.602664Z",
     "iopub.status.idle": "2022-11-22T10:41:01.620704Z",
     "shell.execute_reply": "2022-11-22T10:41:01.619568Z",
     "shell.execute_reply.started": "2022-11-22T10:41:01.602857Z"
    },
    "id": "hWOt2J5nYU1U"
   },
   "outputs": [],
   "source": [
    "# 12\n",
    "# modeling\n",
    "\n",
    "class NeuMF(nn.Module): # 파이토치 모델링의 기본 골자 (https://anweh.tistory.com/21)\n",
    "    \"\"\"Neural Matrix Factorization Model\n",
    "        참고 문헌 : https://arxiv.org/abs/1708.05031\n",
    "\n",
    "    예시 :\n",
    "        model = NeuMF(cfg) \n",
    "        output = model.forward(user_ids, item_ids, [feat0, feat1]) \n",
    "    \"\"\"\n",
    "    def __init__(self, cfg): # 초기화 함수\n",
    "        \"\"\" \n",
    "        Args:\n",
    "            cfg : config 파일로 네트워크 생성에 필요한 정보들을 담고 있음 \n",
    "        \"\"\"\n",
    "        super(NeuMF, self).__init__()\n",
    "        # __init()__에서는 모델에서 사용될 module(nn.Linear, nn.Conv2d), activation function(nn.functional.relu, nn.functional.sigmoid)등을 정의한다. \n",
    "        # 여기서는 모델명 = NeuMF\n",
    "        \n",
    "# n_users = data.profile_id.max()+1, \n",
    "# n_items = data.album_id.max()+1\n",
    "# emb_dim = 256\n",
    "# layer_dim = 256\n",
    "# n_continuous_feats = 1\n",
    "# n_genres = meta_df['genre_mid'].nunique() = 29, //2하면 14\n",
    "# dropout = 0.05\n",
    "        \n",
    "        self.n_users = cfg.n_users\n",
    "        self.n_items = cfg.n_items\n",
    "        self.emb_dim = cfg.emb_dim\n",
    "        self.layer_dim = cfg.layer_dim\n",
    "        self.n_continuous_feats = cfg.n_continuous_feats\n",
    "        self.n_genres = cfg.n_genres\n",
    "        self.n_sex = cfg.n_sex # 추가한거\n",
    "        self.n_pr_keyword = cfg.n_pr_keyword\n",
    "        self.n_ch_keyword = cfg.n_ch_keyword\n",
    "        \n",
    "        self.dropout = cfg.dropout\n",
    "        self.build_graph() # forward 이전 input 코딩이 너무 크므로 함수 build_graph로 대체하여 집어넣은 것 같음\n",
    "\n",
    "    def build_graph(self):\n",
    "        \"\"\"Neural Matrix Factorization Model 생성\n",
    "            구현된 모습은 위의 그림을 참고 \n",
    "        \"\"\"\n",
    "        # nn.Embedding 참고 (https://wikidocs.net/64779)\n",
    "        ''' \n",
    "        num_embeddings : 임베딩을 할 단어들의 개수. 다시 말해 단어 집합의 크기입니다. <--\n",
    "        embedding_dim : 임베딩 할 벡터의 차원입니다. 사용자가 정해주는 하이퍼 파라미터입니다. <--\n",
    "        padding_idx : 선택적으로 사용하는 인자입니다. 패딩을 위한 토큰의 인덱스를 알려줍니다.\n",
    "        '''\n",
    "        self.user_embedding_mf = nn.Embedding(num_embeddings=self.n_users, embedding_dim=self.emb_dim) # n_users = data.profile_id.max()+1, emb_dim = 256\n",
    "        self.item_embedding_mf = nn.Embedding(num_embeddings=self.n_items, embedding_dim=self.emb_dim)\n",
    "        # ex) embedding_dim이 3, num_embeddings=8이면 // num_embeddings 행 개수, embedding_dim이 열 개수\n",
    "        \n",
    "        # tensor([[-0.1778, -1.9974, -1.2478],\n",
    "        # [ 0.0000,  0.0000,  0.0000],\n",
    "        # [ 1.0921,  0.0416, -0.7896],\n",
    "        # [ 0.0960, -0.6029,  0.3721],\n",
    "        # [ 0.2780, -0.4300, -1.9770],\n",
    "        # [ 0.0727,  0.5782, -3.2617],\n",
    "        # [-0.0173, -0.7092,  0.9121],\n",
    "        # [-0.4817, -1.1222,  2.2774]], requires_grad=True)\n",
    "        \n",
    "        self.user_embedding_mlp = nn.Embedding(num_embeddings=self.n_users, embedding_dim=self.emb_dim)\n",
    "        self.item_embedding_mlp = nn.Embedding(num_embeddings=self.n_items, embedding_dim=self.emb_dim) # 여기까지 4줄은 다 똑같음\n",
    "                \n",
    "        self.genre_embeddig = nn.Embedding(num_embeddings=self.n_genres, embedding_dim=self.n_genres//2) # 장르 임베딩 하이퍼 파라미터는 n_genres = meta_df['genre_mid'].nunique()\n",
    "                                                                                                        # 임베딩 차원이 장르/2라는 특이한 점이 있음\n",
    "        self.sex_embeddig = nn.Embedding(num_embeddings=self.n_sex, embedding_dim=self.n_sex//2) # 추가한거   \n",
    "        \n",
    "        self.pr_keyword_embeddig = nn.Embedding(num_embeddings=self.n_pr_keyword, embedding_dim=self.n_pr_keyword//2) # 추가한거   \n",
    "        \n",
    "        self.ch_keyword_embeddig = nn.Embedding(num_embeddings=self.n_ch_keyword, embedding_dim=self.n_ch_keyword//2) # 추가한거   \n",
    "\n",
    "        self.mlp_layers = nn.Sequential(\n",
    "            nn.Linear(2*self.emb_dim + self.n_genres//2 + self.n_sex//2 + self.n_pr_keyword//2 + self.n_ch_keyword//2 + self.n_continuous_feats, self.layer_dim), # (https://m.blog.naver.com/fbfbf1/222480437930)\n",
    "            # 추가한거\n",
    "            # nn.Linear의 형태는 nn.Linear(input_dim,output_dim)이다\n",
    "            # 여기서 input은 256*2 + 29//2 + 1, output은 256\n",
    "            nn.ReLU(), \n",
    "            nn.Dropout(p=self.dropout), # dropout = 0.05\n",
    "            nn.Linear(self.layer_dim, self.layer_dim//2), # layer_dim = 256\n",
    "            nn.ReLU(), \n",
    "            nn.Dropout(p=self.dropout)\n",
    "        )\n",
    "        self.affine_output = nn.Linear(self.layer_dim//2 + self.emb_dim, 1) # affine output 밑에 나올지도 모름, input --> 256//2 + 256, output --> 1\n",
    "        self.apply(self._init_weights) # _init_weights는 바로 아래 함수, 전체에 이 _init_weights를 적용함 <-- 가중치를 초기화하는 함수\n",
    "        \n",
    "    ################################################################################################################################\n",
    "    # -------------> (https://wandb.ai/wandb_fc/korean/reports/PyTorch-Weight---VmlldzoyNDc4NjYx) <------------- 여기 답이 나와있었음#\n",
    "    ################################################################################################################################\n",
    "    def _init_weights(self, module):\n",
    "        '''\n",
    "        torch.nn.init.normal_(tensor, mean=0.0, std=1.0)[SOURCE] (https://pytorch.org/docs/stable/nn.init.html)\n",
    "            \n",
    "            Fills the input Tensor with values drawn from the normal distribution \\mathcal{N}(\\text{mean}, \\text{std}^2)N(mean,std \n",
    "            (translate : 정규분포에서 가져온 값으로 입력 Tensor를 채웁니다)\n",
    "                \n",
    "        Parameters:\n",
    "            tensor (Tensor) an n-dimensional torch.Tensor (Tensor의 차원)\n",
    "            mean (float) the mean of the normal distribution (정규분포의 평균)\n",
    "            std (float) the standard deviation of the normal distribution (정규분포의 표준편차)\n",
    "        '''\n",
    "        if isinstance(module, nn.Embedding): # isinstance(확인하고자 하는 데이터 값, 확인하고자 하는 데이터 타입)\n",
    "            normal_(module.weight.data, mean=0.0, std=0.01)\n",
    "            # 같으면 True, 다르면 False 반환\n",
    "        elif isinstance(module, nn.Linear):\n",
    "            normal_(module.weight.data, 0, 0.01)\n",
    "            if module.bias is not None:\n",
    "                module.bias.data.fill_(0.0)\n",
    "    \n",
    "    def forward(self, user_indices, item_indices, feats): # forward()에서는 모델에서 실행되어야하는 계산을 정의한다\n",
    "        \"\"\" \n",
    "        Args:\n",
    "            user_indices : 유저의 인덱스 정보 \n",
    "                ex) tensor([ 3100,  3100,  ..., 14195, 14195])\n",
    "            item_indices : 아이템의 인덱스 정보\n",
    "                ex) tensor([   50,    65,   ..., 14960, 11527])\n",
    "            feats : 특징 정보 \n",
    "        Returns: \n",
    "            output : 유저-아이템 쌍에 대한 추천 결과 \n",
    "                ex) tensor([  9.4966,  22.0261, ..., -19.3535, -23.0212])\n",
    "        \"\"\"\n",
    "        user_embedding_mf = self.user_embedding_mf(user_indices) # line 49\n",
    "        item_embedding_mf = self.item_embedding_mf(item_indices) # line 50\n",
    "        mf_output = torch.mul(user_embedding_mf, item_embedding_mf) # mul = 곱, tensor로 출력\n",
    "        \n",
    "        user_embedding_mlp = self.user_embedding_mlp(user_indices) # line 62\n",
    "        item_embedding_mlp = self.item_embedding_mlp(item_indices) # line 63\n",
    "        genre_embedding_mlp = self.genre_embeddig(feats[1]) # feats[1]은 아래 16번 셀의 24번 줄에서 나옴, feats로 들어오는 리스트의 1번째 인덱스 값을 넣는다는 뜻\n",
    "        sex_embedding_mlp = self.sex_embeddig(feats[2].long()) # 추가한거\n",
    "        pr_keyword_embedding_mlp = self.pr_keyword_embeddig(feats[3].long())\n",
    "        ch_keyword_embedding_mlp = self.ch_keyword_embeddig(feats[4].long())\n",
    "        \n",
    "        input_feature = torch.cat((user_embedding_mlp, item_embedding_mlp, genre_embedding_mlp, \\\n",
    "                                   sex_embedding_mlp, pr_keyword_embedding_mlp, ch_keyword_embedding_mlp\\\n",
    "                                   , feats[0].unsqueeze(1)), -1) # 추가한거\n",
    "        # torch.cat = 주어진 차원에서 주어진 텐서 시퀀스를 연결 합니다. 모든 텐서는 모양이 같거나(연결 차원 제외) 비어 있어야 합니다. <-- 그냥 concat인듯\n",
    "        \n",
    "        # unsqueeze는 차원을 생성해주는 함수, 1 이니 1 인덱스에 생성될 것임 (ex) x.unsqueeze(dim=1) #[3, 20, 128] -> [3, 1, 20, 128]) \n",
    "        input_feature = torch.tensor(input_feature).to(cfg.device).float()\n",
    "        mlp_output = self.mlp_layers(input_feature) # mlp_layers = 아까 쌓았던 Linear, Relu 이거 모델\n",
    "        # 모델에 input으로 mlp들과 feats[0]을 곱한걸 넣어줌 = 그게 mlp_output\n",
    "        \n",
    "        output = torch.cat([mlp_output, mf_output], dim=-1) # (https://beausty23.tistory.com/159) 가장 높은차원부터면 오름차순, 가장 낮은차원부터는 내림차순\n",
    "        # dim = -1은 가장 낮은 차원에서 + 1, 1차원이 가장 낮을테니 아마 2차원\n",
    "        # mf는 profile, album임, mlp도 아마 그런거같음 <-- 이미지 참고\n",
    "        \n",
    "        output = self.affine_output(output).squeeze(-1) # line 76\n",
    "        # 가장 낮은 차원에서 하나 위, 아마 2차원 삭제\n",
    "        # 해석해보면 리니어 층을 통과 시킨 뒤 차원 하나 삭제?\n",
    "        return output"
   ]
  },
  {
   "cell_type": "markdown",
   "metadata": {
    "id": "hE7ZtudJYU1V"
   },
   "source": [
    "### 학습 및 추론 코드 구현\n",
    "\n",
    "- 학습 : Negative sampling을 활용하여 Binary Classification 진행 \n",
    "    - history 에 있는 album_id는 positive label로 그렇지 않은 album_id는 nagative label로 활용  \n",
    "    - 단, 이때 모든 album_id를 negative label로 활용하는 것이 아닌 일부만 사용 (neg_ratio 값에 따라서 개수 조정)\n",
    "- 추론 : 일부 데이터에 대해 recall, ndcg, coverage 성능 확인"
   ]
  },
  {
   "cell_type": "markdown",
   "metadata": {
    "id": "RGTiX3PsYU1V"
   },
   "source": [
    "#### 학습 및 추론에 필요한 데이터 셋 생성 코드 구현"
   ]
  },
  {
   "cell_type": "code",
   "execution_count": 373,
   "metadata": {
    "execution": {
     "iopub.execute_input": "2022-11-22T10:41:01.624032Z",
     "iopub.status.busy": "2022-11-22T10:41:01.623832Z",
     "iopub.status.idle": "2022-11-22T10:41:01.644813Z",
     "shell.execute_reply": "2022-11-22T10:41:01.644011Z",
     "shell.execute_reply.started": "2022-11-22T10:41:01.624011Z"
    }
   },
   "outputs": [
    {
     "data": {
      "text/plain": [
       "{'genre_mid': {749: 1,\n",
       "  750: 1,\n",
       "  2131: 1,\n",
       "  2625: 1,\n",
       "  2594: 1,\n",
       "  2637: 1,\n",
       "  2636: 1,\n",
       "  748: 1,\n",
       "  1381: 1,\n",
       "  1380: 1,\n",
       "  746: 1,\n",
       "  745: 1,\n",
       "  744: 1,\n",
       "  628: 1,\n",
       "  627: 1,\n",
       "  626: 1,\n",
       "  631: 1,\n",
       "  630: 1,\n",
       "  629: 1,\n",
       "  6744: 1,\n",
       "  7037: 1,\n",
       "  668: 1,\n",
       "  632: 1,\n",
       "  817: 1,\n",
       "  816: 1,\n",
       "  815: 1,\n",
       "  26077: 12,\n",
       "  26078: 12,\n",
       "  26079: 12,\n",
       "  21481: 12,\n",
       "  26080: 12,\n",
       "  13771: 12,\n",
       "  26081: 12,\n",
       "  19720: 12,\n",
       "  26082: 12,\n",
       "  20690: 12,\n",
       "  26083: 12,\n",
       "  20703: 12,\n",
       "  26084: 27,\n",
       "  26068: 27,\n",
       "  9826: 27,\n",
       "  25095: 27,\n",
       "  3881: 1,\n",
       "  10487: 1,\n",
       "  9460: 1,\n",
       "  9459: 1,\n",
       "  9458: 1,\n",
       "  10513: 1,\n",
       "  6733: 1,\n",
       "  6732: 1,\n",
       "  6731: 1,\n",
       "  10512: 1,\n",
       "  9808: 1,\n",
       "  10515: 1,\n",
       "  10514: 1,\n",
       "  25328: 27,\n",
       "  26085: 27,\n",
       "  7856: 4,\n",
       "  4503: 1,\n",
       "  9814: 1,\n",
       "  9809: 1,\n",
       "  26086: 27,\n",
       "  25322: 27,\n",
       "  25311: 27,\n",
       "  25317: 27,\n",
       "  25318: 27,\n",
       "  25319: 27,\n",
       "  26087: 27,\n",
       "  25312: 27,\n",
       "  26088: 27,\n",
       "  25326: 27,\n",
       "  10605: 4,\n",
       "  7884: 4,\n",
       "  10325: 4,\n",
       "  2088: 1,\n",
       "  2087: 1,\n",
       "  2086: 1,\n",
       "  1981: 1,\n",
       "  1455: 1,\n",
       "  3886: 1,\n",
       "  4506: 1,\n",
       "  4505: 1,\n",
       "  4504: 1,\n",
       "  25321: 27,\n",
       "  25314: 27,\n",
       "  25315: 27,\n",
       "  26089: 27,\n",
       "  26090: 27,\n",
       "  10613: 4,\n",
       "  10606: 4,\n",
       "  10607: 4,\n",
       "  10608: 4,\n",
       "  10610: 4,\n",
       "  7857: 4,\n",
       "  10612: 4,\n",
       "  10611: 4,\n",
       "  10609: 4,\n",
       "  1462: 1,\n",
       "  1461: 1,\n",
       "  1460: 1,\n",
       "  1459: 1,\n",
       "  1458: 1,\n",
       "  26091: 27,\n",
       "  26092: 27,\n",
       "  26093: 27,\n",
       "  25325: 27,\n",
       "  25324: 27,\n",
       "  9457: 1,\n",
       "  19404: 1,\n",
       "  19405: 1,\n",
       "  19406: 1,\n",
       "  19907: 1,\n",
       "  21022: 1,\n",
       "  2109: 1,\n",
       "  1464: 1,\n",
       "  1463: 1,\n",
       "  1457: 1,\n",
       "  1456: 1,\n",
       "  26094: 27,\n",
       "  26095: 27,\n",
       "  26096: 27,\n",
       "  26097: 27,\n",
       "  26098: 27,\n",
       "  4884: 1,\n",
       "  4883: 1,\n",
       "  2552: 1,\n",
       "  2551: 1,\n",
       "  2110: 1,\n",
       "  25327: 27,\n",
       "  25323: 27,\n",
       "  26099: 27,\n",
       "  25320: 27,\n",
       "  26100: 27,\n",
       "  25316: 27,\n",
       "  25313: 27,\n",
       "  1769: 1,\n",
       "  1768: 1,\n",
       "  1767: 1,\n",
       "  4886: 1,\n",
       "  4885: 1,\n",
       "  1774: 1,\n",
       "  1773: 1,\n",
       "  1772: 1,\n",
       "  1771: 1,\n",
       "  1770: 1,\n",
       "  1779: 1,\n",
       "  1778: 1,\n",
       "  1777: 1,\n",
       "  1776: 1,\n",
       "  1775: 1,\n",
       "  1784: 1,\n",
       "  1783: 1,\n",
       "  1782: 1,\n",
       "  1781: 1,\n",
       "  1780: 1,\n",
       "  1786: 1,\n",
       "  1785: 1,\n",
       "  6536: 12,\n",
       "  15642: 12,\n",
       "  1789: 1,\n",
       "  1788: 1,\n",
       "  1787: 1,\n",
       "  1454: 1,\n",
       "  1453: 1,\n",
       "  1451: 1,\n",
       "  1450: 1,\n",
       "  1449: 1,\n",
       "  1452: 1,\n",
       "  1790: 1,\n",
       "  17221: 5,\n",
       "  26101: 5,\n",
       "  26102: 5,\n",
       "  25058: 5,\n",
       "  10008: 5,\n",
       "  26103: 5,\n",
       "  26104: 5,\n",
       "  25833: 5,\n",
       "  26105: 5,\n",
       "  14930: 5,\n",
       "  14938: 5,\n",
       "  14929: 5,\n",
       "  14928: 5,\n",
       "  26106: 5,\n",
       "  26107: 5,\n",
       "  26108: 5,\n",
       "  26109: 5,\n",
       "  26110: 17,\n",
       "  26111: 17,\n",
       "  26112: 17,\n",
       "  26113: 17,\n",
       "  26114: 5,\n",
       "  26115: 5,\n",
       "  26116: 5,\n",
       "  17599: 5,\n",
       "  26117: 5,\n",
       "  26118: 5,\n",
       "  26119: 5,\n",
       "  26120: 5,\n",
       "  26121: 5,\n",
       "  26122: 5,\n",
       "  26123: 5,\n",
       "  26124: 5,\n",
       "  26125: 5,\n",
       "  26126: 5,\n",
       "  26127: 5,\n",
       "  26128: 17,\n",
       "  6131: 5,\n",
       "  6449: 5,\n",
       "  26129: 5,\n",
       "  26130: 17,\n",
       "  26131: 5,\n",
       "  26132: 5,\n",
       "  25267: 5,\n",
       "  26133: 5,\n",
       "  26134: 5,\n",
       "  26135: 5,\n",
       "  26136: 5,\n",
       "  26137: 5,\n",
       "  3397: 1,\n",
       "  3396: 1,\n",
       "  3338: 1,\n",
       "  3340: 1,\n",
       "  3342: 1,\n",
       "  3343: 1,\n",
       "  3339: 1,\n",
       "  438: 1,\n",
       "  436: 1,\n",
       "  437: 1,\n",
       "  14942: 5,\n",
       "  26138: 5,\n",
       "  26139: 5,\n",
       "  26140: 5,\n",
       "  26141: 5,\n",
       "  26142: 17,\n",
       "  26143: 5,\n",
       "  26144: 17,\n",
       "  26145: 5,\n",
       "  3405: 1,\n",
       "  3406: 1,\n",
       "  3398: 1,\n",
       "  3400: 1,\n",
       "  3401: 1,\n",
       "  3402: 1,\n",
       "  485: 1,\n",
       "  3403: 1,\n",
       "  484: 1,\n",
       "  3404: 1,\n",
       "  26146: 5,\n",
       "  26147: 5,\n",
       "  26148: 5,\n",
       "  26149: 5,\n",
       "  26150: 5,\n",
       "  26151: 5,\n",
       "  26152: 5,\n",
       "  26153: 5,\n",
       "  26154: 5,\n",
       "  462: 1,\n",
       "  3417: 1,\n",
       "  3418: 1,\n",
       "  461: 1,\n",
       "  3419: 1,\n",
       "  460: 1,\n",
       "  26155: 5,\n",
       "  26156: 17,\n",
       "  26157: 5,\n",
       "  26158: 5,\n",
       "  26159: 17,\n",
       "  26160: 5,\n",
       "  26161: 5,\n",
       "  26162: 5,\n",
       "  26163: 5,\n",
       "  26164: 5,\n",
       "  26165: 5,\n",
       "  26166: 5,\n",
       "  26167: 5,\n",
       "  26168: 22,\n",
       "  26169: 22,\n",
       "  26170: 22,\n",
       "  26171: 5,\n",
       "  17740: 5,\n",
       "  26172: 5,\n",
       "  17741: 5,\n",
       "  26173: 5,\n",
       "  26174: 17,\n",
       "  26175: 5,\n",
       "  26176: 5,\n",
       "  26177: 17,\n",
       "  26178: 5,\n",
       "  26179: 5,\n",
       "  26180: 5,\n",
       "  26181: 5,\n",
       "  26182: 5,\n",
       "  26183: 5,\n",
       "  26184: 5,\n",
       "  26185: 5,\n",
       "  26186: 22,\n",
       "  26187: 5,\n",
       "  26188: 5,\n",
       "  26189: 5,\n",
       "  17742: 5,\n",
       "  26190: 17,\n",
       "  26191: 5,\n",
       "  26192: 5,\n",
       "  26193: 17,\n",
       "  26194: 5,\n",
       "  26195: 5,\n",
       "  26196: 5,\n",
       "  24386: 5,\n",
       "  26197: 5,\n",
       "  26198: 5,\n",
       "  26199: 5,\n",
       "  26200: 5,\n",
       "  26201: 22,\n",
       "  26202: 5,\n",
       "  26203: 5,\n",
       "  17743: 5,\n",
       "  26204: 5,\n",
       "  26205: 17,\n",
       "  26206: 5,\n",
       "  26207: 5,\n",
       "  26208: 17,\n",
       "  26209: 5,\n",
       "  26210: 5,\n",
       "  26211: 5,\n",
       "  26212: 5,\n",
       "  26213: 5,\n",
       "  26214: 5,\n",
       "  26215: 5,\n",
       "  26216: 5,\n",
       "  26217: 22,\n",
       "  26218: 5,\n",
       "  26219: 5,\n",
       "  26220: 5,\n",
       "  17744: 5,\n",
       "  26221: 17,\n",
       "  26222: 5,\n",
       "  26223: 5,\n",
       "  26224: 17,\n",
       "  26225: 5,\n",
       "  26226: 5,\n",
       "  26227: 5,\n",
       "  26228: 5,\n",
       "  26229: 5,\n",
       "  26230: 5,\n",
       "  26231: 5,\n",
       "  26232: 5,\n",
       "  26233: 5,\n",
       "  26234: 5,\n",
       "  26235: 5,\n",
       "  26236: 5,\n",
       "  26237: 5,\n",
       "  26238: 5,\n",
       "  26239: 5,\n",
       "  26240: 5,\n",
       "  26241: 5,\n",
       "  26242: 5,\n",
       "  26243: 5,\n",
       "  26244: 5,\n",
       "  26245: 5,\n",
       "  26246: 5,\n",
       "  26247: 5,\n",
       "  26248: 5,\n",
       "  26249: 5,\n",
       "  26250: 22,\n",
       "  26251: 5,\n",
       "  20735: 5,\n",
       "  26252: 5,\n",
       "  26253: 5,\n",
       "  26254: 5,\n",
       "  26255: 5,\n",
       "  26256: 17,\n",
       "  26257: 5,\n",
       "  26258: 5,\n",
       "  26259: 5,\n",
       "  26260: 5,\n",
       "  26261: 17,\n",
       "  26262: 5,\n",
       "  26263: 5,\n",
       "  26264: 5,\n",
       "  26265: 5,\n",
       "  26266: 5,\n",
       "  26267: 5,\n",
       "  26268: 5,\n",
       "  26269: 5,\n",
       "  26270: 5,\n",
       "  26271: 5,\n",
       "  26272: 5,\n",
       "  26273: 5,\n",
       "  26274: 5,\n",
       "  26275: 5,\n",
       "  26276: 5,\n",
       "  26277: 5,\n",
       "  26278: 5,\n",
       "  26279: 5,\n",
       "  26280: 5,\n",
       "  26281: 22,\n",
       "  26282: 5,\n",
       "  26283: 5,\n",
       "  26284: 5,\n",
       "  26285: 5,\n",
       "  25069: 5,\n",
       "  26286: 17,\n",
       "  26287: 5,\n",
       "  26288: 5,\n",
       "  26289: 5,\n",
       "  26290: 5,\n",
       "  26291: 17,\n",
       "  26292: 5,\n",
       "  26293: 5,\n",
       "  26294: 5,\n",
       "  26295: 5,\n",
       "  26296: 5,\n",
       "  26297: 5,\n",
       "  26298: 5,\n",
       "  26299: 5,\n",
       "  26300: 5,\n",
       "  26301: 5,\n",
       "  26302: 5,\n",
       "  26303: 5,\n",
       "  26304: 5,\n",
       "  26305: 5,\n",
       "  26306: 5,\n",
       "  26307: 5,\n",
       "  26308: 22,\n",
       "  26309: 5,\n",
       "  26310: 5,\n",
       "  26311: 5,\n",
       "  20736: 5,\n",
       "  26312: 17,\n",
       "  26313: 5,\n",
       "  26314: 5,\n",
       "  26315: 5,\n",
       "  26316: 5,\n",
       "  26317: 17,\n",
       "  26318: 5,\n",
       "  26319: 1,\n",
       "  26320: 1,\n",
       "  15251: 1,\n",
       "  26321: 1,\n",
       "  26322: 1,\n",
       "  26323: 1,\n",
       "  26324: 1,\n",
       "  26325: 1,\n",
       "  26326: 1,\n",
       "  26327: 1,\n",
       "  26328: 1,\n",
       "  26329: 1,\n",
       "  26330: 1,\n",
       "  26331: 1,\n",
       "  26332: 1,\n",
       "  26333: 1,\n",
       "  26334: 1,\n",
       "  26335: 1,\n",
       "  26336: 1,\n",
       "  26337: 1,\n",
       "  26338: 1,\n",
       "  26339: 1,\n",
       "  26340: 1,\n",
       "  26341: 1,\n",
       "  15250: 1,\n",
       "  26342: 1,\n",
       "  26343: 1,\n",
       "  26344: 1,\n",
       "  26345: 1,\n",
       "  26346: 1,\n",
       "  26347: 1,\n",
       "  22279: 1,\n",
       "  26348: 1,\n",
       "  26349: 1,\n",
       "  26350: 1,\n",
       "  26351: 1,\n",
       "  26352: 1,\n",
       "  26353: 1,\n",
       "  26354: 1,\n",
       "  26355: 1,\n",
       "  26356: 1,\n",
       "  26357: 1,\n",
       "  26358: 1,\n",
       "  26359: 1,\n",
       "  18798: 1,\n",
       "  26360: 1,\n",
       "  15249: 1,\n",
       "  26361: 1,\n",
       "  26362: 1,\n",
       "  26363: 1,\n",
       "  11025: 1,\n",
       "  4869: 1,\n",
       "  26364: 5,\n",
       "  26365: 5,\n",
       "  26366: 5,\n",
       "  26367: 5,\n",
       "  26368: 5,\n",
       "  26369: 5,\n",
       "  26370: 5,\n",
       "  26371: 5,\n",
       "  26372: 5,\n",
       "  26373: 5,\n",
       "  26374: 5,\n",
       "  26375: 5,\n",
       "  26376: 5,\n",
       "  25070: 5,\n",
       "  26377: 17,\n",
       "  26378: 5,\n",
       "  26379: 5,\n",
       "  26380: 5,\n",
       "  26381: 5,\n",
       "  26382: 5,\n",
       "  26383: 17,\n",
       "  26384: 5,\n",
       "  26385: 5,\n",
       "  26386: 5,\n",
       "  26387: 5,\n",
       "  26388: 5,\n",
       "  26389: 5,\n",
       "  26390: 5,\n",
       "  26391: 5,\n",
       "  26392: 5,\n",
       "  26393: 22,\n",
       "  26394: 1,\n",
       "  26395: 1,\n",
       "  26396: 1,\n",
       "  26397: 1,\n",
       "  26398: 1,\n",
       "  26399: 1,\n",
       "  26400: 1,\n",
       "  26401: 1,\n",
       "  26402: 1,\n",
       "  26403: 1,\n",
       "  26404: 1,\n",
       "  26405: 1,\n",
       "  26406: 1,\n",
       "  26407: 1,\n",
       "  26408: 1,\n",
       "  26409: 1,\n",
       "  26410: 1,\n",
       "  26411: 1,\n",
       "  26412: 1,\n",
       "  26413: 1,\n",
       "  26414: 1,\n",
       "  26415: 1,\n",
       "  26416: 1,\n",
       "  26417: 1,\n",
       "  23287: 1,\n",
       "  26418: 1,\n",
       "  26419: 1,\n",
       "  26420: 1,\n",
       "  26421: 1,\n",
       "  9742: 1,\n",
       "  26422: 1,\n",
       "  26423: 1,\n",
       "  26424: 1,\n",
       "  26425: 1,\n",
       "  26426: 1,\n",
       "  26427: 1,\n",
       "  26428: 1,\n",
       "  26429: 1,\n",
       "  26430: 1,\n",
       "  26431: 1,\n",
       "  26432: 1,\n",
       "  26433: 1,\n",
       "  26434: 1,\n",
       "  26435: 1,\n",
       "  26436: 1,\n",
       "  26437: 1,\n",
       "  26438: 1,\n",
       "  26439: 1,\n",
       "  26440: 1,\n",
       "  26441: 1,\n",
       "  26442: 5,\n",
       "  26443: 5,\n",
       "  25071: 5,\n",
       "  26444: 1,\n",
       "  26445: 1,\n",
       "  26446: 1,\n",
       "  26447: 1,\n",
       "  26448: 1,\n",
       "  26449: 1,\n",
       "  26450: 1,\n",
       "  26451: 1,\n",
       "  26452: 1,\n",
       "  26453: 1,\n",
       "  26454: 1,\n",
       "  26455: 1,\n",
       "  26456: 1,\n",
       "  26457: 1,\n",
       "  26458: 1,\n",
       "  26459: 1,\n",
       "  26460: 1,\n",
       "  19954: 1,\n",
       "  26461: 1,\n",
       "  26462: 1,\n",
       "  26463: 1,\n",
       "  26464: 1,\n",
       "  26465: 1,\n",
       "  26466: 1,\n",
       "  26467: 1,\n",
       "  26468: 1,\n",
       "  26469: 1,\n",
       "  26470: 1,\n",
       "  26471: 5,\n",
       "  26472: 5,\n",
       "  26473: 5,\n",
       "  26474: 5,\n",
       "  26475: 5,\n",
       "  26476: 5,\n",
       "  26477: 5,\n",
       "  26478: 5,\n",
       "  26479: 5,\n",
       "  26480: 22,\n",
       "  26481: 5,\n",
       "  24490: 5,\n",
       "  26482: 5,\n",
       "  26483: 5,\n",
       "  26484: 5,\n",
       "  26485: 5,\n",
       "  26486: 5,\n",
       "  26487: 5,\n",
       "  26488: 5,\n",
       "  26489: 5,\n",
       "  26490: 22,\n",
       "  26491: 5,\n",
       "  26492: 5,\n",
       "  26493: 5,\n",
       "  26494: 5,\n",
       "  26495: 5,\n",
       "  26496: 5,\n",
       "  26497: 5,\n",
       "  26498: 5,\n",
       "  26499: 5,\n",
       "  26500: 5,\n",
       "  26501: 22,\n",
       "  26502: 5,\n",
       "  26503: 5,\n",
       "  26504: 5,\n",
       "  26505: 5,\n",
       "  26506: 5,\n",
       "  26507: 5,\n",
       "  26508: 5,\n",
       "  26509: 5,\n",
       "  26510: 5,\n",
       "  26511: 5,\n",
       "  26512: 5,\n",
       "  26513: 5,\n",
       "  26514: 22,\n",
       "  26515: 5,\n",
       "  26516: 5,\n",
       "  26517: 5,\n",
       "  26518: 5,\n",
       "  26519: 5,\n",
       "  26520: 5,\n",
       "  26521: 5,\n",
       "  26522: 5,\n",
       "  26523: 5,\n",
       "  26524: 5,\n",
       "  26525: 5,\n",
       "  26526: 5,\n",
       "  26527: 22,\n",
       "  26528: 5,\n",
       "  26529: 5,\n",
       "  24492: 5,\n",
       "  26530: 5,\n",
       "  26531: 5,\n",
       "  24280: 12,\n",
       "  24279: 12,\n",
       "  24278: 12,\n",
       "  23677: 12,\n",
       "  20705: 12,\n",
       "  24283: 12,\n",
       "  24282: 12,\n",
       "  24281: 12,\n",
       "  26532: 5,\n",
       "  26533: 5,\n",
       "  26534: 5,\n",
       "  26535: 5,\n",
       "  26536: 5,\n",
       "  26537: 5,\n",
       "  26538: 22,\n",
       "  26539: 5,\n",
       "  26540: 5,\n",
       "  26541: 5,\n",
       "  26542: 5,\n",
       "  26543: 5,\n",
       "  26544: 5,\n",
       "  26545: 5,\n",
       "  26546: 5,\n",
       "  26547: 5,\n",
       "  26548: 5,\n",
       "  26549: 5,\n",
       "  26550: 5,\n",
       "  26551: 22,\n",
       "  26552: 5,\n",
       "  26553: 5,\n",
       "  26554: 5,\n",
       "  23588: 5,\n",
       "  26555: 5,\n",
       "  26556: 5,\n",
       "  26557: 5,\n",
       "  26558: 5,\n",
       "  26559: 5,\n",
       "  26560: 5,\n",
       "  26561: 22,\n",
       "  26562: 5,\n",
       "  26563: 5,\n",
       "  22995: 5,\n",
       "  23589: 5,\n",
       "  26564: 5,\n",
       "  23618: 5,\n",
       "  26565: 5,\n",
       "  26566: 5,\n",
       "  26567: 5,\n",
       "  26568: 5,\n",
       "  26569: 22,\n",
       "  26570: 5,\n",
       "  26571: 5,\n",
       "  24491: 5,\n",
       "  23590: 5,\n",
       "  26572: 5,\n",
       "  23593: 5,\n",
       "  26573: 5,\n",
       "  23617: 5,\n",
       "  26574: 5,\n",
       "  24104: 5,\n",
       "  26575: 5,\n",
       "  26576: 5,\n",
       "  26577: 5,\n",
       "  23619: 5,\n",
       "  26578: 5,\n",
       "  23620: 5,\n",
       "  23591: 5,\n",
       "  24105: 5,\n",
       "  26579: 5,\n",
       "  24106: 5,\n",
       "  26580: 5,\n",
       "  26581: 5,\n",
       "  26582: 5,\n",
       "  26583: 5,\n",
       "  26584: 5,\n",
       "  26585: 5,\n",
       "  23592: 5,\n",
       "  26586: 5,\n",
       "  24107: 5,\n",
       "  26587: 5,\n",
       "  26588: 5,\n",
       "  24108: 5,\n",
       "  26589: 5,\n",
       "  26590: 5,\n",
       "  26591: 5,\n",
       "  26592: 5,\n",
       "  23594: 5,\n",
       "  26593: 5,\n",
       "  24109: 5,\n",
       "  26594: 5,\n",
       "  26595: 5,\n",
       "  24110: 5,\n",
       "  26596: 5,\n",
       "  26597: 5,\n",
       "  24111: 5,\n",
       "  23595: 5,\n",
       "  26598: 5,\n",
       "  26599: 5,\n",
       "  26600: 5,\n",
       "  24112: 5,\n",
       "  24113: 5,\n",
       "  23596: 5,\n",
       "  23597: 5,\n",
       "  23598: 5,\n",
       "  23599: 5,\n",
       "  24114: 5,\n",
       "  26601: 5,\n",
       "  26602: 5,\n",
       "  26603: 5,\n",
       "  26604: 12,\n",
       "  20708: 12,\n",
       "  26605: 12,\n",
       "  19751: 12,\n",
       "  21736: 12,\n",
       "  24693: 12,\n",
       "  26606: 5,\n",
       "  26607: 5,\n",
       "  26608: 5,\n",
       "  23600: 5,\n",
       "  26609: 5,\n",
       "  26610: 5,\n",
       "  26611: 12,\n",
       "  23601: 5,\n",
       "  26612: 5,\n",
       "  26613: 5,\n",
       "  26614: 5,\n",
       "  26615: 5,\n",
       "  26616: 12,\n",
       "  25001: 1,\n",
       "  24996: 1,\n",
       "  24993: 1,\n",
       "  24949: 1,\n",
       "  26617: 1,\n",
       "  26618: 1,\n",
       "  26619: 1,\n",
       "  26620: 1,\n",
       "  26621: 1,\n",
       "  12334: 1,\n",
       "  12333: 1,\n",
       "  8061: 1,\n",
       "  26622: 1,\n",
       "  26623: 1,\n",
       "  26624: 1,\n",
       "  24950: 1,\n",
       "  26625: 1,\n",
       "  26626: 1,\n",
       "  26627: 1,\n",
       "  26628: 1,\n",
       "  26629: 1,\n",
       "  26630: 1,\n",
       "  26631: 1,\n",
       "  26632: 1,\n",
       "  24994: 1,\n",
       "  26633: 1,\n",
       "  26634: 1,\n",
       "  26635: 1,\n",
       "  26636: 1,\n",
       "  26637: 1,\n",
       "  26638: 1,\n",
       "  26639: 1,\n",
       "  26640: 1,\n",
       "  26641: 1,\n",
       "  26642: 1,\n",
       "  26643: 1,\n",
       "  26644: 1,\n",
       "  26645: 1,\n",
       "  26646: 1,\n",
       "  26647: 1,\n",
       "  26648: 1,\n",
       "  26649: 1,\n",
       "  26650: 1,\n",
       "  26651: 1,\n",
       "  26652: 1,\n",
       "  26653: 1,\n",
       "  26654: 1,\n",
       "  26655: 1,\n",
       "  26656: 1,\n",
       "  26657: 1,\n",
       "  26658: 1,\n",
       "  26659: 1,\n",
       "  26660: 5,\n",
       "  26661: 5,\n",
       "  23602: 5,\n",
       "  26662: 5,\n",
       "  26663: 5,\n",
       "  26664: 5,\n",
       "  24790: 12,\n",
       "  26665: 5,\n",
       "  23603: 5,\n",
       "  26666: 5,\n",
       "  26667: 5,\n",
       "  26668: 5,\n",
       "  26669: 5,\n",
       "  26670: 5,\n",
       "  23604: 5,\n",
       "  26671: 5,\n",
       "  23605: 5,\n",
       "  26672: 5,\n",
       "  26673: 5,\n",
       "  26674: 5,\n",
       "  23606: 5,\n",
       "  26675: 5,\n",
       "  26676: 5,\n",
       "  26677: 5,\n",
       "  23607: 5,\n",
       "  26678: 5,\n",
       "  26679: 5,\n",
       "  26680: 5,\n",
       "  26681: 5,\n",
       "  26682: 5,\n",
       "  23608: 5,\n",
       "  26683: 5,\n",
       "  26684: 5,\n",
       "  23609: 5,\n",
       "  26685: 5,\n",
       "  26686: 5,\n",
       "  26687: 5,\n",
       "  26688: 5,\n",
       "  26689: 5,\n",
       "  23610: 5,\n",
       "  26690: 5,\n",
       "  182: 1,\n",
       "  4791: 1,\n",
       "  4790: 1,\n",
       "  4047: 1,\n",
       "  2630: 1,\n",
       "  2629: 1,\n",
       "  3665: 1,\n",
       "  2174: 1,\n",
       "  3664: 1,\n",
       "  3663: 1,\n",
       "  357: 1,\n",
       "  356: 1,\n",
       "  4023: 1,\n",
       "  5337: 1,\n",
       "  5336: 1,\n",
       "  5335: 1,\n",
       "  5340: 1,\n",
       "  5339: 1,\n",
       "  5338: 1,\n",
       "  4036: 1,\n",
       "  4022: 1,\n",
       "  5334: 1,\n",
       "  5333: 1,\n",
       "  5332: 1,\n",
       "  4051: 1,\n",
       "  4050: 1,\n",
       "  4049: 1,\n",
       "  4048: 1,\n",
       "  5331: 1,\n",
       "  5330: 1,\n",
       "  5329: 1,\n",
       "  5328: 1,\n",
       "  5327: 1,\n",
       "  5326: 1,\n",
       "  5325: 1,\n",
       "  4929: 1,\n",
       "  4928: 1,\n",
       "  4927: 1,\n",
       "  4926: 1,\n",
       "  4925: 1,\n",
       "  4924: 1,\n",
       "  4923: 1,\n",
       "  363: 1,\n",
       "  4922: 1,\n",
       "  4921: 1,\n",
       "  4920: 1,\n",
       "  4919: 1,\n",
       "  4793: 1,\n",
       "  4792: 1,\n",
       "  4038: 1,\n",
       "  2456: 1,\n",
       "  4037: 1,\n",
       "  26691: 22,\n",
       "  26692: 22,\n",
       "  26693: 22,\n",
       "  26694: 22,\n",
       "  26695: 22,\n",
       "  26696: 22,\n",
       "  26697: 22,\n",
       "  22992: 22,\n",
       "  22991: 22,\n",
       "  22990: 22,\n",
       "  26698: 5,\n",
       "  26699: 5,\n",
       "  26700: 22,\n",
       "  1900: 1,\n",
       "  1903: 1,\n",
       "  1902: 1,\n",
       "  1901: 1,\n",
       "  3544: 1,\n",
       "  4011: 1,\n",
       "  4298: 1,\n",
       "  4012: 1,\n",
       "  4008: 1,\n",
       "  4009: 1,\n",
       "  1909: 1,\n",
       "  4721: 1,\n",
       "  4039: 1,\n",
       "  3975: 1,\n",
       "  2933: 1,\n",
       "  2932: 1,\n",
       "  3336: 1,\n",
       "  3335: 1,\n",
       "  3334: 1,\n",
       "  362: 1,\n",
       "  177: 1,\n",
       "  828: 1,\n",
       "  1379: 1,\n",
       "  2129: 1,\n",
       "  740: 1,\n",
       "  737: 1,\n",
       "  1584: 4,\n",
       "  3696: 4,\n",
       "  3670: 4,\n",
       "  981: 4,\n",
       "  3669: 4,\n",
       "  1911: 4,\n",
       "  1299: 4,\n",
       "  489: 4,\n",
       "  186: 4,\n",
       "  3697: 4,\n",
       "  1910: 4,\n",
       "  3698: 4,\n",
       "  3695: 4,\n",
       "  23616: 5,\n",
       "  26701: 5,\n",
       "  26702: 5,\n",
       "  26703: 5,\n",
       "  26704: 5,\n",
       "  26705: 22,\n",
       "  26706: 5,\n",
       "  75: 1,\n",
       "  133: 1,\n",
       "  74: 1,\n",
       "  6370: 1,\n",
       "  77: 1,\n",
       "  82: 1,\n",
       "  ...}}"
      ]
     },
     "execution_count": 373,
     "metadata": {},
     "output_type": "execute_result"
    }
   ],
   "source": [
    "item_features"
   ]
  },
  {
   "cell_type": "code",
   "execution_count": 374,
   "metadata": {
    "execution": {
     "iopub.execute_input": "2022-11-22T10:41:01.648130Z",
     "iopub.status.busy": "2022-11-22T10:41:01.647920Z",
     "iopub.status.idle": "2022-11-22T10:41:01.653627Z",
     "shell.execute_reply": "2022-11-22T10:41:01.652868Z",
     "shell.execute_reply.started": "2022-11-22T10:41:01.648102Z"
    }
   },
   "outputs": [
    {
     "data": {
      "text/plain": [
       "[15, 16, 17, 18, 19, 20, 21, 22, 23, 24, 25, 26, 27, 28, 29, 30, 31, 32]"
      ]
     },
     "execution_count": 374,
     "metadata": {},
     "output_type": "execute_result"
    }
   ],
   "source": [
    "list(watch_features['watch_time'][3])"
   ]
  },
  {
   "cell_type": "code",
   "execution_count": 375,
   "metadata": {
    "execution": {
     "iopub.execute_input": "2022-11-22T10:41:01.657714Z",
     "iopub.status.busy": "2022-11-22T10:41:01.657470Z",
     "iopub.status.idle": "2022-11-22T10:41:01.671613Z",
     "shell.execute_reply": "2022-11-22T10:41:01.670750Z",
     "shell.execute_reply.started": "2022-11-22T10:41:01.657680Z"
    }
   },
   "outputs": [],
   "source": [
    "# 13\n",
    "# makeUIdateset\n",
    "\n",
    "def make_UIdataset(train, neg_ratio):\n",
    "    \"\"\" 유저별 학습에 필요한 딕셔너리 데이터 생성 \n",
    "    Args:\n",
    "        train : 유저-아이템의 상호작용을 담은 행렬 \n",
    "            ex) \n",
    "                array([[0., 0., 0., ..., 0., 0., 0.],\n",
    "                        [0., 0., 0., ..., 0., 0., 0.],\n",
    "                        [0., 0., 0., ..., 0., 0., 0.],\n",
    "                        ...,\n",
    "                        [0., 0., 0., ..., 0., 0., 0.],\n",
    "                        [0., 0., 0., ..., 0., 0., 0.],\n",
    "                        [0., 0., 0., ..., 0., 0., 0.]])\n",
    "        neg_ratio : negative sampling 활용할 비율, negative sampling은 전체 데이터를 활용하는게 아니라 중심 데이터와 상관없는 것 중 몇개만 추출하여 사용, \n",
    "                                                아마 주변 데이터를 활용하는건 반대로 positive 같음\n",
    "            ex) 3 (positive label 1개당 negative label 3개)\n",
    "    Returns: \n",
    "        UIdataset : 유저별 학습에 필요한 정보를 담은 딕셔너리 \n",
    "            ex) {'사용자 ID': [[positive 샘플, negative 샘플], ... , [1, 1, 1, ..., 0, 0]]}\n",
    "                >>> UIdataset[3]\n",
    "                    [array([   16,    17,    18, ...,  9586, 18991,  9442]),\n",
    "                    array([5, 5, 5, ..., 5, 5, 5]),\n",
    "                    array([4, 4, 4, ..., 5, 1, 1]),\n",
    "                    array([1., 1., 1., ..., 0., 0., 0.])]\n",
    "    \"\"\"\n",
    "    UIdataset = {}\n",
    "    import time\n",
    "    start = time.time()\n",
    "    for user_id, items_by_user in enumerate(train): # user_id = 인덱스, items_by_user = 인덱스에 해당하는 데이터, 참고 검색 --> ReferencePN\n",
    "        \n",
    "        UIdataset[user_id] = [] # UIdataset의 user_id들에게 리스트 할당\n",
    "        # positive 샘플 계산 \n",
    "        pos_item_ids = np.where(items_by_user > 0.5)[0] # items_by_user에서 0.5 초과인 값의 profile_id 추적 --> list형태로 나옴\n",
    "        num_pos_samples = len(pos_item_ids) # 0.5이상인 전체 값의 개수\n",
    "    \n",
    "        # negative 샘플 계산 (random negative sampling) \n",
    "        num_neg_samples = neg_ratio * num_pos_samples # neg_ratio = negative sampling 활용을 얼마나 할지 결정하지 위해 곱해줌\n",
    "        neg_items = np.where(items_by_user < 0.5)[0] # 얘는 미만 --> 상당히 수가 많이 나옴\n",
    "        neg_item_ids = np.random.choice(neg_items, min(num_neg_samples, len(neg_items)), replace=False) # net_ratio로 일부만 사용된 negative sample에서 랜덤하게 추출해서 사용\n",
    "        UIdataset[user_id].append(np.concatenate([pos_item_ids, neg_item_ids])) # positive sample과 negative sample을 concat해서 UIdataset[user_id]에 넣어줌\n",
    "            \n",
    "        # feature 추출 \n",
    "        features = []\n",
    "        for item_id in np.concatenate([pos_item_ids, neg_item_ids]): # positive, negative 두개를 concat한걸 item_id에 넣어서 append하는거 같은데...\n",
    "            features.append(user_features['age'][user_id]) # 여기에는 이상한게 item_id가 없음, 오타거나 안쓰거나 --> 아마 안쓰는거같음, 전체 for문에서 user_id (0, 1, 2, 3...)을 받아옴\n",
    "            # user_features = profile_df[['age']].to_dict()\n",
    "        UIdataset[user_id].append(np.array(features)) # 값들을 넣은 features를 array로 변경 후 user_id에 append\n",
    "        \n",
    "        features = []\n",
    "        for item_id in np.concatenate([pos_item_ids, neg_item_ids]): # 위와 마찬가지\n",
    "            features.append(item_features['genre_mid'][item_id]) # 여기서는 item_id를 씀, 위에서 추적한 (line 32, 37) profile_id들의 위치를 features로 사용함\n",
    "        UIdataset[user_id].append(np.array(features)) # 값들을 넣은 features를 array로 변경 후 user_id에 append\n",
    "            \n",
    "        features = [] # 추가한거\n",
    "        for item_id in np.concatenate([pos_item_ids, neg_item_ids]): # 위와 마찬가지\n",
    "            features.append(user_features2['sex'][user_id]) # 여기서는 item_id를 씀, 위에서 추적한 (line 32, 37) profile_id들의 위치를 features로 사용함\n",
    "        UIdataset[user_id].append(np.array(features)) # 값들을 넣은 features를 array로 변경 후 user_id에 append\n",
    "\n",
    "        features = [] # 추가한거\n",
    "        for item_id in np.concatenate([pos_item_ids, neg_item_ids]): # 위와 마찬가지\n",
    "            features.append(user_features3['pr_interest_keyword_cd_1'][user_id]) # 여기서는 item_id를 씀, 위에서 추적한 (line 32, 37) profile_id들의 위치를 features로 사용함\n",
    "        UIdataset[user_id].append(np.array(features))\n",
    "\n",
    "        features = [] # 추가한거\n",
    "        for item_id in np.concatenate([pos_item_ids, neg_item_ids]): # 위와 마찬가지\n",
    "            features.append(user_features4['ch_interest_keyword_cd_1'][user_id]) # 여기서는 item_id를 씀, 위에서 추적한 (line 32, 37) profile_id들의 위치를 features로 사용함\n",
    "        UIdataset[user_id].append(np.array(features))\n",
    "        \n",
    "        # pro_album_id = profile_album_id(watch_df, 'profile_id', 'album_id')\n",
    "        # if user_id in list(drop_dupl['profile_id']): # positive, negative 두개를 concat한걸 item_id에 넣어서 append하는거 같은데...\n",
    "        #     album_id_key = list(watch_features['watch_time'][user_id].keys())\n",
    "        #     for item_id in album_id_key:\n",
    "        #         features.append(watch_features['watch_time'][user_id][item_id]) # 여기에는 이상한게 item_id가 없음, 오타거나 안쓰거나 --> 아마 안쓰는거같음, 전체 for문에서 user_id (0, 1, 2, 3...)을 받아옴\n",
    "        #         # user_features = profile_df[['age']].to_dict()\n",
    "        #     UIdataset[user_id].append(np.array(features)) # 값들을 넣은 features를 array로 변경 후 user_id에 append\n",
    "        drop_dupl = watch_df.drop_duplicates(['profile_id'],  keep='first').reset_index(drop = True)\n",
    "        \n",
    "        features = []\n",
    "        # for item_id in np.concatenate([pos_item_ids, neg_item_ids]): # positive, negative 두개를 concat한걸 item_id에 넣어서 append하는거 같은데...\n",
    "        if user_id in list(drop_dupl['profile_id']):\n",
    "            for item_id in list(watch_features['watch_time'][user_id]):\n",
    "                features.append(watch_features['watch_time'][user_id][item_id]) # 여기에는 이상한게 item_id가 없음, 오타거나 안쓰거나 --> 아마 안쓰는거같음, 전체 for문에서 user_id (0, 1, 2, 3...)을 받아옴      \n",
    "        else:\n",
    "            for item_id in np.concatenate([pos_item_ids, neg_item_ids]):\n",
    "                features.append(watch_features['watch_time'][user_id])\n",
    "            # user_features = profile_df[['age']].to_dict()\n",
    "        UIdataset[user_id].append(np.array(features))\n",
    "            # label 저장  \n",
    "        pos_labels = np.ones(len(pos_item_ids)) # positive 길이 만큼 1로 가득찬 array 생성\n",
    "        neg_labels = np.zeros(len(neg_item_ids)) # negative 길이 만큼 0으로 가득찬 array 생성\n",
    "        UIdataset[user_id].append(np.concatenate([pos_labels, neg_labels])) # 라벨들을 concat해서 user_id에 append\n",
    "\n",
    "        # 그럼 UIdataset[user_id]에는 \n",
    "        # positive, negative를 concat한 값\n",
    "        # 값들을 넣은 features들을 array로 변경한 값\n",
    "        # positive, negative길이 만큼의 0, 1이 들어간 값\n",
    "        # 이 4개가 들어감 (feature가 2개기 때문\n",
    "        print('\\r'+str(round((user_id/cfg.n_users)*100, 2)), '%', end='')\n",
    "        \n",
    "    return UIdataset"
   ]
  },
  {
   "cell_type": "code",
   "execution_count": 376,
   "metadata": {
    "execution": {
     "iopub.execute_input": "2022-11-22T10:41:01.674953Z",
     "iopub.status.busy": "2022-11-22T10:41:01.674755Z",
     "iopub.status.idle": "2022-11-22T10:41:01.678666Z",
     "shell.execute_reply": "2022-11-22T10:41:01.677823Z",
     "shell.execute_reply.started": "2022-11-22T10:41:01.674932Z"
    }
   },
   "outputs": [],
   "source": [
    "# countadas = 0\n",
    "# for user_id, items_by_user in enumerate(train):\n",
    "#     if user_id in list(drop_dupl['profile_id']):\n",
    "#         break\n",
    "#     print(user_id)\n",
    "#     countadas += 1\n",
    "#     if countadas > 5:\n",
    "#         break"
   ]
  },
  {
   "cell_type": "code",
   "execution_count": 377,
   "metadata": {
    "execution": {
     "iopub.execute_input": "2022-11-22T10:41:01.681740Z",
     "iopub.status.busy": "2022-11-22T10:41:01.681443Z",
     "iopub.status.idle": "2022-11-22T10:52:57.291698Z",
     "shell.execute_reply": "2022-11-22T10:52:57.290687Z",
     "shell.execute_reply.started": "2022-11-22T10:41:01.681718Z"
    }
   },
   "outputs": [
    {
     "name": "stdout",
     "output_type": "stream",
     "text": [
      "100.0 %"
     ]
    }
   ],
   "source": [
    "# 14\n",
    "# realmakeUIdataset\n",
    "UIdataset = make_UIdataset(train, neg_ratio=cfg.neg_ratio) # neg_ratio = 100"
   ]
  },
  {
   "cell_type": "code",
   "execution_count": 403,
   "metadata": {
    "execution": {
     "iopub.execute_input": "2022-11-22T11:05:24.925210Z",
     "iopub.status.busy": "2022-11-22T11:05:24.924557Z",
     "iopub.status.idle": "2022-11-22T11:05:24.930753Z",
     "shell.execute_reply": "2022-11-22T11:05:24.929942Z",
     "shell.execute_reply.started": "2022-11-22T11:05:24.925182Z"
    }
   },
   "outputs": [
    {
     "data": {
      "text/plain": [
       "{0: [array([], dtype=int64),\n",
       "  array([], dtype=float64),\n",
       "  array([], dtype=float64),\n",
       "  array([], dtype=float64),\n",
       "  array([], dtype=float64),\n",
       "  array([], dtype=float64),\n",
       "  array([], dtype=float64),\n",
       "  array([], dtype=float64)]}"
      ]
     },
     "execution_count": 403,
     "metadata": {},
     "output_type": "execute_result"
    }
   ],
   "source": [
    "dict(islice(UIdataset.items(), 1))"
   ]
  },
  {
   "cell_type": "code",
   "execution_count": 404,
   "metadata": {
    "execution": {
     "iopub.execute_input": "2022-11-22T11:05:25.647036Z",
     "iopub.status.busy": "2022-11-22T11:05:25.646696Z",
     "iopub.status.idle": "2022-11-22T11:05:25.657759Z",
     "shell.execute_reply": "2022-11-22T11:05:25.656959Z",
     "shell.execute_reply.started": "2022-11-22T11:05:25.647012Z"
    }
   },
   "outputs": [],
   "source": [
    "# 15\n",
    "# makebatchdata\n",
    "def make_batchdata(user_indices, batch_idx, batch_size):\n",
    "    \"\"\" 배치 데이터로 변환 \n",
    "    Args:\n",
    "        user_indices : 전체 유저의 인덱스 정보 \n",
    "            ex) array([ 3100,  1800, 30098, ...,  2177, 11749, 20962])\n",
    "        batch_idx : 배치 인덱스 (몇번째 배치인지)\n",
    "            ex) 0 \n",
    "        batch_size : 배치 크기 \n",
    "            ex) 256 \n",
    "    Returns \n",
    "        batch_user_ids : 배치내의 유저 인덱스 정보 \n",
    "            ex) [22194, 22194, 22194, 22194, 22194, ...]\n",
    "        batch_item_ids : 배치내의 아이템 인덱스 정보 \n",
    "            ex) [36, 407, 612, 801, 1404, ...]\n",
    "        batch_feat0 : 배치내의 유저-아이템 인덱스 정보에 해당하는 feature0 정보 \n",
    "            ex) [6, 6, 6, 6, 6, ...]\n",
    "        batch_feat1 : 배치내의 유저-아이템 인덱스 정보에 해당하는 feature1 정보 \n",
    "            ex) [4,  4,  4, 23,  4, ...]\n",
    "        batch_labels : 배치내의 유저-아이템 인덱스 정보에 해당하는 label 정보 \n",
    "            ex) [1.0, 1.0, 1.0, 1.0, 1.0, ...]\n",
    "    \"\"\"\n",
    "    batch_user_indices = user_indices[batch_idx*batch_size : (batch_idx+1)*batch_size] # 안 건드려도 될거 같음\n",
    "    batch_user_ids = [] # 위 return 참고\n",
    "    batch_item_ids = []\n",
    "    batch_feat0 = []\n",
    "    batch_feat1 = []\n",
    "    batch_feat2 = [] # 추가한거\n",
    "    batch_feat3 = [] # 추가한거\n",
    "    batch_feat4 = [] # 추가한거\n",
    "    batch_feat5 = [] # 추가한거\n",
    "    batch_labels = []\n",
    "    for user_id in batch_user_indices: # batch_user_indices에 넣은 값들을 user_id로 하나씩 뽑음\n",
    "        item_ids = UIdataset[user_id][0] # positive, negative를 concat한 값, 13번 셀 (makeUIdateset) line 58 ~62 참고\n",
    "        feat0 = UIdataset[user_id][1] # 값들을 넣은 features1을 array로 변경한 값\n",
    "        feat1 = UIdataset[user_id][2] # 값들을 넣은 features2을 array로 변경한 값\n",
    "        feat2 = UIdataset[user_id][3] # 추가한거\n",
    "        feat3 = UIdataset[user_id][4] # 추가한거\n",
    "        feat4 = UIdataset[user_id][5] # 추가한거\n",
    "        feat5 = UIdataset[user_id][6]\n",
    "        labels = UIdataset[user_id][7] # positive, negative길이 만큼의 0, 1이 들어간 값 # 추가한거 (정확히는 변경된값임)\n",
    "        user_ids = np.full(len(item_ids), user_id) # full은 item_ids의 길이만한 array의 모든 값을 user_id로 채워줌\n",
    "        batch_user_ids.extend(user_ids.tolist()) # array를 list로 바꿔줌\n",
    "        batch_item_ids.extend(item_ids.tolist()) # array를 list로 바꿔줌\n",
    "        batch_feat0.extend(feat0.tolist()) # array를 list로 바꿔줌\n",
    "        batch_feat1.extend(feat1.tolist()) # array를 list로 바꿔줌\n",
    "        batch_feat2.extend(feat2.tolist()) # 추가한거\n",
    "        batch_feat3.extend(feat3.tolist()) # 추가한거\n",
    "        batch_feat4.extend(feat4.tolist()) # 추가한거\n",
    "        batch_feat5.extend(feat5.tolist())\n",
    "        batch_labels.extend(labels.tolist()) # array를 list로 바꿔줌\n",
    "    return batch_user_ids, batch_item_ids, batch_feat0, batch_feat1, batch_feat2, batch_feat3, batch_feat4, batch_feat5, batch_labels # 추가한거\n",
    "\n",
    "def update_avg(curr_avg, val, idx): # 안 건드려도 될거 같음\n",
    "    \"\"\" 현재 epoch 까지의 평균 값을 계산 \n",
    "    \"\"\"\n",
    "    return (curr_avg * idx + val) / (idx + 1)"
   ]
  },
  {
   "cell_type": "markdown",
   "metadata": {},
   "source": [
    "#### 학습 및 검증 코드 생성"
   ]
  },
  {
   "cell_type": "code",
   "execution_count": 405,
   "metadata": {
    "execution": {
     "iopub.execute_input": "2022-11-22T11:05:26.521328Z",
     "iopub.status.busy": "2022-11-22T11:05:26.520976Z",
     "iopub.status.idle": "2022-11-22T11:05:26.532415Z",
     "shell.execute_reply": "2022-11-22T11:05:26.531498Z",
     "shell.execute_reply.started": "2022-11-22T11:05:26.521304Z"
    },
    "id": "dS1EPRpeYU1W"
   },
   "outputs": [],
   "source": [
    "# 16\n",
    "# Learningandverification\n",
    "def train_epoch(cfg, model, optimizer, criterion): \n",
    "    model.train() # train mode로 변경해 줌 (https://rabo0313.tistory.com/entry/Pytorch-modeltrain-modeleval-%EC%9D%98%EB%AF%B8)\n",
    "    curr_loss_avg = 0.0 # 안 건드려도 될거 같음\n",
    "\n",
    "    user_indices = np.arange(cfg.n_users) # n_users(data.profile_id.max()+1)만큼의 요소를 가진 array 생성 (ex) np.arange(10) --> array([0, 1, 2, 3, 4, 5, 6, 7, 8, 9]))\n",
    "    np.random.RandomState(cfg.epoch).shuffle(user_indices) # cfg.epoch = 25, 지정해준 epoch값을 seed로 두고 user_indices를 섞어줌\n",
    "    # (https://frhyme.github.io/python-libs/np_random_randomstate/), (https://numpy.org/doc/stable/reference/random/generated/numpy.random.RandomState.shuffle.html)\n",
    "    batch_num = int(len(user_indices) / cfg.batch_size) + 1 # batch_size = 256\n",
    "    # user_indices의 길이 --> 대략 33000, 이걸 256으로 나눈 것을 정수화 + 1\n",
    "    bar = tqdm(range(batch_num), leave=False) # leave는 한줄로 출력시킬지 말지 정하는 것 (True = 한줄), tqdm을 왜 쓴걸까 <-- enumerate(tqdm)를 그냥 같이 씀\n",
    "    for step, batch_idx in enumerate(bar): # 프로그레스 바를 표현하는 방식이 enumerate(tqdm), (https://studyforus.com/tipnknowhow/701850)\n",
    "        user_ids, item_ids, feat0, feat1, feat2, feat3, feat4, feat5, labels = make_batchdata(user_indices, batch_idx, cfg.batch_size) # 15번 셀 (makebatchdata) line 3 # 추가한거\n",
    "        # 배치 사용자 단위로 학습\n",
    "        user_ids = torch.LongTensor(user_ids).to(cfg.device) # 64비트의 부호 있는 정수는 torch.LongTensor를 사용, torch.to는 특정 device에 적당한 Tensor를 return해줌\n",
    "        item_ids = torch.LongTensor(item_ids).to(cfg.device)\n",
    "        feat0 = torch.FloatTensor(feat0).to(cfg.device)\n",
    "        feat1 = torch.LongTensor(feat1).to(cfg.device)\n",
    "        feat2 = torch.LongTensor(feat2).to(cfg.device) # 추가한거\n",
    "        feat3 = torch.LongTensor(feat3).to(cfg.device) # 추가한거\n",
    "        feat4 = torch.LongTensor(feat4).to(cfg.device) # 추가한거\n",
    "        feat5 = torch.FloatTensor(feat5).to(cfg.device)\n",
    "        labels = torch.FloatTensor(labels).to(cfg.device)\n",
    "        labels = labels.view(-1, 1) # labels이라는 tensor를 2차원 (? X 1) 크기로 변경\n",
    "\n",
    "        # grad 초기화\n",
    "        optimizer.zero_grad() # (https://velog.io/@kjb0531/zerograd%EC%9D%98-%EC%9D%B4%ED%95%B4)\n",
    "\n",
    "        # 모델 forward\n",
    "        output = model.forward(user_ids, item_ids, [feat0, feat1, feat2, feat3, feat4, feat5]) # 12번 셀 (modeling) line 104 # 추가한거\n",
    "        output = output.view(-1, 1) # output tensor를 2차원 (? X 1) 크기로 변경\n",
    "\n",
    "        loss = criterion(output, labels) # output과 labels의 loss 측정?\n",
    "        # criterion = torch.nn.BCEWithLogitsLoss(reduction='sum')\n",
    "        # 역전파\n",
    "        loss.backward() # (https://wikidocs.net/37406) '순전파가 입력층에서 출력층으로 향한다면 역전파는 반대로 출력층에서 입력층 방향으로 계산하면서 가중치를 업데이트해갑니다'\n",
    "\n",
    "        # 최적화\n",
    "        optimizer.step() # (https://tutorials.pytorch.kr/beginner/basics/optimization_tutorial.html)\n",
    "        if torch.isnan(loss):\n",
    "            print('Loss NAN. Train finish.')\n",
    "            break\n",
    "        curr_loss_avg = update_avg(curr_loss_avg, loss, step) # 15번 셀 (makebatchdata) line 43\n",
    "        \n",
    "        msg = f\"epoch: {cfg.epoch}, \"\n",
    "        msg += f\"loss: {curr_loss_avg.item():.5f}, \"\n",
    "        msg += f\"lr: {optimizer.param_groups[0]['lr']:.6f}\"\n",
    "        bar.set_description(msg) # 그냥 message 보여주는 것 같음\n",
    "    rets = {'losses': np.around(curr_loss_avg.item(), 5)} # around = 주어진 소수 자리수로 고르게 반올림 함\n",
    "# item함수 참고 --> dictionary에서 키값을 뽑아서 묶어서 반환해줌\n",
    "# car = {\"name\" : \"BMW\", \"price\" : \"7000\"} \n",
    "# car.items() \n",
    "# dict_items([('name', 'BMW'), ('price', '7000')])\n",
    "\n",
    "    return rets # losses계산식 (curr_loss_avg)에 넣어서 계산 후 반환"
   ]
  },
  {
   "cell_type": "code",
   "execution_count": 406,
   "metadata": {
    "execution": {
     "iopub.execute_input": "2022-11-22T11:05:26.846889Z",
     "iopub.status.busy": "2022-11-22T11:05:26.846554Z",
     "iopub.status.idle": "2022-11-22T11:05:26.858750Z",
     "shell.execute_reply": "2022-11-22T11:05:26.857793Z",
     "shell.execute_reply.started": "2022-11-22T11:05:26.846866Z"
    }
   },
   "outputs": [],
   "source": [
    "# 17\n",
    "# Learningandverification2\n",
    "def recallk(actual, predicted, k = 25):\n",
    "    \"\"\" label과 prediction 사이의 recall 평가 함수 \n",
    "    Args:\n",
    "        actual : 실제로 본 상품 리스트\n",
    "        pred : 예측한 상품 리스트\n",
    "        k : 상위 몇개의 데이터를 볼지 (ex : k=25 상위 25개의 상품만 봄)\n",
    "    Returns: \n",
    "        recall_k : recall@k \n",
    "    \"\"\" \n",
    "    set_actual = set(actual) # set이라는 타입의 집합으로 변함, 중복이 제거됨\n",
    "    recall_k = len(set_actual & set(predicted[:k])) / min(k, len(set_actual)) # set 집합을 이용해 recall값을 구함, 안 건드려도 될거 같음\n",
    "    return recall_k\n",
    "\n",
    "def unique(sequence):\n",
    "    # preserves order\n",
    "    seen = set() # set하나 선언\n",
    "    return [x for x in sequence if not (x in seen or seen.add(x))]\n",
    "    # for x in sequence <-- sequence에서 값을 뽑아서 x에 넣어줌\n",
    "        # if not (x in seen or seen.add(x)) <-- 중복을 제거해서 넣음? 이해가 잘 안됨\n",
    "            # x # sequence에서 값을 뽑아서 seen에 넣고 x를 리스트에 넣어서 리턴해주는거 같은데, 해석 필요\n",
    "\n",
    "def ndcgk(actual, predicted, k = 25):\n",
    "    set_actual = set(actual)\n",
    "    idcg = sum([1.0 / np.log(i + 2) for i in range(min(k, len(set_actual)))])\n",
    "    # for i in range(min(k, len(set_actual)))\n",
    "        # sum([1.0 / np.log(i + 2)]) <-- np.log는 자연로그를 취해줌\n",
    "    dcg = 0.0\n",
    "    unique_predicted = unique(predicted[:k]) # k번째까지의 특징 추출\n",
    "    for i, r in enumerate(unique_predicted): # \n",
    "        if r in set_actual:\n",
    "            dcg += 1.0 / np.log(i + 2) # 진짜로 본거면 이걸 취해줌\n",
    "    ndcg_k = dcg / idcg # enumerate해서 로그 취해준걸, 아까 sum에 로그 취했던걸로 나눠줌\n",
    "    return ndcg_k\n",
    "\n",
    "def evaluation(gt, pred):\n",
    "    \"\"\" label과 prediction 사이의 recall, coverage, competition metric 평가 함수 \n",
    "    Args:\n",
    "        gt : 데이터 프레임 형태의 정답 데이터 \n",
    "        pred : 데이터 프레임 형태의 예측 데이터 \n",
    "    Returns: \n",
    "        rets : recall, ndcg, coverage, competition metric 결과 \n",
    "            ex) {'recall': 0.123024, 'ndcg': 056809, 'coverage': 0.017455, 'score': 0.106470}\n",
    "    \"\"\"    \n",
    "    gt = gt.groupby('profile_id')['album_id'].unique().to_frame().reset_index() # gt의 profile_id별 album_id의 특징(unique)을 뽑고 그 시리즈를 데이터프레임으로 변환(to_frame)\n",
    "                                                                                # 마지막으로 reset_index\n",
    "    gt.columns = ['profile_id', 'actual_list'] # gt의 column명 변경, id와 실제로 본 상품의 리스트가 들어있는 것 같음\n",
    "\n",
    "    evaluated_data = pd.merge(pred, gt, how = 'left', on = 'profile_id') # 예측값 기준 (profile_id 기준)으로 예측값과 gt를 merge\n",
    "# 여긴 잘 모르겠음ㅠㅠ\n",
    "    evaluated_data['Recall@25'] = evaluated_data.apply(lambda x: recallk(x.actual_list, x.predicted_list), axis=1) # recallk는 line 3에 있음\n",
    "    # ['Recall@25'] 여따 오른쪽껄 삽입\n",
    "    # evaluated_data 여기 전체에 apply로 lambda 함수를 적용 --> lambda 함수는 recallk 함수를 갖고와서 사용\n",
    "    # lambda 함수의 input으로 들어간 x에서 실제 시청 값과 예측 값을 뽑아서 --> recallk에 넣고 (axis=1은 아마 열을 나타내는거 같음 (actual, predicted)) 밖으로 보내줌\n",
    "    evaluated_data['NDCG@25'] = evaluated_data.apply(lambda x: ndcgk(x.actual_list, x.predicted_list), axis=1)\n",
    "\n",
    "    recall = evaluated_data['Recall@25'].mean()\n",
    "    ndcg = evaluated_data['NDCG@25'] .mean() # ndcg 설명 --> (https://joyae.github.io/2020-09-02-nDCG/)\n",
    "    coverage = (evaluated_data['predicted_list'].apply(lambda x: x[:cfg.top_k]).explode().nunique())/meta_df.index.nunique()\n",
    "    # explode 사용 (https://wikidocs.net/158541)\n",
    "    # top_k = 25, line 50의 데이터에 25번째까지 explode, nunique 적용 후 반환 후 meta_df의 인덱스 nunique로 나눠줌 <-- 이게 coverage\n",
    "    score = 0.75*recall + 0.25*ndcg # 여기부턴 그냥 보여주는거 같음\n",
    "    rets = {\"recall\" :recall, \n",
    "            \"ndcg\" :ndcg, \n",
    "            \"coverage\" :coverage, \n",
    "            \"score\" :score}\n",
    "    return rets"
   ]
  },
  {
   "cell_type": "code",
   "execution_count": 430,
   "metadata": {
    "execution": {
     "iopub.execute_input": "2022-11-22T11:19:28.954288Z",
     "iopub.status.busy": "2022-11-22T11:19:28.953928Z",
     "iopub.status.idle": "2022-11-22T11:19:28.966474Z",
     "shell.execute_reply": "2022-11-22T11:19:28.965504Z",
     "shell.execute_reply.started": "2022-11-22T11:19:28.954262Z"
    },
    "id": "FQgUJbTOYU1X"
   },
   "outputs": [],
   "source": [
    "# 18\n",
    "# Learningandverification3\n",
    "def valid_epoch(cfg, model, data, mode='valid'):\n",
    "    pred_list = []\n",
    "    model.eval() # eval <-- 매개변수로 받은 값을 실행하는 함수\n",
    "    \n",
    "    query_user_ids = data['profile_id'].unique() # 추론할 모든 user array 집합\n",
    "    full_item_ids = np.array([c for c in range(cfg.n_items)]) # 추론할 모든 item array 집합 \n",
    "    full_item_ids_feat1 = [item_features['genre_mid'][c] for c in full_item_ids] # full_item_ids_feat1에 추론할 item array에서 추출한 값을 item_features['genre_mid'][c]\n",
    "                                                                                 # c번째에 넣어서 반환\n",
    "    \n",
    "    # full_item_ids2 = np.array([d for d in range(cfg.n_users)]) # 추론할 모든 item array 집합 # 추가한거\n",
    "    # full_item_ids_feat2 = [user_features2['sex'][d] for d in full_item_ids2]\n",
    "    \n",
    "    for user_id in query_user_ids:\n",
    "        with torch.no_grad(): # (https://coffeedjimmy.github.io/pytorch/2019/11/05/pytorch_nograd_vs_train_eval/)\n",
    "            user_ids = np.full(cfg.n_items, user_id) # full은 n_itmes의 길이만한 array의 모든 값을 user_id로 채워줌\n",
    "            \n",
    "            user_ids = torch.LongTensor(user_ids).to(cfg.device) # 64비트의 부호 있는 정수는 torch.LongTensor를 사용, torch.to는 특정 device에 적당한 Tensor를 return해줌\n",
    "            item_ids = torch.LongTensor(full_item_ids).to(cfg.device)\n",
    "            \n",
    "            feat0 = np.full(cfg.n_items, user_features['age'][user_id])\n",
    "            feat0 = torch.FloatTensor(feat0).to(cfg.device) # 32-bit floating point는 torch.FloatTensor를 사용, torch.to는 특정 device에 적당한 Tensor를 return해줌\n",
    "                                                            # 아마 age는 숫자에 데이터가 들어있는 수치형 변수라서 이걸 쓴 것 같음, 정확하진 않음\n",
    "            feat1 = torch.LongTensor(full_item_ids_feat1).to(cfg.device)\n",
    "            \n",
    "            # feat2 = torch.LongTensor(full_item_ids_feat2).to(cfg.device)\n",
    "            feat2 = np.full(cfg.n_items, user_features2['sex'][user_id]) # 추가한거\n",
    "            feat2 = torch.FloatTensor(feat2).to(cfg.device)\n",
    "            \n",
    "            feat3 = np.full(cfg.n_items, user_features3['pr_interest_keyword_cd_1'][user_id]) # 추가한거\n",
    "            feat3 = torch.FloatTensor(feat3).to(cfg.device)\n",
    "            \n",
    "            feat4 = np.full(cfg.n_items, user_features4['ch_interest_keyword_cd_1'][user_id]) # 추가한거\n",
    "            feat4 = torch.FloatTensor(feat4).to(cfg.device)\n",
    "            \n",
    "            # temp = []\n",
    "            for i in list(watch_features['watch_time'][user_id].keys()):\n",
    "                # full_item_ids2 = np.array([c for c in range(cfg.n_items)]) # 추론할 모든 item array 집합 \n",
    "                full_item_ids_feat2 = watch_features['watch_time'][user_id][i]\n",
    "                full_item_ids_feat2 = np.full(cfg.n_items, full_item_ids_feat2)\n",
    "            full_item_ids_feat2 = [full_item_ids_feat2]\n",
    "            \n",
    "            \n",
    "            feat5 = torch.FloatTensor(full_item_ids_feat2).to(cfg.device)\n",
    "            \n",
    "            eval_output = model.forward(user_ids, item_ids, [feat0, feat1, feat2, feat3, feat4, feat5]).detach().cpu().numpy() # 추가한거\n",
    "            # detach는 tensor를 복사 (원본이 변하면 같이 변함)\n",
    "            # (https://byeongjo-kim.tistory.com/32)\n",
    "            pred_u_score = eval_output.reshape(-1) #  = x.reshape(1, -1), 1차원 배열을 반환\n",
    "        \n",
    "        pred_u_idx = np.argsort(pred_u_score)[::-1] # argsort : 어레이 정렬, [::-1] <-- 거꾸로 출력\n",
    "        # https://itholic.github.io/python-reverse-string/\n",
    "        pred_u = full_item_ids[pred_u_idx] # line 8 과 line 28\n",
    "        pred_list.append(list(pred_u[:cfg.top_k])) # top_k = 25, \n",
    "        \n",
    "    pred = pd.DataFrame() # pred를 만들어 줌\n",
    "    pred['profile_id'] = query_user_ids\n",
    "    pred['predicted_list'] = pred_list\n",
    "    \n",
    "    # 모델 성능 확인 \n",
    "    if mode == 'valid':\n",
    "        rets = evaluation(data, pred) # 17번 셀 (Learningandverification2) line 37\n",
    "        return rets, pred\n",
    "    return pred"
   ]
  },
  {
   "cell_type": "markdown",
   "metadata": {},
   "source": [
    "## 모델 학습"
   ]
  },
  {
   "cell_type": "markdown",
   "metadata": {
    "id": "n-D5bJx7YU1X"
   },
   "source": [
    "### 하이퍼 파라미터 설정 & 최적화 기법 설정"
   ]
  },
  {
   "cell_type": "code",
   "execution_count": 441,
   "metadata": {
    "execution": {
     "iopub.execute_input": "2022-11-22T12:06:22.538216Z",
     "iopub.status.busy": "2022-11-22T12:06:22.537850Z",
     "iopub.status.idle": "2022-11-22T12:06:22.543358Z",
     "shell.execute_reply": "2022-11-22T12:06:22.542528Z",
     "shell.execute_reply.started": "2022-11-22T12:06:22.538189Z"
    }
   },
   "outputs": [],
   "source": [
    "# 19\n",
    "# 하이퍼파라미터\n",
    "# 하이퍼 파라미터 설정 \n",
    "cfg.batch_size = 256\n",
    "cfg.emb_dim = 256\n",
    "cfg.layer_dim = 256\n",
    "cfg.dropout = 0.05\n",
    "cfg.epochs = 7\n",
    "cfg.learning_rate = 0.0025\n",
    "cfg.reg_lambda = 0\n",
    "cfg.check_epoch = 1"
   ]
  },
  {
   "cell_type": "code",
   "execution_count": 442,
   "metadata": {
    "execution": {
     "iopub.execute_input": "2022-11-22T12:06:22.719621Z",
     "iopub.status.busy": "2022-11-22T12:06:22.718995Z",
     "iopub.status.idle": "2022-11-22T12:06:23.126243Z",
     "shell.execute_reply": "2022-11-22T12:06:23.125026Z",
     "shell.execute_reply.started": "2022-11-22T12:06:22.719574Z"
    }
   },
   "outputs": [],
   "source": [
    "# 20\n",
    "# settingmodeloptimizerloss\n",
    "# model 생성 및 optimizer, loss 함수 설정 \n",
    "model = NeuMF(cfg).to(cfg.device) # NeuMF에 적용해서 특정 device에 적당한 Tensor를 return해줌\n",
    "optimizer = torch.optim.Adam(model.parameters(), lr=cfg.learning_rate, weight_decay=cfg.reg_lambda)\n",
    "# 19번 셀 (하이퍼파라미터)에 있음\n",
    "criterion = torch.nn.BCEWithLogitsLoss(reduction='sum')\n",
    "# (https://aimaster.tistory.com/84), (https://nuguziii.github.io/dev/dev-002/)"
   ]
  },
  {
   "cell_type": "markdown",
   "metadata": {
    "id": "Eze0e7vtYU1Y"
   },
   "source": [
    "### 학습 진행"
   ]
  },
  {
   "cell_type": "code",
   "execution_count": 443,
   "metadata": {
    "execution": {
     "iopub.execute_input": "2022-11-22T12:06:23.127980Z",
     "iopub.status.busy": "2022-11-22T12:06:23.127747Z",
     "iopub.status.idle": "2022-11-22T12:18:42.235178Z",
     "shell.execute_reply": "2022-11-22T12:18:42.234080Z",
     "shell.execute_reply.started": "2022-11-22T12:06:23.127960Z"
    },
    "id": "cvhj3hD7YU1Y",
    "scrolled": true
   },
   "outputs": [
    {
     "data": {
      "application/vnd.jupyter.widget-view+json": {
       "model_id": "ec9e6e4d9ec6435097dca2301c63af07",
       "version_major": 2,
       "version_minor": 0
      },
      "text/plain": [
       "  0%|          | 0/130 [00:00<?, ?it/s]"
      ]
     },
     "metadata": {},
     "output_type": "display_data"
    },
    {
     "name": "stdout",
     "output_type": "stream",
     "text": [
      "Epoch,Train Loss,Valid Recall@25,Valid NDCG@25,Valid Coverage,Valid Score\n",
      "00  30244.343750  0.062437  0.060357  0.000752  0.061917\n"
     ]
    },
    {
     "data": {
      "application/vnd.jupyter.widget-view+json": {
       "model_id": "8984b18198574d219172cf56eb18a716",
       "version_major": 2,
       "version_minor": 0
      },
      "text/plain": [
       "  0%|          | 0/130 [00:00<?, ?it/s]"
      ]
     },
     "metadata": {},
     "output_type": "display_data"
    },
    {
     "name": "stdout",
     "output_type": "stream",
     "text": [
      "01  13630.775390  0.179233  0.148549  0.003812  0.171562\n"
     ]
    },
    {
     "data": {
      "application/vnd.jupyter.widget-view+json": {
       "model_id": "bebccb8b87f34419a67551cf2e890166",
       "version_major": 2,
       "version_minor": 0
      },
      "text/plain": [
       "  0%|          | 0/130 [00:00<?, ?it/s]"
      ]
     },
     "metadata": {},
     "output_type": "display_data"
    },
    {
     "name": "stdout",
     "output_type": "stream",
     "text": [
      "02  9527.955080  0.251485  0.192772  0.020815  0.236807\n"
     ]
    },
    {
     "data": {
      "application/vnd.jupyter.widget-view+json": {
       "model_id": "33b0908ebc9a408790736554997dba1b",
       "version_major": 2,
       "version_minor": 0
      },
      "text/plain": [
       "  0%|          | 0/130 [00:00<?, ?it/s]"
      ]
     },
     "metadata": {},
     "output_type": "display_data"
    },
    {
     "name": "stdout",
     "output_type": "stream",
     "text": [
      "03  8167.898930  0.350704  0.257880  0.061492  0.327498\n"
     ]
    },
    {
     "data": {
      "application/vnd.jupyter.widget-view+json": {
       "model_id": "7da555e3444c4116b0612dd919a593fd",
       "version_major": 2,
       "version_minor": 0
      },
      "text/plain": [
       "  0%|          | 0/130 [00:00<?, ?it/s]"
      ]
     },
     "metadata": {},
     "output_type": "display_data"
    },
    {
     "name": "stdout",
     "output_type": "stream",
     "text": [
      "04  6659.060550  0.412567  0.303321  0.105053  0.385255\n"
     ]
    },
    {
     "data": {
      "application/vnd.jupyter.widget-view+json": {
       "model_id": "86b5d7b37815478d9ae53b27a5b5818f",
       "version_major": 2,
       "version_minor": 0
      },
      "text/plain": [
       "  0%|          | 0/130 [00:00<?, ?it/s]"
      ]
     },
     "metadata": {},
     "output_type": "display_data"
    },
    {
     "name": "stdout",
     "output_type": "stream",
     "text": [
      "05  5195.517580  0.459957  0.335532  0.169530  0.428850\n"
     ]
    },
    {
     "data": {
      "application/vnd.jupyter.widget-view+json": {
       "model_id": "c05a28dbc7394621b60521ea90001dce",
       "version_major": 2,
       "version_minor": 0
      },
      "text/plain": [
       "  0%|          | 0/130 [00:00<?, ?it/s]"
      ]
     },
     "metadata": {},
     "output_type": "display_data"
    },
    {
     "name": "stdout",
     "output_type": "stream",
     "text": [
      "06  3897.457760  0.480652  0.348270  0.230470  0.447556\n"
     ]
    },
    {
     "data": {
      "application/vnd.jupyter.widget-view+json": {
       "model_id": "d7834b8cd77843cf9c58dde35541c84b",
       "version_major": 2,
       "version_minor": 0
      },
      "text/plain": [
       "  0%|          | 0/130 [00:00<?, ?it/s]"
      ]
     },
     "metadata": {},
     "output_type": "display_data"
    },
    {
     "name": "stdout",
     "output_type": "stream",
     "text": [
      "07  2927.291750  0.490024  0.354245  0.276765  0.456079\n"
     ]
    }
   ],
   "source": [
    "total_logs = defaultdict(list) # key 1을 list로 준 딕셔너리를 생성 (https://dongdongfather.tistory.com/69)\n",
    "best_scores  = 0 \n",
    "for epoch in range(cfg.epochs+1): # epoch = 25\n",
    "    cfg.epoch = epoch # cfg.epoch에 for로 돌아가는 값을 넣음\n",
    "    train_results = train_epoch(cfg, model, optimizer, criterion) # 16번 셀 (Learningandverification) line 3\n",
    "    \n",
    "    # cfg.check_epoch 번의 epoch 마다 성능 확인 \n",
    "    if epoch % cfg.check_epoch == 0: # check_epoch = 1, 1번마다 성능 확인\n",
    "        valid_results, _ = valid_epoch(cfg, model, valid) # 18번 셀 (Learningandverification3) line 3\n",
    "\n",
    "        logs = {\n",
    "            'Train Loss': train_results['losses'],\n",
    "            f'Valid Recall@{cfg.top_k}': valid_results['recall'],\n",
    "            f'Valid NDCG@{cfg.top_k}': valid_results['ndcg'],\n",
    "            'Valid Coverage': valid_results['coverage'],\n",
    "            'Valid Score': valid_results['score'],\n",
    "            } # 로그 출력\n",
    "\n",
    "        # 검증 성능 확인 \n",
    "        for key, value in logs.items(): # items --> dictionary 키값 쌍을 얻음 (item함수 참고 --> dictionary에서 키값을 뽑아서 묶어서 반환해줌)\n",
    "            # 16번 셀 (Learningandverification) line 47\n",
    "            total_logs[key].append(value) # total_logs <-- line 1, 여기 key번째에 value를 넣어줌\n",
    "\n",
    "        if epoch == 0: # ???, epoch마다 보여주는거 같음 아마\n",
    "            print(\"Epoch\", end=\",\")\n",
    "            print(\",\".join(logs.keys()))\n",
    "\n",
    "        print(f\"{epoch:02d}  \", end=\"\")\n",
    "        print(\"  \".join([f\"{v:0.6f}\" for v in logs.values()]))\n",
    "        \n",
    "        # 가장 성능이 좋은 가중치 파일을 저장 \n",
    "        if best_scores <= valid_results['score']: # pth파일 저장, # 안 건드려도 될거 같음\n",
    "            best_scores = valid_results['score']\n",
    "            torch.save(model.state_dict(), os.path.join(saved_path, 'model(best_scores).pth'))"
   ]
  },
  {
   "cell_type": "markdown",
   "metadata": {
    "id": "UNVpn37RYU1Z"
   },
   "source": [
    "### 학습 과정 시각화"
   ]
  },
  {
   "cell_type": "code",
   "execution_count": 444,
   "metadata": {
    "execution": {
     "iopub.execute_input": "2022-11-22T12:18:42.238867Z",
     "iopub.status.busy": "2022-11-22T12:18:42.238664Z",
     "iopub.status.idle": "2022-11-22T12:18:42.244285Z",
     "shell.execute_reply": "2022-11-22T12:18:42.243623Z",
     "shell.execute_reply.started": "2022-11-22T12:18:42.238859Z"
    }
   },
   "outputs": [],
   "source": [
    "train_scores = pd.DataFrame({'Train loss': total_logs['Train Loss']}) # 안 건드려도 될거 같음\n",
    "train_scores['Epoch'] = range(0, cfg.epochs+1, cfg.check_epoch)"
   ]
  },
  {
   "cell_type": "code",
   "execution_count": 445,
   "metadata": {
    "execution": {
     "iopub.execute_input": "2022-11-22T12:18:42.248317Z",
     "iopub.status.busy": "2022-11-22T12:18:42.248124Z",
     "iopub.status.idle": "2022-11-22T12:18:42.404025Z",
     "shell.execute_reply": "2022-11-22T12:18:42.402319Z",
     "shell.execute_reply.started": "2022-11-22T12:18:42.248295Z"
    }
   },
   "outputs": [
    {
     "data": {
      "image/png": "[encoded data removed]",
      "text/plain": [
       "<Figure size 640x480 with 1 Axes>"
      ]
     },
     "metadata": {},
     "output_type": "display_data"
    },
    {
     "data": {
      "text/plain": [
       "<ggplot: (8757527701508)>"
      ]
     },
     "execution_count": 445,
     "metadata": {},
     "output_type": "execute_result"
    }
   ],
   "source": [
    "( # 안 건드려도 될거 같음\n",
    "    ggplot(train_scores, aes(x='Epoch', y='Train loss'))\n",
    "        + geom_line(color='black') # line plot\n",
    "        + labs(x='Epoch', y='Train Loss')\n",
    "        + theme_light()\n",
    ")"
   ]
  },
  {
   "cell_type": "code",
   "execution_count": 446,
   "metadata": {
    "execution": {
     "iopub.execute_input": "2022-11-22T12:18:42.407771Z",
     "iopub.status.busy": "2022-11-22T12:18:42.407514Z",
     "iopub.status.idle": "2022-11-22T12:18:42.415732Z",
     "shell.execute_reply": "2022-11-22T12:18:42.414677Z",
     "shell.execute_reply.started": "2022-11-22T12:18:42.407749Z"
    }
   },
   "outputs": [],
   "source": [
    "# 안 건드려도 될거 같음\n",
    "valid_scores = pd.DataFrame(np.hstack([(range(0, cfg.epochs+1, cfg.check_epoch), total_logs[score], [score for i in range(0, cfg.epochs+1, cfg.check_epoch)]) for score in ['Valid Recall@25', 'Valid NDCG@25', 'Valid Coverage', 'Valid Score']])).T\n",
    "valid_scores.columns = ['Epoch', 'Score', 'Metric']\n",
    "valid_scores['Epoch'] = valid_scores['Epoch'].astype(int)\n",
    "valid_scores['Score'] = valid_scores['Score'].astype(float)"
   ]
  },
  {
   "cell_type": "code",
   "execution_count": 447,
   "metadata": {
    "execution": {
     "iopub.execute_input": "2022-11-22T12:18:42.419922Z",
     "iopub.status.busy": "2022-11-22T12:18:42.419709Z",
     "iopub.status.idle": "2022-11-22T12:18:42.653436Z",
     "shell.execute_reply": "2022-11-22T12:18:42.651504Z",
     "shell.execute_reply.started": "2022-11-22T12:18:42.419901Z"
    }
   },
   "outputs": [
    {
     "data": {
      "image/png": "[encoded data removed]",
      "text/plain": [
       "<Figure size 640x480 with 1 Axes>"
      ]
     },
     "metadata": {},
     "output_type": "display_data"
    },
    {
     "data": {
      "text/plain": [
       "<ggplot: (8757064670455)>"
      ]
     },
     "execution_count": 447,
     "metadata": {},
     "output_type": "execute_result"
    }
   ],
   "source": [
    "( # 안 건드려도 될거 같음\n",
    "ggplot(valid_scores)  # here\n",
    "    + aes(\"Epoch\", \"Score\", color='Metric', group='Metric')\n",
    "    + geom_line()\n",
    "    + scale_y_continuous(breaks=[0.1*c for c in range(1, 10, 1)])\n",
    "    + theme_light()\n",
    "    + labs(x='Epoch', y='Valid Metric')\n",
    ")  "
   ]
  },
  {
   "cell_type": "markdown",
   "metadata": {
    "id": "07lHW5CAYU1F"
   },
   "source": [
    "## 제출 \n",
    "### 모든 유저에 대해 추천 결과 생성"
   ]
  },
  {
   "cell_type": "code",
   "execution_count": 448,
   "metadata": {
    "execution": {
     "iopub.execute_input": "2022-11-22T12:18:42.658718Z",
     "iopub.status.busy": "2022-11-22T12:18:42.658376Z",
     "iopub.status.idle": "2022-11-22T12:18:42.754478Z",
     "shell.execute_reply": "2022-11-22T12:18:42.753711Z",
     "shell.execute_reply.started": "2022-11-22T12:18:42.658687Z"
    },
    "scrolled": true
   },
   "outputs": [
    {
     "data": {
      "text/plain": [
       "<All keys matched successfully>"
      ]
     },
     "execution_count": 448,
     "metadata": {},
     "output_type": "execute_result"
    }
   ],
   "source": [
    "model.load_state_dict(torch.load(os.path.join(saved_path, 'model(best_scores).pth'))) # 안 건드려도 될거 같음"
   ]
  },
  {
   "cell_type": "code",
   "execution_count": 449,
   "metadata": {
    "execution": {
     "iopub.execute_input": "2022-11-22T12:18:42.758744Z",
     "iopub.status.busy": "2022-11-22T12:18:42.758487Z",
     "iopub.status.idle": "2022-11-22T12:19:59.963490Z",
     "shell.execute_reply": "2022-11-22T12:19:59.962745Z",
     "shell.execute_reply.started": "2022-11-22T12:18:42.758721Z"
    }
   },
   "outputs": [],
   "source": [
    "submission_path = os.path.join(data_path, 'sample_submission.csv') # 안 건드려도 될거 같음\n",
    "submission = pd.read_csv(submission_path)\n",
    "submission = valid_epoch(cfg, model, submission, mode='test')"
   ]
  },
  {
   "cell_type": "markdown",
   "metadata": {},
   "source": [
    "### 저장"
   ]
  },
  {
   "cell_type": "code",
   "execution_count": 451,
   "metadata": {
    "execution": {
     "iopub.execute_input": "2022-11-22T12:20:08.665415Z",
     "iopub.status.busy": "2022-11-22T12:20:08.664617Z",
     "iopub.status.idle": "2022-11-22T12:20:09.057914Z",
     "shell.execute_reply": "2022-11-22T12:20:09.057149Z",
     "shell.execute_reply.started": "2022-11-22T12:20:08.665386Z"
    }
   },
   "outputs": [],
   "source": [
    "submission.to_csv(os.path.join(output_path, 'submission.csv'), index = False) # 안 건드려도 될거 같음"
   ]
  },
  {
   "cell_type": "code",
   "execution_count": null,
   "metadata": {},
   "outputs": [],
   "source": []
  }
 ],
 "metadata": {
  "accelerator": "GPU",
  "colab": {
   "collapsed_sections": [],
   "name": "기본과제-2_NCF+AutoRec (answer).ipynb",
   "provenance": []
  },
  "kernelspec": {
   "display_name": "Python 3 (ipykernel)",
   "language": "python",
   "name": "python3"
  },
  "language_info": {
   "codemirror_mode": {
    "name": "ipython",
    "version": 3
   },
   "file_extension": ".py",
   "mimetype": "text/x-python",
   "name": "python",
   "nbconvert_exporter": "python",
   "pygments_lexer": "ipython3",
   "version": "3.9.13"
  },
  "vscode": {
   "interpreter": {
    "hash": "964f46f3973c3d99dc6929d5bd1748275317def86f082ea2874e0d5a9cf6d261"
   }
  }
 },
 "nbformat": 4,
 "nbformat_minor": 4
}
