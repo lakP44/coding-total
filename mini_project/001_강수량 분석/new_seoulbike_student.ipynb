{
 "cells": [
  {
   "cell_type": "markdown",
   "id": "ef575059",
   "metadata": {
    "id": "ef575059"
   },
   "source": [
    "---"
   ]
  },
  {
   "cell_type": "markdown",
   "id": "46fa690c",
   "metadata": {
    "id": "46fa690c"
   },
   "source": [
    "## [미니프로젝트] 서울시 공유자전거 '따릉이'의 수요 예측\n",
    "\n",
    "### 여러분은 서울시 정책 연구원으로써 서울시 공유자전거인 '따릉이'의 수요와 날씨간 연관성을 분석하라는 미션을 부여받았습니다.\n",
    "\n",
    "#### <font color=\"blue\"> 데이터 분석의 주 목적은 가치있는 정보를 찾아내는것!! </font>\n",
    "\n",
    "### ▣ 우리가 풀어야 하는 문제는 무엇인가요?\n",
    "\n",
    " - 기상상황이 따릉이 수요에 주는 영향을 분석해봅시다."
   ]
  },
  {
   "cell_type": "markdown",
   "id": "a30cd0cd",
   "metadata": {
    "id": "a30cd0cd"
   },
   "source": [
    "---"
   ]
  },
  {
   "cell_type": "markdown",
   "id": "revolutionary-farmer",
   "metadata": {
    "id": "revolutionary-farmer"
   },
   "source": [
    "## ▣ 데이터 소개\n",
    "[기본 데이터]\n",
    "* 학습데이터 : traindata.csv\n",
    "\n",
    "## ▣ 데이터셋의 변수 소개\n",
    "* date : 날짜\n",
    "* hour : 시간\n",
    "* temperature : 온도\n",
    "* precipitation : 강우 여부, 비가 오지 않았으면 0, 비가 오면 1\n",
    "* windspeed : 풍속(평균)\n",
    "* humidity : 습도\n",
    "* visibility : 시정(視程), 시계(視界)(특정 기상 상태에 따른 가시성을 의미)\n",
    "* ozone : 오존 수치\n",
    "* PM10 : 미세먼지 수치(머리카락 굵기의 1/5에서 1/7 크기의 미세먼지)\n",
    "* PM2.5 : 초미세먼지 수치(머리카락 굵기의 1/20에서 1/30 크기의 미세먼지)\n",
    "* count : 시간에 따른 따릉이 대여 수"
   ]
  },
  {
   "cell_type": "markdown",
   "id": "matched-broad",
   "metadata": {
    "id": "matched-broad"
   },
   "source": [
    "---"
   ]
  },
  {
   "cell_type": "markdown",
   "id": "warming-gentleman",
   "metadata": {
    "id": "warming-gentleman"
   },
   "source": [
    "### [과제1] 환경 설정\n",
    "#### <span style=\"color: green\"> 1) 라이브러리 불러오기 </span>"
   ]
  },
  {
   "cell_type": "code",
   "execution_count": 7,
   "id": "442dc4e3",
   "metadata": {},
   "outputs": [],
   "source": [
    "#EDA에 사용할 라이브러리를 import 하세요\n",
    "import pandas as pd\n",
    "import numpy as np\n",
    "import matplotlib.pyplot as plt\n",
    "import seaborn as sns\n",
    "import scipy.stats as spst\n",
    "import warnings\n",
    "warnings.filterwarnings(action='ignore')"
   ]
  },
  {
   "cell_type": "markdown",
   "id": "vocational-animal",
   "metadata": {
    "id": "vocational-animal"
   },
   "source": [
    "#### <span style=\"color: green\"> 2) 활용할 데이터 불러오기 </span>"
   ]
  },
  {
   "cell_type": "code",
   "execution_count": 102,
   "id": "saving-slope",
   "metadata": {
    "executionInfo": {
     "elapsed": 305,
     "status": "ok",
     "timestamp": 1655797696108,
     "user": {
      "displayName": "Seonil Kwon",
      "userId": "10539738350691841262"
     },
     "user_tz": -540
    },
    "id": "saving-slope",
    "scrolled": true
   },
   "outputs": [
    {
     "data": {
      "text/html": [
       "<div>\n",
       "<style scoped>\n",
       "    .dataframe tbody tr th:only-of-type {\n",
       "        vertical-align: middle;\n",
       "    }\n",
       "\n",
       "    .dataframe tbody tr th {\n",
       "        vertical-align: top;\n",
       "    }\n",
       "\n",
       "    .dataframe thead th {\n",
       "        text-align: right;\n",
       "    }\n",
       "</style>\n",
       "<table border=\"1\" class=\"dataframe\">\n",
       "  <thead>\n",
       "    <tr style=\"text-align: right;\">\n",
       "      <th></th>\n",
       "      <th>date</th>\n",
       "      <th>hour</th>\n",
       "      <th>PM10</th>\n",
       "      <th>PM2.5</th>\n",
       "      <th>ozone</th>\n",
       "      <th>temperature</th>\n",
       "      <th>precipitation</th>\n",
       "      <th>windspeed</th>\n",
       "      <th>humidity</th>\n",
       "      <th>visibility</th>\n",
       "      <th>count</th>\n",
       "    </tr>\n",
       "  </thead>\n",
       "  <tbody>\n",
       "    <tr>\n",
       "      <th>0</th>\n",
       "      <td>2021-04-01</td>\n",
       "      <td>1</td>\n",
       "      <td>42.0</td>\n",
       "      <td>21.0</td>\n",
       "      <td>0.002</td>\n",
       "      <td>13.1</td>\n",
       "      <td>0</td>\n",
       "      <td>1.4</td>\n",
       "      <td>49</td>\n",
       "      <td>2000</td>\n",
       "      <td>46</td>\n",
       "    </tr>\n",
       "    <tr>\n",
       "      <th>1</th>\n",
       "      <td>2021-04-01</td>\n",
       "      <td>2</td>\n",
       "      <td>41.0</td>\n",
       "      <td>21.0</td>\n",
       "      <td>0.003</td>\n",
       "      <td>12.4</td>\n",
       "      <td>0</td>\n",
       "      <td>2.1</td>\n",
       "      <td>53</td>\n",
       "      <td>2000</td>\n",
       "      <td>40</td>\n",
       "    </tr>\n",
       "    <tr>\n",
       "      <th>2</th>\n",
       "      <td>2021-04-01</td>\n",
       "      <td>3</td>\n",
       "      <td>30.0</td>\n",
       "      <td>13.0</td>\n",
       "      <td>0.023</td>\n",
       "      <td>13.1</td>\n",
       "      <td>0</td>\n",
       "      <td>3.4</td>\n",
       "      <td>43</td>\n",
       "      <td>2000</td>\n",
       "      <td>31</td>\n",
       "    </tr>\n",
       "    <tr>\n",
       "      <th>3</th>\n",
       "      <td>2021-04-01</td>\n",
       "      <td>4</td>\n",
       "      <td>27.0</td>\n",
       "      <td>12.0</td>\n",
       "      <td>0.028</td>\n",
       "      <td>13.0</td>\n",
       "      <td>0</td>\n",
       "      <td>3.1</td>\n",
       "      <td>44</td>\n",
       "      <td>2000</td>\n",
       "      <td>12</td>\n",
       "    </tr>\n",
       "    <tr>\n",
       "      <th>4</th>\n",
       "      <td>2021-04-01</td>\n",
       "      <td>5</td>\n",
       "      <td>29.0</td>\n",
       "      <td>14.0</td>\n",
       "      <td>0.008</td>\n",
       "      <td>13.0</td>\n",
       "      <td>0</td>\n",
       "      <td>2.9</td>\n",
       "      <td>44</td>\n",
       "      <td>2000</td>\n",
       "      <td>30</td>\n",
       "    </tr>\n",
       "    <tr>\n",
       "      <th>...</th>\n",
       "      <td>...</td>\n",
       "      <td>...</td>\n",
       "      <td>...</td>\n",
       "      <td>...</td>\n",
       "      <td>...</td>\n",
       "      <td>...</td>\n",
       "      <td>...</td>\n",
       "      <td>...</td>\n",
       "      <td>...</td>\n",
       "      <td>...</td>\n",
       "      <td>...</td>\n",
       "    </tr>\n",
       "    <tr>\n",
       "      <th>5822</th>\n",
       "      <td>2021-11-29</td>\n",
       "      <td>20</td>\n",
       "      <td>74.0</td>\n",
       "      <td>58.0</td>\n",
       "      <td>0.002</td>\n",
       "      <td>9.3</td>\n",
       "      <td>0</td>\n",
       "      <td>0.3</td>\n",
       "      <td>66</td>\n",
       "      <td>1193</td>\n",
       "      <td>273</td>\n",
       "    </tr>\n",
       "    <tr>\n",
       "      <th>5823</th>\n",
       "      <td>2021-11-29</td>\n",
       "      <td>21</td>\n",
       "      <td>65.0</td>\n",
       "      <td>56.0</td>\n",
       "      <td>0.002</td>\n",
       "      <td>8.4</td>\n",
       "      <td>0</td>\n",
       "      <td>2.0</td>\n",
       "      <td>70</td>\n",
       "      <td>1233</td>\n",
       "      <td>228</td>\n",
       "    </tr>\n",
       "    <tr>\n",
       "      <th>5824</th>\n",
       "      <td>2021-11-29</td>\n",
       "      <td>22</td>\n",
       "      <td>51.0</td>\n",
       "      <td>41.0</td>\n",
       "      <td>0.002</td>\n",
       "      <td>8.6</td>\n",
       "      <td>0</td>\n",
       "      <td>1.9</td>\n",
       "      <td>70</td>\n",
       "      <td>1250</td>\n",
       "      <td>215</td>\n",
       "    </tr>\n",
       "    <tr>\n",
       "      <th>5825</th>\n",
       "      <td>2021-11-29</td>\n",
       "      <td>23</td>\n",
       "      <td>43.0</td>\n",
       "      <td>35.0</td>\n",
       "      <td>0.001</td>\n",
       "      <td>8.2</td>\n",
       "      <td>0</td>\n",
       "      <td>2.1</td>\n",
       "      <td>71</td>\n",
       "      <td>1262</td>\n",
       "      <td>125</td>\n",
       "    </tr>\n",
       "    <tr>\n",
       "      <th>5826</th>\n",
       "      <td>2021-11-30</td>\n",
       "      <td>0</td>\n",
       "      <td>39.0</td>\n",
       "      <td>31.0</td>\n",
       "      <td>0.004</td>\n",
       "      <td>7.9</td>\n",
       "      <td>0</td>\n",
       "      <td>2.3</td>\n",
       "      <td>71</td>\n",
       "      <td>1483</td>\n",
       "      <td>95</td>\n",
       "    </tr>\n",
       "  </tbody>\n",
       "</table>\n",
       "<p>5827 rows × 11 columns</p>\n",
       "</div>"
      ],
      "text/plain": [
       "            date  hour  PM10  PM2.5  ozone  temperature  precipitation  \\\n",
       "0     2021-04-01     1  42.0   21.0  0.002         13.1              0   \n",
       "1     2021-04-01     2  41.0   21.0  0.003         12.4              0   \n",
       "2     2021-04-01     3  30.0   13.0  0.023         13.1              0   \n",
       "3     2021-04-01     4  27.0   12.0  0.028         13.0              0   \n",
       "4     2021-04-01     5  29.0   14.0  0.008         13.0              0   \n",
       "...          ...   ...   ...    ...    ...          ...            ...   \n",
       "5822  2021-11-29    20  74.0   58.0  0.002          9.3              0   \n",
       "5823  2021-11-29    21  65.0   56.0  0.002          8.4              0   \n",
       "5824  2021-11-29    22  51.0   41.0  0.002          8.6              0   \n",
       "5825  2021-11-29    23  43.0   35.0  0.001          8.2              0   \n",
       "5826  2021-11-30     0  39.0   31.0  0.004          7.9              0   \n",
       "\n",
       "      windspeed  humidity  visibility  count  \n",
       "0           1.4        49        2000     46  \n",
       "1           2.1        53        2000     40  \n",
       "2           3.4        43        2000     31  \n",
       "3           3.1        44        2000     12  \n",
       "4           2.9        44        2000     30  \n",
       "...         ...       ...         ...    ...  \n",
       "5822        0.3        66        1193    273  \n",
       "5823        2.0        70        1233    228  \n",
       "5824        1.9        70        1250    215  \n",
       "5825        2.1        71        1262    125  \n",
       "5826        2.3        71        1483     95  \n",
       "\n",
       "[5827 rows x 11 columns]"
      ]
     },
     "execution_count": 102,
     "metadata": {},
     "output_type": "execute_result"
    }
   ],
   "source": [
    "#이번 프로젝트에서 분석할 데이터를 불러오세요\n",
    "df = pd.read_csv('traindata.csv')\n",
    "df"
   ]
  },
  {
   "cell_type": "code",
   "execution_count": 103,
   "id": "bc71bccd",
   "metadata": {
    "scrolled": true
   },
   "outputs": [
    {
     "data": {
      "text/plain": [
       "date             datetime64[ns]\n",
       "hour                      int64\n",
       "PM10                    float64\n",
       "PM2.5                   float64\n",
       "ozone                   float64\n",
       "temperature             float64\n",
       "precipitation             int64\n",
       "windspeed               float64\n",
       "humidity                  int64\n",
       "visibility                int64\n",
       "count                     int64\n",
       "dtype: object"
      ]
     },
     "execution_count": 103,
     "metadata": {},
     "output_type": "execute_result"
    }
   ],
   "source": [
    "df = pd.read_csv('traindata.csv')\n",
    "df[\"date\"] = pd.to_datetime(df[\"date\"])\n",
    "df['date'].dt.date\n",
    "df.dtypes"
   ]
  },
  {
   "cell_type": "code",
   "execution_count": 104,
   "id": "f6a9973a",
   "metadata": {},
   "outputs": [
    {
     "data": {
      "text/plain": [
       "date               0\n",
       "hour               0\n",
       "PM10             102\n",
       "PM2.5             95\n",
       "ozone            128\n",
       "temperature        0\n",
       "precipitation      0\n",
       "windspeed          0\n",
       "humidity           0\n",
       "visibility         0\n",
       "count              0\n",
       "dtype: int64"
      ]
     },
     "execution_count": 104,
     "metadata": {},
     "output_type": "execute_result"
    }
   ],
   "source": [
    "df.isna().sum()"
   ]
  },
  {
   "cell_type": "code",
   "execution_count": 10,
   "id": "bdb94b7a",
   "metadata": {},
   "outputs": [
    {
     "data": {
      "text/plain": [
       "date             0\n",
       "hour             0\n",
       "PM10             0\n",
       "PM2.5            0\n",
       "ozone            0\n",
       "temperature      0\n",
       "precipitation    0\n",
       "windspeed        0\n",
       "humidity         0\n",
       "visibility       0\n",
       "count            0\n",
       "dtype: int64"
      ]
     },
     "execution_count": 10,
     "metadata": {},
     "output_type": "execute_result"
    }
   ],
   "source": [
    "df['PM10'] = df['PM10'].interpolate(method=\"linear\")\n",
    "df['PM2.5'] = df['PM2.5'].interpolate(method=\"linear\")\n",
    "df['ozone'] = df['ozone'].interpolate(method=\"linear\")\n",
    "df.isna().sum()"
   ]
  },
  {
   "cell_type": "code",
   "execution_count": 100,
   "id": "149ba151",
   "metadata": {},
   "outputs": [
    {
     "name": "stdout",
     "output_type": "stream",
     "text": [
      "0.137\n",
      "0\n"
     ]
    },
    {
     "data": {
      "image/png": "[encoded data removed]",
      "text/plain": [
       "<Figure size 432x288 with 1 Axes>"
      ]
     },
     "metadata": {
      "needs_background": "light"
     },
     "output_type": "display_data"
    }
   ],
   "source": [
    "sns.kdeplot(df['ozone'])\n",
    "print(df['ozone'].max())\n",
    "print(df['ozone'].isna().sum())"
   ]
  },
  {
   "cell_type": "markdown",
   "id": "575b2637",
   "metadata": {},
   "source": [
    "### [과제2] 가설설정\n",
    "#### '가설' 이란 단어를 생각해보면, 우리가 직접 가설을 만들어야 할것 같지만 통계에서 분석기법별 귀무가설/대립가설은 정해져있습니다.\n",
    "- 귀무가설은 차이가 없다, 연관성이 없다, 효과가 없다.\n",
    "- 대립가설은 차이가 있다, 연관성이 있다, 효과가 있다. 라고 간단하게 이해하시면 좋습니다.\n",
    "\n",
    "#### 간단한 예로, 온도와 따릉이 대여량간 가설을 수립 해본다면\n",
    "\n",
    "    - 귀무가설 : 온도와 따릉이 간에는 연관성이 없다.\n",
    "    - 대립가설 : 온도와 따릉이 간에는 연관성이 있다.\n",
    "\n",
    "로 가설이 자연스레 수립 됩니다.\n",
    "\n",
    "\n",
    "\n",
    "---\n",
    "\n",
    "\n",
    "#### <span style=\"color: green\"> 'precipitation' 변수를 포함하여, 최소 5개 이상의 Feature와 따릉이 대여량 간 가설을 수립해주세요. </span>\n",
    "\n",
    "##### Guide : Target은 따릉이 대여량 입니다."
   ]
  },
  {
   "cell_type": "markdown",
   "id": "3d1b7293",
   "metadata": {},
   "source": [
    "- 가설 1 : 1시간전 강우 여부와 따릉이간에는 연관성이 없다.\n",
    "    \n",
    "    ㅇ 대립가설 : 1시간전 강우 여부와 따릉이 대여량 간에는 연관성이 있다.\n",
    "\n",
    "\n",
    "- 가설 2 : 온도와 따릉이 대여량간에는 연관성이 없다.\n",
    "\n",
    "    ㅇ 대립가설 : 온도와 따릉이 대여량간에는 연관성이 있다.\n",
    "\n",
    "- 가설 3 : PM2.5 (초미세먼지 수치)와 따릉이 대여량간에는 연관성이 없다.\n",
    "\n",
    "    ㅇ 대립가설 : PM2.5 (초미세먼지 수치)와 따릉이 대여량간에는 연관성이 있다.\n",
    "\n",
    "- 가설 4 : hour(시간)와 따릉이 대여량간에는 연관성이 없다.\n",
    "\n",
    "    ㅇ 대립가설 : hour(시간)와 따릉이 대여량간에는 연관성이 있다.\n",
    "\n",
    "- 가설 5 : 습도와 미세먼지, 초미세먼지 수치가 관계가 없거나\n",
    "            관계가 있어도 습도와 미세먼지, 초미세먼지 / 따릉이 대여량 간의 관계가 없다\n",
    "\n",
    "    ㅇ 대립가설 : 습도와 미세먼지, 초미세먼지 수치가 관계가 있다.\n",
    "            관계가 있을 경우 습도와 미세먼지, 초미세먼지 / 따릉이 대여량 간의 관계를 분석\n",
    "\n",
    "- 가설 6 : 날짜와 따릉이 대여량간에는 연관성이 없다.\n",
    "\n",
    "    ㅇ 대립가설 : 날짜와 따릉이 대여량간에는 연관성이 있다."
   ]
  },
  {
   "cell_type": "markdown",
   "id": "68202f34",
   "metadata": {},
   "source": [
    "### [과제3] 단변량 분석\n",
    "\n",
    "단변량 분석은 데이터분석의 매우 기초적인 분석기법으로, 독립적인 개별 변수가 가지고있는 특성들을 이해하는 과정입니다.\n",
    "\n",
    "<span style=\"color: green\"> 개별 변수에 대해 아래 사항들을 분석해보세요. </span>\n",
    "\n",
    "1. 변수가 내포하고 있는 의미\n",
    "2. 변수가 수치형인지, 범주형인지\n",
    "3. 결측치 존재 여부 및 조치 방안\n",
    "4. 기초 통계량 확인\n",
    "5. 데이터 분포 확인\n",
    "6. 위 정보로부터 파악한 내용 정리\n",
    "7. 추가 분석사항 도출"
   ]
  },
  {
   "cell_type": "markdown",
   "id": "e3fe59cc",
   "metadata": {},
   "source": [
    "### Feature1 : hour"
   ]
  },
  {
   "cell_type": "markdown",
   "id": "74305cdf",
   "metadata": {},
   "source": [
    "1. 변수가 내포하고 있는 의미"
   ]
  },
  {
   "cell_type": "markdown",
   "id": "7808070b",
   "metadata": {},
   "source": [
    "- 변수의 의미를 한번 짚고 넘어갑시다.\n",
    "hour 변수는 어떤 의미를 가지고 있나요?"
   ]
  },
  {
   "cell_type": "code",
   "execution_count": 11,
   "id": "aa1ffc58",
   "metadata": {},
   "outputs": [
    {
     "ename": "SyntaxError",
     "evalue": "invalid syntax (2938038166.py, line 1)",
     "output_type": "error",
     "traceback": [
      "\u001b[1;36m  Input \u001b[1;32mIn [11]\u001b[1;36m\u001b[0m\n\u001b[1;33m    시간의 흐름\u001b[0m\n\u001b[1;37m        ^\u001b[0m\n\u001b[1;31mSyntaxError\u001b[0m\u001b[1;31m:\u001b[0m invalid syntax\n"
     ]
    }
   ],
   "source": [
    "시간의 흐름"
   ]
  },
  {
   "cell_type": "markdown",
   "id": "f5598656",
   "metadata": {},
   "source": [
    "2. 변수가 수치형인지 범주형인지\n"
   ]
  },
  {
   "cell_type": "code",
   "execution_count": null,
   "id": "e32a046b",
   "metadata": {},
   "outputs": [],
   "source": [
    "#변수의 자료형을 확인해보세요.\n",
    "수치형"
   ]
  },
  {
   "cell_type": "markdown",
   "id": "4812a02e",
   "metadata": {},
   "source": []
  },
  {
   "cell_type": "markdown",
   "id": "52aeba21",
   "metadata": {},
   "source": [
    "3. 변수의 결측치 존재 여부 및 조치방안"
   ]
  },
  {
   "cell_type": "code",
   "execution_count": null,
   "id": "d39a975d",
   "metadata": {},
   "outputs": [],
   "source": [
    "df.shape # 누락된 미세먼지, 오존의 변화량은 시간의 흐름에 따라 앞뒤 값에 종속되어 있을 것으로 판단\n",
    "# 따라서 interpolate (linear)로 채움 <-- 앞뒤의 중간값"
   ]
  },
  {
   "cell_type": "code",
   "execution_count": null,
   "id": "64aba7d6",
   "metadata": {},
   "outputs": [],
   "source": [
    "df.isna().sum()"
   ]
  },
  {
   "cell_type": "code",
   "execution_count": null,
   "id": "526c0c27",
   "metadata": {},
   "outputs": [],
   "source": [
    "#변수의 결측치 존재 여부를 확인하고, 만약 결측치가 존재하면 어떻게 처리할지 고민해보세요. "
   ]
  },
  {
   "cell_type": "markdown",
   "id": "4b220fa2",
   "metadata": {},
   "source": []
  },
  {
   "cell_type": "markdown",
   "id": "2d9760fd",
   "metadata": {},
   "source": [
    "4. 변수의 기초 통계량 확인"
   ]
  },
  {
   "cell_type": "code",
   "execution_count": null,
   "id": "3ba272ed",
   "metadata": {},
   "outputs": [],
   "source": [
    "#변수의 기초 통계량을 확인해보세요\n",
    "pd.options.display.float_format = '{:.1f}'.format\n",
    "df.describe()"
   ]
  },
  {
   "cell_type": "markdown",
   "id": "41b9c5e4",
   "metadata": {},
   "source": []
  },
  {
   "cell_type": "markdown",
   "id": "4eb1b708",
   "metadata": {},
   "source": [
    "5. 변수의 분포 확인"
   ]
  },
  {
   "cell_type": "code",
   "execution_count": null,
   "id": "08f4d2a8",
   "metadata": {},
   "outputs": [],
   "source": [
    "sns.distplot(df['hour'],bins=30) # 의미없음"
   ]
  },
  {
   "cell_type": "code",
   "execution_count": null,
   "id": "8449daa6",
   "metadata": {},
   "outputs": [],
   "source": [
    "df.drop('date', axis = 1)\n",
    "plt.figure(figsize = (16, 16))\n",
    "mask = np.zeros_like(df.corr(), dtype=np.bool)\n",
    "mask[np.triu_indices_from(mask)] = True\n",
    "sns.heatmap(df.corr(), annot = True, fmt = '.3f', mask = mask, cmap = 'RdYlBu_r',  vmin = -1, vmax = 1)\n",
    "plt.show()"
   ]
  },
  {
   "cell_type": "markdown",
   "id": "6efa8ae0",
   "metadata": {},
   "source": []
  },
  {
   "cell_type": "markdown",
   "id": "314284e2",
   "metadata": {},
   "source": [
    "6. 위 정보로 부터 파악한 내용 정리"
   ]
  },
  {
   "cell_type": "code",
   "execution_count": null,
   "id": "55bb2a25",
   "metadata": {},
   "outputs": [],
   "source": [
    "#위 정보로부터 파악하신 내용을 정리해보세요."
   ]
  },
  {
   "cell_type": "markdown",
   "id": "a1cf88f9",
   "metadata": {},
   "source": []
  },
  {
   "cell_type": "markdown",
   "id": "5341f7c2",
   "metadata": {},
   "source": [
    "7. 추가 분석사항 도출"
   ]
  },
  {
   "cell_type": "code",
   "execution_count": null,
   "id": "ebd1fd48",
   "metadata": {},
   "outputs": [],
   "source": [
    "#추가로 분석을 원하는 부분이 있다면 분석후 정리해보세요."
   ]
  },
  {
   "cell_type": "markdown",
   "id": "36924858",
   "metadata": {},
   "source": []
  },
  {
   "cell_type": "markdown",
   "id": "a3ce1e2a",
   "metadata": {},
   "source": [
    "### Feature2 : temperature"
   ]
  },
  {
   "cell_type": "markdown",
   "id": "58985f4d",
   "metadata": {},
   "source": [
    "1. 변수가 내포하고 있는 의미\n",
    "- 변수의 의미를 한번 짚고 넘어갑시다. 여러분이 생각하는 이 변수의 의미를 작성해보세요."
   ]
  },
  {
   "cell_type": "markdown",
   "id": "0411ef67",
   "metadata": {},
   "source": []
  },
  {
   "cell_type": "markdown",
   "id": "433f4deb",
   "metadata": {},
   "source": [
    "2. 변수가 수치형인지 범주형인지\n"
   ]
  },
  {
   "cell_type": "code",
   "execution_count": 12,
   "id": "80cd069c",
   "metadata": {},
   "outputs": [
    {
     "ename": "NameError",
     "evalue": "name '수치형' is not defined",
     "output_type": "error",
     "traceback": [
      "\u001b[1;31m---------------------------------------------------------------------------\u001b[0m",
      "\u001b[1;31mNameError\u001b[0m                                 Traceback (most recent call last)",
      "Input \u001b[1;32mIn [12]\u001b[0m, in \u001b[0;36m<cell line: 2>\u001b[1;34m()\u001b[0m\n\u001b[0;32m      1\u001b[0m \u001b[38;5;66;03m#변수의 자료형을 확인해보세요.\u001b[39;00m\n\u001b[1;32m----> 2\u001b[0m \u001b[43m수치형\u001b[49m\n",
      "\u001b[1;31mNameError\u001b[0m: name '수치형' is not defined"
     ]
    }
   ],
   "source": [
    "#변수의 자료형을 확인해보세요.\n",
    "수치형"
   ]
  },
  {
   "cell_type": "markdown",
   "id": "bbb47500",
   "metadata": {},
   "source": []
  },
  {
   "cell_type": "markdown",
   "id": "66bcd5ed",
   "metadata": {},
   "source": [
    "3. 변수의 결측치 존재 여부 및 조치방안"
   ]
  },
  {
   "cell_type": "code",
   "execution_count": 13,
   "id": "f4f0d611",
   "metadata": {},
   "outputs": [
    {
     "ename": "NameError",
     "evalue": "name '없음' is not defined",
     "output_type": "error",
     "traceback": [
      "\u001b[1;31m---------------------------------------------------------------------------\u001b[0m",
      "\u001b[1;31mNameError\u001b[0m                                 Traceback (most recent call last)",
      "Input \u001b[1;32mIn [13]\u001b[0m, in \u001b[0;36m<cell line: 2>\u001b[1;34m()\u001b[0m\n\u001b[0;32m      1\u001b[0m \u001b[38;5;66;03m#변수의 결측치 존재 여부를 확인하고, 만약 결측치가 존재하면 어떻게 처리할지 고민해보세요. \u001b[39;00m\n\u001b[1;32m----> 2\u001b[0m \u001b[43m없음\u001b[49m\n",
      "\u001b[1;31mNameError\u001b[0m: name '없음' is not defined"
     ]
    }
   ],
   "source": [
    "#변수의 결측치 존재 여부를 확인하고, 만약 결측치가 존재하면 어떻게 처리할지 고민해보세요. \n",
    "없음"
   ]
  },
  {
   "cell_type": "markdown",
   "id": "fcd5c75c",
   "metadata": {},
   "source": []
  },
  {
   "cell_type": "markdown",
   "id": "39066ff1",
   "metadata": {},
   "source": [
    "4. 변수의 기초 통계량 확인"
   ]
  },
  {
   "cell_type": "code",
   "execution_count": 14,
   "id": "d7a28155",
   "metadata": {},
   "outputs": [
    {
     "data": {
      "text/html": [
       "<div>\n",
       "<style scoped>\n",
       "    .dataframe tbody tr th:only-of-type {\n",
       "        vertical-align: middle;\n",
       "    }\n",
       "\n",
       "    .dataframe tbody tr th {\n",
       "        vertical-align: top;\n",
       "    }\n",
       "\n",
       "    .dataframe thead th {\n",
       "        text-align: right;\n",
       "    }\n",
       "</style>\n",
       "<table border=\"1\" class=\"dataframe\">\n",
       "  <thead>\n",
       "    <tr style=\"text-align: right;\">\n",
       "      <th></th>\n",
       "      <th>date</th>\n",
       "      <th>hour</th>\n",
       "      <th>PM10</th>\n",
       "      <th>PM2.5</th>\n",
       "      <th>ozone</th>\n",
       "      <th>temperature</th>\n",
       "      <th>precipitation</th>\n",
       "      <th>windspeed</th>\n",
       "      <th>humidity</th>\n",
       "      <th>visibility</th>\n",
       "      <th>count</th>\n",
       "    </tr>\n",
       "  </thead>\n",
       "  <tbody>\n",
       "    <tr>\n",
       "      <th>0</th>\n",
       "      <td>2021-04-01</td>\n",
       "      <td>1</td>\n",
       "      <td>42.0</td>\n",
       "      <td>21.0</td>\n",
       "      <td>0.002</td>\n",
       "      <td>13.1</td>\n",
       "      <td>0</td>\n",
       "      <td>1.4</td>\n",
       "      <td>49</td>\n",
       "      <td>2000</td>\n",
       "      <td>46</td>\n",
       "    </tr>\n",
       "    <tr>\n",
       "      <th>1</th>\n",
       "      <td>2021-04-01</td>\n",
       "      <td>2</td>\n",
       "      <td>41.0</td>\n",
       "      <td>21.0</td>\n",
       "      <td>0.003</td>\n",
       "      <td>12.4</td>\n",
       "      <td>0</td>\n",
       "      <td>2.1</td>\n",
       "      <td>53</td>\n",
       "      <td>2000</td>\n",
       "      <td>40</td>\n",
       "    </tr>\n",
       "    <tr>\n",
       "      <th>2</th>\n",
       "      <td>2021-04-01</td>\n",
       "      <td>3</td>\n",
       "      <td>30.0</td>\n",
       "      <td>13.0</td>\n",
       "      <td>0.023</td>\n",
       "      <td>13.1</td>\n",
       "      <td>0</td>\n",
       "      <td>3.4</td>\n",
       "      <td>43</td>\n",
       "      <td>2000</td>\n",
       "      <td>31</td>\n",
       "    </tr>\n",
       "    <tr>\n",
       "      <th>3</th>\n",
       "      <td>2021-04-01</td>\n",
       "      <td>4</td>\n",
       "      <td>27.0</td>\n",
       "      <td>12.0</td>\n",
       "      <td>0.028</td>\n",
       "      <td>13.0</td>\n",
       "      <td>0</td>\n",
       "      <td>3.1</td>\n",
       "      <td>44</td>\n",
       "      <td>2000</td>\n",
       "      <td>12</td>\n",
       "    </tr>\n",
       "    <tr>\n",
       "      <th>4</th>\n",
       "      <td>2021-04-01</td>\n",
       "      <td>5</td>\n",
       "      <td>29.0</td>\n",
       "      <td>14.0</td>\n",
       "      <td>0.008</td>\n",
       "      <td>13.0</td>\n",
       "      <td>0</td>\n",
       "      <td>2.9</td>\n",
       "      <td>44</td>\n",
       "      <td>2000</td>\n",
       "      <td>30</td>\n",
       "    </tr>\n",
       "    <tr>\n",
       "      <th>...</th>\n",
       "      <td>...</td>\n",
       "      <td>...</td>\n",
       "      <td>...</td>\n",
       "      <td>...</td>\n",
       "      <td>...</td>\n",
       "      <td>...</td>\n",
       "      <td>...</td>\n",
       "      <td>...</td>\n",
       "      <td>...</td>\n",
       "      <td>...</td>\n",
       "      <td>...</td>\n",
       "    </tr>\n",
       "    <tr>\n",
       "      <th>5822</th>\n",
       "      <td>2021-11-29</td>\n",
       "      <td>20</td>\n",
       "      <td>74.0</td>\n",
       "      <td>58.0</td>\n",
       "      <td>0.002</td>\n",
       "      <td>9.3</td>\n",
       "      <td>0</td>\n",
       "      <td>0.3</td>\n",
       "      <td>66</td>\n",
       "      <td>1193</td>\n",
       "      <td>273</td>\n",
       "    </tr>\n",
       "    <tr>\n",
       "      <th>5823</th>\n",
       "      <td>2021-11-29</td>\n",
       "      <td>21</td>\n",
       "      <td>65.0</td>\n",
       "      <td>56.0</td>\n",
       "      <td>0.002</td>\n",
       "      <td>8.4</td>\n",
       "      <td>0</td>\n",
       "      <td>2.0</td>\n",
       "      <td>70</td>\n",
       "      <td>1233</td>\n",
       "      <td>228</td>\n",
       "    </tr>\n",
       "    <tr>\n",
       "      <th>5824</th>\n",
       "      <td>2021-11-29</td>\n",
       "      <td>22</td>\n",
       "      <td>51.0</td>\n",
       "      <td>41.0</td>\n",
       "      <td>0.002</td>\n",
       "      <td>8.6</td>\n",
       "      <td>0</td>\n",
       "      <td>1.9</td>\n",
       "      <td>70</td>\n",
       "      <td>1250</td>\n",
       "      <td>215</td>\n",
       "    </tr>\n",
       "    <tr>\n",
       "      <th>5825</th>\n",
       "      <td>2021-11-29</td>\n",
       "      <td>23</td>\n",
       "      <td>43.0</td>\n",
       "      <td>35.0</td>\n",
       "      <td>0.001</td>\n",
       "      <td>8.2</td>\n",
       "      <td>0</td>\n",
       "      <td>2.1</td>\n",
       "      <td>71</td>\n",
       "      <td>1262</td>\n",
       "      <td>125</td>\n",
       "    </tr>\n",
       "    <tr>\n",
       "      <th>5826</th>\n",
       "      <td>2021-11-30</td>\n",
       "      <td>0</td>\n",
       "      <td>39.0</td>\n",
       "      <td>31.0</td>\n",
       "      <td>0.004</td>\n",
       "      <td>7.9</td>\n",
       "      <td>0</td>\n",
       "      <td>2.3</td>\n",
       "      <td>71</td>\n",
       "      <td>1483</td>\n",
       "      <td>95</td>\n",
       "    </tr>\n",
       "  </tbody>\n",
       "</table>\n",
       "<p>5827 rows × 11 columns</p>\n",
       "</div>"
      ],
      "text/plain": [
       "           date  hour  PM10  PM2.5  ozone  temperature  precipitation  \\\n",
       "0    2021-04-01     1  42.0   21.0  0.002         13.1              0   \n",
       "1    2021-04-01     2  41.0   21.0  0.003         12.4              0   \n",
       "2    2021-04-01     3  30.0   13.0  0.023         13.1              0   \n",
       "3    2021-04-01     4  27.0   12.0  0.028         13.0              0   \n",
       "4    2021-04-01     5  29.0   14.0  0.008         13.0              0   \n",
       "...         ...   ...   ...    ...    ...          ...            ...   \n",
       "5822 2021-11-29    20  74.0   58.0  0.002          9.3              0   \n",
       "5823 2021-11-29    21  65.0   56.0  0.002          8.4              0   \n",
       "5824 2021-11-29    22  51.0   41.0  0.002          8.6              0   \n",
       "5825 2021-11-29    23  43.0   35.0  0.001          8.2              0   \n",
       "5826 2021-11-30     0  39.0   31.0  0.004          7.9              0   \n",
       "\n",
       "      windspeed  humidity  visibility  count  \n",
       "0           1.4        49        2000     46  \n",
       "1           2.1        53        2000     40  \n",
       "2           3.4        43        2000     31  \n",
       "3           3.1        44        2000     12  \n",
       "4           2.9        44        2000     30  \n",
       "...         ...       ...         ...    ...  \n",
       "5822        0.3        66        1193    273  \n",
       "5823        2.0        70        1233    228  \n",
       "5824        1.9        70        1250    215  \n",
       "5825        2.1        71        1262    125  \n",
       "5826        2.3        71        1483     95  \n",
       "\n",
       "[5827 rows x 11 columns]"
      ]
     },
     "execution_count": 14,
     "metadata": {},
     "output_type": "execute_result"
    }
   ],
   "source": [
    "#변수의 기초 통계량을 확인해보세요\n",
    "df"
   ]
  },
  {
   "cell_type": "markdown",
   "id": "2ae75c7b",
   "metadata": {},
   "source": []
  },
  {
   "cell_type": "markdown",
   "id": "0af71252",
   "metadata": {},
   "source": [
    "5. 변수의 분포 확인"
   ]
  },
  {
   "cell_type": "code",
   "execution_count": 15,
   "id": "36325521",
   "metadata": {},
   "outputs": [
    {
     "data": {
      "text/plain": [
       "<AxesSubplot:xlabel='temperature', ylabel='Density'>"
      ]
     },
     "execution_count": 15,
     "metadata": {},
     "output_type": "execute_result"
    },
    {
     "data": {
      "image/png": "[encoded data removed]",
      "text/plain": [
       "<Figure size 432x288 with 1 Axes>"
      ]
     },
     "metadata": {
      "needs_background": "light"
     },
     "output_type": "display_data"
    }
   ],
   "source": [
    "#변수의 분포를 시각화 라이브러리를 활용해 확인해보세요.\n",
    "sns.distplot(df['temperature'], bins = 30)"
   ]
  },
  {
   "cell_type": "markdown",
   "id": "3584aaff",
   "metadata": {},
   "source": []
  },
  {
   "cell_type": "markdown",
   "id": "4537b015",
   "metadata": {},
   "source": [
    "6. 위 정보로 부터 파악한 내용 정리"
   ]
  },
  {
   "cell_type": "code",
   "execution_count": 16,
   "id": "0fd596c3",
   "metadata": {},
   "outputs": [],
   "source": [
    "#위 정보로부터 파악하신 내용을 정리해보세요.\n",
    "# 20~25도를 기준으로 찌그러진 정규분포의 형태를 보임"
   ]
  },
  {
   "cell_type": "markdown",
   "id": "98c730b7",
   "metadata": {},
   "source": []
  },
  {
   "cell_type": "markdown",
   "id": "a841168d",
   "metadata": {},
   "source": [
    "7. 추가 분석사항 도출"
   ]
  },
  {
   "cell_type": "code",
   "execution_count": 17,
   "id": "83d082e7",
   "metadata": {},
   "outputs": [],
   "source": [
    "#추가로 분석을 원하는 부분이 있다면 분석후 정리해보세요."
   ]
  },
  {
   "cell_type": "markdown",
   "id": "5539f49b",
   "metadata": {},
   "source": []
  },
  {
   "cell_type": "markdown",
   "id": "d28e0cb7",
   "metadata": {},
   "source": [
    "### Feature3 : precipitation"
   ]
  },
  {
   "cell_type": "markdown",
   "id": "1f610bbb",
   "metadata": {},
   "source": [
    "1. 변수가 내포하고 있는 의미\n",
    "- 변수의 의미를 한번 짚고 넘어갑시다. 여러분이 생각하는 이 변수의 의미를 작성해보세요."
   ]
  },
  {
   "cell_type": "markdown",
   "id": "9d506e73",
   "metadata": {},
   "source": []
  },
  {
   "cell_type": "markdown",
   "id": "8a850241",
   "metadata": {},
   "source": [
    "2. 변수가 수치형인지 범주형인지\n"
   ]
  },
  {
   "cell_type": "code",
   "execution_count": 18,
   "id": "35297e17",
   "metadata": {},
   "outputs": [
    {
     "ename": "NameError",
     "evalue": "name '범주형' is not defined",
     "output_type": "error",
     "traceback": [
      "\u001b[1;31m---------------------------------------------------------------------------\u001b[0m",
      "\u001b[1;31mNameError\u001b[0m                                 Traceback (most recent call last)",
      "Input \u001b[1;32mIn [18]\u001b[0m, in \u001b[0;36m<cell line: 2>\u001b[1;34m()\u001b[0m\n\u001b[0;32m      1\u001b[0m \u001b[38;5;66;03m#변수의 자료형을 확인해보세요.\u001b[39;00m\n\u001b[1;32m----> 2\u001b[0m \u001b[43m범주형\u001b[49m\n",
      "\u001b[1;31mNameError\u001b[0m: name '범주형' is not defined"
     ]
    }
   ],
   "source": [
    "#변수의 자료형을 확인해보세요.\n",
    "범주형"
   ]
  },
  {
   "cell_type": "markdown",
   "id": "ed20b4f7",
   "metadata": {},
   "source": []
  },
  {
   "cell_type": "markdown",
   "id": "b529d78e",
   "metadata": {},
   "source": [
    "3. 변수의 결측치 존재 여부 및 조치방안"
   ]
  },
  {
   "cell_type": "code",
   "execution_count": 19,
   "id": "6eeb17b8",
   "metadata": {},
   "outputs": [],
   "source": [
    "#변수의 결측치 존재 여부를 확인하고, 만약 결측치가 존재하면 어떻게 처리할지 고민해보세요. "
   ]
  },
  {
   "cell_type": "markdown",
   "id": "4512d5d5",
   "metadata": {},
   "source": []
  },
  {
   "cell_type": "markdown",
   "id": "acc926eb",
   "metadata": {},
   "source": [
    "4. 변수의 기초 통계량 확인"
   ]
  },
  {
   "cell_type": "code",
   "execution_count": 20,
   "id": "0264e579",
   "metadata": {},
   "outputs": [],
   "source": [
    "#변수의 기초 통계량을 확인해보세요\n"
   ]
  },
  {
   "cell_type": "markdown",
   "id": "f88db1bc",
   "metadata": {},
   "source": []
  },
  {
   "cell_type": "markdown",
   "id": "1fe89aa2",
   "metadata": {},
   "source": [
    "5. 변수의 분포 확인"
   ]
  },
  {
   "cell_type": "code",
   "execution_count": 21,
   "id": "29e923f6",
   "metadata": {
    "scrolled": true
   },
   "outputs": [
    {
     "data": {
      "text/plain": [
       "0    5387\n",
       "1     440\n",
       "Name: precipitation, dtype: int64"
      ]
     },
     "execution_count": 21,
     "metadata": {},
     "output_type": "execute_result"
    }
   ],
   "source": [
    "#변수의 분포를 시각화 라이브러리를 활용해 확인해보세요.\n",
    "df['precipitation'].value_counts()"
   ]
  },
  {
   "cell_type": "code",
   "execution_count": 22,
   "id": "6a052660",
   "metadata": {
    "scrolled": true
   },
   "outputs": [
    {
     "data": {
      "text/plain": [
       "date             datetime64[ns]\n",
       "hour                      int64\n",
       "PM10                    float64\n",
       "PM2.5                   float64\n",
       "ozone                   float64\n",
       "temperature             float64\n",
       "precipitation             int64\n",
       "windspeed               float64\n",
       "humidity                  int64\n",
       "visibility                int64\n",
       "count                     int64\n",
       "dtype: object"
      ]
     },
     "execution_count": 22,
     "metadata": {},
     "output_type": "execute_result"
    }
   ],
   "source": [
    "df = pd.read_csv('traindata.csv')\n",
    "df[\"date\"] = pd.to_datetime(df[\"date\"])\n",
    "df['date'].dt.date\n",
    "df.dtypes"
   ]
  },
  {
   "cell_type": "code",
   "execution_count": 23,
   "id": "6c10a9a0",
   "metadata": {},
   "outputs": [
    {
     "data": {
      "text/plain": [
       "date             0\n",
       "hour             0\n",
       "PM10             0\n",
       "PM2.5            0\n",
       "ozone            0\n",
       "temperature      0\n",
       "precipitation    0\n",
       "windspeed        0\n",
       "humidity         0\n",
       "visibility       0\n",
       "count            0\n",
       "dtype: int64"
      ]
     },
     "execution_count": 23,
     "metadata": {},
     "output_type": "execute_result"
    }
   ],
   "source": [
    "df['PM10'] = df['PM10'].interpolate(method=\"linear\")\n",
    "df['PM2.5'] = df['PM2.5'].interpolate(method=\"linear\")\n",
    "df['ozone'] = df['ozone'].interpolate(method=\"linear\")\n",
    "df.isna().sum()"
   ]
  },
  {
   "cell_type": "code",
   "execution_count": 24,
   "id": "0cfaa2bf",
   "metadata": {
    "scrolled": true
   },
   "outputs": [
    {
     "data": {
      "text/html": [
       "<div>\n",
       "<style scoped>\n",
       "    .dataframe tbody tr th:only-of-type {\n",
       "        vertical-align: middle;\n",
       "    }\n",
       "\n",
       "    .dataframe tbody tr th {\n",
       "        vertical-align: top;\n",
       "    }\n",
       "\n",
       "    .dataframe thead th {\n",
       "        text-align: right;\n",
       "    }\n",
       "</style>\n",
       "<table border=\"1\" class=\"dataframe\">\n",
       "  <thead>\n",
       "    <tr style=\"text-align: right;\">\n",
       "      <th></th>\n",
       "      <th>date</th>\n",
       "      <th>hour</th>\n",
       "      <th>PM10</th>\n",
       "      <th>PM2.5</th>\n",
       "      <th>ozone</th>\n",
       "      <th>temperature</th>\n",
       "      <th>precipitation</th>\n",
       "      <th>windspeed</th>\n",
       "      <th>humidity</th>\n",
       "      <th>visibility</th>\n",
       "      <th>count</th>\n",
       "    </tr>\n",
       "  </thead>\n",
       "  <tbody>\n",
       "    <tr>\n",
       "      <th>0</th>\n",
       "      <td>2021-04-01</td>\n",
       "      <td>1</td>\n",
       "      <td>42.0</td>\n",
       "      <td>21.0</td>\n",
       "      <td>0.002</td>\n",
       "      <td>13.1</td>\n",
       "      <td>0</td>\n",
       "      <td>1.4</td>\n",
       "      <td>49</td>\n",
       "      <td>2000</td>\n",
       "      <td>46</td>\n",
       "    </tr>\n",
       "    <tr>\n",
       "      <th>1</th>\n",
       "      <td>2021-04-01</td>\n",
       "      <td>2</td>\n",
       "      <td>41.0</td>\n",
       "      <td>21.0</td>\n",
       "      <td>0.003</td>\n",
       "      <td>12.4</td>\n",
       "      <td>0</td>\n",
       "      <td>2.1</td>\n",
       "      <td>53</td>\n",
       "      <td>2000</td>\n",
       "      <td>40</td>\n",
       "    </tr>\n",
       "    <tr>\n",
       "      <th>2</th>\n",
       "      <td>2021-04-01</td>\n",
       "      <td>3</td>\n",
       "      <td>30.0</td>\n",
       "      <td>13.0</td>\n",
       "      <td>0.023</td>\n",
       "      <td>13.1</td>\n",
       "      <td>0</td>\n",
       "      <td>3.4</td>\n",
       "      <td>43</td>\n",
       "      <td>2000</td>\n",
       "      <td>31</td>\n",
       "    </tr>\n",
       "    <tr>\n",
       "      <th>3</th>\n",
       "      <td>2021-04-01</td>\n",
       "      <td>4</td>\n",
       "      <td>27.0</td>\n",
       "      <td>12.0</td>\n",
       "      <td>0.028</td>\n",
       "      <td>13.0</td>\n",
       "      <td>0</td>\n",
       "      <td>3.1</td>\n",
       "      <td>44</td>\n",
       "      <td>2000</td>\n",
       "      <td>12</td>\n",
       "    </tr>\n",
       "    <tr>\n",
       "      <th>4</th>\n",
       "      <td>2021-04-01</td>\n",
       "      <td>5</td>\n",
       "      <td>29.0</td>\n",
       "      <td>14.0</td>\n",
       "      <td>0.008</td>\n",
       "      <td>13.0</td>\n",
       "      <td>0</td>\n",
       "      <td>2.9</td>\n",
       "      <td>44</td>\n",
       "      <td>2000</td>\n",
       "      <td>30</td>\n",
       "    </tr>\n",
       "    <tr>\n",
       "      <th>...</th>\n",
       "      <td>...</td>\n",
       "      <td>...</td>\n",
       "      <td>...</td>\n",
       "      <td>...</td>\n",
       "      <td>...</td>\n",
       "      <td>...</td>\n",
       "      <td>...</td>\n",
       "      <td>...</td>\n",
       "      <td>...</td>\n",
       "      <td>...</td>\n",
       "      <td>...</td>\n",
       "    </tr>\n",
       "    <tr>\n",
       "      <th>5822</th>\n",
       "      <td>2021-11-29</td>\n",
       "      <td>20</td>\n",
       "      <td>74.0</td>\n",
       "      <td>58.0</td>\n",
       "      <td>0.002</td>\n",
       "      <td>9.3</td>\n",
       "      <td>0</td>\n",
       "      <td>0.3</td>\n",
       "      <td>66</td>\n",
       "      <td>1193</td>\n",
       "      <td>273</td>\n",
       "    </tr>\n",
       "    <tr>\n",
       "      <th>5823</th>\n",
       "      <td>2021-11-29</td>\n",
       "      <td>21</td>\n",
       "      <td>65.0</td>\n",
       "      <td>56.0</td>\n",
       "      <td>0.002</td>\n",
       "      <td>8.4</td>\n",
       "      <td>0</td>\n",
       "      <td>2.0</td>\n",
       "      <td>70</td>\n",
       "      <td>1233</td>\n",
       "      <td>228</td>\n",
       "    </tr>\n",
       "    <tr>\n",
       "      <th>5824</th>\n",
       "      <td>2021-11-29</td>\n",
       "      <td>22</td>\n",
       "      <td>51.0</td>\n",
       "      <td>41.0</td>\n",
       "      <td>0.002</td>\n",
       "      <td>8.6</td>\n",
       "      <td>0</td>\n",
       "      <td>1.9</td>\n",
       "      <td>70</td>\n",
       "      <td>1250</td>\n",
       "      <td>215</td>\n",
       "    </tr>\n",
       "    <tr>\n",
       "      <th>5825</th>\n",
       "      <td>2021-11-29</td>\n",
       "      <td>23</td>\n",
       "      <td>43.0</td>\n",
       "      <td>35.0</td>\n",
       "      <td>0.001</td>\n",
       "      <td>8.2</td>\n",
       "      <td>0</td>\n",
       "      <td>2.1</td>\n",
       "      <td>71</td>\n",
       "      <td>1262</td>\n",
       "      <td>125</td>\n",
       "    </tr>\n",
       "    <tr>\n",
       "      <th>5826</th>\n",
       "      <td>2021-11-30</td>\n",
       "      <td>0</td>\n",
       "      <td>39.0</td>\n",
       "      <td>31.0</td>\n",
       "      <td>0.004</td>\n",
       "      <td>7.9</td>\n",
       "      <td>0</td>\n",
       "      <td>2.3</td>\n",
       "      <td>71</td>\n",
       "      <td>1483</td>\n",
       "      <td>95</td>\n",
       "    </tr>\n",
       "  </tbody>\n",
       "</table>\n",
       "<p>5827 rows × 11 columns</p>\n",
       "</div>"
      ],
      "text/plain": [
       "           date  hour  PM10  PM2.5  ozone  temperature  precipitation  \\\n",
       "0    2021-04-01     1  42.0   21.0  0.002         13.1              0   \n",
       "1    2021-04-01     2  41.0   21.0  0.003         12.4              0   \n",
       "2    2021-04-01     3  30.0   13.0  0.023         13.1              0   \n",
       "3    2021-04-01     4  27.0   12.0  0.028         13.0              0   \n",
       "4    2021-04-01     5  29.0   14.0  0.008         13.0              0   \n",
       "...         ...   ...   ...    ...    ...          ...            ...   \n",
       "5822 2021-11-29    20  74.0   58.0  0.002          9.3              0   \n",
       "5823 2021-11-29    21  65.0   56.0  0.002          8.4              0   \n",
       "5824 2021-11-29    22  51.0   41.0  0.002          8.6              0   \n",
       "5825 2021-11-29    23  43.0   35.0  0.001          8.2              0   \n",
       "5826 2021-11-30     0  39.0   31.0  0.004          7.9              0   \n",
       "\n",
       "      windspeed  humidity  visibility  count  \n",
       "0           1.4        49        2000     46  \n",
       "1           2.1        53        2000     40  \n",
       "2           3.4        43        2000     31  \n",
       "3           3.1        44        2000     12  \n",
       "4           2.9        44        2000     30  \n",
       "...         ...       ...         ...    ...  \n",
       "5822        0.3        66        1193    273  \n",
       "5823        2.0        70        1233    228  \n",
       "5824        1.9        70        1250    215  \n",
       "5825        2.1        71        1262    125  \n",
       "5826        2.3        71        1483     95  \n",
       "\n",
       "[5827 rows x 11 columns]"
      ]
     },
     "execution_count": 24,
     "metadata": {},
     "output_type": "execute_result"
    }
   ],
   "source": [
    "df"
   ]
  },
  {
   "cell_type": "code",
   "execution_count": 25,
   "id": "22d0c903",
   "metadata": {},
   "outputs": [
    {
     "data": {
      "text/html": [
       "<div>\n",
       "<style scoped>\n",
       "    .dataframe tbody tr th:only-of-type {\n",
       "        vertical-align: middle;\n",
       "    }\n",
       "\n",
       "    .dataframe tbody tr th {\n",
       "        vertical-align: top;\n",
       "    }\n",
       "\n",
       "    .dataframe thead th {\n",
       "        text-align: right;\n",
       "    }\n",
       "</style>\n",
       "<table border=\"1\" class=\"dataframe\">\n",
       "  <thead>\n",
       "    <tr style=\"text-align: right;\">\n",
       "      <th></th>\n",
       "      <th>PM10</th>\n",
       "      <th>PM2.5</th>\n",
       "    </tr>\n",
       "    <tr>\n",
       "      <th>precipitation</th>\n",
       "      <th></th>\n",
       "      <th></th>\n",
       "    </tr>\n",
       "  </thead>\n",
       "  <tbody>\n",
       "    <tr>\n",
       "      <th>0</th>\n",
       "      <td>32.990712</td>\n",
       "      <td>16.154867</td>\n",
       "    </tr>\n",
       "    <tr>\n",
       "      <th>1</th>\n",
       "      <td>17.668258</td>\n",
       "      <td>9.253939</td>\n",
       "    </tr>\n",
       "  </tbody>\n",
       "</table>\n",
       "</div>"
      ],
      "text/plain": [
       "                    PM10      PM2.5\n",
       "precipitation                      \n",
       "0              32.990712  16.154867\n",
       "1              17.668258   9.253939"
      ]
     },
     "execution_count": 25,
     "metadata": {},
     "output_type": "execute_result"
    }
   ],
   "source": [
    "df.groupby(['precipitation'], as_index = True)['PM10', 'PM2.5'].mean()"
   ]
  },
  {
   "cell_type": "markdown",
   "id": "c2450072",
   "metadata": {},
   "source": []
  },
  {
   "cell_type": "markdown",
   "id": "79502a1c",
   "metadata": {},
   "source": [
    "6. 위 정보로 부터 파악한 내용 정리"
   ]
  },
  {
   "cell_type": "code",
   "execution_count": 456,
   "id": "6b423d2d",
   "metadata": {},
   "outputs": [],
   "source": [
    "#위 정보로부터 파악하신 내용을 정리해보세요."
   ]
  },
  {
   "cell_type": "markdown",
   "id": "df2825a9",
   "metadata": {},
   "source": []
  },
  {
   "cell_type": "markdown",
   "id": "1f8cf322",
   "metadata": {},
   "source": [
    "7. 추가 분석사항 도출"
   ]
  },
  {
   "cell_type": "code",
   "execution_count": 457,
   "id": "ca3203ff",
   "metadata": {},
   "outputs": [],
   "source": [
    "#추가로 분석을 원하는 부분이 있다면 분석후 정리해보세요."
   ]
  },
  {
   "cell_type": "markdown",
   "id": "fb9a7f84",
   "metadata": {},
   "source": []
  },
  {
   "cell_type": "markdown",
   "id": "c559e931",
   "metadata": {},
   "source": [
    "### Feature4 : windspeed"
   ]
  },
  {
   "cell_type": "markdown",
   "id": "97b512d7",
   "metadata": {},
   "source": [
    "1. 변수가 내포하고 있는 의미\n",
    "- 변수의 의미를 한번 짚고 넘어갑시다. 여러분이 생각하는 이 변수의 의미를 작성해보세요."
   ]
  },
  {
   "cell_type": "markdown",
   "id": "e4be8bf7",
   "metadata": {},
   "source": []
  },
  {
   "cell_type": "markdown",
   "id": "6f8181b9",
   "metadata": {},
   "source": [
    "2. 변수가 수치형인지 범주형인지\n"
   ]
  },
  {
   "cell_type": "code",
   "execution_count": 458,
   "id": "8891e460",
   "metadata": {},
   "outputs": [],
   "source": [
    "#변수의 자료형을 확인해보세요."
   ]
  },
  {
   "cell_type": "markdown",
   "id": "f391b647",
   "metadata": {},
   "source": []
  },
  {
   "cell_type": "markdown",
   "id": "26ca6865",
   "metadata": {},
   "source": [
    "3. 변수의 결측치 존재 여부 및 조치방안"
   ]
  },
  {
   "cell_type": "code",
   "execution_count": 459,
   "id": "3ae2c41a",
   "metadata": {},
   "outputs": [],
   "source": [
    "#변수의 결측치 존재 여부를 확인하고, 만약 결측치가 존재하면 어떻게 처리할지 고민해보세요. "
   ]
  },
  {
   "cell_type": "markdown",
   "id": "58d9a20b",
   "metadata": {},
   "source": []
  },
  {
   "cell_type": "markdown",
   "id": "f5464c0e",
   "metadata": {},
   "source": [
    "4. 변수의 기초 통계량 확인"
   ]
  },
  {
   "cell_type": "code",
   "execution_count": 460,
   "id": "343c55aa",
   "metadata": {},
   "outputs": [],
   "source": [
    "#변수의 기초 통계량을 확인해보세요"
   ]
  },
  {
   "cell_type": "markdown",
   "id": "28e3d2d5",
   "metadata": {},
   "source": []
  },
  {
   "cell_type": "markdown",
   "id": "7fdb808b",
   "metadata": {},
   "source": [
    "5. 변수의 분포 확인"
   ]
  },
  {
   "cell_type": "code",
   "execution_count": 461,
   "id": "e272798a",
   "metadata": {},
   "outputs": [
    {
     "data": {
      "text/plain": [
       "<AxesSubplot:xlabel='windspeed', ylabel='Density'>"
      ]
     },
     "execution_count": 461,
     "metadata": {},
     "output_type": "execute_result"
    },
    {
     "data": {
      "image/png": "[encoded data removed]",
      "text/plain": [
       "<Figure size 432x288 with 1 Axes>"
      ]
     },
     "metadata": {},
     "output_type": "display_data"
    }
   ],
   "source": [
    "#변수의 분포를 시각화 라이브러리를 활용해 확인해보세요.\n",
    "sns.distplot(df['windspeed'], bins = 30)"
   ]
  },
  {
   "cell_type": "markdown",
   "id": "a65ca188",
   "metadata": {},
   "source": []
  },
  {
   "cell_type": "markdown",
   "id": "3ba72feb",
   "metadata": {},
   "source": [
    "6. 위 정보로 부터 파악한 내용 정리"
   ]
  },
  {
   "cell_type": "code",
   "execution_count": 462,
   "id": "5780a1db",
   "metadata": {},
   "outputs": [],
   "source": [
    "#위 정보로부터 파악하신 내용을 정리해보세요."
   ]
  },
  {
   "cell_type": "markdown",
   "id": "bbe97378",
   "metadata": {},
   "source": []
  },
  {
   "cell_type": "markdown",
   "id": "ac98a7d4",
   "metadata": {},
   "source": [
    "7. 추가 분석사항 도출"
   ]
  },
  {
   "cell_type": "code",
   "execution_count": 463,
   "id": "38045dd8",
   "metadata": {},
   "outputs": [],
   "source": [
    "#추가로 분석을 원하는 부분이 있다면 분석후 정리해보세요."
   ]
  },
  {
   "cell_type": "markdown",
   "id": "c85980cd",
   "metadata": {},
   "source": []
  },
  {
   "cell_type": "markdown",
   "id": "be6f4dcc",
   "metadata": {},
   "source": [
    "### Feature5 : humidity"
   ]
  },
  {
   "cell_type": "markdown",
   "id": "5d855a3c",
   "metadata": {},
   "source": [
    "1. 변수가 내포하고 있는 의미\n",
    "- 변수의 의미를 한번 짚고 넘어갑시다. 여러분이 생각하는 이 변수의 의미를 작성해보세요."
   ]
  },
  {
   "cell_type": "markdown",
   "id": "9262be44",
   "metadata": {},
   "source": []
  },
  {
   "cell_type": "markdown",
   "id": "7e990445",
   "metadata": {},
   "source": [
    "2. 변수가 수치형인지 범주형인지\n"
   ]
  },
  {
   "cell_type": "code",
   "execution_count": 464,
   "id": "4235e1bb",
   "metadata": {},
   "outputs": [],
   "source": [
    "#변수의 자료형을 확인해보세요."
   ]
  },
  {
   "cell_type": "markdown",
   "id": "c9065069",
   "metadata": {},
   "source": []
  },
  {
   "cell_type": "markdown",
   "id": "6959ce1e",
   "metadata": {},
   "source": [
    "3. 변수의 결측치 존재 여부 및 조치방안"
   ]
  },
  {
   "cell_type": "code",
   "execution_count": 465,
   "id": "47b6d781",
   "metadata": {},
   "outputs": [],
   "source": [
    "#변수의 결측치 존재 여부를 확인하고, 만약 결측치가 존재하면 어떻게 처리할지 고민해보세요. "
   ]
  },
  {
   "cell_type": "markdown",
   "id": "54aa42db",
   "metadata": {},
   "source": []
  },
  {
   "cell_type": "markdown",
   "id": "63599566",
   "metadata": {},
   "source": [
    "4. 변수의 기초 통계량 확인"
   ]
  },
  {
   "cell_type": "code",
   "execution_count": 466,
   "id": "8224c2ae",
   "metadata": {},
   "outputs": [],
   "source": [
    "#변수의 기초 통계량을 확인해보세요"
   ]
  },
  {
   "cell_type": "markdown",
   "id": "634134af",
   "metadata": {},
   "source": []
  },
  {
   "cell_type": "markdown",
   "id": "4cd643aa",
   "metadata": {},
   "source": [
    "5. 변수의 분포 확인"
   ]
  },
  {
   "cell_type": "code",
   "execution_count": 467,
   "id": "8fce2f93",
   "metadata": {},
   "outputs": [],
   "source": [
    "#변수의 분포를 시각화 라이브러리를 활용해 확인해보세요."
   ]
  },
  {
   "cell_type": "markdown",
   "id": "66e1a98a",
   "metadata": {},
   "source": []
  },
  {
   "cell_type": "markdown",
   "id": "19ced76a",
   "metadata": {},
   "source": [
    "6. 위 정보로 부터 파악한 내용 정리"
   ]
  },
  {
   "cell_type": "code",
   "execution_count": 468,
   "id": "a99a33f8",
   "metadata": {},
   "outputs": [],
   "source": [
    "#위 정보로부터 파악하신 내용을 정리해보세요."
   ]
  },
  {
   "cell_type": "markdown",
   "id": "7348212f",
   "metadata": {},
   "source": []
  },
  {
   "cell_type": "markdown",
   "id": "80f619a7",
   "metadata": {},
   "source": [
    "7. 추가 분석사항 도출"
   ]
  },
  {
   "cell_type": "code",
   "execution_count": 469,
   "id": "a3bc3b3a",
   "metadata": {},
   "outputs": [],
   "source": [
    "#추가로 분석을 원하는 부분이 있다면 분석후 정리해보세요."
   ]
  },
  {
   "cell_type": "markdown",
   "id": "a4a745dd",
   "metadata": {},
   "source": []
  },
  {
   "cell_type": "markdown",
   "id": "95e6fe1c",
   "metadata": {},
   "source": [
    "### Feature6 : visibility"
   ]
  },
  {
   "cell_type": "markdown",
   "id": "4d8d4161",
   "metadata": {},
   "source": [
    "1. 변수가 내포하고 있는 의미\n",
    "- 변수의 의미를 한번 짚고 넘어갑시다. 여러분이 생각하는 이 변수의 의미를 작성해보세요."
   ]
  },
  {
   "cell_type": "markdown",
   "id": "25e2f59d",
   "metadata": {},
   "source": []
  },
  {
   "cell_type": "markdown",
   "id": "b33e5686",
   "metadata": {},
   "source": [
    "2. 변수가 수치형인지 범주형인지\n"
   ]
  },
  {
   "cell_type": "code",
   "execution_count": 470,
   "id": "372dd097",
   "metadata": {},
   "outputs": [],
   "source": [
    "#변수의 자료형을 확인해보세요."
   ]
  },
  {
   "cell_type": "markdown",
   "id": "9aeaf4b2",
   "metadata": {},
   "source": []
  },
  {
   "cell_type": "markdown",
   "id": "8e9fd405",
   "metadata": {},
   "source": [
    "3. 변수의 결측치 존재 여부 및 조치방안"
   ]
  },
  {
   "cell_type": "code",
   "execution_count": 471,
   "id": "2032b0b8",
   "metadata": {},
   "outputs": [],
   "source": [
    "#변수의 결측치 존재 여부를 확인하고, 만약 결측치가 존재하면 어떻게 처리할지 고민해보세요. "
   ]
  },
  {
   "cell_type": "markdown",
   "id": "6edc4f17",
   "metadata": {},
   "source": []
  },
  {
   "cell_type": "markdown",
   "id": "f9b63404",
   "metadata": {},
   "source": [
    "4. 변수의 기초 통계량 확인"
   ]
  },
  {
   "cell_type": "code",
   "execution_count": 472,
   "id": "1384d78e",
   "metadata": {},
   "outputs": [],
   "source": [
    "#변수의 기초 통계량을 확인해보세요"
   ]
  },
  {
   "cell_type": "markdown",
   "id": "cf3b3071",
   "metadata": {},
   "source": []
  },
  {
   "cell_type": "markdown",
   "id": "60725e5f",
   "metadata": {},
   "source": [
    "5. 변수의 분포 확인"
   ]
  },
  {
   "cell_type": "code",
   "execution_count": 473,
   "id": "68a7ebac",
   "metadata": {},
   "outputs": [
    {
     "data": {
      "text/plain": [
       "<AxesSubplot:xlabel='visibility', ylabel='Density'>"
      ]
     },
     "execution_count": 473,
     "metadata": {},
     "output_type": "execute_result"
    },
    {
     "data": {
      "image/png": "[encoded data removed]",
      "text/plain": [
       "<Figure size 432x288 with 1 Axes>"
      ]
     },
     "metadata": {},
     "output_type": "display_data"
    }
   ],
   "source": [
    "#변수의 분포를 시각화 라이브러리를 활용해 확인해보세요.\n",
    "sns.distplot(df['visibility'], bins = 30)"
   ]
  },
  {
   "cell_type": "markdown",
   "id": "22a0bde2",
   "metadata": {},
   "source": []
  },
  {
   "cell_type": "markdown",
   "id": "fdba3607",
   "metadata": {},
   "source": [
    "6. 위 정보로 부터 파악한 내용 정리"
   ]
  },
  {
   "cell_type": "code",
   "execution_count": 474,
   "id": "fd2bb805",
   "metadata": {},
   "outputs": [],
   "source": [
    "#위 정보로부터 파악하신 내용을 정리해보세요."
   ]
  },
  {
   "cell_type": "markdown",
   "id": "a759667f",
   "metadata": {},
   "source": []
  },
  {
   "cell_type": "markdown",
   "id": "3298700f",
   "metadata": {},
   "source": [
    "7. 추가 분석사항 도출"
   ]
  },
  {
   "cell_type": "code",
   "execution_count": 475,
   "id": "979f7bad",
   "metadata": {},
   "outputs": [],
   "source": [
    "#추가로 분석을 원하는 부분이 있다면 분석후 정리해보세요."
   ]
  },
  {
   "cell_type": "markdown",
   "id": "abf46ea0",
   "metadata": {},
   "source": []
  },
  {
   "cell_type": "markdown",
   "id": "f24f88e2",
   "metadata": {},
   "source": [
    "### Feature7 : ozone"
   ]
  },
  {
   "cell_type": "markdown",
   "id": "f0a47725",
   "metadata": {},
   "source": [
    "1. 변수가 내포하고 있는 의미\n",
    "- 변수의 의미를 한번 짚고 넘어갑시다. 여러분이 생각하는 이 변수의 의미를 작성해보세요."
   ]
  },
  {
   "cell_type": "markdown",
   "id": "3c3ae5ad",
   "metadata": {},
   "source": []
  },
  {
   "cell_type": "markdown",
   "id": "f13664fc",
   "metadata": {},
   "source": [
    "2. 변수가 수치형인지 범주형인지\n"
   ]
  },
  {
   "cell_type": "code",
   "execution_count": 476,
   "id": "51d43f23",
   "metadata": {},
   "outputs": [],
   "source": [
    "#변수의 자료형을 확인해보세요."
   ]
  },
  {
   "cell_type": "markdown",
   "id": "4a596bc0",
   "metadata": {},
   "source": []
  },
  {
   "cell_type": "markdown",
   "id": "afd669e5",
   "metadata": {},
   "source": [
    "3. 변수의 결측치 존재 여부 및 조치방안"
   ]
  },
  {
   "cell_type": "code",
   "execution_count": 477,
   "id": "44fb9001",
   "metadata": {},
   "outputs": [],
   "source": [
    "#변수의 결측치 존재 여부를 확인하고, 만약 결측치가 존재하면 어떻게 처리할지 고민해보세요. "
   ]
  },
  {
   "cell_type": "markdown",
   "id": "d8aa00e4",
   "metadata": {},
   "source": []
  },
  {
   "cell_type": "markdown",
   "id": "f1e5f8b8",
   "metadata": {},
   "source": [
    "4. 변수의 기초 통계량 확인"
   ]
  },
  {
   "cell_type": "code",
   "execution_count": 478,
   "id": "e6384fcc",
   "metadata": {},
   "outputs": [],
   "source": [
    "#변수의 기초 통계량을 확인해보세요"
   ]
  },
  {
   "cell_type": "markdown",
   "id": "2ee8056a",
   "metadata": {},
   "source": []
  },
  {
   "cell_type": "markdown",
   "id": "6199653e",
   "metadata": {},
   "source": [
    "5. 변수의 분포 확인"
   ]
  },
  {
   "cell_type": "code",
   "execution_count": 479,
   "id": "95be208c",
   "metadata": {},
   "outputs": [
    {
     "data": {
      "text/plain": [
       "<AxesSubplot:xlabel='ozone', ylabel='Density'>"
      ]
     },
     "execution_count": 479,
     "metadata": {},
     "output_type": "execute_result"
    },
    {
     "data": {
      "image/png": "[encoded data removed]",
      "text/plain": [
       "<Figure size 432x288 with 1 Axes>"
      ]
     },
     "metadata": {},
     "output_type": "display_data"
    }
   ],
   "source": [
    "#변수의 분포를 시각화 라이브러리를 활용해 확인해보세요.\n",
    "sns.distplot(df['ozone'], bins = 30)"
   ]
  },
  {
   "cell_type": "markdown",
   "id": "28f8380a",
   "metadata": {},
   "source": []
  },
  {
   "cell_type": "markdown",
   "id": "d938f453",
   "metadata": {},
   "source": [
    "6. 위 정보로 부터 파악한 내용 정리"
   ]
  },
  {
   "cell_type": "code",
   "execution_count": 480,
   "id": "726a66f7",
   "metadata": {},
   "outputs": [],
   "source": [
    "#위 정보로부터 파악하신 내용을 정리해보세요."
   ]
  },
  {
   "cell_type": "markdown",
   "id": "5274199e",
   "metadata": {},
   "source": []
  },
  {
   "cell_type": "markdown",
   "id": "77c28101",
   "metadata": {},
   "source": [
    "7. 추가 분석사항 도출"
   ]
  },
  {
   "cell_type": "code",
   "execution_count": 481,
   "id": "5ee45597",
   "metadata": {},
   "outputs": [],
   "source": [
    "#추가로 분석을 원하는 부분이 있다면 분석후 정리해보세요."
   ]
  },
  {
   "cell_type": "markdown",
   "id": "338a6ecc",
   "metadata": {},
   "source": []
  },
  {
   "cell_type": "markdown",
   "id": "f54ffd2f",
   "metadata": {},
   "source": [
    "### Feature8 : PM10"
   ]
  },
  {
   "cell_type": "markdown",
   "id": "74e73383",
   "metadata": {},
   "source": [
    "1. 변수가 내포하고 있는 의미\n",
    "- 변수의 의미를 한번 짚고 넘어갑시다. 여러분이 생각하는 이 변수의 의미를 작성해보세요."
   ]
  },
  {
   "cell_type": "markdown",
   "id": "8cf9399e",
   "metadata": {},
   "source": []
  },
  {
   "cell_type": "markdown",
   "id": "5c133549",
   "metadata": {},
   "source": [
    "2. 변수가 수치형인지 범주형인지\n"
   ]
  },
  {
   "cell_type": "code",
   "execution_count": 482,
   "id": "5ca0db94",
   "metadata": {},
   "outputs": [],
   "source": [
    "#변수의 자료형을 확인해보세요."
   ]
  },
  {
   "cell_type": "markdown",
   "id": "0b6df4b5",
   "metadata": {},
   "source": []
  },
  {
   "cell_type": "markdown",
   "id": "64bee02d",
   "metadata": {},
   "source": [
    "3. 변수의 결측치 존재 여부 및 조치방안"
   ]
  },
  {
   "cell_type": "code",
   "execution_count": 483,
   "id": "008ebaee",
   "metadata": {},
   "outputs": [],
   "source": [
    "#변수의 결측치 존재 여부를 확인하고, 만약 결측치가 존재하면 어떻게 처리할지 고민해보세요. "
   ]
  },
  {
   "cell_type": "markdown",
   "id": "3d9c6b68",
   "metadata": {},
   "source": []
  },
  {
   "cell_type": "markdown",
   "id": "b96cba72",
   "metadata": {},
   "source": [
    "4. 변수의 기초 통계량 확인"
   ]
  },
  {
   "cell_type": "code",
   "execution_count": 484,
   "id": "1bcabef4",
   "metadata": {},
   "outputs": [],
   "source": [
    "#변수의 기초 통계량을 확인해보세요"
   ]
  },
  {
   "cell_type": "markdown",
   "id": "c3e7d269",
   "metadata": {},
   "source": []
  },
  {
   "cell_type": "markdown",
   "id": "2a552004",
   "metadata": {},
   "source": [
    "5. 변수의 분포 확인"
   ]
  },
  {
   "cell_type": "code",
   "execution_count": 485,
   "id": "60b25ccc",
   "metadata": {},
   "outputs": [
    {
     "data": {
      "text/plain": [
       "<AxesSubplot:xlabel='PM10', ylabel='Density'>"
      ]
     },
     "execution_count": 485,
     "metadata": {},
     "output_type": "execute_result"
    },
    {
     "data": {
      "image/png": "[encoded data removed]",
      "text/plain": [
       "<Figure size 432x288 with 1 Axes>"
      ]
     },
     "metadata": {},
     "output_type": "display_data"
    }
   ],
   "source": [
    "#변수의 분포를 시각화 라이브러리를 활용해 확인해보세요.\n",
    "sns.distplot(df['PM10'], bins = 30)"
   ]
  },
  {
   "cell_type": "markdown",
   "id": "c40d3e2a",
   "metadata": {},
   "source": []
  },
  {
   "cell_type": "markdown",
   "id": "87c6462e",
   "metadata": {},
   "source": [
    "6. 위 정보로 부터 파악한 내용 정리"
   ]
  },
  {
   "cell_type": "code",
   "execution_count": 486,
   "id": "7c7639b9",
   "metadata": {},
   "outputs": [],
   "source": [
    "#위 정보로부터 파악하신 내용을 정리해보세요."
   ]
  },
  {
   "cell_type": "markdown",
   "id": "ed779f28",
   "metadata": {},
   "source": []
  },
  {
   "cell_type": "markdown",
   "id": "75c094cc",
   "metadata": {},
   "source": [
    "7. 추가 분석사항 도출"
   ]
  },
  {
   "cell_type": "code",
   "execution_count": 487,
   "id": "e1ac3223",
   "metadata": {},
   "outputs": [],
   "source": [
    "#추가로 분석을 원하는 부분이 있다면 분석후 정리해보세요."
   ]
  },
  {
   "cell_type": "markdown",
   "id": "45878f61",
   "metadata": {},
   "source": []
  },
  {
   "cell_type": "markdown",
   "id": "b8888bb6",
   "metadata": {},
   "source": [
    "### Feature9 : PM2.5"
   ]
  },
  {
   "cell_type": "markdown",
   "id": "5a545334",
   "metadata": {},
   "source": [
    "1. 변수가 내포하고 있는 의미\n",
    "- 변수의 의미를 한번 짚고 넘어갑시다. 여러분이 생각하는 이 변수의 의미를 작성해보세요."
   ]
  },
  {
   "cell_type": "markdown",
   "id": "1821b8cc",
   "metadata": {},
   "source": []
  },
  {
   "cell_type": "markdown",
   "id": "a05a0289",
   "metadata": {},
   "source": [
    "2. 변수가 수치형인지 범주형인지\n"
   ]
  },
  {
   "cell_type": "code",
   "execution_count": 488,
   "id": "66bdbb6e",
   "metadata": {},
   "outputs": [],
   "source": [
    "#변수의 자료형을 확인해보세요."
   ]
  },
  {
   "cell_type": "markdown",
   "id": "87d3eb0f",
   "metadata": {},
   "source": []
  },
  {
   "cell_type": "markdown",
   "id": "b57294c8",
   "metadata": {},
   "source": [
    "3. 변수의 결측치 존재 여부 및 조치방안"
   ]
  },
  {
   "cell_type": "code",
   "execution_count": 489,
   "id": "aae7d7d7",
   "metadata": {},
   "outputs": [],
   "source": [
    "#변수의 결측치 존재 여부를 확인하고, 만약 결측치가 존재하면 어떻게 처리할지 고민해보세요. "
   ]
  },
  {
   "cell_type": "markdown",
   "id": "1d753b90",
   "metadata": {},
   "source": []
  },
  {
   "cell_type": "markdown",
   "id": "edc8daf9",
   "metadata": {},
   "source": [
    "4. 변수의 기초 통계량 확인"
   ]
  },
  {
   "cell_type": "code",
   "execution_count": 490,
   "id": "8eff4624",
   "metadata": {},
   "outputs": [],
   "source": [
    "#변수의 기초 통계량을 확인해보세요"
   ]
  },
  {
   "cell_type": "markdown",
   "id": "b0e9f6f7",
   "metadata": {},
   "source": []
  },
  {
   "cell_type": "markdown",
   "id": "72bcddbe",
   "metadata": {},
   "source": [
    "5. 변수의 분포 확인"
   ]
  },
  {
   "cell_type": "code",
   "execution_count": 491,
   "id": "4376d099",
   "metadata": {},
   "outputs": [
    {
     "data": {
      "text/html": [
       "<div>\n",
       "<style scoped>\n",
       "    .dataframe tbody tr th:only-of-type {\n",
       "        vertical-align: middle;\n",
       "    }\n",
       "\n",
       "    .dataframe tbody tr th {\n",
       "        vertical-align: top;\n",
       "    }\n",
       "\n",
       "    .dataframe thead th {\n",
       "        text-align: right;\n",
       "    }\n",
       "</style>\n",
       "<table border=\"1\" class=\"dataframe\">\n",
       "  <thead>\n",
       "    <tr style=\"text-align: right;\">\n",
       "      <th></th>\n",
       "      <th>date</th>\n",
       "      <th>hour</th>\n",
       "      <th>PM10</th>\n",
       "      <th>PM2.5</th>\n",
       "      <th>ozone</th>\n",
       "      <th>temperature</th>\n",
       "      <th>precipitation</th>\n",
       "      <th>windspeed</th>\n",
       "      <th>humidity</th>\n",
       "      <th>visibility</th>\n",
       "      <th>count</th>\n",
       "    </tr>\n",
       "  </thead>\n",
       "  <tbody>\n",
       "    <tr>\n",
       "      <th>0</th>\n",
       "      <td>2021-04-01</td>\n",
       "      <td>1</td>\n",
       "      <td>42.0</td>\n",
       "      <td>21.0</td>\n",
       "      <td>0.0</td>\n",
       "      <td>13.1</td>\n",
       "      <td>0</td>\n",
       "      <td>1.4</td>\n",
       "      <td>49</td>\n",
       "      <td>2000</td>\n",
       "      <td>46</td>\n",
       "    </tr>\n",
       "    <tr>\n",
       "      <th>1</th>\n",
       "      <td>2021-04-01</td>\n",
       "      <td>2</td>\n",
       "      <td>41.0</td>\n",
       "      <td>21.0</td>\n",
       "      <td>0.0</td>\n",
       "      <td>12.4</td>\n",
       "      <td>0</td>\n",
       "      <td>2.1</td>\n",
       "      <td>53</td>\n",
       "      <td>2000</td>\n",
       "      <td>40</td>\n",
       "    </tr>\n",
       "    <tr>\n",
       "      <th>2</th>\n",
       "      <td>2021-04-01</td>\n",
       "      <td>3</td>\n",
       "      <td>30.0</td>\n",
       "      <td>13.0</td>\n",
       "      <td>0.0</td>\n",
       "      <td>13.1</td>\n",
       "      <td>0</td>\n",
       "      <td>3.4</td>\n",
       "      <td>43</td>\n",
       "      <td>2000</td>\n",
       "      <td>31</td>\n",
       "    </tr>\n",
       "    <tr>\n",
       "      <th>3</th>\n",
       "      <td>2021-04-01</td>\n",
       "      <td>4</td>\n",
       "      <td>27.0</td>\n",
       "      <td>12.0</td>\n",
       "      <td>0.0</td>\n",
       "      <td>13.0</td>\n",
       "      <td>0</td>\n",
       "      <td>3.1</td>\n",
       "      <td>44</td>\n",
       "      <td>2000</td>\n",
       "      <td>12</td>\n",
       "    </tr>\n",
       "    <tr>\n",
       "      <th>4</th>\n",
       "      <td>2021-04-01</td>\n",
       "      <td>5</td>\n",
       "      <td>29.0</td>\n",
       "      <td>14.0</td>\n",
       "      <td>0.0</td>\n",
       "      <td>13.0</td>\n",
       "      <td>0</td>\n",
       "      <td>2.9</td>\n",
       "      <td>44</td>\n",
       "      <td>2000</td>\n",
       "      <td>30</td>\n",
       "    </tr>\n",
       "    <tr>\n",
       "      <th>...</th>\n",
       "      <td>...</td>\n",
       "      <td>...</td>\n",
       "      <td>...</td>\n",
       "      <td>...</td>\n",
       "      <td>...</td>\n",
       "      <td>...</td>\n",
       "      <td>...</td>\n",
       "      <td>...</td>\n",
       "      <td>...</td>\n",
       "      <td>...</td>\n",
       "      <td>...</td>\n",
       "    </tr>\n",
       "    <tr>\n",
       "      <th>5822</th>\n",
       "      <td>2021-11-29</td>\n",
       "      <td>20</td>\n",
       "      <td>74.0</td>\n",
       "      <td>58.0</td>\n",
       "      <td>0.0</td>\n",
       "      <td>9.3</td>\n",
       "      <td>0</td>\n",
       "      <td>0.3</td>\n",
       "      <td>66</td>\n",
       "      <td>1193</td>\n",
       "      <td>273</td>\n",
       "    </tr>\n",
       "    <tr>\n",
       "      <th>5823</th>\n",
       "      <td>2021-11-29</td>\n",
       "      <td>21</td>\n",
       "      <td>65.0</td>\n",
       "      <td>56.0</td>\n",
       "      <td>0.0</td>\n",
       "      <td>8.4</td>\n",
       "      <td>0</td>\n",
       "      <td>2.0</td>\n",
       "      <td>70</td>\n",
       "      <td>1233</td>\n",
       "      <td>228</td>\n",
       "    </tr>\n",
       "    <tr>\n",
       "      <th>5824</th>\n",
       "      <td>2021-11-29</td>\n",
       "      <td>22</td>\n",
       "      <td>51.0</td>\n",
       "      <td>41.0</td>\n",
       "      <td>0.0</td>\n",
       "      <td>8.6</td>\n",
       "      <td>0</td>\n",
       "      <td>1.9</td>\n",
       "      <td>70</td>\n",
       "      <td>1250</td>\n",
       "      <td>215</td>\n",
       "    </tr>\n",
       "    <tr>\n",
       "      <th>5825</th>\n",
       "      <td>2021-11-29</td>\n",
       "      <td>23</td>\n",
       "      <td>43.0</td>\n",
       "      <td>35.0</td>\n",
       "      <td>0.0</td>\n",
       "      <td>8.2</td>\n",
       "      <td>0</td>\n",
       "      <td>2.1</td>\n",
       "      <td>71</td>\n",
       "      <td>1262</td>\n",
       "      <td>125</td>\n",
       "    </tr>\n",
       "    <tr>\n",
       "      <th>5826</th>\n",
       "      <td>2021-11-30</td>\n",
       "      <td>0</td>\n",
       "      <td>39.0</td>\n",
       "      <td>31.0</td>\n",
       "      <td>0.0</td>\n",
       "      <td>7.9</td>\n",
       "      <td>0</td>\n",
       "      <td>2.3</td>\n",
       "      <td>71</td>\n",
       "      <td>1483</td>\n",
       "      <td>95</td>\n",
       "    </tr>\n",
       "  </tbody>\n",
       "</table>\n",
       "<p>5827 rows × 11 columns</p>\n",
       "</div>"
      ],
      "text/plain": [
       "           date  hour  PM10  PM2.5  ozone  temperature  precipitation  \\\n",
       "0    2021-04-01     1  42.0   21.0    0.0         13.1              0   \n",
       "1    2021-04-01     2  41.0   21.0    0.0         12.4              0   \n",
       "2    2021-04-01     3  30.0   13.0    0.0         13.1              0   \n",
       "3    2021-04-01     4  27.0   12.0    0.0         13.0              0   \n",
       "4    2021-04-01     5  29.0   14.0    0.0         13.0              0   \n",
       "...         ...   ...   ...    ...    ...          ...            ...   \n",
       "5822 2021-11-29    20  74.0   58.0    0.0          9.3              0   \n",
       "5823 2021-11-29    21  65.0   56.0    0.0          8.4              0   \n",
       "5824 2021-11-29    22  51.0   41.0    0.0          8.6              0   \n",
       "5825 2021-11-29    23  43.0   35.0    0.0          8.2              0   \n",
       "5826 2021-11-30     0  39.0   31.0    0.0          7.9              0   \n",
       "\n",
       "      windspeed  humidity  visibility  count  \n",
       "0           1.4        49        2000     46  \n",
       "1           2.1        53        2000     40  \n",
       "2           3.4        43        2000     31  \n",
       "3           3.1        44        2000     12  \n",
       "4           2.9        44        2000     30  \n",
       "...         ...       ...         ...    ...  \n",
       "5822        0.3        66        1193    273  \n",
       "5823        2.0        70        1233    228  \n",
       "5824        1.9        70        1250    215  \n",
       "5825        2.1        71        1262    125  \n",
       "5826        2.3        71        1483     95  \n",
       "\n",
       "[5827 rows x 11 columns]"
      ]
     },
     "execution_count": 491,
     "metadata": {},
     "output_type": "execute_result"
    }
   ],
   "source": [
    "df"
   ]
  },
  {
   "cell_type": "code",
   "execution_count": 492,
   "id": "31c7f270",
   "metadata": {},
   "outputs": [
    {
     "data": {
      "text/plain": [
       "<AxesSubplot:xlabel='PM2.5', ylabel='Density'>"
      ]
     },
     "execution_count": 492,
     "metadata": {},
     "output_type": "execute_result"
    },
    {
     "data": {
      "image/png": "[encoded data removed]",
      "text/plain": [
       "<Figure size 1440x720 with 1 Axes>"
      ]
     },
     "metadata": {},
     "output_type": "display_data"
    }
   ],
   "source": [
    "#변수의 분포를 시각화 라이브러리를 활용해 확인해보세요.\n",
    "plt.figure(figsize = (20, 10))\n",
    "sns.distplot(df[\"PM10\"], color=\"green\", label=\"PM10\", bins = 20)\n",
    "sns.distplot(df[\"PM2.5\"], color='red', label=\"PM10\", bins = 20)\n",
    "# sns.distplot(df[\"PM10\"], color=\"green\", label=\"PM10\")"
   ]
  },
  {
   "cell_type": "markdown",
   "id": "57aefd4e",
   "metadata": {},
   "source": []
  },
  {
   "cell_type": "markdown",
   "id": "67613404",
   "metadata": {},
   "source": [
    "6. 위 정보로 부터 파악한 내용 정리"
   ]
  },
  {
   "cell_type": "code",
   "execution_count": 493,
   "id": "67989376",
   "metadata": {},
   "outputs": [],
   "source": [
    "#위 정보로부터 파악하신 내용을 정리해보세요."
   ]
  },
  {
   "cell_type": "markdown",
   "id": "99793245",
   "metadata": {},
   "source": []
  },
  {
   "cell_type": "markdown",
   "id": "8343c773",
   "metadata": {},
   "source": [
    "7. 추가 분석사항 도출"
   ]
  },
  {
   "cell_type": "code",
   "execution_count": 494,
   "id": "4bfbad06",
   "metadata": {},
   "outputs": [],
   "source": [
    "#추가로 분석을 원하는 부분이 있다면 분석후 정리해보세요."
   ]
  },
  {
   "cell_type": "markdown",
   "id": "bb14eed6",
   "metadata": {},
   "source": []
  },
  {
   "cell_type": "markdown",
   "id": "13cf9192",
   "metadata": {},
   "source": [
    "### Count (Target)"
   ]
  },
  {
   "cell_type": "markdown",
   "id": "d07b0790",
   "metadata": {},
   "source": [
    "1. 변수가 내포하고 있는 의미\n",
    "- 변수의 의미를 한번 짚고 넘어갑시다. 여러분이 생각하는 이 변수의 의미를 작성해보세요."
   ]
  },
  {
   "cell_type": "markdown",
   "id": "25076d05",
   "metadata": {},
   "source": []
  },
  {
   "cell_type": "markdown",
   "id": "3c496d07",
   "metadata": {},
   "source": [
    "2. 변수가 수치형인지 범주형인지\n"
   ]
  },
  {
   "cell_type": "code",
   "execution_count": 495,
   "id": "e4c1e99d",
   "metadata": {},
   "outputs": [],
   "source": [
    "#변수의 자료형을 확인해보세요."
   ]
  },
  {
   "cell_type": "markdown",
   "id": "90f90b00",
   "metadata": {},
   "source": []
  },
  {
   "cell_type": "markdown",
   "id": "17cb684f",
   "metadata": {},
   "source": [
    "3. 변수의 결측치 존재 여부 및 조치방안"
   ]
  },
  {
   "cell_type": "code",
   "execution_count": 496,
   "id": "20bdfbc3",
   "metadata": {},
   "outputs": [],
   "source": [
    "#변수의 결측치 존재 여부를 확인하고, 만약 결측치가 존재하면 어떻게 처리할지 고민해보세요. "
   ]
  },
  {
   "cell_type": "markdown",
   "id": "1f53cdd7",
   "metadata": {},
   "source": []
  },
  {
   "cell_type": "markdown",
   "id": "7b09fd46",
   "metadata": {},
   "source": [
    "4. 변수의 기초 통계량 확인"
   ]
  },
  {
   "cell_type": "code",
   "execution_count": 497,
   "id": "3bb9d356",
   "metadata": {},
   "outputs": [],
   "source": [
    "#변수의 기초 통계량을 확인해보세요"
   ]
  },
  {
   "cell_type": "markdown",
   "id": "d9cb6309",
   "metadata": {},
   "source": []
  },
  {
   "cell_type": "markdown",
   "id": "807ecad6",
   "metadata": {},
   "source": [
    "5. 변수의 분포 확인"
   ]
  },
  {
   "cell_type": "code",
   "execution_count": 498,
   "id": "40159959",
   "metadata": {},
   "outputs": [
    {
     "ename": "TypeError",
     "evalue": "float() argument must be a string or a number, not 'AxesSubplot'",
     "output_type": "error",
     "traceback": [
      "\u001b[1;31m---------------------------------------------------------------------------\u001b[0m",
      "\u001b[1;31mTypeError\u001b[0m                                 Traceback (most recent call last)",
      "Input \u001b[1;32mIn [498]\u001b[0m, in \u001b[0;36m<cell line: 2>\u001b[1;34m()\u001b[0m\n\u001b[0;32m      1\u001b[0m \u001b[38;5;66;03m#변수의 분포를 시각화 라이브러리를 활용해 확인해보세요.\u001b[39;00m\n\u001b[1;32m----> 2\u001b[0m \u001b[43msns\u001b[49m\u001b[38;5;241;43m.\u001b[39;49m\u001b[43mdistplot\u001b[49m\u001b[43m(\u001b[49m\u001b[43msns\u001b[49m\u001b[38;5;241;43m.\u001b[39;49m\u001b[43mdistplot\u001b[49m\u001b[43m(\u001b[49m\u001b[43mdf\u001b[49m\u001b[43m[\u001b[49m\u001b[38;5;124;43m\"\u001b[39;49m\u001b[38;5;124;43mcount\u001b[39;49m\u001b[38;5;124;43m\"\u001b[39;49m\u001b[43m]\u001b[49m\u001b[43m,\u001b[49m\u001b[43m \u001b[49m\u001b[43mcolor\u001b[49m\u001b[38;5;241;43m=\u001b[39;49m\u001b[38;5;124;43m\"\u001b[39;49m\u001b[38;5;124;43mgreen\u001b[39;49m\u001b[38;5;124;43m\"\u001b[39;49m\u001b[43m,\u001b[49m\u001b[43m \u001b[49m\u001b[43mbins\u001b[49m\u001b[43m \u001b[49m\u001b[38;5;241;43m=\u001b[39;49m\u001b[43m \u001b[49m\u001b[38;5;241;43m20\u001b[39;49m\u001b[43m)\u001b[49m\u001b[43m)\u001b[49m\n",
      "File \u001b[1;32mE:\\anaconda\\lib\\site-packages\\seaborn\\distributions.py:2636\u001b[0m, in \u001b[0;36mdistplot\u001b[1;34m(a, bins, hist, kde, rug, fit, hist_kws, kde_kws, rug_kws, fit_kws, color, vertical, norm_hist, axlabel, label, ax, x)\u001b[0m\n\u001b[0;32m   2633\u001b[0m     a \u001b[38;5;241m=\u001b[39m x\n\u001b[0;32m   2635\u001b[0m \u001b[38;5;66;03m# Make a a 1-d float array\u001b[39;00m\n\u001b[1;32m-> 2636\u001b[0m a \u001b[38;5;241m=\u001b[39m \u001b[43mnp\u001b[49m\u001b[38;5;241;43m.\u001b[39;49m\u001b[43masarray\u001b[49m\u001b[43m(\u001b[49m\u001b[43ma\u001b[49m\u001b[43m,\u001b[49m\u001b[43m \u001b[49m\u001b[38;5;28;43mfloat\u001b[39;49m\u001b[43m)\u001b[49m\n\u001b[0;32m   2637\u001b[0m \u001b[38;5;28;01mif\u001b[39;00m a\u001b[38;5;241m.\u001b[39mndim \u001b[38;5;241m>\u001b[39m \u001b[38;5;241m1\u001b[39m:\n\u001b[0;32m   2638\u001b[0m     a \u001b[38;5;241m=\u001b[39m a\u001b[38;5;241m.\u001b[39msqueeze()\n",
      "\u001b[1;31mTypeError\u001b[0m: float() argument must be a string or a number, not 'AxesSubplot'"
     ]
    },
    {
     "data": {
      "image/png": "[encoded data removed]",
      "text/plain": [
       "<Figure size 432x288 with 1 Axes>"
      ]
     },
     "metadata": {},
     "output_type": "display_data"
    }
   ],
   "source": [
    "#변수의 분포를 시각화 라이브러리를 활용해 확인해보세요.\n",
    "sns.distplot(sns.distplot(df[\"count\"], color=\"green\", bins = 20))"
   ]
  },
  {
   "cell_type": "markdown",
   "id": "25cea918",
   "metadata": {},
   "source": []
  },
  {
   "cell_type": "markdown",
   "id": "6d88ee68",
   "metadata": {},
   "source": [
    "6. 위 정보로 부터 파악한 내용 정리"
   ]
  },
  {
   "cell_type": "code",
   "execution_count": null,
   "id": "c7f81d0a",
   "metadata": {},
   "outputs": [],
   "source": [
    "#위 정보로부터 파악하신 내용을 정리해보세요."
   ]
  },
  {
   "cell_type": "markdown",
   "id": "56e2c825",
   "metadata": {},
   "source": []
  },
  {
   "cell_type": "markdown",
   "id": "2f33b81a",
   "metadata": {},
   "source": [
    "7. 추가 분석사항 도출"
   ]
  },
  {
   "cell_type": "code",
   "execution_count": 499,
   "id": "62dd4029",
   "metadata": {},
   "outputs": [],
   "source": [
    "#추가로 분석을 원하는 부분이 있다면 분석후 정리해보세요."
   ]
  },
  {
   "cell_type": "markdown",
   "id": "15674183",
   "metadata": {},
   "source": []
  },
  {
   "cell_type": "markdown",
   "id": "daa6458d",
   "metadata": {},
   "source": [
    "### 4.이변량 분석 \n",
    "* 자료의 종류에 맞게 X --> Y 에 대해서 그래프(시각화)와 가설검정(수치화)를 수행하고 결과를 평가합니다.\n",
    "* 가설검정시 다음의 항목을 참조하여 수행합니다.\n",
    "    * 적절한 유의수준\n",
    "    * 숫자 --> 숫자 : 상관분석\n",
    "    * 범주 --> 범주 : 카이제곱검정\n",
    "    * 범주 --> 숫자 : t검정, 분산분석\n",
    "    * 숫자 --> 범주 : 로지스틱 회귀모형을 통해, 회귀계수의 P.value로 검정을 수행합니다."
   ]
  },
  {
   "cell_type": "markdown",
   "id": "88936c1d",
   "metadata": {},
   "source": [
    "#### (1) 범주형 Feature --> 숫자형 Y (따릉이 대여 Count)\n",
    "\n",
    "<font color=\"green\">* 모든 범주형 Feature에 대해서 Y와 비교하여 차트를 그리고 수치화 하시오.</font>\n",
    "\n",
    "\n",
    "        1. 시각화 : 그래프를 활용한 데이터 분석\n",
    "        2. 수치화 : t-test, anova\n",
    "        3. 관계 평가 (가설 검정)"
   ]
  },
  {
   "cell_type": "code",
   "execution_count": 500,
   "id": "965658d5",
   "metadata": {},
   "outputs": [
    {
     "data": {
      "text/plain": [
       "Index(['date', 'hour', 'PM10', 'PM2.5', 'ozone', 'temperature',\n",
       "       'precipitation', 'windspeed', 'humidity', 'visibility', 'count'],\n",
       "      dtype='object')"
      ]
     },
     "execution_count": 500,
     "metadata": {},
     "output_type": "execute_result"
    }
   ],
   "source": [
    "df.columns"
   ]
  },
  {
   "cell_type": "markdown",
   "id": "47716272",
   "metadata": {},
   "source": [
    "1. 강수 여부와 따릉이 대여량간 이변량 분석"
   ]
  },
  {
   "cell_type": "code",
   "execution_count": 501,
   "id": "b0d88b18",
   "metadata": {},
   "outputs": [
    {
     "data": {
      "text/plain": [
       "<AxesSubplot:xlabel='precipitation'>"
      ]
     },
     "execution_count": 501,
     "metadata": {},
     "output_type": "execute_result"
    },
    {
     "data": {
      "image/png": "[encoded data removed]",
      "text/plain": [
       "<Figure size 432x288 with 1 Axes>"
      ]
     },
     "metadata": {},
     "output_type": "display_data"
    }
   ],
   "source": [
    "temp2 = df.groupby(by = ['precipitation'], as_index = True)['count'].mean()\n",
    "temp2.plot.bar()"
   ]
  },
  {
   "cell_type": "code",
   "execution_count": 502,
   "id": "a873271d",
   "metadata": {
    "scrolled": false
   },
   "outputs": [
    {
     "ename": "TypeError",
     "evalue": "float() argument must be a string or a number, not 'AxesSubplot'",
     "output_type": "error",
     "traceback": [
      "\u001b[1;31m---------------------------------------------------------------------------\u001b[0m",
      "\u001b[1;31mTypeError\u001b[0m                                 Traceback (most recent call last)",
      "Input \u001b[1;32mIn [502]\u001b[0m, in \u001b[0;36m<cell line: 5>\u001b[1;34m()\u001b[0m\n\u001b[0;32m      3\u001b[0m df_rain \u001b[38;5;241m=\u001b[39m df\u001b[38;5;241m.\u001b[39mloc[df[\u001b[38;5;124m'\u001b[39m\u001b[38;5;124mprecipitation\u001b[39m\u001b[38;5;124m'\u001b[39m] \u001b[38;5;241m==\u001b[39m \u001b[38;5;241m1\u001b[39m]\n\u001b[0;32m      4\u001b[0m df_rain \u001b[38;5;241m=\u001b[39m df_rain\u001b[38;5;241m.\u001b[39mastype({\u001b[38;5;124m'\u001b[39m\u001b[38;5;124mCount_hour\u001b[39m\u001b[38;5;124m'\u001b[39m:\u001b[38;5;124m'\u001b[39m\u001b[38;5;124mint\u001b[39m\u001b[38;5;124m'\u001b[39m})\n\u001b[1;32m----> 5\u001b[0m \u001b[43msns\u001b[49m\u001b[38;5;241;43m.\u001b[39;49m\u001b[43mdistplot\u001b[49m\u001b[43m(\u001b[49m\u001b[43msns\u001b[49m\u001b[38;5;241;43m.\u001b[39;49m\u001b[43mdistplot\u001b[49m\u001b[43m(\u001b[49m\u001b[43mdf_rain\u001b[49m\u001b[43m[\u001b[49m\u001b[38;5;124;43m\"\u001b[39;49m\u001b[38;5;124;43mCount_hour\u001b[39;49m\u001b[38;5;124;43m\"\u001b[39;49m\u001b[43m]\u001b[49m\u001b[43m,\u001b[49m\u001b[43m \u001b[49m\u001b[43mcolor\u001b[49m\u001b[38;5;241;43m=\u001b[39;49m\u001b[38;5;124;43m\"\u001b[39;49m\u001b[38;5;124;43mred\u001b[39;49m\u001b[38;5;124;43m\"\u001b[39;49m\u001b[43m,\u001b[49m\u001b[43m \u001b[49m\u001b[43mbins\u001b[49m\u001b[43m \u001b[49m\u001b[38;5;241;43m=\u001b[39;49m\u001b[43m \u001b[49m\u001b[38;5;241;43m30\u001b[39;49m\u001b[43m)\u001b[49m\u001b[43m)\u001b[49m\n\u001b[0;32m      6\u001b[0m df_rain\n",
      "File \u001b[1;32mE:\\anaconda\\lib\\site-packages\\seaborn\\distributions.py:2636\u001b[0m, in \u001b[0;36mdistplot\u001b[1;34m(a, bins, hist, kde, rug, fit, hist_kws, kde_kws, rug_kws, fit_kws, color, vertical, norm_hist, axlabel, label, ax, x)\u001b[0m\n\u001b[0;32m   2633\u001b[0m     a \u001b[38;5;241m=\u001b[39m x\n\u001b[0;32m   2635\u001b[0m \u001b[38;5;66;03m# Make a a 1-d float array\u001b[39;00m\n\u001b[1;32m-> 2636\u001b[0m a \u001b[38;5;241m=\u001b[39m \u001b[43mnp\u001b[49m\u001b[38;5;241;43m.\u001b[39;49m\u001b[43masarray\u001b[49m\u001b[43m(\u001b[49m\u001b[43ma\u001b[49m\u001b[43m,\u001b[49m\u001b[43m \u001b[49m\u001b[38;5;28;43mfloat\u001b[39;49m\u001b[43m)\u001b[49m\n\u001b[0;32m   2637\u001b[0m \u001b[38;5;28;01mif\u001b[39;00m a\u001b[38;5;241m.\u001b[39mndim \u001b[38;5;241m>\u001b[39m \u001b[38;5;241m1\u001b[39m:\n\u001b[0;32m   2638\u001b[0m     a \u001b[38;5;241m=\u001b[39m a\u001b[38;5;241m.\u001b[39msqueeze()\n",
      "\u001b[1;31mTypeError\u001b[0m: float() argument must be a string or a number, not 'AxesSubplot'"
     ]
    },
    {
     "data": {
      "image/png": "[encoded data removed]",
      "text/plain": [
       "<Figure size 432x288 with 1 Axes>"
      ]
     },
     "metadata": {},
     "output_type": "display_data"
    }
   ],
   "source": [
    "df['Count_hour'] = df['count'].shift(-1)\n",
    "df.dropna(axis=0)\n",
    "df_rain = df.loc[df['precipitation'] == 1]\n",
    "df_rain = df_rain.astype({'Count_hour':'int'})\n",
    "sns.distplot(sns.distplot(df_rain[\"Count_hour\"], color=\"red\", bins = 30))\n",
    "df_rain"
   ]
  },
  {
   "cell_type": "code",
   "execution_count": null,
   "id": "528e9ce5",
   "metadata": {},
   "outputs": [],
   "source": [
    "df_rain"
   ]
  },
  {
   "cell_type": "code",
   "execution_count": null,
   "id": "291f4a63",
   "metadata": {
    "scrolled": true
   },
   "outputs": [],
   "source": [
    "# df['Count_hour_pre'] = df['count'].shift(-1)\n",
    "# df.dropna(axis=0)\n",
    "# df_rain_pre = df.loc[df['precipitation'] == 0]\n",
    "# df_rain_pre_drop = df_rain_pre.dropna(axis = 0)\n",
    "# df_rain_pre_drop.isna().sum()\n",
    "# df_rain_pre_drop.dtypes\n",
    "# # df_rain_pre_drop = df_rain_pre.astype({'Count_hour_pre':'int'})\n",
    "# sns.distplot(df_rain_pre_drop[\"Count_hour_pre\"], color=\"blue\", bins = 30)"
   ]
  },
  {
   "cell_type": "code",
   "execution_count": 503,
   "id": "36b71bc9",
   "metadata": {},
   "outputs": [
    {
     "data": {
      "text/plain": [
       "<AxesSubplot:xlabel='count', ylabel='Density'>"
      ]
     },
     "execution_count": 503,
     "metadata": {},
     "output_type": "execute_result"
    },
    {
     "data": {
      "image/png": "[encoded data removed]",
      "text/plain": [
       "<Figure size 432x288 with 1 Axes>"
      ]
     },
     "metadata": {},
     "output_type": "display_data"
    }
   ],
   "source": [
    "sns.distplot(df[\"count\"], color=\"green\", bins = 30)"
   ]
  },
  {
   "cell_type": "code",
   "execution_count": 504,
   "id": "7958bcd5",
   "metadata": {
    "scrolled": true
   },
   "outputs": [
    {
     "data": {
      "text/plain": [
       "date             0\n",
       "hour             0\n",
       "PM10             0\n",
       "PM2.5            0\n",
       "ozone            0\n",
       "temperature      0\n",
       "precipitation    0\n",
       "windspeed        0\n",
       "humidity         0\n",
       "visibility       0\n",
       "count            0\n",
       "dtype: int64"
      ]
     },
     "execution_count": 504,
     "metadata": {},
     "output_type": "execute_result"
    }
   ],
   "source": [
    "df = pd.read_csv('traindata.csv')\n",
    "df[\"date\"] = pd.to_datetime(df[\"date\"])\n",
    "df['date'].dt.date\n",
    "df['PM10'] = df['PM10'].interpolate(method=\"linear\")\n",
    "df['PM2.5'] = df['PM2.5'].interpolate(method=\"linear\")\n",
    "df['ozone'] = df['ozone'].interpolate(method=\"linear\")\n",
    "df.isna().sum()"
   ]
  },
  {
   "cell_type": "code",
   "execution_count": 505,
   "id": "5480f599",
   "metadata": {},
   "outputs": [
    {
     "data": {
      "text/plain": [
       "<AxesSubplot:xlabel='Count_hour', ylabel='Density'>"
      ]
     },
     "execution_count": 505,
     "metadata": {},
     "output_type": "execute_result"
    },
    {
     "data": {
      "image/png": "[encoded data removed]",
      "text/plain": [
       "<Figure size 1152x1152 with 1 Axes>"
      ]
     },
     "metadata": {},
     "output_type": "display_data"
    }
   ],
   "source": [
    "plt.figure(figsize = (16, 16))\n",
    "sns.distplot(df[\"count\"], color=\"green\", bins = 30)\n",
    "sns.distplot(df_rain[\"Count_hour\"], color=\"red\", bins = 30)\n",
    "# sns.distplot(df_rain_pre_drop[\"Count_hour_pre\"], color=\"blue\", bins = 30)"
   ]
  },
  {
   "cell_type": "code",
   "execution_count": 506,
   "id": "11a9b9e3",
   "metadata": {},
   "outputs": [
    {
     "data": {
      "text/plain": [
       "date             datetime64[ns]\n",
       "hour                      int64\n",
       "PM10                    float64\n",
       "PM2.5                   float64\n",
       "ozone                   float64\n",
       "temperature             float64\n",
       "precipitation             int64\n",
       "windspeed               float64\n",
       "humidity                  int64\n",
       "visibility                int64\n",
       "count                     int64\n",
       "dtype: object"
      ]
     },
     "execution_count": 506,
     "metadata": {},
     "output_type": "execute_result"
    }
   ],
   "source": [
    "df.dtypes"
   ]
  },
  {
   "cell_type": "code",
   "execution_count": 507,
   "id": "feca07e4",
   "metadata": {},
   "outputs": [
    {
     "data": {
      "text/plain": [
       "<AxesSubplot:xlabel='precipitation', ylabel='count'>"
      ]
     },
     "execution_count": 507,
     "metadata": {},
     "output_type": "execute_result"
    },
    {
     "data": {
      "image/png": "[encoded data removed]",
      "text/plain": [
       "<Figure size 432x288 with 1 Axes>"
      ]
     },
     "metadata": {},
     "output_type": "display_data"
    }
   ],
   "source": [
    "#데이터 타입에 주의하여 이변량 분석을 해보세요\n",
    "sns.barplot(x=\"precipitation\", y=\"count\", data = df)"
   ]
  },
  {
   "cell_type": "code",
   "execution_count": 508,
   "id": "bf4e2aea",
   "metadata": {},
   "outputs": [],
   "source": [
    "df_not_rain = df.loc[df['precipitation'] == 0]\n"
   ]
  },
  {
   "cell_type": "markdown",
   "id": "6163f710",
   "metadata": {},
   "source": []
  },
  {
   "cell_type": "markdown",
   "id": "9c44a546",
   "metadata": {},
   "source": [
    "#### (2) 숫자형 Feature --> 숫자형 Y (따릉이 대여 Count)\n",
    "\n",
    "<font color=\"green\">* 모든 숫자형 Feature에 대해서 Y와 비교하여 차트를 그리고 수치화 하시오.  </font>\n",
    "\n",
    "\n",
    "        1. 시각화 : 그래프를 활용한 데이터 분석\n",
    "        2. 수치화 : 상관분석\n",
    "        3. 관계 평가 (가설 검정)"
   ]
  },
  {
   "cell_type": "markdown",
   "id": "1c216b73",
   "metadata": {},
   "source": [
    "2. 시간대별 데이터와 따릉이 대여량간 분석"
   ]
  },
  {
   "cell_type": "code",
   "execution_count": 509,
   "id": "9d9accbb",
   "metadata": {},
   "outputs": [
    {
     "data": {
      "text/plain": [
       "date             0\n",
       "hour             0\n",
       "PM10             0\n",
       "PM2.5            0\n",
       "ozone            0\n",
       "temperature      0\n",
       "precipitation    0\n",
       "windspeed        0\n",
       "humidity         0\n",
       "visibility       0\n",
       "count            0\n",
       "dtype: int64"
      ]
     },
     "execution_count": 509,
     "metadata": {},
     "output_type": "execute_result"
    }
   ],
   "source": [
    "df = pd.read_csv('traindata.csv')\n",
    "df[\"date\"] = pd.to_datetime(df[\"date\"])\n",
    "df['date'].dt.date\n",
    "df['PM10'] = df['PM10'].interpolate(method=\"linear\")\n",
    "df['PM2.5'] = df['PM2.5'].interpolate(method=\"linear\")\n",
    "df['ozone'] = df['ozone'].interpolate(method=\"linear\")\n",
    "df.isna().sum()"
   ]
  },
  {
   "cell_type": "code",
   "execution_count": 510,
   "id": "a1f26005",
   "metadata": {},
   "outputs": [
    {
     "data": {
      "text/plain": [
       "<AxesSubplot:xlabel='hour'>"
      ]
     },
     "execution_count": 510,
     "metadata": {},
     "output_type": "execute_result"
    },
    {
     "data": {
      "image/png": "[encoded data removed]",
      "text/plain": [
       "<Figure size 432x288 with 1 Axes>"
      ]
     },
     "metadata": {},
     "output_type": "display_data"
    }
   ],
   "source": [
    "#데이터 타입에 주의하여 이변량 분석을 해보세요\n",
    "temp1 = df.groupby(by = ['hour'], as_index = True)['count'].mean()\n",
    "temp1.plot.bar()"
   ]
  },
  {
   "cell_type": "markdown",
   "id": "0bd93a0e",
   "metadata": {},
   "source": []
  },
  {
   "cell_type": "markdown",
   "id": "b1d1461d",
   "metadata": {},
   "source": [
    "3. 온도 데이터와 따릉이 대여량간 분석"
   ]
  },
  {
   "cell_type": "code",
   "execution_count": 511,
   "id": "2fcef2cb",
   "metadata": {},
   "outputs": [
    {
     "data": {
      "text/plain": [
       "<AxesSubplot:xlabel='temperature'>"
      ]
     },
     "execution_count": 511,
     "metadata": {},
     "output_type": "execute_result"
    },
    {
     "data": {
      "image/png": "[encoded data removed]",
      "text/plain": [
       "<Figure size 432x288 with 1 Axes>"
      ]
     },
     "metadata": {},
     "output_type": "display_data"
    }
   ],
   "source": [
    "#데이터 타입에 주의하여 이변량 분석을 해보세요\n",
    "df = df.astype({'temperature':'int'})\n",
    "temp3 = df.groupby(by = ['temperature'], as_index = True)['count'].mean()\n",
    "temp3.plot()"
   ]
  },
  {
   "cell_type": "markdown",
   "id": "7b32f45e",
   "metadata": {},
   "source": []
  },
  {
   "cell_type": "markdown",
   "id": "2af73f1b",
   "metadata": {},
   "source": [
    "4. 풍속 데이터와 따릉이 대여량간 분석"
   ]
  },
  {
   "cell_type": "code",
   "execution_count": 512,
   "id": "c0075623",
   "metadata": {},
   "outputs": [
    {
     "data": {
      "text/plain": [
       "<AxesSubplot:xlabel='windspeed'>"
      ]
     },
     "execution_count": 512,
     "metadata": {},
     "output_type": "execute_result"
    },
    {
     "data": {
      "image/png": "[encoded data removed]",
      "text/plain": [
       "<Figure size 432x288 with 1 Axes>"
      ]
     },
     "metadata": {},
     "output_type": "display_data"
    }
   ],
   "source": [
    "#데이터 타입에 주의하여 이변량 분석을 해보세요\n",
    "temp4 = df.groupby(by = ['windspeed'], as_index = True)['count'].sum()\n",
    "temp4.plot()"
   ]
  },
  {
   "cell_type": "markdown",
   "id": "3573ed0e",
   "metadata": {},
   "source": []
  },
  {
   "cell_type": "markdown",
   "id": "7f65d800",
   "metadata": {},
   "source": [
    "5. 습도 데이터와 따릉이 대여량간 분석"
   ]
  },
  {
   "cell_type": "code",
   "execution_count": 513,
   "id": "77bd6696",
   "metadata": {},
   "outputs": [
    {
     "data": {
      "text/plain": [
       "<AxesSubplot:xlabel='humidity'>"
      ]
     },
     "execution_count": 513,
     "metadata": {},
     "output_type": "execute_result"
    },
    {
     "data": {
      "image/png": "[encoded data removed]",
      "text/plain": [
       "<Figure size 432x288 with 1 Axes>"
      ]
     },
     "metadata": {},
     "output_type": "display_data"
    }
   ],
   "source": [
    "#데이터 타입에 주의하여 이변량 분석을 해보세요\n",
    "temp5 = df.groupby(by = ['humidity'], as_index = True)['count'].sum()\n",
    "temp5.plot()"
   ]
  },
  {
   "cell_type": "markdown",
   "id": "bba4e9c6",
   "metadata": {},
   "source": []
  },
  {
   "cell_type": "markdown",
   "id": "c46fccb5",
   "metadata": {},
   "source": [
    "6. 시정 데이터와 따릉이 대여량간 분석"
   ]
  },
  {
   "cell_type": "code",
   "execution_count": 514,
   "id": "4deb3345",
   "metadata": {},
   "outputs": [
    {
     "data": {
      "text/plain": [
       "visibility\n",
       "60           60\n",
       "61            2\n",
       "68           20\n",
       "73            5\n",
       "77            8\n",
       "         ...   \n",
       "1996       1428\n",
       "1997       1044\n",
       "1998         99\n",
       "1999       1285\n",
       "2000    1023045\n",
       "Name: count, Length: 1032, dtype: int64"
      ]
     },
     "execution_count": 514,
     "metadata": {},
     "output_type": "execute_result"
    }
   ],
   "source": [
    "#데이터 타입에 주의하여 이변량 분석을 해보세요\n",
    "temp6 = df.groupby(by = ['visibility'], as_index = True)['count'].sum()\n",
    "temp6"
   ]
  },
  {
   "cell_type": "markdown",
   "id": "dfa0ed85",
   "metadata": {},
   "source": []
  },
  {
   "cell_type": "markdown",
   "id": "3859ef18",
   "metadata": {},
   "source": [
    "7. 오존 데이터와 따릉이 대여량간 분석"
   ]
  },
  {
   "cell_type": "code",
   "execution_count": 515,
   "id": "33f2a061",
   "metadata": {},
   "outputs": [
    {
     "data": {
      "text/plain": [
       "<AxesSubplot:xlabel='ozone'>"
      ]
     },
     "execution_count": 515,
     "metadata": {},
     "output_type": "execute_result"
    },
    {
     "data": {
      "image/png": "[encoded data removed]",
      "text/plain": [
       "<Figure size 432x288 with 1 Axes>"
      ]
     },
     "metadata": {},
     "output_type": "display_data"
    }
   ],
   "source": [
    "#데이터 타입에 주의하여 이변량 분석을 해보세요\n",
    "temp7 = df.groupby(by = ['ozone'], as_index = True)['count'].sum()\n",
    "temp7.plot()"
   ]
  },
  {
   "cell_type": "markdown",
   "id": "7feca2c1",
   "metadata": {},
   "source": []
  },
  {
   "cell_type": "markdown",
   "id": "486db6db",
   "metadata": {},
   "source": [
    "8. 미세먼지 농도 데이터와 따릉이 대여량간 분석"
   ]
  },
  {
   "cell_type": "code",
   "execution_count": 516,
   "id": "d69657aa",
   "metadata": {
    "scrolled": true
   },
   "outputs": [
    {
     "data": {
      "text/plain": [
       "<AxesSubplot:xlabel='PM10'>"
      ]
     },
     "execution_count": 516,
     "metadata": {},
     "output_type": "execute_result"
    },
    {
     "data": {
      "image/png": "[encoded data removed]",
      "text/plain": [
       "<Figure size 432x288 with 1 Axes>"
      ]
     },
     "metadata": {},
     "output_type": "display_data"
    }
   ],
   "source": [
    "#데이터 타입에 주의하여 이변량 분석을 해보세요\n",
    "temp8 = df.groupby(by = ['PM10'], as_index = True)['count'].sum()\n",
    "temp8.plot()"
   ]
  },
  {
   "cell_type": "code",
   "execution_count": 517,
   "id": "ceff57a4",
   "metadata": {},
   "outputs": [
    {
     "data": {
      "text/plain": [
       "{'whiskers': [<matplotlib.lines.Line2D at 0x257365d3310>,\n",
       "  <matplotlib.lines.Line2D at 0x257365d35e0>],\n",
       " 'caps': [<matplotlib.lines.Line2D at 0x257365d38b0>,\n",
       "  <matplotlib.lines.Line2D at 0x257365d3b80>],\n",
       " 'boxes': [<matplotlib.lines.Line2D at 0x257365d3040>],\n",
       " 'medians': [<matplotlib.lines.Line2D at 0x257365d3e50>],\n",
       " 'fliers': [<matplotlib.lines.Line2D at 0x257365e1190>],\n",
       " 'means': []}"
      ]
     },
     "execution_count": 517,
     "metadata": {},
     "output_type": "execute_result"
    },
    {
     "data": {
      "image/png": "[encoded data removed]",
      "text/plain": [
       "<Figure size 432x288 with 1 Axes>"
      ]
     },
     "metadata": {},
     "output_type": "display_data"
    }
   ],
   "source": [
    "count = df['count']\n",
    "plt.boxplot(count)"
   ]
  },
  {
   "cell_type": "markdown",
   "id": "c22fd35d",
   "metadata": {},
   "source": []
  },
  {
   "cell_type": "markdown",
   "id": "72c0cb40",
   "metadata": {},
   "source": [
    "9. 초미세먼지 농도 데이터와 따릉이 대여량간 분석"
   ]
  },
  {
   "cell_type": "code",
   "execution_count": 518,
   "id": "6751a594",
   "metadata": {},
   "outputs": [
    {
     "data": {
      "text/plain": [
       "<AxesSubplot:xlabel='PM2.5'>"
      ]
     },
     "execution_count": 518,
     "metadata": {},
     "output_type": "execute_result"
    },
    {
     "data": {
      "image/png": "[encoded data removed]",
      "text/plain": [
       "<Figure size 432x288 with 1 Axes>"
      ]
     },
     "metadata": {},
     "output_type": "display_data"
    }
   ],
   "source": [
    "#데이터 타입에 주의하여 이변량 분석을 해보세요\n",
    "temp9 = df.groupby(by = ['PM2.5'], as_index = True)['count'].sum()\n",
    "temp9.plot()"
   ]
  },
  {
   "cell_type": "markdown",
   "id": "f2aac6f1",
   "metadata": {},
   "source": [
    "## 이상치 분석"
   ]
  },
  {
   "cell_type": "code",
   "execution_count": 93,
   "id": "668531f4",
   "metadata": {
    "scrolled": false
   },
   "outputs": [
    {
     "data": {
      "text/html": [
       "<div>\n",
       "<style scoped>\n",
       "    .dataframe tbody tr th:only-of-type {\n",
       "        vertical-align: middle;\n",
       "    }\n",
       "\n",
       "    .dataframe tbody tr th {\n",
       "        vertical-align: top;\n",
       "    }\n",
       "\n",
       "    .dataframe thead th {\n",
       "        text-align: right;\n",
       "    }\n",
       "</style>\n",
       "<table border=\"1\" class=\"dataframe\">\n",
       "  <thead>\n",
       "    <tr style=\"text-align: right;\">\n",
       "      <th></th>\n",
       "      <th>date</th>\n",
       "      <th>hour</th>\n",
       "      <th>PM10</th>\n",
       "      <th>PM2.5</th>\n",
       "      <th>ozone</th>\n",
       "      <th>temperature</th>\n",
       "      <th>precipitation</th>\n",
       "      <th>windspeed</th>\n",
       "      <th>humidity</th>\n",
       "      <th>visibility</th>\n",
       "      <th>count</th>\n",
       "      <th>Weekday</th>\n",
       "    </tr>\n",
       "  </thead>\n",
       "  <tbody>\n",
       "    <tr>\n",
       "      <th>0</th>\n",
       "      <td>2021-04-01</td>\n",
       "      <td>1</td>\n",
       "      <td>42.0</td>\n",
       "      <td>21.0</td>\n",
       "      <td>0.002</td>\n",
       "      <td>13.1</td>\n",
       "      <td>0</td>\n",
       "      <td>1.4</td>\n",
       "      <td>49</td>\n",
       "      <td>2000</td>\n",
       "      <td>46</td>\n",
       "      <td>3</td>\n",
       "    </tr>\n",
       "    <tr>\n",
       "      <th>1</th>\n",
       "      <td>2021-04-01</td>\n",
       "      <td>2</td>\n",
       "      <td>41.0</td>\n",
       "      <td>21.0</td>\n",
       "      <td>0.003</td>\n",
       "      <td>12.4</td>\n",
       "      <td>0</td>\n",
       "      <td>2.1</td>\n",
       "      <td>53</td>\n",
       "      <td>2000</td>\n",
       "      <td>40</td>\n",
       "      <td>3</td>\n",
       "    </tr>\n",
       "    <tr>\n",
       "      <th>2</th>\n",
       "      <td>2021-04-01</td>\n",
       "      <td>3</td>\n",
       "      <td>30.0</td>\n",
       "      <td>13.0</td>\n",
       "      <td>0.023</td>\n",
       "      <td>13.1</td>\n",
       "      <td>0</td>\n",
       "      <td>3.4</td>\n",
       "      <td>43</td>\n",
       "      <td>2000</td>\n",
       "      <td>31</td>\n",
       "      <td>3</td>\n",
       "    </tr>\n",
       "    <tr>\n",
       "      <th>3</th>\n",
       "      <td>2021-04-01</td>\n",
       "      <td>4</td>\n",
       "      <td>27.0</td>\n",
       "      <td>12.0</td>\n",
       "      <td>0.028</td>\n",
       "      <td>13.0</td>\n",
       "      <td>0</td>\n",
       "      <td>3.1</td>\n",
       "      <td>44</td>\n",
       "      <td>2000</td>\n",
       "      <td>12</td>\n",
       "      <td>3</td>\n",
       "    </tr>\n",
       "    <tr>\n",
       "      <th>4</th>\n",
       "      <td>2021-04-01</td>\n",
       "      <td>5</td>\n",
       "      <td>29.0</td>\n",
       "      <td>14.0</td>\n",
       "      <td>0.008</td>\n",
       "      <td>13.0</td>\n",
       "      <td>0</td>\n",
       "      <td>2.9</td>\n",
       "      <td>44</td>\n",
       "      <td>2000</td>\n",
       "      <td>30</td>\n",
       "      <td>3</td>\n",
       "    </tr>\n",
       "    <tr>\n",
       "      <th>...</th>\n",
       "      <td>...</td>\n",
       "      <td>...</td>\n",
       "      <td>...</td>\n",
       "      <td>...</td>\n",
       "      <td>...</td>\n",
       "      <td>...</td>\n",
       "      <td>...</td>\n",
       "      <td>...</td>\n",
       "      <td>...</td>\n",
       "      <td>...</td>\n",
       "      <td>...</td>\n",
       "      <td>...</td>\n",
       "    </tr>\n",
       "    <tr>\n",
       "      <th>5822</th>\n",
       "      <td>2021-11-29</td>\n",
       "      <td>20</td>\n",
       "      <td>74.0</td>\n",
       "      <td>58.0</td>\n",
       "      <td>0.002</td>\n",
       "      <td>9.3</td>\n",
       "      <td>0</td>\n",
       "      <td>0.3</td>\n",
       "      <td>66</td>\n",
       "      <td>1193</td>\n",
       "      <td>273</td>\n",
       "      <td>0</td>\n",
       "    </tr>\n",
       "    <tr>\n",
       "      <th>5823</th>\n",
       "      <td>2021-11-29</td>\n",
       "      <td>21</td>\n",
       "      <td>65.0</td>\n",
       "      <td>56.0</td>\n",
       "      <td>0.002</td>\n",
       "      <td>8.4</td>\n",
       "      <td>0</td>\n",
       "      <td>2.0</td>\n",
       "      <td>70</td>\n",
       "      <td>1233</td>\n",
       "      <td>228</td>\n",
       "      <td>0</td>\n",
       "    </tr>\n",
       "    <tr>\n",
       "      <th>5824</th>\n",
       "      <td>2021-11-29</td>\n",
       "      <td>22</td>\n",
       "      <td>51.0</td>\n",
       "      <td>41.0</td>\n",
       "      <td>0.002</td>\n",
       "      <td>8.6</td>\n",
       "      <td>0</td>\n",
       "      <td>1.9</td>\n",
       "      <td>70</td>\n",
       "      <td>1250</td>\n",
       "      <td>215</td>\n",
       "      <td>0</td>\n",
       "    </tr>\n",
       "    <tr>\n",
       "      <th>5825</th>\n",
       "      <td>2021-11-29</td>\n",
       "      <td>23</td>\n",
       "      <td>43.0</td>\n",
       "      <td>35.0</td>\n",
       "      <td>0.001</td>\n",
       "      <td>8.2</td>\n",
       "      <td>0</td>\n",
       "      <td>2.1</td>\n",
       "      <td>71</td>\n",
       "      <td>1262</td>\n",
       "      <td>125</td>\n",
       "      <td>0</td>\n",
       "    </tr>\n",
       "    <tr>\n",
       "      <th>5826</th>\n",
       "      <td>2021-11-30</td>\n",
       "      <td>0</td>\n",
       "      <td>39.0</td>\n",
       "      <td>31.0</td>\n",
       "      <td>0.004</td>\n",
       "      <td>7.9</td>\n",
       "      <td>0</td>\n",
       "      <td>2.3</td>\n",
       "      <td>71</td>\n",
       "      <td>1483</td>\n",
       "      <td>95</td>\n",
       "      <td>1</td>\n",
       "    </tr>\n",
       "  </tbody>\n",
       "</table>\n",
       "<p>5827 rows × 12 columns</p>\n",
       "</div>"
      ],
      "text/plain": [
       "           date  hour  PM10  PM2.5  ozone  temperature  precipitation  \\\n",
       "0    2021-04-01     1  42.0   21.0  0.002         13.1              0   \n",
       "1    2021-04-01     2  41.0   21.0  0.003         12.4              0   \n",
       "2    2021-04-01     3  30.0   13.0  0.023         13.1              0   \n",
       "3    2021-04-01     4  27.0   12.0  0.028         13.0              0   \n",
       "4    2021-04-01     5  29.0   14.0  0.008         13.0              0   \n",
       "...         ...   ...   ...    ...    ...          ...            ...   \n",
       "5822 2021-11-29    20  74.0   58.0  0.002          9.3              0   \n",
       "5823 2021-11-29    21  65.0   56.0  0.002          8.4              0   \n",
       "5824 2021-11-29    22  51.0   41.0  0.002          8.6              0   \n",
       "5825 2021-11-29    23  43.0   35.0  0.001          8.2              0   \n",
       "5826 2021-11-30     0  39.0   31.0  0.004          7.9              0   \n",
       "\n",
       "      windspeed  humidity  visibility  count  Weekday  \n",
       "0           1.4        49        2000     46        3  \n",
       "1           2.1        53        2000     40        3  \n",
       "2           3.4        43        2000     31        3  \n",
       "3           3.1        44        2000     12        3  \n",
       "4           2.9        44        2000     30        3  \n",
       "...         ...       ...         ...    ...      ...  \n",
       "5822        0.3        66        1193    273        0  \n",
       "5823        2.0        70        1233    228        0  \n",
       "5824        1.9        70        1250    215        0  \n",
       "5825        2.1        71        1262    125        0  \n",
       "5826        2.3        71        1483     95        1  \n",
       "\n",
       "[5827 rows x 12 columns]"
      ]
     },
     "metadata": {},
     "output_type": "display_data"
    },
    {
     "data": {
      "text/html": [
       "<div>\n",
       "<style scoped>\n",
       "    .dataframe tbody tr th:only-of-type {\n",
       "        vertical-align: middle;\n",
       "    }\n",
       "\n",
       "    .dataframe tbody tr th {\n",
       "        vertical-align: top;\n",
       "    }\n",
       "\n",
       "    .dataframe thead th {\n",
       "        text-align: right;\n",
       "    }\n",
       "</style>\n",
       "<table border=\"1\" class=\"dataframe\">\n",
       "  <thead>\n",
       "    <tr style=\"text-align: right;\">\n",
       "      <th></th>\n",
       "      <th>date</th>\n",
       "      <th>hour</th>\n",
       "      <th>PM10</th>\n",
       "      <th>PM2.5</th>\n",
       "      <th>ozone</th>\n",
       "      <th>temperature</th>\n",
       "      <th>precipitation</th>\n",
       "      <th>windspeed</th>\n",
       "      <th>humidity</th>\n",
       "      <th>visibility</th>\n",
       "      <th>count</th>\n",
       "      <th>Weekday</th>\n",
       "    </tr>\n",
       "  </thead>\n",
       "  <tbody>\n",
       "    <tr>\n",
       "      <th>664</th>\n",
       "      <td>2021-04-28</td>\n",
       "      <td>17</td>\n",
       "      <td>53.0</td>\n",
       "      <td>15.0</td>\n",
       "      <td>0.037</td>\n",
       "      <td>17.1</td>\n",
       "      <td>0</td>\n",
       "      <td>3.0</td>\n",
       "      <td>42</td>\n",
       "      <td>2000</td>\n",
       "      <td>1126</td>\n",
       "      <td>2</td>\n",
       "    </tr>\n",
       "    <tr>\n",
       "      <th>665</th>\n",
       "      <td>2021-04-28</td>\n",
       "      <td>18</td>\n",
       "      <td>49.0</td>\n",
       "      <td>15.0</td>\n",
       "      <td>0.033</td>\n",
       "      <td>17.2</td>\n",
       "      <td>0</td>\n",
       "      <td>3.0</td>\n",
       "      <td>40</td>\n",
       "      <td>2000</td>\n",
       "      <td>1600</td>\n",
       "      <td>2</td>\n",
       "    </tr>\n",
       "    <tr>\n",
       "      <th>3711</th>\n",
       "      <td>2021-09-02</td>\n",
       "      <td>19</td>\n",
       "      <td>17.0</td>\n",
       "      <td>9.0</td>\n",
       "      <td>0.039</td>\n",
       "      <td>24.9</td>\n",
       "      <td>0</td>\n",
       "      <td>1.1</td>\n",
       "      <td>66</td>\n",
       "      <td>2000</td>\n",
       "      <td>1086</td>\n",
       "      <td>3</td>\n",
       "    </tr>\n",
       "    <tr>\n",
       "      <th>3710</th>\n",
       "      <td>2021-09-02</td>\n",
       "      <td>18</td>\n",
       "      <td>20.0</td>\n",
       "      <td>8.0</td>\n",
       "      <td>0.043</td>\n",
       "      <td>25.4</td>\n",
       "      <td>0</td>\n",
       "      <td>2.1</td>\n",
       "      <td>65</td>\n",
       "      <td>2000</td>\n",
       "      <td>1746</td>\n",
       "      <td>3</td>\n",
       "    </tr>\n",
       "    <tr>\n",
       "      <th>3709</th>\n",
       "      <td>2021-09-02</td>\n",
       "      <td>17</td>\n",
       "      <td>15.0</td>\n",
       "      <td>7.0</td>\n",
       "      <td>0.046</td>\n",
       "      <td>25.8</td>\n",
       "      <td>0</td>\n",
       "      <td>1.5</td>\n",
       "      <td>63</td>\n",
       "      <td>2000</td>\n",
       "      <td>1090</td>\n",
       "      <td>3</td>\n",
       "    </tr>\n",
       "    <tr>\n",
       "      <th>3734</th>\n",
       "      <td>2021-09-03</td>\n",
       "      <td>18</td>\n",
       "      <td>6.0</td>\n",
       "      <td>6.0</td>\n",
       "      <td>0.045</td>\n",
       "      <td>28.0</td>\n",
       "      <td>0</td>\n",
       "      <td>2.3</td>\n",
       "      <td>44</td>\n",
       "      <td>2000</td>\n",
       "      <td>1026</td>\n",
       "      <td>4</td>\n",
       "    </tr>\n",
       "  </tbody>\n",
       "</table>\n",
       "</div>"
      ],
      "text/plain": [
       "           date  hour  PM10  PM2.5  ozone  temperature  precipitation  \\\n",
       "664  2021-04-28    17  53.0   15.0  0.037         17.1              0   \n",
       "665  2021-04-28    18  49.0   15.0  0.033         17.2              0   \n",
       "3711 2021-09-02    19  17.0    9.0  0.039         24.9              0   \n",
       "3710 2021-09-02    18  20.0    8.0  0.043         25.4              0   \n",
       "3709 2021-09-02    17  15.0    7.0  0.046         25.8              0   \n",
       "3734 2021-09-03    18   6.0    6.0  0.045         28.0              0   \n",
       "\n",
       "      windspeed  humidity  visibility  count  Weekday  \n",
       "664         3.0        42        2000   1126        2  \n",
       "665         3.0        40        2000   1600        2  \n",
       "3711        1.1        66        2000   1086        3  \n",
       "3710        2.1        65        2000   1746        3  \n",
       "3709        1.5        63        2000   1090        3  \n",
       "3734        2.3        44        2000   1026        4  "
      ]
     },
     "metadata": {},
     "output_type": "display_data"
    }
   ],
   "source": [
    "df['Weekday'] = df['date'].dt.dayofweek\n",
    "display(df)\n",
    "display(df_outlier = df.loc[df['count'] >= 750].sort_values('humidity', ascending = False))\n",
    "display(df_outlier.loc[df['count'] >= 1000].sort_values('temperature'))"
   ]
  },
  {
   "cell_type": "markdown",
   "id": "87fb383a",
   "metadata": {},
   "source": [
    "## 시간대는 모두 공통적으로 오후, 15~19시 사이이며\n",
    "    - 온습도가 쾌적하거나\n",
    "    - 미세먼지, 초미세먼지가 적을 경우 / 시계(가시성)가 좋을경우 높은 대여율을 보임"
   ]
  },
  {
   "cell_type": "code",
   "execution_count": 520,
   "id": "d8639df3",
   "metadata": {},
   "outputs": [
    {
     "data": {
      "text/html": [
       "<div>\n",
       "<style scoped>\n",
       "    .dataframe tbody tr th:only-of-type {\n",
       "        vertical-align: middle;\n",
       "    }\n",
       "\n",
       "    .dataframe tbody tr th {\n",
       "        vertical-align: top;\n",
       "    }\n",
       "\n",
       "    .dataframe thead th {\n",
       "        text-align: right;\n",
       "    }\n",
       "</style>\n",
       "<table border=\"1\" class=\"dataframe\">\n",
       "  <thead>\n",
       "    <tr style=\"text-align: right;\">\n",
       "      <th></th>\n",
       "      <th>hour</th>\n",
       "      <th>PM10</th>\n",
       "      <th>PM2.5</th>\n",
       "      <th>ozone</th>\n",
       "      <th>temperature</th>\n",
       "      <th>precipitation</th>\n",
       "      <th>windspeed</th>\n",
       "      <th>humidity</th>\n",
       "      <th>visibility</th>\n",
       "      <th>count</th>\n",
       "      <th>Weekday</th>\n",
       "    </tr>\n",
       "  </thead>\n",
       "  <tbody>\n",
       "    <tr>\n",
       "      <th>count</th>\n",
       "      <td>5827.0</td>\n",
       "      <td>5827.0</td>\n",
       "      <td>5827.0</td>\n",
       "      <td>5827.0</td>\n",
       "      <td>5827.0</td>\n",
       "      <td>5827.0</td>\n",
       "      <td>5827.0</td>\n",
       "      <td>5827.0</td>\n",
       "      <td>5827.0</td>\n",
       "      <td>5827.0</td>\n",
       "      <td>5827.0</td>\n",
       "    </tr>\n",
       "    <tr>\n",
       "      <th>mean</th>\n",
       "      <td>11.5</td>\n",
       "      <td>31.8</td>\n",
       "      <td>15.6</td>\n",
       "      <td>0.0</td>\n",
       "      <td>18.9</td>\n",
       "      <td>0.1</td>\n",
       "      <td>2.2</td>\n",
       "      <td>68.6</td>\n",
       "      <td>1758.4</td>\n",
       "      <td>215.1</td>\n",
       "      <td>3.0</td>\n",
       "    </tr>\n",
       "    <tr>\n",
       "      <th>std</th>\n",
       "      <td>6.9</td>\n",
       "      <td>42.7</td>\n",
       "      <td>13.8</td>\n",
       "      <td>0.0</td>\n",
       "      <td>7.5</td>\n",
       "      <td>0.3</td>\n",
       "      <td>1.1</td>\n",
       "      <td>17.3</td>\n",
       "      <td>491.0</td>\n",
       "      <td>186.0</td>\n",
       "      <td>2.0</td>\n",
       "    </tr>\n",
       "    <tr>\n",
       "      <th>min</th>\n",
       "      <td>0.0</td>\n",
       "      <td>3.0</td>\n",
       "      <td>1.0</td>\n",
       "      <td>0.0</td>\n",
       "      <td>-3.0</td>\n",
       "      <td>0.0</td>\n",
       "      <td>0.0</td>\n",
       "      <td>19.0</td>\n",
       "      <td>60.0</td>\n",
       "      <td>1.0</td>\n",
       "      <td>0.0</td>\n",
       "    </tr>\n",
       "    <tr>\n",
       "      <th>25%</th>\n",
       "      <td>6.0</td>\n",
       "      <td>16.0</td>\n",
       "      <td>7.0</td>\n",
       "      <td>0.0</td>\n",
       "      <td>14.0</td>\n",
       "      <td>0.0</td>\n",
       "      <td>1.5</td>\n",
       "      <td>56.0</td>\n",
       "      <td>1935.5</td>\n",
       "      <td>53.0</td>\n",
       "      <td>1.0</td>\n",
       "    </tr>\n",
       "    <tr>\n",
       "      <th>50%</th>\n",
       "      <td>12.0</td>\n",
       "      <td>25.0</td>\n",
       "      <td>13.0</td>\n",
       "      <td>0.0</td>\n",
       "      <td>20.0</td>\n",
       "      <td>0.0</td>\n",
       "      <td>2.2</td>\n",
       "      <td>70.0</td>\n",
       "      <td>2000.0</td>\n",
       "      <td>186.0</td>\n",
       "      <td>3.0</td>\n",
       "    </tr>\n",
       "    <tr>\n",
       "      <th>75%</th>\n",
       "      <td>18.0</td>\n",
       "      <td>37.0</td>\n",
       "      <td>20.0</td>\n",
       "      <td>0.0</td>\n",
       "      <td>24.0</td>\n",
       "      <td>0.0</td>\n",
       "      <td>2.8</td>\n",
       "      <td>82.0</td>\n",
       "      <td>2000.0</td>\n",
       "      <td>315.0</td>\n",
       "      <td>5.0</td>\n",
       "    </tr>\n",
       "    <tr>\n",
       "      <th>max</th>\n",
       "      <td>23.0</td>\n",
       "      <td>827.0</td>\n",
       "      <td>125.0</td>\n",
       "      <td>0.1</td>\n",
       "      <td>36.0</td>\n",
       "      <td>1.0</td>\n",
       "      <td>8.3</td>\n",
       "      <td>100.0</td>\n",
       "      <td>2000.0</td>\n",
       "      <td>1746.0</td>\n",
       "      <td>6.0</td>\n",
       "    </tr>\n",
       "  </tbody>\n",
       "</table>\n",
       "</div>"
      ],
      "text/plain": [
       "        hour   PM10  PM2.5  ozone  temperature  precipitation  windspeed  \\\n",
       "count 5827.0 5827.0 5827.0 5827.0       5827.0         5827.0     5827.0   \n",
       "mean    11.5   31.8   15.6    0.0         18.9            0.1        2.2   \n",
       "std      6.9   42.7   13.8    0.0          7.5            0.3        1.1   \n",
       "min      0.0    3.0    1.0    0.0         -3.0            0.0        0.0   \n",
       "25%      6.0   16.0    7.0    0.0         14.0            0.0        1.5   \n",
       "50%     12.0   25.0   13.0    0.0         20.0            0.0        2.2   \n",
       "75%     18.0   37.0   20.0    0.0         24.0            0.0        2.8   \n",
       "max     23.0  827.0  125.0    0.1         36.0            1.0        8.3   \n",
       "\n",
       "       humidity  visibility  count  Weekday  \n",
       "count    5827.0      5827.0 5827.0   5827.0  \n",
       "mean       68.6      1758.4  215.1      3.0  \n",
       "std        17.3       491.0  186.0      2.0  \n",
       "min        19.0        60.0    1.0      0.0  \n",
       "25%        56.0      1935.5   53.0      1.0  \n",
       "50%        70.0      2000.0  186.0      3.0  \n",
       "75%        82.0      2000.0  315.0      5.0  \n",
       "max       100.0      2000.0 1746.0      6.0  "
      ]
     },
     "execution_count": 520,
     "metadata": {},
     "output_type": "execute_result"
    }
   ],
   "source": [
    "df.describe()"
   ]
  },
  {
   "cell_type": "markdown",
   "id": "98aeed75",
   "metadata": {},
   "source": [
    "### 5. 가설 검정"
   ]
  },
  {
   "cell_type": "markdown",
   "id": "014890ef",
   "metadata": {},
   "source": [
    "# 가설 1 : 1시간전 강우 여부와 따릉이간에는 연관성이 있다.\n",
    "    \n",
    "    ㅇ 귀무가설 : 1시간전 강우 여부와 따릉이 대여량 간에는 연관성이 없다."
   ]
  },
  {
   "cell_type": "code",
   "execution_count": 267,
   "id": "bd4b8c02",
   "metadata": {},
   "outputs": [],
   "source": [
    "import seaborn as sns\n",
    "import matplotlib.pyplot as plt\n",
    "\n",
    "plt.rc('font', family='Malgun Gothic')\n",
    "sns.set(font=\"Malgun Gothic\",#\"NanumGothicCoding\", \n",
    "        rc={\"axes.unicode_minus\":False}, # 마이너스 부호 깨짐 현상 해결\n",
    "        style='darkgrid')   "
   ]
  },
  {
   "cell_type": "code",
   "execution_count": 395,
   "id": "3f8162e2",
   "metadata": {
    "scrolled": true
   },
   "outputs": [
    {
     "data": {
      "image/png": "[encoded data removed]",
      "text/plain": [
       "<Figure size 1008x1008 with 1 Axes>"
      ]
     },
     "metadata": {},
     "output_type": "display_data"
    }
   ],
   "source": [
    "plt.figure(figsize = (14, 14))\n",
    "sns.distplot(df[\"count\"], color=\"green\", bins = 30, label='전체 대여량')\n",
    "sns.distplot(df_rain[\"Count_hour\"], color=\"red\", bins = 30, label='비 그친 뒤 1시간 후 대여량')\n",
    "# sns.distplot(df_rain_pre_drop[\"Count_hour_pre\"], color=\"blue\", bins = 30, label='전체 - 강우 1시간 후')\n",
    "plt.legend()\n",
    "plt.show()"
   ]
  },
  {
   "cell_type": "code",
   "execution_count": 279,
   "id": "19797476",
   "metadata": {},
   "outputs": [
    {
     "data": {
      "text/plain": [
       "(-0.26985853775618945, 8.862391840558463e-98)"
      ]
     },
     "execution_count": 279,
     "metadata": {},
     "output_type": "execute_result"
    }
   ],
   "source": [
    "spst.pearsonr(df[\"count\"], df[\"precipitation\"])"
   ]
  },
  {
   "cell_type": "markdown",
   "id": "4e7c3a17",
   "metadata": {},
   "source": [
    "### 1시간전 강우 여부와 따릉이 대여량 간에는 연관성이 있다.\n",
    "   - 대립가설 채택"
   ]
  },
  {
   "cell_type": "markdown",
   "id": "9fd99429",
   "metadata": {},
   "source": [
    "# 가설 2 : 온도와 따릉이 대여량간에는 연관성이 있다.\n",
    "\n",
    "    ㅇ 귀무가설 : 온도와 따릉이 대여량간에는 연관성이 없다."
   ]
  },
  {
   "cell_type": "code",
   "execution_count": 294,
   "id": "5e2b2425",
   "metadata": {
    "scrolled": false
   },
   "outputs": [
    {
     "data": {
      "text/plain": [
       "<AxesSubplot:xlabel='temperature'>"
      ]
     },
     "execution_count": 294,
     "metadata": {},
     "output_type": "execute_result"
    },
    {
     "data": {
      "image/png": "[encoded data removed]",
      "text/plain": [
       "<Figure size 432x288 with 1 Axes>"
      ]
     },
     "metadata": {},
     "output_type": "display_data"
    }
   ],
   "source": [
    "tempp = df.groupby(by = ['temperature'], as_index = True)['count'].sum()\n",
    "tempp.plot()"
   ]
  },
  {
   "cell_type": "markdown",
   "id": "34e5c4fc",
   "metadata": {},
   "source": [
    "### 온도와 따릉이 대여량간에는 연관성이 있다.\n",
    "   - 산점도에서는 관계가 잘 드러나지 않음 ( 너무 온도가 높아도 자전거를 타기 적합하지 않기 때문에\n",
    "     단방향으로만 파악하기에는 무리가 있음 )\n",
    "   - 따라서 단순 plot 파악 결과 자전거를 타기 적합한 20 ~ 27도 사이에 대여량이 증가했음을 알 수 있음\n",
    "   - 대립가설 채택"
   ]
  },
  {
   "cell_type": "markdown",
   "id": "e30e69f7",
   "metadata": {},
   "source": [
    "# 가설 3 : PM2.5 (초미세먼지 수치)와 따릉이 대여량간에는 연관성이 있다.\n",
    "\n",
    "    ㅇ 귀무가설 : PM2.5 (초미세먼지 수치)와 따릉이 대여량간에는 연관성이 없다."
   ]
  },
  {
   "cell_type": "code",
   "execution_count": 311,
   "id": "ad2d5899",
   "metadata": {
    "scrolled": false
   },
   "outputs": [
    {
     "data": {
      "text/plain": [
       "<AxesSubplot:xlabel='PM2.5'>"
      ]
     },
     "execution_count": 311,
     "metadata": {},
     "output_type": "execute_result"
    },
    {
     "data": {
      "image/png": "[encoded data removed]",
      "text/plain": [
       "<Figure size 432x288 with 1 Axes>"
      ]
     },
     "metadata": {},
     "output_type": "display_data"
    }
   ],
   "source": [
    "temp9 = df.groupby(by = ['PM2.5'], as_index = True)['count'].sum()\n",
    "temp9.plot()"
   ]
  },
  {
   "cell_type": "code",
   "execution_count": 315,
   "id": "83af5d3f",
   "metadata": {},
   "outputs": [
    {
     "name": "stdout",
     "output_type": "stream",
     "text": [
      "PM2.5\n",
      "1.0      21167\n",
      "1.5        169\n",
      "1.6        245\n",
      "2.0      24302\n",
      "2.2        253\n",
      "         ...  \n",
      "120.0      209\n",
      "121.0      242\n",
      "122.0      108\n",
      "123.0      222\n",
      "125.0      221\n",
      "Name: count, Length: 174, dtype: int64\n"
     ]
    },
    {
     "data": {
      "text/plain": [
       "(0.034833977797175945, 0.007830765224579699)"
      ]
     },
     "execution_count": 315,
     "metadata": {},
     "output_type": "execute_result"
    },
    {
     "data": {
      "image/png": "[encoded data removed]",
      "text/plain": [
       "<Figure size 432x288 with 1 Axes>"
      ]
     },
     "metadata": {},
     "output_type": "display_data"
    }
   ],
   "source": [
    "temp9 = df.groupby(by = ['PM2.5'], as_index = True)['count'].sum()\n",
    "print(temp9)\n",
    "plt.scatter(df['PM2.5'], df['count'])\n",
    "spst.pearsonr(df[\"PM2.5\"], df[\"count\"])"
   ]
  },
  {
   "cell_type": "markdown",
   "id": "978abbdc",
   "metadata": {},
   "source": [
    "### 초미세먼지와 따릉이 대여량간에는 연관성이 있다.\n",
    "   - 산점도에서는 관계가 잘 드러나지 않음 ( 초미세먼지가 20 이하일때 너무 많은 값이 몰려있어 미세먼지 수치가\n",
    "     높을때의 대여량이 상대적으로 무시됨)\n",
    "   - 따라서 단순 plot 파악 결과 초미세먼지 농도가 20 이하인 상황에서 대여량이 급증했음을 알 수 있음\n",
    "   - 대립가설 채택"
   ]
  },
  {
   "cell_type": "markdown",
   "id": "7da2dc1d",
   "metadata": {},
   "source": [
    "# 가설 4 : hour(시간)와 따릉이 대여량간에는 연관성이 있다.\n",
    "\n",
    "    ㅇ 귀무가설 : hour(시간)와 따릉이 대여량간에는 연관성이 없다."
   ]
  },
  {
   "cell_type": "code",
   "execution_count": 317,
   "id": "ecce98dd",
   "metadata": {},
   "outputs": [
    {
     "data": {
      "text/plain": [
       "<AxesSubplot:xlabel='hour'>"
      ]
     },
     "execution_count": 317,
     "metadata": {},
     "output_type": "execute_result"
    },
    {
     "data": {
      "image/png": "[encoded data removed]",
      "text/plain": [
       "<Figure size 432x288 with 1 Axes>"
      ]
     },
     "metadata": {},
     "output_type": "display_data"
    }
   ],
   "source": [
    "temp1 = df.groupby(by = ['hour'], as_index = True)['count'].mean()\n",
    "temp1.plot.bar()"
   ]
  },
  {
   "cell_type": "markdown",
   "id": "942bc392",
   "metadata": {},
   "source": [
    "### 시간대와 따릉이 대여량간에는 연관성이 있다.\n",
    "   - 산점도에서는 관계가 잘 드러나지 않음 ( 온도와 같은 케이스 )\n",
    "   - 따라서 단순 plot 파악 결과 일반적인 9 to 6 근무환경을 고려해볼때\n",
    "     퇴근시간 근처에서 대여량이 급증했음을 알 수 있음\n",
    "   - 대립가설 채택"
   ]
  },
  {
   "cell_type": "markdown",
   "id": "f42e1927",
   "metadata": {},
   "source": [
    "# 가설 5 : 주말에 대여량이 늘어날 것이다.\n",
    "\n",
    "    ㅇ 귀무가설 : 대여량이 주말과는 관련이 없다."
   ]
  },
  {
   "cell_type": "code",
   "execution_count": 427,
   "id": "5cb7d093",
   "metadata": {},
   "outputs": [
    {
     "data": {
      "text/plain": [
       "Index(['date', 'hour', 'PM10', 'PM2.5', 'ozone', 'temperature',\n",
       "       'precipitation', 'windspeed', 'humidity', 'visibility', 'count',\n",
       "       'Count_hour'],\n",
       "      dtype='object')"
      ]
     },
     "execution_count": 427,
     "metadata": {},
     "output_type": "execute_result"
    }
   ],
   "source": [
    "df.columns"
   ]
  },
  {
   "cell_type": "code",
   "execution_count": 544,
   "id": "179e4dc3",
   "metadata": {
    "scrolled": true
   },
   "outputs": [
    {
     "data": {
      "text/plain": [
       "(5827,)"
      ]
     },
     "execution_count": 544,
     "metadata": {},
     "output_type": "execute_result"
    }
   ],
   "source": [
    "df_week = df['Weekday']\n",
    "array = np.array(df_week.index.values)\n",
    "array.reshape(-1, 1)\n",
    "array.shape\n",
    "# df['Weekday'].reshape(-1, 1)\n",
    "# df['Weekend'] = df.loc[df['Weekday'].isin([5, 6])]\n",
    "# df"
   ]
  },
  {
   "cell_type": "code",
   "execution_count": 4,
   "id": "96619e78",
   "metadata": {},
   "outputs": [
    {
     "ename": "KeyError",
     "evalue": "'Column not found: PM2.5_shift'",
     "output_type": "error",
     "traceback": [
      "\u001b[1;31m---------------------------------------------------------------------------\u001b[0m",
      "\u001b[1;31mKeyError\u001b[0m                                  Traceback (most recent call last)",
      "Input \u001b[1;32mIn [4]\u001b[0m, in \u001b[0;36m<cell line: 10>\u001b[1;34m()\u001b[0m\n\u001b[0;32m      6\u001b[0m df[\u001b[38;5;124m'\u001b[39m\u001b[38;5;124mozone\u001b[39m\u001b[38;5;124m'\u001b[39m] \u001b[38;5;241m=\u001b[39m df[\u001b[38;5;124m'\u001b[39m\u001b[38;5;124mozone\u001b[39m\u001b[38;5;124m'\u001b[39m]\u001b[38;5;241m.\u001b[39minterpolate(method\u001b[38;5;241m=\u001b[39m\u001b[38;5;124m\"\u001b[39m\u001b[38;5;124mlinear\u001b[39m\u001b[38;5;124m\"\u001b[39m)\n\u001b[0;32m      7\u001b[0m df\u001b[38;5;241m.\u001b[39misna()\u001b[38;5;241m.\u001b[39msum()\n\u001b[1;32m---> 10\u001b[0m \u001b[43mdf\u001b[49m\u001b[38;5;241;43m.\u001b[39;49m\u001b[43mgroupby\u001b[49m\u001b[43m(\u001b[49m\u001b[43mby\u001b[49m\u001b[43m \u001b[49m\u001b[38;5;241;43m=\u001b[39;49m\u001b[43m \u001b[49m\u001b[43m[\u001b[49m\u001b[38;5;124;43m'\u001b[39;49m\u001b[38;5;124;43mhumidity\u001b[39;49m\u001b[38;5;124;43m'\u001b[39;49m\u001b[43m]\u001b[49m\u001b[43m,\u001b[49m\u001b[43m \u001b[49m\u001b[43mas_index\u001b[49m\u001b[43m \u001b[49m\u001b[38;5;241;43m=\u001b[39;49m\u001b[43m \u001b[49m\u001b[38;5;28;43;01mTrue\u001b[39;49;00m\u001b[43m)\u001b[49m\u001b[43m[\u001b[49m\u001b[38;5;124;43m'\u001b[39;49m\u001b[38;5;124;43mPM2.5_shift\u001b[39;49m\u001b[38;5;124;43m'\u001b[39;49m\u001b[43m]\u001b[49m\u001b[38;5;241m.\u001b[39mmean()\n\u001b[0;32m     11\u001b[0m df\u001b[38;5;241m.\u001b[39mgroupby(by \u001b[38;5;241m=\u001b[39m [\u001b[38;5;124m'\u001b[39m\u001b[38;5;124mhumidity\u001b[39m\u001b[38;5;124m'\u001b[39m], as_index \u001b[38;5;241m=\u001b[39m \u001b[38;5;28;01mTrue\u001b[39;00m)[\u001b[38;5;124m'\u001b[39m\u001b[38;5;124mPM10_shift\u001b[39m\u001b[38;5;124m'\u001b[39m]\u001b[38;5;241m.\u001b[39mmean()\n",
      "File \u001b[1;32mE:\\anaconda\\lib\\site-packages\\pandas\\core\\groupby\\generic.py:1338\u001b[0m, in \u001b[0;36mDataFrameGroupBy.__getitem__\u001b[1;34m(self, key)\u001b[0m\n\u001b[0;32m   1329\u001b[0m \u001b[38;5;28;01mif\u001b[39;00m \u001b[38;5;28misinstance\u001b[39m(key, \u001b[38;5;28mtuple\u001b[39m) \u001b[38;5;129;01mand\u001b[39;00m \u001b[38;5;28mlen\u001b[39m(key) \u001b[38;5;241m>\u001b[39m \u001b[38;5;241m1\u001b[39m:\n\u001b[0;32m   1330\u001b[0m     \u001b[38;5;66;03m# if len == 1, then it becomes a SeriesGroupBy and this is actually\u001b[39;00m\n\u001b[0;32m   1331\u001b[0m     \u001b[38;5;66;03m# valid syntax, so don't raise warning\u001b[39;00m\n\u001b[0;32m   1332\u001b[0m     warnings\u001b[38;5;241m.\u001b[39mwarn(\n\u001b[0;32m   1333\u001b[0m         \u001b[38;5;124m\"\u001b[39m\u001b[38;5;124mIndexing with multiple keys (implicitly converted to a tuple \u001b[39m\u001b[38;5;124m\"\u001b[39m\n\u001b[0;32m   1334\u001b[0m         \u001b[38;5;124m\"\u001b[39m\u001b[38;5;124mof keys) will be deprecated, use a list instead.\u001b[39m\u001b[38;5;124m\"\u001b[39m,\n\u001b[0;32m   1335\u001b[0m         \u001b[38;5;167;01mFutureWarning\u001b[39;00m,\n\u001b[0;32m   1336\u001b[0m         stacklevel\u001b[38;5;241m=\u001b[39mfind_stack_level(),\n\u001b[0;32m   1337\u001b[0m     )\n\u001b[1;32m-> 1338\u001b[0m \u001b[38;5;28;01mreturn\u001b[39;00m \u001b[38;5;28;43msuper\u001b[39;49m\u001b[43m(\u001b[49m\u001b[43m)\u001b[49m\u001b[38;5;241;43m.\u001b[39;49m\u001b[38;5;21;43m__getitem__\u001b[39;49m\u001b[43m(\u001b[49m\u001b[43mkey\u001b[49m\u001b[43m)\u001b[49m\n",
      "File \u001b[1;32mE:\\anaconda\\lib\\site-packages\\pandas\\core\\base.py:250\u001b[0m, in \u001b[0;36mSelectionMixin.__getitem__\u001b[1;34m(self, key)\u001b[0m\n\u001b[0;32m    248\u001b[0m \u001b[38;5;28;01melse\u001b[39;00m:\n\u001b[0;32m    249\u001b[0m     \u001b[38;5;28;01mif\u001b[39;00m key \u001b[38;5;129;01mnot\u001b[39;00m \u001b[38;5;129;01min\u001b[39;00m \u001b[38;5;28mself\u001b[39m\u001b[38;5;241m.\u001b[39mobj:\n\u001b[1;32m--> 250\u001b[0m         \u001b[38;5;28;01mraise\u001b[39;00m \u001b[38;5;167;01mKeyError\u001b[39;00m(\u001b[38;5;124mf\u001b[39m\u001b[38;5;124m\"\u001b[39m\u001b[38;5;124mColumn not found: \u001b[39m\u001b[38;5;132;01m{\u001b[39;00mkey\u001b[38;5;132;01m}\u001b[39;00m\u001b[38;5;124m\"\u001b[39m)\n\u001b[0;32m    251\u001b[0m     subset \u001b[38;5;241m=\u001b[39m \u001b[38;5;28mself\u001b[39m\u001b[38;5;241m.\u001b[39mobj[key]\n\u001b[0;32m    252\u001b[0m     ndim \u001b[38;5;241m=\u001b[39m subset\u001b[38;5;241m.\u001b[39mndim\n",
      "\u001b[1;31mKeyError\u001b[0m: 'Column not found: PM2.5_shift'"
     ]
    }
   ],
   "source": [
    "df = pd.read_csv('traindata.csv')\n",
    "df[\"date\"] = pd.to_datetime(df[\"date\"])\n",
    "df['date'].dt.date\n",
    "df['PM10'] = df['PM10'].interpolate(method=\"linear\")\n",
    "df['PM2.5'] = df['PM2.5'].interpolate(method=\"linear\")\n",
    "df['ozone'] = df['ozone'].interpolate(method=\"linear\")\n",
    "df.isna().sum()\n",
    "\n",
    "\n",
    "df.groupby(by = ['humidity'], as_index = True)['PM2.5_shift'].mean()\n",
    "df.groupby(by = ['humidity'], as_index = True)['PM10_shift'].mean()\n"
   ]
  },
  {
   "cell_type": "code",
   "execution_count": 56,
   "id": "5c79bf79",
   "metadata": {},
   "outputs": [
    {
     "name": "stdout",
     "output_type": "stream",
     "text": [
      "초미세먼지와 습도와의 상관계수, p-value:(-0.03778609827684685, 0.003916559411411712)\n",
      "미세먼지와 습도와의 상관계수, p-value:(-0.08972774144035206, 6.803510056489623e-12)\n"
     ]
    },
    {
     "data": {
      "text/plain": [
       "<matplotlib.legend.Legend at 0x246b2c812b0>"
      ]
     },
     "execution_count": 56,
     "metadata": {},
     "output_type": "execute_result"
    },
    {
     "data": {
      "image/png": "[encoded data removed]",
      "text/plain": [
       "<Figure size 432x288 with 1 Axes>"
      ]
     },
     "metadata": {
      "needs_background": "light"
     },
     "output_type": "display_data"
    }
   ],
   "source": [
    "df_rain1 = df.loc[df['precipitation'] == 1]\n",
    "plt.plot(df_rain1.groupby(by = ['humidity'], as_index = True)['PM2.5'].mean(), label = 'PM2.5_1')\n",
    "plt.plot(df_rain1.groupby(by = ['humidity'], as_index = True)['PM10'].mean(), label = 'PM10_1')\n",
    "plt.plot(df.groupby(by = ['humidity'], as_index = True)['PM2.5'].mean(), label = 'PM2.5')\n",
    "plt.plot(df.groupby(by = ['humidity'], as_index = True)['PM10'].mean(), label = 'PM10')\n",
    "print('초미세먼지와 습도와의 상관계수, p-value:', end='')\n",
    "print(spst.pearsonr(df[\"humidity\"], df[\"PM2.5\"]))\n",
    "print('미세먼지와 습도와의 상관계수, p-value:', end='')\n",
    "print(spst.pearsonr(df[\"humidity\"], df[\"PM10\"]))\n",
    "plt.legend()"
   ]
  },
  {
   "cell_type": "code",
   "execution_count": 89,
   "id": "0a25b37d",
   "metadata": {
    "scrolled": true
   },
   "outputs": [
    {
     "data": {
      "text/plain": [
       "<matplotlib.legend.Legend at 0x246b9c1dbb0>"
      ]
     },
     "execution_count": 89,
     "metadata": {},
     "output_type": "execute_result"
    },
    {
     "data": {
      "image/png": "[encoded data removed]",
      "text/plain": [
       "<Figure size 432x288 with 1 Axes>"
      ]
     },
     "metadata": {
      "needs_background": "light"
     },
     "output_type": "display_data"
    }
   ],
   "source": [
    "df_hum_mean = df['humidity'].mean()\n",
    "df_hum_down = df.loc[df['humidity'] > df_hum_mean]\n",
    "plt.plot(df_hum_down.groupby(by = ['humidity'], as_index = True)['count'].mean(), label = 'over_mean_humidity')\n",
    "plt.legend()"
   ]
  },
  {
   "cell_type": "code",
   "execution_count": 88,
   "id": "5a9680e3",
   "metadata": {},
   "outputs": [
    {
     "data": {
      "text/plain": [
       "<matplotlib.legend.Legend at 0x246b993ec40>"
      ]
     },
     "execution_count": 88,
     "metadata": {},
     "output_type": "execute_result"
    },
    {
     "data": {
      "image/png": "[encoded data removed]",
      "text/plain": [
       "<Figure size 432x288 with 1 Axes>"
      ]
     },
     "metadata": {
      "needs_background": "light"
     },
     "output_type": "display_data"
    }
   ],
   "source": [
    "plt.plot(df.groupby(by = ['humidity'], as_index = True)['count'].mean(), label = 'standard')\n",
    "plt.legend()"
   ]
  },
  {
   "cell_type": "markdown",
   "id": "8b1f5479",
   "metadata": {},
   "source": [
    "#### <font color='green'>1. 강한 관계의 변수 (대립가설 채택)</font>"
   ]
  },
  {
   "cell_type": "markdown",
   "id": "ebfea2a3",
   "metadata": {},
   "source": []
  },
  {
   "cell_type": "markdown",
   "id": "656b4439",
   "metadata": {},
   "source": [
    "#### <font color='green'>2. 약한 관계의 변수</font>\n"
   ]
  },
  {
   "cell_type": "markdown",
   "id": "8af19768",
   "metadata": {},
   "source": []
  },
  {
   "cell_type": "markdown",
   "id": "38b18e41",
   "metadata": {},
   "source": [
    "#### <font color='green'>3. 관계 없는 변수 (귀무가설 채택)</font>\n"
   ]
  },
  {
   "cell_type": "markdown",
   "id": "6afd4247",
   "metadata": {},
   "source": []
  },
  {
   "cell_type": "markdown",
   "id": "51c63e70",
   "metadata": {},
   "source": [
    "### 6. Insight 도출"
   ]
  },
  {
   "cell_type": "markdown",
   "id": "463d041a",
   "metadata": {},
   "source": []
  }
 ],
 "metadata": {
  "colab": {
   "name": "1. 데이터 불러오기 및 분석(EDA).ipynb",
   "provenance": []
  },
  "kernelspec": {
   "display_name": "Python 3.9.12 ('base')",
   "language": "python",
   "name": "python3"
  },
  "language_info": {
   "codemirror_mode": {
    "name": "ipython",
    "version": 3
   },
   "file_extension": ".py",
   "mimetype": "text/x-python",
   "name": "python",
   "nbconvert_exporter": "python",
   "pygments_lexer": "ipython3",
   "version": "3.9.12 (main, Apr  4 2022, 05:22:27) [MSC v.1916 64 bit (AMD64)]"
  },
  "vscode": {
   "interpreter": {
    "hash": "964f46f3973c3d99dc6929d5bd1748275317def86f082ea2874e0d5a9cf6d261"
   }
  }
 },
 "nbformat": 4,
 "nbformat_minor": 5
}
